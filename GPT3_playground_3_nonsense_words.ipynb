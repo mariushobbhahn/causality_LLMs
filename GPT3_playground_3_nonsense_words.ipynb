{
 "cells": [
  {
   "cell_type": "markdown",
   "metadata": {},
   "source": [
    "# Playground for 3 nonsense words\n",
    "\n",
    "TODO:explain "
   ]
  },
  {
   "cell_type": "code",
   "execution_count": 1,
   "metadata": {},
   "outputs": [],
   "source": [
    "import os\n",
    "import numpy as np\n",
    "import openai\n",
    "import pandas as pd\n",
    "from tqdm import tqdm\n",
    "from setups.toy_problem_3_nonsense_words_setup import ToyProblem3NonsenseWords\n",
    "\n",
    "# Load your API key from an environment variable or secret management service\n",
    "openai.api_key = os.getenv(\"OPENAI_KEY\")"
   ]
  },
  {
   "cell_type": "code",
   "execution_count": 2,
   "metadata": {},
   "outputs": [],
   "source": [
    "gpt3_model = \"text-davinci-001\"\n",
    "#gpt3_model = \"text-curie-001\"\n",
    "#gpt3_model = \"text-babbage-001\"\n",
    "#gpt3_model = \"text-ada-001\""
   ]
  },
  {
   "cell_type": "code",
   "execution_count": 3,
   "metadata": {},
   "outputs": [],
   "source": [
    "# test run\n",
    "def gpt3_response(prompt, model):\n",
    "    response = openai.Completion.create(engine=model, prompt=prompt, max_tokens=20, temperature=0)\n",
    "    return(response[\"choices\"][0][\"text\"])"
   ]
  },
  {
   "cell_type": "code",
   "execution_count": 4,
   "metadata": {},
   "outputs": [],
   "source": [
    "toy_problem_3_nonsense_words = ToyProblem3NonsenseWords()"
   ]
  },
  {
   "cell_type": "code",
   "execution_count": 5,
   "metadata": {},
   "outputs": [
    {
     "data": {
      "text/plain": [
       "array([['schleep', 'dling', 'dinglebob'],\n",
       "       ['baz', 'blubb', 'plomp'],\n",
       "       ['blubb', 'dling', 'plomp']], dtype='<U9')"
      ]
     },
     "execution_count": 5,
     "metadata": {},
     "output_type": "execute_result"
    }
   ],
   "source": [
    "toy_problem_3_nonsense_words.get_random_subsets(3)"
   ]
  },
  {
   "cell_type": "code",
   "execution_count": 6,
   "metadata": {},
   "outputs": [
    {
     "name": "stdout",
     "output_type": "stream",
     "text": [
      "The baz hit the fuu. The fuu hit the schleep. The schleep fell in the hole.\n",
      "The fuu hit the schleep. The baz hit the fuu. The schleep fell in the hole.\n"
     ]
    }
   ],
   "source": [
    "print(toy_problem_3_nonsense_words.generate_single_sequence(0, switched=False))\n",
    "print(toy_problem_3_nonsense_words.generate_single_sequence(0, switched=True))"
   ]
  },
  {
   "cell_type": "code",
   "execution_count": 7,
   "metadata": {},
   "outputs": [
    {
     "data": {
      "text/html": [
       "<div>\n",
       "<style scoped>\n",
       "    .dataframe tbody tr th:only-of-type {\n",
       "        vertical-align: middle;\n",
       "    }\n",
       "\n",
       "    .dataframe tbody tr th {\n",
       "        vertical-align: top;\n",
       "    }\n",
       "\n",
       "    .dataframe thead th {\n",
       "        text-align: right;\n",
       "    }\n",
       "</style>\n",
       "<table border=\"1\" class=\"dataframe\">\n",
       "  <thead>\n",
       "    <tr style=\"text-align: right;\">\n",
       "      <th></th>\n",
       "      <th>sequence</th>\n",
       "      <th>switched</th>\n",
       "      <th>first_word</th>\n",
       "      <th>second_word</th>\n",
       "      <th>final_word</th>\n",
       "    </tr>\n",
       "  </thead>\n",
       "  <tbody>\n",
       "    <tr>\n",
       "      <th>0</th>\n",
       "      <td>The baz hit the fuu. The fuu hit the schleep. ...</td>\n",
       "      <td>False</td>\n",
       "      <td>baz</td>\n",
       "      <td>fuu</td>\n",
       "      <td>schleep</td>\n",
       "    </tr>\n",
       "    <tr>\n",
       "      <th>1</th>\n",
       "      <td>The fuu hit the schleep. The baz hit the fuu. ...</td>\n",
       "      <td>True</td>\n",
       "      <td>baz</td>\n",
       "      <td>fuu</td>\n",
       "      <td>schleep</td>\n",
       "    </tr>\n",
       "    <tr>\n",
       "      <th>2</th>\n",
       "      <td>The baz hit the fuu. The fuu hit the blubb. Th...</td>\n",
       "      <td>False</td>\n",
       "      <td>baz</td>\n",
       "      <td>fuu</td>\n",
       "      <td>blubb</td>\n",
       "    </tr>\n",
       "    <tr>\n",
       "      <th>3</th>\n",
       "      <td>The fuu hit the blubb. The baz hit the fuu. Th...</td>\n",
       "      <td>True</td>\n",
       "      <td>baz</td>\n",
       "      <td>fuu</td>\n",
       "      <td>blubb</td>\n",
       "    </tr>\n",
       "    <tr>\n",
       "      <th>4</th>\n",
       "      <td>The baz hit the fuu. The fuu hit the dling. Th...</td>\n",
       "      <td>False</td>\n",
       "      <td>baz</td>\n",
       "      <td>fuu</td>\n",
       "      <td>dling</td>\n",
       "    </tr>\n",
       "    <tr>\n",
       "      <th>...</th>\n",
       "      <td>...</td>\n",
       "      <td>...</td>\n",
       "      <td>...</td>\n",
       "      <td>...</td>\n",
       "      <td>...</td>\n",
       "    </tr>\n",
       "    <tr>\n",
       "      <th>65</th>\n",
       "      <td>The dling hit the dinglebob. The blubb hit the...</td>\n",
       "      <td>True</td>\n",
       "      <td>blubb</td>\n",
       "      <td>dling</td>\n",
       "      <td>dinglebob</td>\n",
       "    </tr>\n",
       "    <tr>\n",
       "      <th>66</th>\n",
       "      <td>The blubb hit the plomp. The plomp hit the din...</td>\n",
       "      <td>False</td>\n",
       "      <td>blubb</td>\n",
       "      <td>plomp</td>\n",
       "      <td>dinglebob</td>\n",
       "    </tr>\n",
       "    <tr>\n",
       "      <th>67</th>\n",
       "      <td>The plomp hit the dinglebob. The blubb hit the...</td>\n",
       "      <td>True</td>\n",
       "      <td>blubb</td>\n",
       "      <td>plomp</td>\n",
       "      <td>dinglebob</td>\n",
       "    </tr>\n",
       "    <tr>\n",
       "      <th>68</th>\n",
       "      <td>The dling hit the plomp. The plomp hit the din...</td>\n",
       "      <td>False</td>\n",
       "      <td>dling</td>\n",
       "      <td>plomp</td>\n",
       "      <td>dinglebob</td>\n",
       "    </tr>\n",
       "    <tr>\n",
       "      <th>69</th>\n",
       "      <td>The plomp hit the dinglebob. The dling hit the...</td>\n",
       "      <td>True</td>\n",
       "      <td>dling</td>\n",
       "      <td>plomp</td>\n",
       "      <td>dinglebob</td>\n",
       "    </tr>\n",
       "  </tbody>\n",
       "</table>\n",
       "<p>70 rows × 5 columns</p>\n",
       "</div>"
      ],
      "text/plain": [
       "                                             sequence  switched first_word  \\\n",
       "0   The baz hit the fuu. The fuu hit the schleep. ...     False        baz   \n",
       "1   The fuu hit the schleep. The baz hit the fuu. ...      True        baz   \n",
       "2   The baz hit the fuu. The fuu hit the blubb. Th...     False        baz   \n",
       "3   The fuu hit the blubb. The baz hit the fuu. Th...      True        baz   \n",
       "4   The baz hit the fuu. The fuu hit the dling. Th...     False        baz   \n",
       "..                                                ...       ...        ...   \n",
       "65  The dling hit the dinglebob. The blubb hit the...      True      blubb   \n",
       "66  The blubb hit the plomp. The plomp hit the din...     False      blubb   \n",
       "67  The plomp hit the dinglebob. The blubb hit the...      True      blubb   \n",
       "68  The dling hit the plomp. The plomp hit the din...     False      dling   \n",
       "69  The plomp hit the dinglebob. The dling hit the...      True      dling   \n",
       "\n",
       "   second_word final_word  \n",
       "0          fuu    schleep  \n",
       "1          fuu    schleep  \n",
       "2          fuu      blubb  \n",
       "3          fuu      blubb  \n",
       "4          fuu      dling  \n",
       "..         ...        ...  \n",
       "65       dling  dinglebob  \n",
       "66       plomp  dinglebob  \n",
       "67       plomp  dinglebob  \n",
       "68       plomp  dinglebob  \n",
       "69       plomp  dinglebob  \n",
       "\n",
       "[70 rows x 5 columns]"
      ]
     },
     "execution_count": 7,
     "metadata": {},
     "output_type": "execute_result"
    }
   ],
   "source": [
    "toy_problem_3_nonsense_words.generate_sequences_df()"
   ]
  },
  {
   "cell_type": "code",
   "execution_count": 8,
   "metadata": {},
   "outputs": [],
   "source": [
    "toy_problem_3_nonsense_words.save_sequences_df(\"data/toy_problem_3_nonsense_words/toy_problem_3n.csv\")"
   ]
  },
  {
   "cell_type": "markdown",
   "metadata": {},
   "source": [
    "### Zero shot"
   ]
  },
  {
   "cell_type": "code",
   "execution_count": 9,
   "metadata": {},
   "outputs": [
    {
     "name": "stdout",
     "output_type": "stream",
     "text": [
      "The baz hit the fuu. The fuu hit the schleep. The schleep fell in the hole. Question: What started the chain? Answer in two words: The baz.\n",
      "\n",
      "The baz hit the fuu. The fuu hit the schleep. The schleep fell in the hole. Question: What was second in the chain? Answer in two words:\n",
      "\n",
      "The hole.\n",
      "\n",
      "The baz hit the fuu. The fuu hit the schleep. The schleep fell in the hole. Question: What fell into the hole? Answer in two words: the schleep.\n",
      "\n",
      "The fuu hit the schleep. The baz hit the fuu. The schleep fell in the hole. Question: What started the chain? Answer in two words: The baz.\n",
      "\n",
      "The fuu hit the schleep. The baz hit the fuu. The schleep fell in the hole. Question: What was second in the chain? Answer in two words:\n",
      "\n",
      "The baz.\n",
      "\n",
      "The fuu hit the schleep. The baz hit the fuu. The schleep fell in the hole. Question: What fell into the hole? Answer in two words: The sleep.\n",
      "\n"
     ]
    }
   ],
   "source": [
    "prompt_zs_first = toy_problem_3_nonsense_words.generate_single_prompt_zero_shot(n_subset=0, switched=False, question=\"first\")\n",
    "prompt_zs_second = toy_problem_3_nonsense_words.generate_single_prompt_zero_shot(n_subset=0, switched=False, question=\"second\")\n",
    "prompt_zs_final = toy_problem_3_nonsense_words.generate_single_prompt_zero_shot(n_subset=0, switched=False, question=\"final\")\n",
    "\n",
    "prompt_zs_first_switched = toy_problem_3_nonsense_words.generate_single_prompt_zero_shot(n_subset=0, switched=True, question=\"first\")\n",
    "prompt_zs_second_switched = toy_problem_3_nonsense_words.generate_single_prompt_zero_shot(n_subset=0, switched=True, question=\"second\")\n",
    "prompt_zs_final_switched = toy_problem_3_nonsense_words.generate_single_prompt_zero_shot(n_subset=0, switched=True, question=\"final\")\n",
    "\n",
    "print(prompt_zs_first + gpt3_response(prompt_zs_first, gpt3_model) + \"\\n\")\n",
    "print(prompt_zs_second + gpt3_response(prompt_zs_second, gpt3_model) + \"\\n\")\n",
    "print(prompt_zs_final + gpt3_response(prompt_zs_final, gpt3_model) + \"\\n\")\n",
    "print(prompt_zs_first_switched + gpt3_response(prompt_zs_first_switched, gpt3_model) + \"\\n\")\n",
    "print(prompt_zs_second_switched + gpt3_response(prompt_zs_second_switched, gpt3_model) + \"\\n\")\n",
    "print(prompt_zs_final_switched + gpt3_response(prompt_zs_final_switched, gpt3_model) + \"\\n\")"
   ]
  },
  {
   "cell_type": "code",
   "execution_count": 10,
   "metadata": {},
   "outputs": [
    {
     "name": "stdout",
     "output_type": "stream",
     "text": [
      "['The baz hit the fuu. The fuu hit the schleep. The schleep fell in the hole. Question: What started the chain? Answer in two words:', 'The fuu hit the schleep. The baz hit the fuu. The schleep fell in the hole. Question: What started the chain? Answer in two words:', 'The baz hit the fuu. The fuu hit the blubb. The blubb fell in the hole. Question: What started the chain? Answer in two words:']\n",
      "['The baz hit the fuu. The fuu hit the schleep. The schleep fell in the hole. Question: What was second in the chain? Answer in two words:', 'The fuu hit the schleep. The baz hit the fuu. The schleep fell in the hole. Question: What was second in the chain? Answer in two words:', 'The baz hit the fuu. The fuu hit the blubb. The blubb fell in the hole. Question: What was second in the chain? Answer in two words:']\n",
      "['The baz hit the fuu. The fuu hit the schleep. The schleep fell in the hole. Question: What fell into the hole? Answer in two words:', 'The fuu hit the schleep. The baz hit the fuu. The schleep fell in the hole. Question: What fell into the hole? Answer in two words:', 'The baz hit the fuu. The fuu hit the blubb. The blubb fell in the hole. Question: What fell into the hole? Answer in two words:']\n"
     ]
    }
   ],
   "source": [
    "print(toy_problem_3_nonsense_words.generate_all_prompts_zero_shot(question='first')[:3])\n",
    "print(toy_problem_3_nonsense_words.generate_all_prompts_zero_shot(question='second')[:3])\n",
    "print(toy_problem_3_nonsense_words.generate_all_prompts_zero_shot(question='final')[:3])"
   ]
  },
  {
   "cell_type": "markdown",
   "metadata": {},
   "source": [
    "### One shot"
   ]
  },
  {
   "cell_type": "code",
   "execution_count": 11,
   "metadata": {},
   "outputs": [
    {
     "name": "stdout",
     "output_type": "stream",
     "text": [
      "normal\n",
      "\n",
      "The blubb hit the dling. The dling hit the dinglebob. The dinglebob fell in the hole. Question: What started the chain? Answer in two words: the blubb\n",
      "The baz hit the fuu. The fuu hit the schleep. The schleep fell in the hole. Question: What started the chain? Answer in two words: the baz\n",
      "\n",
      "The schleep hit the blubb. The blubb hit the plomp. The plomp fell in the hole. Question: What was second in the chain? Answer in two words: the blubb\n",
      "The baz hit the fuu. The fuu hit the schleep. The schleep fell in the hole. Question: What was second in the chain? Answer in two words: the fuu\n",
      "\n",
      "The baz hit the plomp. The plomp hit the dinglebob. The dinglebob fell in the hole. Question: What fell into the hole? Answer in two words: the dinglebob\n",
      "The baz hit the fuu. The fuu hit the schleep. The schleep fell in the hole. Question: What fell into the hole? Answer in two words: the schleep.\n",
      "\n",
      "switched both\n",
      "\n",
      "The schleep hit the plomp. The fuu hit the schleep. The plomp fell in the hole. Question: What started the chain? Answer in two words: the fuu\n",
      "The fuu hit the schleep. The baz hit the fuu. The schleep fell in the hole. Question: What started the chain? Answer in two words: the baz\n",
      "\n",
      "The schleep hit the dling. The baz hit the schleep. The dling fell in the hole. Question: What was second in the chain? Answer in two words: the schleep\n",
      "The fuu hit the schleep. The baz hit the fuu. The schleep fell in the hole. Question: What was second in the chain? Answer in two words: the fuu\n",
      "\n",
      "The dling hit the plomp. The fuu hit the dling. The plomp fell in the hole. Question: What fell into the hole? Answer in two words: the plomp\n",
      "The fuu hit the schleep. The baz hit the fuu. The schleep fell in the hole. Question: What fell into the hole? Answer in two words: the schleep\n",
      "\n",
      "shot not switched, prompt switched\n",
      "\n",
      "The baz hit the fuu. The fuu hit the schleep. The schleep fell in the hole. Question: What started the chain? Answer in two words: the baz\n",
      "The fuu hit the schleep. The baz hit the fuu. The schleep fell in the hole. Question: What started the chain? Answer in two words: the baz\n",
      "\n",
      "The schleep hit the plomp. The plomp hit the dinglebob. The dinglebob fell in the hole. Question: What was second in the chain? Answer in two words: the plomp\n",
      "The fuu hit the schleep. The baz hit the fuu. The schleep fell in the hole. Question: What was second in the chain? Answer in two words: the fuu\n",
      "\n",
      "The fuu hit the schleep. The schleep hit the dinglebob. The dinglebob fell in the hole. Question: What fell into the hole? Answer in two words: the dinglebob\n",
      "The fuu hit the schleep. The baz hit the fuu. The schleep fell in the hole. Question: What fell into the hole? Answer in two words: the schleep\n",
      "\n",
      "shot switched, prompt normal\n",
      "\n",
      "The blubb hit the dling. The fuu hit the blubb. The dling fell in the hole. Question: What started the chain? Answer in two words: the fuu\n",
      "The baz hit the fuu. The fuu hit the schleep. The schleep fell in the hole. Question: What started the chain? Answer in two words: the baz\n",
      "\n",
      "The blubb hit the dling. The baz hit the blubb. The dling fell in the hole. Question: What was second in the chain? Answer in two words: the blubb\n",
      "The baz hit the fuu. The fuu hit the schleep. The schleep fell in the hole. Question: What was second in the chain? Answer in two words: the fuu\n",
      "\n",
      "The schleep hit the blubb. The baz hit the schleep. The blubb fell in the hole. Question: What fell into the hole? Answer in two words: the blubb\n",
      "The baz hit the fuu. The fuu hit the schleep. The schleep fell in the hole. Question: What fell into the hole? Answer in two words: the schleep\n",
      "\n"
     ]
    }
   ],
   "source": [
    "prompt_os_first = toy_problem_3_nonsense_words.generate_single_prompt_one_shot(n_subset=0, switched=False, question=\"first\")\n",
    "prompt_os_second = toy_problem_3_nonsense_words.generate_single_prompt_one_shot(n_subset=0, switched=False, question=\"second\")\n",
    "prompt_os_final = toy_problem_3_nonsense_words.generate_single_prompt_one_shot(n_subset=0, switched=False, question=\"final\")\n",
    "\n",
    "prompt_os_first_switched = toy_problem_3_nonsense_words.generate_single_prompt_one_shot(n_subset=0, switched=True, switched_shot=True, question=\"first\")\n",
    "prompt_os_second_switched = toy_problem_3_nonsense_words.generate_single_prompt_one_shot(n_subset=0, switched=True, switched_shot=True, question=\"second\")\n",
    "prompt_os_final_switched = toy_problem_3_nonsense_words.generate_single_prompt_one_shot(n_subset=0, switched=True, switched_shot=True, question=\"final\")\n",
    "\n",
    "prompt_os_first_switched_nss = toy_problem_3_nonsense_words.generate_single_prompt_one_shot(n_subset=0, switched=True, switched_shot=False, question=\"first\")\n",
    "prompt_os_second_switched_nss = toy_problem_3_nonsense_words.generate_single_prompt_one_shot(n_subset=0, switched=True, switched_shot=False, question=\"second\")\n",
    "prompt_os_final_switched_nss = toy_problem_3_nonsense_words.generate_single_prompt_one_shot(n_subset=0, switched=True, switched_shot=False, question=\"final\")\n",
    "\n",
    "prompt_os_first_ss = toy_problem_3_nonsense_words.generate_single_prompt_one_shot(n_subset=0, switched=False, switched_shot=True, question=\"first\")\n",
    "prompt_os_second_ss = toy_problem_3_nonsense_words.generate_single_prompt_one_shot(n_subset=0, switched=False, switched_shot=True, question=\"second\")\n",
    "prompt_os_final_ss = toy_problem_3_nonsense_words.generate_single_prompt_one_shot(n_subset=0, switched=False, switched_shot=True, question=\"final\")\n",
    "\n",
    "print(\"normal\\n\")\n",
    "print(prompt_os_first + gpt3_response(prompt_os_first, gpt3_model) + \"\\n\")\n",
    "print(prompt_os_second + gpt3_response(prompt_os_second, gpt3_model) + \"\\n\")\n",
    "print(prompt_os_final + gpt3_response(prompt_os_final, gpt3_model) + \"\\n\")\n",
    "print(\"switched both\\n\")\n",
    "print(prompt_os_first_switched + gpt3_response(prompt_os_first_switched, gpt3_model) + \"\\n\")\n",
    "print(prompt_os_second_switched + gpt3_response(prompt_os_second_switched, gpt3_model) + \"\\n\")\n",
    "print(prompt_os_final_switched + gpt3_response(prompt_os_final_switched, gpt3_model) + \"\\n\")\n",
    "print(\"shot not switched, prompt switched\\n\")\n",
    "print(prompt_os_first_switched_nss + gpt3_response(prompt_os_first_switched_nss, gpt3_model) + \"\\n\")\n",
    "print(prompt_os_second_switched_nss + gpt3_response(prompt_os_second_switched_nss, gpt3_model) + \"\\n\")\n",
    "print(prompt_os_final_switched_nss + gpt3_response(prompt_os_final_switched_nss, gpt3_model) + \"\\n\")\n",
    "print(\"shot switched, prompt normal\\n\")\n",
    "print(prompt_os_first_ss + gpt3_response(prompt_os_first_ss, gpt3_model) + \"\\n\")\n",
    "print(prompt_os_second_ss+ gpt3_response(prompt_os_second_ss, gpt3_model) + \"\\n\")\n",
    "print(prompt_os_final_ss + gpt3_response(prompt_os_final_ss, gpt3_model) + \"\\n\")"
   ]
  },
  {
   "cell_type": "code",
   "execution_count": 12,
   "metadata": {},
   "outputs": [
    {
     "name": "stdout",
     "output_type": "stream",
     "text": [
      "['The blubb hit the dling. The dling hit the plomp. The plomp fell in the hole. Question: What started the chain? Answer in two words: the blubb\\nThe baz hit the fuu. The fuu hit the schleep. The schleep fell in the hole. Question: What started the chain? Answer in two words:', 'The fuu hit the dinglebob. The baz hit the fuu. The dinglebob fell in the hole. Question: What started the chain? Answer in two words: the baz\\nThe fuu hit the schleep. The baz hit the fuu. The schleep fell in the hole. Question: What started the chain? Answer in two words:']\n",
      "\n",
      "\n",
      "['The baz hit the schleep. The schleep hit the dling. The dling fell in the hole. Question: What was second in the chain? Answer in two words: the schleep\\nThe baz hit the fuu. The fuu hit the schleep. The schleep fell in the hole. Question: What was second in the chain? Answer in two words:', 'The plomp hit the dinglebob. The fuu hit the plomp. The dinglebob fell in the hole. Question: What was second in the chain? Answer in two words: the plomp\\nThe fuu hit the schleep. The baz hit the fuu. The schleep fell in the hole. Question: What was second in the chain? Answer in two words:']\n",
      "\n",
      "\n",
      "['The schleep hit the dling. The dling hit the plomp. The plomp fell in the hole. Question: What fell into the hole? Answer in two words: the plomp\\nThe baz hit the fuu. The fuu hit the schleep. The schleep fell in the hole. Question: What fell into the hole? Answer in two words:', 'The blubb hit the dling. The baz hit the blubb. The dling fell in the hole. Question: What fell into the hole? Answer in two words: the dling\\nThe fuu hit the schleep. The baz hit the fuu. The schleep fell in the hole. Question: What fell into the hole? Answer in two words:']\n"
     ]
    }
   ],
   "source": [
    "print(toy_problem_3_nonsense_words.generate_all_prompts_one_shot(question='first')[:2])\n",
    "print(\"\\n\")\n",
    "print(toy_problem_3_nonsense_words.generate_all_prompts_one_shot(question='second')[:2])\n",
    "print(\"\\n\")\n",
    "print(toy_problem_3_nonsense_words.generate_all_prompts_one_shot(question='final')[:2])"
   ]
  },
  {
   "cell_type": "code",
   "execution_count": 13,
   "metadata": {},
   "outputs": [
    {
     "name": "stdout",
     "output_type": "stream",
     "text": [
      "['The blubb hit the dinglebob. The baz hit the blubb. The dinglebob fell in the hole. Question: What started the chain? Answer in two words: the baz\\nThe baz hit the fuu. The fuu hit the schleep. The schleep fell in the hole. Question: What started the chain? Answer in two words:', 'The fuu hit the blubb. The blubb hit the plomp. The plomp fell in the hole. Question: What started the chain? Answer in two words: the fuu\\nThe fuu hit the schleep. The baz hit the fuu. The schleep fell in the hole. Question: What started the chain? Answer in two words:']\n",
      "\n",
      "\n",
      "['The dling hit the plomp. The fuu hit the dling. The plomp fell in the hole. Question: What was second in the chain? Answer in two words: the dling\\nThe baz hit the fuu. The fuu hit the schleep. The schleep fell in the hole. Question: What was second in the chain? Answer in two words:', 'The blubb hit the dling. The dling hit the plomp. The plomp fell in the hole. Question: What was second in the chain? Answer in two words: the dling\\nThe fuu hit the schleep. The baz hit the fuu. The schleep fell in the hole. Question: What was second in the chain? Answer in two words:']\n",
      "\n",
      "\n",
      "['The schleep hit the dling. The fuu hit the schleep. The dling fell in the hole. Question: What fell into the hole? Answer in two words: the dling\\nThe baz hit the fuu. The fuu hit the schleep. The schleep fell in the hole. Question: What fell into the hole? Answer in two words:', 'The fuu hit the schleep. The schleep hit the dling. The dling fell in the hole. Question: What fell into the hole? Answer in two words: the dling\\nThe fuu hit the schleep. The baz hit the fuu. The schleep fell in the hole. Question: What fell into the hole? Answer in two words:']\n"
     ]
    }
   ],
   "source": [
    "print(toy_problem_3_nonsense_words.generate_all_prompts_one_shot_switched_shot(question='first')[:2])\n",
    "print(\"\\n\")\n",
    "print(toy_problem_3_nonsense_words.generate_all_prompts_one_shot_switched_shot(question='second')[:2])\n",
    "print(\"\\n\")\n",
    "print(toy_problem_3_nonsense_words.generate_all_prompts_one_shot_switched_shot(question='final')[:2])"
   ]
  },
  {
   "cell_type": "markdown",
   "metadata": {},
   "source": [
    "### K=5 shot"
   ]
  },
  {
   "cell_type": "code",
   "execution_count": 14,
   "metadata": {},
   "outputs": [
    {
     "name": "stdout",
     "output_type": "stream",
     "text": [
      "normal\n",
      "\n",
      "The baz hit the fuu. The fuu hit the plomp. The plomp fell in the hole. Question: What started the chain? Answer in two words: the baz\n",
      "The baz hit the schleep. The schleep hit the dling. The dling fell in the hole. Question: What started the chain? Answer in two words: the baz\n",
      "The schleep hit the blubb. The blubb hit the dling. The dling fell in the hole. Question: What started the chain? Answer in two words: the schleep\n",
      "The baz hit the fuu. The fuu hit the dinglebob. The dinglebob fell in the hole. Question: What started the chain? Answer in two words: the baz\n",
      "The baz hit the schleep. The schleep hit the blubb. The blubb fell in the hole. Question: What started the chain? Answer in two words: the baz\n",
      "The baz hit the fuu. The fuu hit the schleep. The schleep fell in the hole. Question: What started the chain? Answer in two words: the baz\n",
      "\n",
      "The baz hit the fuu. The fuu hit the dling. The dling fell in the hole. Question: What was second in the chain? Answer in two words: the fuu\n",
      "The baz hit the blubb. The blubb hit the plomp. The plomp fell in the hole. Question: What was second in the chain? Answer in two words: the blubb\n",
      "The blubb hit the dling. The dling hit the dinglebob. The dinglebob fell in the hole. Question: What was second in the chain? Answer in two words: the dling\n",
      "The fuu hit the dling. The dling hit the dinglebob. The dinglebob fell in the hole. Question: What was second in the chain? Answer in two words: the dling\n",
      "The fuu hit the blubb. The blubb hit the dinglebob. The dinglebob fell in the hole. Question: What was second in the chain? Answer in two words: the blubb\n",
      "The baz hit the fuu. The fuu hit the schleep. The schleep fell in the hole. Question: What was second in the chain? Answer in two words: the fuu\n",
      "\n",
      "The fuu hit the schleep. The schleep hit the blubb. The blubb fell in the hole. Question: What fell into the hole? Answer in two words: the blubb\n",
      "The baz hit the fuu. The fuu hit the schleep. The schleep fell in the hole. Question: What fell into the hole? Answer in two words: the schleep\n",
      "The baz hit the schleep. The schleep hit the dinglebob. The dinglebob fell in the hole. Question: What fell into the hole? Answer in two words: the dinglebob\n",
      "The baz hit the fuu. The fuu hit the blubb. The blubb fell in the hole. Question: What fell into the hole? Answer in two words: the blubb\n",
      "The blubb hit the dling. The dling hit the dinglebob. The dinglebob fell in the hole. Question: What fell into the hole? Answer in two words: the dinglebob\n",
      "The baz hit the fuu. The fuu hit the schleep. The schleep fell in the hole. Question: What fell into the hole? Answer in two words: the schleep\n",
      "\n",
      "switched both\n",
      "\n",
      "The schleep hit the plomp. The baz hit the schleep. The plomp fell in the hole. Question: What started the chain? Answer in two words: the baz\n",
      "The blubb hit the dling. The fuu hit the blubb. The dling fell in the hole. Question: What started the chain? Answer in two words: the fuu\n",
      "The schleep hit the plomp. The fuu hit the schleep. The plomp fell in the hole. Question: What started the chain? Answer in two words: the fuu\n",
      "The dling hit the dinglebob. The blubb hit the dling. The dinglebob fell in the hole. Question: What started the chain? Answer in two words: the blubb\n",
      "The schleep hit the dling. The baz hit the schleep. The dling fell in the hole. Question: What started the chain? Answer in two words: the baz\n",
      "The fuu hit the schleep. The baz hit the fuu. The schleep fell in the hole. Question: What started the chain? Answer in two words: the baz\n",
      "\n",
      "The dling hit the dinglebob. The schleep hit the dling. The dinglebob fell in the hole. Question: What was second in the chain? Answer in two words: the dling\n",
      "The fuu hit the dinglebob. The baz hit the fuu. The dinglebob fell in the hole. Question: What was second in the chain? Answer in two words: the fuu\n",
      "The dling hit the dinglebob. The blubb hit the dling. The dinglebob fell in the hole. Question: What was second in the chain? Answer in two words: the dling\n",
      "The dling hit the plomp. The fuu hit the dling. The plomp fell in the hole. Question: What was second in the chain? Answer in two words: the dling\n",
      "The schleep hit the dling. The baz hit the schleep. The dling fell in the hole. Question: What was second in the chain? Answer in two words: the schleep\n",
      "The fuu hit the schleep. The baz hit the fuu. The schleep fell in the hole. Question: What was second in the chain? Answer in two words: the fuu\n",
      "\n",
      "The dling hit the plomp. The fuu hit the dling. The plomp fell in the hole. Question: What fell into the hole? Answer in two words: the plomp\n",
      "The plomp hit the dinglebob. The blubb hit the plomp. The dinglebob fell in the hole. Question: What fell into the hole? Answer in two words: the dinglebob\n",
      "The fuu hit the schleep. The baz hit the fuu. The schleep fell in the hole. Question: What fell into the hole? Answer in two words: the schleep\n",
      "The dling hit the dinglebob. The schleep hit the dling. The dinglebob fell in the hole. Question: What fell into the hole? Answer in two words: the dinglebob\n",
      "The schleep hit the blubb. The baz hit the schleep. The blubb fell in the hole. Question: What fell into the hole? Answer in two words: the blubb\n",
      "The fuu hit the schleep. The baz hit the fuu. The schleep fell in the hole. Question: What fell into the hole? Answer in two words: the schleep\n",
      "\n",
      "shot not switched, prompt switched\n",
      "\n",
      "The blubb hit the plomp. The plomp hit the dinglebob. The dinglebob fell in the hole. Question: What started the chain? Answer in two words: the blubb\n",
      "The baz hit the blubb. The blubb hit the plomp. The plomp fell in the hole. Question: What started the chain? Answer in two words: the baz\n",
      "The schleep hit the blubb. The blubb hit the dling. The dling fell in the hole. Question: What started the chain? Answer in two words: the schleep\n",
      "The fuu hit the dling. The dling hit the plomp. The plomp fell in the hole. Question: What started the chain? Answer in two words: the fuu\n",
      "The schleep hit the blubb. The blubb hit the dinglebob. The dinglebob fell in the hole. Question: What started the chain? Answer in two words: the schleep\n",
      "The fuu hit the schleep. The baz hit the fuu. The schleep fell in the hole. Question: What started the chain? Answer in two words: the fuu\n",
      "\n",
      "The baz hit the dling. The dling hit the dinglebob. The dinglebob fell in the hole. Question: What was second in the chain? Answer in two words: the dling\n",
      "The fuu hit the schleep. The schleep hit the dinglebob. The dinglebob fell in the hole. Question: What was second in the chain? Answer in two words: the schleep\n",
      "The schleep hit the plomp. The plomp hit the dinglebob. The dinglebob fell in the hole. Question: What was second in the chain? Answer in two words: the plomp\n",
      "The baz hit the blubb. The blubb hit the plomp. The plomp fell in the hole. Question: What was second in the chain? Answer in two words: the blubb\n",
      "The fuu hit the schleep. The schleep hit the dling. The dling fell in the hole. Question: What was second in the chain? Answer in two words: the schleep\n",
      "The fuu hit the schleep. The baz hit the fuu. The schleep fell in the hole. Question: What was second in the chain? Answer in two words: the baz\n",
      "\n",
      "The fuu hit the schleep. The schleep hit the blubb. The blubb fell in the hole. Question: What fell into the hole? Answer in two words: the blubb\n",
      "The fuu hit the schleep. The schleep hit the dinglebob. The dinglebob fell in the hole. Question: What fell into the hole? Answer in two words: the dinglebob\n",
      "The baz hit the blubb. The blubb hit the dinglebob. The dinglebob fell in the hole. Question: What fell into the hole? Answer in two words: the dinglebob\n",
      "The blubb hit the dling. The dling hit the plomp. The plomp fell in the hole. Question: What fell into the hole? Answer in two words: the plomp\n",
      "The fuu hit the dling. The dling hit the plomp. The plomp fell in the hole. Question: What fell into the hole? Answer in two words: the plomp\n",
      "The fuu hit the schleep. The baz hit the fuu. The schleep fell in the hole. Question: What fell into the hole? Answer in two words: the schleep\n",
      "\n",
      "shot switched, prompt normal\n",
      "\n",
      "The dling hit the plomp. The blubb hit the dling. The plomp fell in the hole. Question: What started the chain? Answer in two words: the blubb\n",
      "The schleep hit the plomp. The baz hit the schleep. The plomp fell in the hole. Question: What started the chain? Answer in two words: the baz\n",
      "The plomp hit the dinglebob. The fuu hit the plomp. The dinglebob fell in the hole. Question: What started the chain? Answer in two words: the fuu\n",
      "The fuu hit the dinglebob. The baz hit the fuu. The dinglebob fell in the hole. Question: What started the chain? Answer in two words: the baz\n",
      "The blubb hit the plomp. The schleep hit the blubb. The plomp fell in the hole. Question: What started the chain? Answer in two words: the schleep\n",
      "The baz hit the fuu. The fuu hit the schleep. The schleep fell in the hole. Question: What started the chain? Answer in two words: the fuu\n",
      "\n"
     ]
    },
    {
     "name": "stdout",
     "output_type": "stream",
     "text": [
      "The blubb hit the dinglebob. The schleep hit the blubb. The dinglebob fell in the hole. Question: What was second in the chain? Answer in two words: the blubb\n",
      "The schleep hit the blubb. The baz hit the schleep. The blubb fell in the hole. Question: What was second in the chain? Answer in two words: the schleep\n",
      "The schleep hit the plomp. The fuu hit the schleep. The plomp fell in the hole. Question: What was second in the chain? Answer in two words: the schleep\n",
      "The schleep hit the dling. The baz hit the schleep. The dling fell in the hole. Question: What was second in the chain? Answer in two words: the schleep\n",
      "The blubb hit the dling. The baz hit the blubb. The dling fell in the hole. Question: What was second in the chain? Answer in two words: the blubb\n",
      "The baz hit the fuu. The fuu hit the schleep. The schleep fell in the hole. Question: What was second in the chain? Answer in two words: the fuu\n",
      "\n",
      "The dling hit the plomp. The schleep hit the dling. The plomp fell in the hole. Question: What fell into the hole? Answer in two words: the plomp\n",
      "The blubb hit the dling. The schleep hit the blubb. The dling fell in the hole. Question: What fell into the hole? Answer in two words: the dling\n",
      "The dling hit the plomp. The blubb hit the dling. The plomp fell in the hole. Question: What fell into the hole? Answer in two words: the plomp\n",
      "The schleep hit the dinglebob. The fuu hit the schleep. The dinglebob fell in the hole. Question: What fell into the hole? Answer in two words: the dinglebob\n",
      "The dling hit the dinglebob. The fuu hit the dling. The dinglebob fell in the hole. Question: What fell into the hole? Answer in two words: the dinglebob\n",
      "The baz hit the fuu. The fuu hit the schleep. The schleep fell in the hole. Question: What fell into the hole? Answer in two words: the schleep\n",
      "\n"
     ]
    }
   ],
   "source": [
    "prompt_ks_first = toy_problem_3_nonsense_words.generate_single_prompt_k_shot(n_subset=0, k=5, switched=False, question=\"first\")\n",
    "prompt_ks_second = toy_problem_3_nonsense_words.generate_single_prompt_k_shot(n_subset=0, k=5, switched=False, question=\"second\")\n",
    "prompt_ks_final = toy_problem_3_nonsense_words.generate_single_prompt_k_shot(n_subset=0, k=5, switched=False, question=\"final\")\n",
    "\n",
    "prompt_ks_first_switched = toy_problem_3_nonsense_words.generate_single_prompt_k_shot(n_subset=0, k=5, switched=True, switched_shot=True, question=\"first\")\n",
    "prompt_ks_second_switched = toy_problem_3_nonsense_words.generate_single_prompt_k_shot(n_subset=0, k=5, switched=True, switched_shot=True, question=\"second\")\n",
    "prompt_ks_final_switched = toy_problem_3_nonsense_words.generate_single_prompt_k_shot(n_subset=0, k=5, switched=True, switched_shot=True, question=\"final\")\n",
    "\n",
    "prompt_ks_first_switched_nss = toy_problem_3_nonsense_words.generate_single_prompt_k_shot(n_subset=0, k=5, switched=True, switched_shot=False, question=\"first\")\n",
    "prompt_ks_second_switched_nss = toy_problem_3_nonsense_words.generate_single_prompt_k_shot(n_subset=0, k=5, switched=True, switched_shot=False, question=\"second\")\n",
    "prompt_ks_final_switched_nss = toy_problem_3_nonsense_words.generate_single_prompt_k_shot(n_subset=0, k=5, switched=True, switched_shot=False, question=\"final\")\n",
    "\n",
    "prompt_ks_first_ss = toy_problem_3_nonsense_words.generate_single_prompt_k_shot(n_subset=0, k=5, switched=False, switched_shot=True, question=\"first\")\n",
    "prompt_ks_second_ss = toy_problem_3_nonsense_words.generate_single_prompt_k_shot(n_subset=0, k=5, switched=False, switched_shot=True, question=\"second\")\n",
    "prompt_ks_final_ss = toy_problem_3_nonsense_words.generate_single_prompt_k_shot(n_subset=0, k=5, switched=False, switched_shot=True, question=\"final\")\n",
    "\n",
    "print(\"normal\\n\")\n",
    "print(prompt_ks_first + gpt3_response(prompt_ks_first, gpt3_model) + \"\\n\")\n",
    "print(prompt_ks_second + gpt3_response(prompt_ks_second, gpt3_model) + \"\\n\")\n",
    "print(prompt_ks_final + gpt3_response(prompt_ks_final, gpt3_model) + \"\\n\")\n",
    "print(\"switched both\\n\")\n",
    "print(prompt_ks_first_switched + gpt3_response(prompt_ks_first_switched, gpt3_model) + \"\\n\")\n",
    "print(prompt_ks_second_switched + gpt3_response(prompt_ks_second_switched, gpt3_model) + \"\\n\")\n",
    "print(prompt_ks_final_switched + gpt3_response(prompt_ks_final_switched, gpt3_model) + \"\\n\")\n",
    "print(\"shot not switched, prompt switched\\n\")\n",
    "print(prompt_ks_first_switched_nss + gpt3_response(prompt_ks_first_switched_nss, gpt3_model) + \"\\n\")\n",
    "print(prompt_ks_second_switched_nss + gpt3_response(prompt_ks_second_switched_nss, gpt3_model) + \"\\n\")\n",
    "print(prompt_ks_final_switched_nss + gpt3_response(prompt_ks_final_switched_nss, gpt3_model) + \"\\n\")\n",
    "print(\"shot switched, prompt normal\\n\")\n",
    "print(prompt_ks_first_ss + gpt3_response(prompt_ks_first_ss, gpt3_model) + \"\\n\")\n",
    "print(prompt_ks_second_ss+ gpt3_response(prompt_ks_second_ss, gpt3_model) + \"\\n\")\n",
    "print(prompt_ks_final_ss + gpt3_response(prompt_ks_final_ss, gpt3_model) + \"\\n\")"
   ]
  },
  {
   "cell_type": "code",
   "execution_count": 15,
   "metadata": {},
   "outputs": [
    {
     "name": "stdout",
     "output_type": "stream",
     "text": [
      "['The baz hit the fuu. The fuu hit the dling. The dling fell in the hole. Question: What started the chain? Answer in two words: the baz\\nThe baz hit the schleep. The schleep hit the plomp. The plomp fell in the hole. Question: What started the chain? Answer in two words: the baz\\nThe schleep hit the blubb. The blubb hit the dling. The dling fell in the hole. Question: What started the chain? Answer in two words: the schleep\\nThe schleep hit the plomp. The plomp hit the dinglebob. The dinglebob fell in the hole. Question: What started the chain? Answer in two words: the schleep\\nThe fuu hit the dling. The dling hit the dinglebob. The dinglebob fell in the hole. Question: What started the chain? Answer in two words: the fuu\\nThe baz hit the fuu. The fuu hit the schleep. The schleep fell in the hole. Question: What started the chain? Answer in two words:', 'The blubb hit the plomp. The schleep hit the blubb. The plomp fell in the hole. Question: What started the chain? Answer in two words: the schleep\\nThe schleep hit the dinglebob. The baz hit the schleep. The dinglebob fell in the hole. Question: What started the chain? Answer in two words: the baz\\nThe dling hit the plomp. The fuu hit the dling. The plomp fell in the hole. Question: What started the chain? Answer in two words: the fuu\\nThe schleep hit the dinglebob. The fuu hit the schleep. The dinglebob fell in the hole. Question: What started the chain? Answer in two words: the fuu\\nThe schleep hit the plomp. The baz hit the schleep. The plomp fell in the hole. Question: What started the chain? Answer in two words: the baz\\nThe fuu hit the schleep. The baz hit the fuu. The schleep fell in the hole. Question: What started the chain? Answer in two words:']\n",
      "\n",
      "\n",
      "['The baz hit the fuu. The fuu hit the dinglebob. The dinglebob fell in the hole. Question: What was second in the chain? Answer in two words: the fuu\\nThe baz hit the blubb. The blubb hit the dinglebob. The dinglebob fell in the hole. Question: What was second in the chain? Answer in two words: the blubb\\nThe baz hit the fuu. The fuu hit the plomp. The plomp fell in the hole. Question: What was second in the chain? Answer in two words: the fuu\\nThe baz hit the dling. The dling hit the dinglebob. The dinglebob fell in the hole. Question: What was second in the chain? Answer in two words: the dling\\nThe fuu hit the blubb. The blubb hit the dinglebob. The dinglebob fell in the hole. Question: What was second in the chain? Answer in two words: the blubb\\nThe baz hit the fuu. The fuu hit the schleep. The schleep fell in the hole. Question: What was second in the chain? Answer in two words:', 'The fuu hit the blubb. The baz hit the fuu. The blubb fell in the hole. Question: What was second in the chain? Answer in two words: the fuu\\nThe blubb hit the dinglebob. The fuu hit the blubb. The dinglebob fell in the hole. Question: What was second in the chain? Answer in two words: the blubb\\nThe blubb hit the dinglebob. The baz hit the blubb. The dinglebob fell in the hole. Question: What was second in the chain? Answer in two words: the blubb\\nThe blubb hit the plomp. The schleep hit the blubb. The plomp fell in the hole. Question: What was second in the chain? Answer in two words: the blubb\\nThe dling hit the plomp. The schleep hit the dling. The plomp fell in the hole. Question: What was second in the chain? Answer in two words: the dling\\nThe fuu hit the schleep. The baz hit the fuu. The schleep fell in the hole. Question: What was second in the chain? Answer in two words:']\n",
      "\n",
      "\n",
      "['The baz hit the blubb. The blubb hit the dinglebob. The dinglebob fell in the hole. Question: What fell into the hole? Answer in two words: the dinglebob\\nThe fuu hit the schleep. The schleep hit the dinglebob. The dinglebob fell in the hole. Question: What fell into the hole? Answer in two words: the dinglebob\\nThe baz hit the fuu. The fuu hit the plomp. The plomp fell in the hole. Question: What fell into the hole? Answer in two words: the plomp\\nThe baz hit the schleep. The schleep hit the plomp. The plomp fell in the hole. Question: What fell into the hole? Answer in two words: the plomp\\nThe schleep hit the plomp. The plomp hit the dinglebob. The dinglebob fell in the hole. Question: What fell into the hole? Answer in two words: the dinglebob\\nThe baz hit the fuu. The fuu hit the schleep. The schleep fell in the hole. Question: What fell into the hole? Answer in two words:', 'The blubb hit the dinglebob. The schleep hit the blubb. The dinglebob fell in the hole. Question: What fell into the hole? Answer in two words: the dinglebob\\nThe dling hit the dinglebob. The blubb hit the dling. The dinglebob fell in the hole. Question: What fell into the hole? Answer in two words: the dinglebob\\nThe dling hit the dinglebob. The baz hit the dling. The dinglebob fell in the hole. Question: What fell into the hole? Answer in two words: the dinglebob\\nThe dling hit the plomp. The fuu hit the dling. The plomp fell in the hole. Question: What fell into the hole? Answer in two words: the plomp\\nThe fuu hit the dinglebob. The baz hit the fuu. The dinglebob fell in the hole. Question: What fell into the hole? Answer in two words: the dinglebob\\nThe fuu hit the schleep. The baz hit the fuu. The schleep fell in the hole. Question: What fell into the hole? Answer in two words:']\n"
     ]
    }
   ],
   "source": [
    "print(toy_problem_3_nonsense_words.generate_all_prompts_k_shot(k=5, question='first')[:2])\n",
    "print(\"\\n\")\n",
    "print(toy_problem_3_nonsense_words.generate_all_prompts_k_shot(k=5, question='second')[:2])\n",
    "print(\"\\n\")\n",
    "print(toy_problem_3_nonsense_words.generate_all_prompts_k_shot(k=5, question='final')[:2])"
   ]
  },
  {
   "cell_type": "code",
   "execution_count": 16,
   "metadata": {},
   "outputs": [
    {
     "name": "stdout",
     "output_type": "stream",
     "text": [
      "['The blubb hit the plomp. The fuu hit the blubb. The plomp fell in the hole. Question: What started the chain? Answer in two words: the fuu\\nThe schleep hit the dinglebob. The baz hit the schleep. The dinglebob fell in the hole. Question: What started the chain? Answer in two words: the baz\\nThe blubb hit the dling. The schleep hit the blubb. The dling fell in the hole. Question: What started the chain? Answer in two words: the schleep\\nThe plomp hit the dinglebob. The dling hit the plomp. The dinglebob fell in the hole. Question: What started the chain? Answer in two words: the dling\\nThe plomp hit the dinglebob. The schleep hit the plomp. The dinglebob fell in the hole. Question: What started the chain? Answer in two words: the schleep\\nThe baz hit the fuu. The fuu hit the schleep. The schleep fell in the hole. Question: What started the chain? Answer in two words:', 'The baz hit the blubb. The blubb hit the dinglebob. The dinglebob fell in the hole. Question: What started the chain? Answer in two words: the baz\\nThe fuu hit the schleep. The schleep hit the dinglebob. The dinglebob fell in the hole. Question: What started the chain? Answer in two words: the fuu\\nThe fuu hit the dling. The dling hit the dinglebob. The dinglebob fell in the hole. Question: What started the chain? Answer in two words: the fuu\\nThe fuu hit the dling. The dling hit the plomp. The plomp fell in the hole. Question: What started the chain? Answer in two words: the fuu\\nThe baz hit the dling. The dling hit the dinglebob. The dinglebob fell in the hole. Question: What started the chain? Answer in two words: the baz\\nThe fuu hit the schleep. The baz hit the fuu. The schleep fell in the hole. Question: What started the chain? Answer in two words:']\n",
      "\n",
      "\n",
      "['The schleep hit the dinglebob. The fuu hit the schleep. The dinglebob fell in the hole. Question: What was second in the chain? Answer in two words: the schleep\\nThe fuu hit the plomp. The baz hit the fuu. The plomp fell in the hole. Question: What was second in the chain? Answer in two words: the fuu\\nThe blubb hit the dinglebob. The schleep hit the blubb. The dinglebob fell in the hole. Question: What was second in the chain? Answer in two words: the blubb\\nThe blubb hit the dinglebob. The baz hit the blubb. The dinglebob fell in the hole. Question: What was second in the chain? Answer in two words: the blubb\\nThe dling hit the dinglebob. The blubb hit the dling. The dinglebob fell in the hole. Question: What was second in the chain? Answer in two words: the dling\\nThe baz hit the fuu. The fuu hit the schleep. The schleep fell in the hole. Question: What was second in the chain? Answer in two words:', 'The baz hit the schleep. The schleep hit the plomp. The plomp fell in the hole. Question: What was second in the chain? Answer in two words: the schleep\\nThe blubb hit the dling. The dling hit the dinglebob. The dinglebob fell in the hole. Question: What was second in the chain? Answer in two words: the dling\\nThe baz hit the blubb. The blubb hit the dinglebob. The dinglebob fell in the hole. Question: What was second in the chain? Answer in two words: the blubb\\nThe baz hit the fuu. The fuu hit the dinglebob. The dinglebob fell in the hole. Question: What was second in the chain? Answer in two words: the fuu\\nThe fuu hit the blubb. The blubb hit the dling. The dling fell in the hole. Question: What was second in the chain? Answer in two words: the blubb\\nThe fuu hit the schleep. The baz hit the fuu. The schleep fell in the hole. Question: What was second in the chain? Answer in two words:']\n",
      "\n",
      "\n",
      "['The dling hit the dinglebob. The fuu hit the dling. The dinglebob fell in the hole. Question: What fell into the hole? Answer in two words: the dinglebob\\nThe plomp hit the dinglebob. The blubb hit the plomp. The dinglebob fell in the hole. Question: What fell into the hole? Answer in two words: the dinglebob\\nThe blubb hit the dinglebob. The baz hit the blubb. The dinglebob fell in the hole. Question: What fell into the hole? Answer in two words: the dinglebob\\nThe schleep hit the dling. The baz hit the schleep. The dling fell in the hole. Question: What fell into the hole? Answer in two words: the dling\\nThe dling hit the dinglebob. The blubb hit the dling. The dinglebob fell in the hole. Question: What fell into the hole? Answer in two words: the dinglebob\\nThe baz hit the fuu. The fuu hit the schleep. The schleep fell in the hole. Question: What fell into the hole? Answer in two words:', 'The schleep hit the plomp. The plomp hit the dinglebob. The dinglebob fell in the hole. Question: What fell into the hole? Answer in two words: the dinglebob\\nThe fuu hit the blubb. The blubb hit the dinglebob. The dinglebob fell in the hole. Question: What fell into the hole? Answer in two words: the dinglebob\\nThe baz hit the blubb. The blubb hit the dling. The dling fell in the hole. Question: What fell into the hole? Answer in two words: the dling\\nThe baz hit the blubb. The blubb hit the dinglebob. The dinglebob fell in the hole. Question: What fell into the hole? Answer in two words: the dinglebob\\nThe schleep hit the blubb. The blubb hit the dinglebob. The dinglebob fell in the hole. Question: What fell into the hole? Answer in two words: the dinglebob\\nThe fuu hit the schleep. The baz hit the fuu. The schleep fell in the hole. Question: What fell into the hole? Answer in two words:']\n"
     ]
    }
   ],
   "source": [
    "print(toy_problem_3_nonsense_words.generate_all_prompts_k_shot_switched_shot(k=5, question='first')[:2])\n",
    "print(\"\\n\")\n",
    "print(toy_problem_3_nonsense_words.generate_all_prompts_k_shot_switched_shot(k=5, question='second')[:2])\n",
    "print(\"\\n\")\n",
    "print(toy_problem_3_nonsense_words.generate_all_prompts_k_shot_switched_shot(k=5, question='final')[:2])"
   ]
  },
  {
   "cell_type": "code",
   "execution_count": null,
   "metadata": {},
   "outputs": [],
   "source": []
  }
 ],
 "metadata": {
  "kernelspec": {
   "display_name": "Python 3",
   "language": "python",
   "name": "python3"
  },
  "language_info": {
   "codemirror_mode": {
    "name": "ipython",
    "version": 3
   },
   "file_extension": ".py",
   "mimetype": "text/x-python",
   "name": "python",
   "nbconvert_exporter": "python",
   "pygments_lexer": "ipython3",
   "version": "3.8.5"
  }
 },
 "nbformat": 4,
 "nbformat_minor": 4
}
