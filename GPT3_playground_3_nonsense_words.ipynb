{
 "cells": [
  {
   "cell_type": "markdown",
   "metadata": {},
   "source": [
    "# Playground for 3 nonsense words\n",
    "\n",
    "TODO:explain & explore\n",
    "\n",
    "TODO:add gpt3"
   ]
  },
  {
   "cell_type": "code",
   "execution_count": 1,
   "metadata": {},
   "outputs": [],
   "source": [
    "import os\n",
    "import numpy as np\n",
    "import openai\n",
    "import pandas as pd\n",
    "from tqdm import tqdm\n",
    "from setups.toy_problem_3_nonsense_words_setup import ToyProblem3NonsenseWords\n",
    "\n",
    "# Load your API key from an environment variable or secret management service\n",
    "openai.api_key = os.getenv(\"OPENAI_KEY\")"
   ]
  },
  {
   "cell_type": "code",
   "execution_count": 2,
   "metadata": {},
   "outputs": [],
   "source": [
    "gpt3_model = \"text-davinci-001\"\n",
    "#gpt3_model = \"text-curie-001\"\n",
    "#gpt3_model = \"text-babbage-001\"\n",
    "#gpt3_model = \"text-ada-001\""
   ]
  },
  {
   "cell_type": "code",
   "execution_count": 3,
   "metadata": {},
   "outputs": [],
   "source": [
    "# test run\n",
    "def gpt3_response(prompt, model):\n",
    "    response = openai.Completion.create(engine=model, prompt=prompt, max_tokens=20, temperature=0)\n",
    "    return(response[\"choices\"][0][\"text\"])"
   ]
  },
  {
   "cell_type": "code",
   "execution_count": 4,
   "metadata": {},
   "outputs": [],
   "source": [
    "toy_problem_3_nonsense_words = ToyProblem3NonsenseWords()"
   ]
  },
  {
   "cell_type": "code",
   "execution_count": 5,
   "metadata": {},
   "outputs": [
    {
     "data": {
      "text/plain": [
       "array([['fuu', 'schleep', 'blubb'],\n",
       "       ['baz', 'schleep', 'bla'],\n",
       "       ['baz', 'fuu', 'plomp']], dtype='<U9')"
      ]
     },
     "execution_count": 5,
     "metadata": {},
     "output_type": "execute_result"
    }
   ],
   "source": [
    "toy_problem_3_nonsense_words.get_random_subsets(3)"
   ]
  },
  {
   "cell_type": "code",
   "execution_count": 6,
   "metadata": {},
   "outputs": [
    {
     "name": "stdout",
     "output_type": "stream",
     "text": [
      "The baz hit the fuu. The fuu hit the schleep. The schleep fell in the hole.\n",
      "The fuu hit the schleep. The baz hit the fuu. The schleep fell in the hole.\n"
     ]
    }
   ],
   "source": [
    "print(toy_problem_3_nonsense_words.generate_single_sequence(0, switched=False))\n",
    "print(toy_problem_3_nonsense_words.generate_single_sequence(0, switched=True))"
   ]
  },
  {
   "cell_type": "code",
   "execution_count": 7,
   "metadata": {},
   "outputs": [
    {
     "data": {
      "text/html": [
       "<div>\n",
       "<style scoped>\n",
       "    .dataframe tbody tr th:only-of-type {\n",
       "        vertical-align: middle;\n",
       "    }\n",
       "\n",
       "    .dataframe tbody tr th {\n",
       "        vertical-align: top;\n",
       "    }\n",
       "\n",
       "    .dataframe thead th {\n",
       "        text-align: right;\n",
       "    }\n",
       "</style>\n",
       "<table border=\"1\" class=\"dataframe\">\n",
       "  <thead>\n",
       "    <tr style=\"text-align: right;\">\n",
       "      <th></th>\n",
       "      <th>sequence</th>\n",
       "      <th>switched</th>\n",
       "      <th>first_word</th>\n",
       "      <th>second_word</th>\n",
       "      <th>final_word</th>\n",
       "    </tr>\n",
       "  </thead>\n",
       "  <tbody>\n",
       "    <tr>\n",
       "      <th>0</th>\n",
       "      <td>The baz hit the fuu. The fuu hit the schleep. ...</td>\n",
       "      <td>False</td>\n",
       "      <td>baz</td>\n",
       "      <td>fuu</td>\n",
       "      <td>schleep</td>\n",
       "    </tr>\n",
       "    <tr>\n",
       "      <th>1</th>\n",
       "      <td>The fuu hit the schleep. The baz hit the fuu. ...</td>\n",
       "      <td>True</td>\n",
       "      <td>baz</td>\n",
       "      <td>fuu</td>\n",
       "      <td>schleep</td>\n",
       "    </tr>\n",
       "    <tr>\n",
       "      <th>2</th>\n",
       "      <td>The baz hit the fuu. The fuu hit the blubb. Th...</td>\n",
       "      <td>False</td>\n",
       "      <td>baz</td>\n",
       "      <td>fuu</td>\n",
       "      <td>blubb</td>\n",
       "    </tr>\n",
       "    <tr>\n",
       "      <th>3</th>\n",
       "      <td>The fuu hit the blubb. The baz hit the fuu. Th...</td>\n",
       "      <td>True</td>\n",
       "      <td>baz</td>\n",
       "      <td>fuu</td>\n",
       "      <td>blubb</td>\n",
       "    </tr>\n",
       "    <tr>\n",
       "      <th>4</th>\n",
       "      <td>The baz hit the fuu. The fuu hit the bla. The ...</td>\n",
       "      <td>False</td>\n",
       "      <td>baz</td>\n",
       "      <td>fuu</td>\n",
       "      <td>bla</td>\n",
       "    </tr>\n",
       "    <tr>\n",
       "      <th>...</th>\n",
       "      <td>...</td>\n",
       "      <td>...</td>\n",
       "      <td>...</td>\n",
       "      <td>...</td>\n",
       "      <td>...</td>\n",
       "    </tr>\n",
       "    <tr>\n",
       "      <th>65</th>\n",
       "      <td>The bla hit the dinglebob. The blubb hit the b...</td>\n",
       "      <td>True</td>\n",
       "      <td>blubb</td>\n",
       "      <td>bla</td>\n",
       "      <td>dinglebob</td>\n",
       "    </tr>\n",
       "    <tr>\n",
       "      <th>66</th>\n",
       "      <td>The blubb hit the plomp. The plomp hit the din...</td>\n",
       "      <td>False</td>\n",
       "      <td>blubb</td>\n",
       "      <td>plomp</td>\n",
       "      <td>dinglebob</td>\n",
       "    </tr>\n",
       "    <tr>\n",
       "      <th>67</th>\n",
       "      <td>The plomp hit the dinglebob. The blubb hit the...</td>\n",
       "      <td>True</td>\n",
       "      <td>blubb</td>\n",
       "      <td>plomp</td>\n",
       "      <td>dinglebob</td>\n",
       "    </tr>\n",
       "    <tr>\n",
       "      <th>68</th>\n",
       "      <td>The bla hit the plomp. The plomp hit the dingl...</td>\n",
       "      <td>False</td>\n",
       "      <td>bla</td>\n",
       "      <td>plomp</td>\n",
       "      <td>dinglebob</td>\n",
       "    </tr>\n",
       "    <tr>\n",
       "      <th>69</th>\n",
       "      <td>The plomp hit the dinglebob. The bla hit the p...</td>\n",
       "      <td>True</td>\n",
       "      <td>bla</td>\n",
       "      <td>plomp</td>\n",
       "      <td>dinglebob</td>\n",
       "    </tr>\n",
       "  </tbody>\n",
       "</table>\n",
       "<p>70 rows × 5 columns</p>\n",
       "</div>"
      ],
      "text/plain": [
       "                                             sequence  switched first_word  \\\n",
       "0   The baz hit the fuu. The fuu hit the schleep. ...     False        baz   \n",
       "1   The fuu hit the schleep. The baz hit the fuu. ...      True        baz   \n",
       "2   The baz hit the fuu. The fuu hit the blubb. Th...     False        baz   \n",
       "3   The fuu hit the blubb. The baz hit the fuu. Th...      True        baz   \n",
       "4   The baz hit the fuu. The fuu hit the bla. The ...     False        baz   \n",
       "..                                                ...       ...        ...   \n",
       "65  The bla hit the dinglebob. The blubb hit the b...      True      blubb   \n",
       "66  The blubb hit the plomp. The plomp hit the din...     False      blubb   \n",
       "67  The plomp hit the dinglebob. The blubb hit the...      True      blubb   \n",
       "68  The bla hit the plomp. The plomp hit the dingl...     False        bla   \n",
       "69  The plomp hit the dinglebob. The bla hit the p...      True        bla   \n",
       "\n",
       "   second_word final_word  \n",
       "0          fuu    schleep  \n",
       "1          fuu    schleep  \n",
       "2          fuu      blubb  \n",
       "3          fuu      blubb  \n",
       "4          fuu        bla  \n",
       "..         ...        ...  \n",
       "65         bla  dinglebob  \n",
       "66       plomp  dinglebob  \n",
       "67       plomp  dinglebob  \n",
       "68       plomp  dinglebob  \n",
       "69       plomp  dinglebob  \n",
       "\n",
       "[70 rows x 5 columns]"
      ]
     },
     "execution_count": 7,
     "metadata": {},
     "output_type": "execute_result"
    }
   ],
   "source": [
    "toy_problem_3_nonsense_words.generate_sequences_df()"
   ]
  },
  {
   "cell_type": "code",
   "execution_count": 8,
   "metadata": {},
   "outputs": [],
   "source": [
    "toy_problem_3_nonsense_words.save_sequences_df(\"data/toy_problem_3_nonsense_words/toy_problem_3n.csv\")"
   ]
  },
  {
   "cell_type": "markdown",
   "metadata": {},
   "source": [
    "### Zero shot"
   ]
  },
  {
   "cell_type": "code",
   "execution_count": 10,
   "metadata": {},
   "outputs": [
    {
     "name": "stdout",
     "output_type": "stream",
     "text": [
      "The baz hit the fuu. The fuu hit the schleep. The schleep fell in the hole. Question: What started the chain? Answer: \n",
      "\n",
      "The baz hit the fuu.\n",
      "\n",
      "The baz hit the fuu. The fuu hit the schleep. The schleep fell in the hole. Question: What was second in the chain? Answer: \n",
      "\n",
      "The hole.\n",
      "\n",
      "The baz hit the fuu. The fuu hit the schleep. The schleep fell in the hole. Question: What fell into the hole? Answer: \n",
      "\n",
      "The schleep fell in the hole.\n",
      "\n",
      "The fuu hit the schleep. The baz hit the fuu. The schleep fell in the hole. Question: What started the chain? Answer: \n",
      "\n",
      "The baz hit the fuu.\n",
      "\n",
      "The fuu hit the schleep. The baz hit the fuu. The schleep fell in the hole. Question: What was second in the chain? Answer: \n",
      "\n",
      "The baz hit the fuu.\n",
      "\n",
      "The fuu hit the schleep. The baz hit the fuu. The schleep fell in the hole. Question: What fell into the hole? Answer: \n",
      "\n",
      "The fuu hit the schleep. The baz hit the fuu. The sch\n",
      "\n"
     ]
    }
   ],
   "source": [
    "prompt_zs_first = toy_problem_3_nonsense_words.generate_single_prompt_zero_shot(n_subset=0, switched=False, question=\"first\")\n",
    "prompt_zs_second = toy_problem_3_nonsense_words.generate_single_prompt_zero_shot(n_subset=0, switched=False, question=\"second\")\n",
    "prompt_zs_final = toy_problem_3_nonsense_words.generate_single_prompt_zero_shot(n_subset=0, switched=False, question=\"final\")\n",
    "\n",
    "prompt_zs_first_switched = toy_problem_3_nonsense_words.generate_single_prompt_zero_shot(n_subset=0, switched=True, question=\"first\")\n",
    "prompt_zs_second_switched = toy_problem_3_nonsense_words.generate_single_prompt_zero_shot(n_subset=0, switched=True, question=\"second\")\n",
    "prompt_zs_final_switched = toy_problem_3_nonsense_words.generate_single_prompt_zero_shot(n_subset=0, switched=True, question=\"final\")\n",
    "\n",
    "print(prompt_zs_first + gpt3_response(prompt_zs_first, gpt3_model) + \"\\n\")\n",
    "print(prompt_zs_second + gpt3_response(prompt_zs_second, gpt3_model) + \"\\n\")\n",
    "print(prompt_zs_final + gpt3_response(prompt_zs_final, gpt3_model) + \"\\n\")\n",
    "print(prompt_zs_first_switched + gpt3_response(prompt_zs_first_switched, gpt3_model) + \"\\n\")\n",
    "print(prompt_zs_second_switched + gpt3_response(prompt_zs_second_switched, gpt3_model) + \"\\n\")\n",
    "print(prompt_zs_final_switched + gpt3_response(prompt_zs_final_switched, gpt3_model) + \"\\n\")"
   ]
  },
  {
   "cell_type": "code",
   "execution_count": 11,
   "metadata": {},
   "outputs": [
    {
     "name": "stdout",
     "output_type": "stream",
     "text": [
      "['The baz hit the fuu. The fuu hit the schleep. The schleep fell in the hole. Question: What started the chain? Answer: ', 'The fuu hit the schleep. The baz hit the fuu. The schleep fell in the hole. Question: What started the chain? Answer: ', 'The baz hit the fuu. The fuu hit the blubb. The blubb fell in the hole. Question: What started the chain? Answer: ']\n",
      "['The baz hit the fuu. The fuu hit the schleep. The schleep fell in the hole. Question: What was second in the chain? Answer: ', 'The fuu hit the schleep. The baz hit the fuu. The schleep fell in the hole. Question: What was second in the chain? Answer: ', 'The baz hit the fuu. The fuu hit the blubb. The blubb fell in the hole. Question: What was second in the chain? Answer: ']\n",
      "['The baz hit the fuu. The fuu hit the schleep. The schleep fell in the hole. Question: What fell into the hole? Answer: ', 'The fuu hit the schleep. The baz hit the fuu. The schleep fell in the hole. Question: What fell into the hole? Answer: ', 'The baz hit the fuu. The fuu hit the blubb. The blubb fell in the hole. Question: What fell into the hole? Answer: ']\n"
     ]
    }
   ],
   "source": [
    "print(toy_problem_3_nonsense_words.generate_all_prompts_zero_shot(question='first')[:3])\n",
    "print(toy_problem_3_nonsense_words.generate_all_prompts_zero_shot(question='second')[:3])\n",
    "print(toy_problem_3_nonsense_words.generate_all_prompts_zero_shot(question='final')[:3])"
   ]
  },
  {
   "cell_type": "markdown",
   "metadata": {},
   "source": [
    "### One shot"
   ]
  },
  {
   "cell_type": "code",
   "execution_count": 12,
   "metadata": {},
   "outputs": [
    {
     "name": "stdout",
     "output_type": "stream",
     "text": [
      "The baz hit the bla. The bla hit the plomp. The plomp fell in the hole. Question: What started the chain? Answer: the baz\n",
      "The baz hit the fuu. The fuu hit the schleep. The schleep fell in the hole. Question: What started the chain? Answer: \n",
      "\n",
      "The baz\n",
      "\n",
      "The blubb hit the bla. The fuu hit the blubb. The bla fell in the hole. Question: What was second in the chain? Answer: the blubb\n",
      "The baz hit the fuu. The fuu hit the schleep. The schleep fell in the hole. Question: What was second in the chain? Answer: \n",
      "\n",
      "The fuu\n",
      "\n",
      "The bla hit the dinglebob. The blubb hit the bla. The dinglebob fell in the hole. Question: What fell into the hole? Answer: the dinglebob\n",
      "The baz hit the fuu. The fuu hit the schleep. The schleep fell in the hole. Question: What fell into the hole? Answer: \n",
      "\n",
      "The schleep\n",
      "\n",
      "The bla hit the plomp. The baz hit the bla. The plomp fell in the hole. Question: What started the chain? Answer: the baz\n",
      "The fuu hit the schleep. The baz hit the fuu. The schleep fell in the hole. Question: What started the chain? Answer: \n",
      "the baz\n",
      "\n",
      "The schleep hit the bla. The bla hit the dinglebob. The dinglebob fell in the hole. Question: What was second in the chain? Answer: the bla\n",
      "The fuu hit the schleep. The baz hit the fuu. The schleep fell in the hole. Question: What was second in the chain? Answer: \n",
      "\n",
      "the fuu\n",
      "\n",
      "The bla hit the dinglebob. The blubb hit the bla. The dinglebob fell in the hole. Question: What fell into the hole? Answer: the dinglebob\n",
      "The fuu hit the schleep. The baz hit the fuu. The schleep fell in the hole. Question: What fell into the hole? Answer: \n",
      "\n",
      "The schleep\n",
      "\n"
     ]
    }
   ],
   "source": [
    "prompt_os_first = toy_problem_3_nonsense_words.generate_single_prompt_one_shot(n_subset=0, switched=False, question=\"first\")\n",
    "prompt_os_second = toy_problem_3_nonsense_words.generate_single_prompt_one_shot(n_subset=0, switched=False, question=\"second\")\n",
    "prompt_os_final = toy_problem_3_nonsense_words.generate_single_prompt_one_shot(n_subset=0, switched=False, question=\"final\")\n",
    "\n",
    "prompt_os_first_switched = toy_problem_3_nonsense_words.generate_single_prompt_one_shot(n_subset=0, switched=True, question=\"first\")\n",
    "prompt_os_second_switched = toy_problem_3_nonsense_words.generate_single_prompt_one_shot(n_subset=0, switched=True, question=\"second\")\n",
    "prompt_os_final_switched = toy_problem_3_nonsense_words.generate_single_prompt_one_shot(n_subset=0, switched=True, question=\"final\")\n",
    "\n",
    "print(prompt_os_first + gpt3_response(prompt_os_first, gpt3_model) + \"\\n\")\n",
    "print(prompt_os_second + gpt3_response(prompt_os_second, gpt3_model) + \"\\n\")\n",
    "print(prompt_os_final + gpt3_response(prompt_os_final, gpt3_model) + \"\\n\")\n",
    "print(prompt_os_first_switched + gpt3_response(prompt_os_first_switched, gpt3_model) + \"\\n\")\n",
    "print(prompt_os_second_switched + gpt3_response(prompt_os_second_switched, gpt3_model) + \"\\n\")\n",
    "print(prompt_os_final_switched + gpt3_response(prompt_os_final_switched, gpt3_model) + \"\\n\")"
   ]
  },
  {
   "cell_type": "code",
   "execution_count": 13,
   "metadata": {},
   "outputs": [
    {
     "name": "stdout",
     "output_type": "stream",
     "text": [
      "['The blubb hit the dinglebob. The baz hit the blubb. The dinglebob fell in the hole. Question: What started the chain? Answer: the baz\\nThe baz hit the fuu. The fuu hit the schleep. The schleep fell in the hole. Question: What started the chain? Answer: ', 'The bla hit the plomp. The plomp hit the dinglebob. The dinglebob fell in the hole. Question: What started the chain? Answer: the bla\\nThe fuu hit the schleep. The baz hit the fuu. The schleep fell in the hole. Question: What started the chain? Answer: ', 'The blubb hit the bla. The fuu hit the blubb. The bla fell in the hole. Question: What started the chain? Answer: the fuu\\nThe baz hit the fuu. The fuu hit the blubb. The blubb fell in the hole. Question: What started the chain? Answer: ']\n",
      "\n",
      "\n",
      "['The blubb hit the dinglebob. The baz hit the blubb. The dinglebob fell in the hole. Question: What was second in the chain? Answer: the blubb\\nThe baz hit the fuu. The fuu hit the schleep. The schleep fell in the hole. Question: What was second in the chain? Answer: ', 'The baz hit the bla. The bla hit the dinglebob. The dinglebob fell in the hole. Question: What was second in the chain? Answer: the bla\\nThe fuu hit the schleep. The baz hit the fuu. The schleep fell in the hole. Question: What was second in the chain? Answer: ', 'The schleep hit the blubb. The blubb hit the bla. The bla fell in the hole. Question: What was second in the chain? Answer: the blubb\\nThe baz hit the fuu. The fuu hit the blubb. The blubb fell in the hole. Question: What was second in the chain? Answer: ']\n",
      "\n",
      "\n",
      "['The schleep hit the plomp. The fuu hit the schleep. The plomp fell in the hole. Question: What fell into the hole? Answer: the plomp\\nThe baz hit the fuu. The fuu hit the schleep. The schleep fell in the hole. Question: What fell into the hole? Answer: ', 'The plomp hit the dinglebob. The schleep hit the plomp. The dinglebob fell in the hole. Question: What fell into the hole? Answer: the dinglebob\\nThe fuu hit the schleep. The baz hit the fuu. The schleep fell in the hole. Question: What fell into the hole? Answer: ', 'The schleep hit the plomp. The baz hit the schleep. The plomp fell in the hole. Question: What fell into the hole? Answer: the plomp\\nThe baz hit the fuu. The fuu hit the blubb. The blubb fell in the hole. Question: What fell into the hole? Answer: ']\n"
     ]
    }
   ],
   "source": [
    "print(toy_problem_3_nonsense_words.generate_all_prompts_one_shot(question='first')[:3])\n",
    "print(\"\\n\")\n",
    "print(toy_problem_3_nonsense_words.generate_all_prompts_one_shot(question='second')[:3])\n",
    "print(\"\\n\")\n",
    "print(toy_problem_3_nonsense_words.generate_all_prompts_one_shot(question='final')[:3])"
   ]
  },
  {
   "cell_type": "markdown",
   "metadata": {},
   "source": [
    "### K=5 shot"
   ]
  },
  {
   "cell_type": "code",
   "execution_count": 14,
   "metadata": {},
   "outputs": [
    {
     "name": "stdout",
     "output_type": "stream",
     "text": [
      "The blubb hit the plomp. The plomp hit the dinglebob. The dinglebob fell in the hole. Question: What started the chain? Answer: the blubb\n",
      "The schleep hit the bla. The baz hit the schleep. The bla fell in the hole. Question: What started the chain? Answer: the baz\n",
      "The baz hit the fuu. The fuu hit the dinglebob. The dinglebob fell in the hole. Question: What started the chain? Answer: the baz\n",
      "The blubb hit the plomp. The fuu hit the blubb. The plomp fell in the hole. Question: What started the chain? Answer: the fuu\n",
      "The blubb hit the bla. The fuu hit the blubb. The bla fell in the hole. Question: What started the chain? Answer: the fuu\n",
      "The baz hit the fuu. The fuu hit the schleep. The schleep fell in the hole. Question: What started the chain? Answer: \n",
      "\n",
      "the baz\n",
      "\n",
      "The plomp hit the dinglebob. The schleep hit the plomp. The dinglebob fell in the hole. Question: What was second in the chain? Answer: the plomp\n",
      "The schleep hit the bla. The bla hit the plomp. The plomp fell in the hole. Question: What was second in the chain? Answer: the bla\n",
      "The schleep hit the blubb. The blubb hit the bla. The bla fell in the hole. Question: What was second in the chain? Answer: the blubb\n",
      "The baz hit the schleep. The schleep hit the dinglebob. The dinglebob fell in the hole. Question: What was second in the chain? Answer: the schleep\n",
      "The schleep hit the bla. The bla hit the dinglebob. The dinglebob fell in the hole. Question: What was second in the chain? Answer: the bla\n",
      "The baz hit the fuu. The fuu hit the schleep. The schleep fell in the hole. Question: What was second in the chain? Answer: \n",
      "\n",
      "the fuu\n",
      "\n",
      "The fuu hit the schleep. The schleep hit the plomp. The plomp fell in the hole. Question: What fell into the hole? Answer: the plomp\n",
      "The blubb hit the plomp. The schleep hit the blubb. The plomp fell in the hole. Question: What fell into the hole? Answer: the plomp\n",
      "The baz hit the blubb. The blubb hit the dinglebob. The dinglebob fell in the hole. Question: What fell into the hole? Answer: the dinglebob\n",
      "The blubb hit the dinglebob. The schleep hit the blubb. The dinglebob fell in the hole. Question: What fell into the hole? Answer: the dinglebob\n",
      "The schleep hit the blubb. The blubb hit the bla. The bla fell in the hole. Question: What fell into the hole? Answer: the bla\n",
      "The baz hit the fuu. The fuu hit the schleep. The schleep fell in the hole. Question: What fell into the hole? Answer: \n",
      "\n",
      "the schleep\n",
      "\n",
      "The blubb hit the dinglebob. The fuu hit the blubb. The dinglebob fell in the hole. Question: What started the chain? Answer: the fuu\n",
      "The blubb hit the dinglebob. The schleep hit the blubb. The dinglebob fell in the hole. Question: What started the chain? Answer: the schleep\n",
      "The schleep hit the blubb. The fuu hit the schleep. The blubb fell in the hole. Question: What started the chain? Answer: the fuu\n",
      "The fuu hit the schleep. The schleep hit the blubb. The blubb fell in the hole. Question: What started the chain? Answer: the fuu\n",
      "The baz hit the schleep. The schleep hit the bla. The bla fell in the hole. Question: What started the chain? Answer: the baz\n",
      "The fuu hit the schleep. The baz hit the fuu. The schleep fell in the hole. Question: What started the chain? Answer: \n",
      "\n",
      "the baz\n",
      "\n",
      "The schleep hit the blubb. The blubb hit the plomp. The plomp fell in the hole. Question: What was second in the chain? Answer: the blubb\n",
      "The fuu hit the blubb. The blubb hit the dinglebob. The dinglebob fell in the hole. Question: What was second in the chain? Answer: the blubb\n",
      "The fuu hit the schleep. The schleep hit the blubb. The blubb fell in the hole. Question: What was second in the chain? Answer: the schleep\n",
      "The bla hit the plomp. The schleep hit the bla. The plomp fell in the hole. Question: What was second in the chain? Answer: the bla\n",
      "The baz hit the bla. The bla hit the dinglebob. The dinglebob fell in the hole. Question: What was second in the chain? Answer: the bla\n",
      "The fuu hit the schleep. The baz hit the fuu. The schleep fell in the hole. Question: What was second in the chain? Answer: \n",
      "\n",
      "the baz\n",
      "\n",
      "The baz hit the fuu. The fuu hit the bla. The bla fell in the hole. Question: What fell into the hole? Answer: the bla\n",
      "The bla hit the plomp. The fuu hit the bla. The plomp fell in the hole. Question: What fell into the hole? Answer: the plomp\n",
      "The baz hit the fuu. The fuu hit the schleep. The schleep fell in the hole. Question: What fell into the hole? Answer: the schleep\n",
      "The bla hit the plomp. The blubb hit the bla. The plomp fell in the hole. Question: What fell into the hole? Answer: the plomp\n",
      "The fuu hit the dinglebob. The baz hit the fuu. The dinglebob fell in the hole. Question: What fell into the hole? Answer: the dinglebob\n",
      "The fuu hit the schleep. The baz hit the fuu. The schleep fell in the hole. Question: What fell into the hole? Answer: \n",
      "\n",
      "the schleep\n",
      "\n"
     ]
    }
   ],
   "source": [
    "prompt_ks_first = toy_problem_3_nonsense_words.generate_single_prompt_k_shot(n_subset=0, k=5, switched=False, question=\"first\")\n",
    "prompt_ks_second = toy_problem_3_nonsense_words.generate_single_prompt_k_shot(n_subset=0, k=5, switched=False, question=\"second\")\n",
    "prompt_ks_final = toy_problem_3_nonsense_words.generate_single_prompt_k_shot(n_subset=0, k=5, switched=False, question=\"final\")\n",
    "\n",
    "prompt_ks_first_switched = toy_problem_3_nonsense_words.generate_single_prompt_k_shot(n_subset=0, k=5, switched=True, question=\"first\")\n",
    "prompt_ks_second_switched = toy_problem_3_nonsense_words.generate_single_prompt_k_shot(n_subset=0, k=5, switched=True, question=\"second\")\n",
    "prompt_ks_final_switched = toy_problem_3_nonsense_words.generate_single_prompt_k_shot(n_subset=0, k=5, switched=True, question=\"final\")\n",
    "\n",
    "print(prompt_ks_first + gpt3_response(prompt_ks_first, gpt3_model) + \"\\n\")\n",
    "print(prompt_ks_second + gpt3_response(prompt_ks_second, gpt3_model) + \"\\n\")\n",
    "print(prompt_ks_final + gpt3_response(prompt_ks_final, gpt3_model) + \"\\n\")\n",
    "print(prompt_ks_first_switched + gpt3_response(prompt_ks_first_switched, gpt3_model) + \"\\n\")\n",
    "print(prompt_ks_second_switched + gpt3_response(prompt_ks_second_switched, gpt3_model) + \"\\n\")\n",
    "print(prompt_ks_final_switched + gpt3_response(prompt_ks_final_switched, gpt3_model) + \"\\n\")"
   ]
  },
  {
   "cell_type": "code",
   "execution_count": 15,
   "metadata": {},
   "outputs": [
    {
     "name": "stdout",
     "output_type": "stream",
     "text": [
      "['The plomp hit the dinglebob. The fuu hit the plomp. The dinglebob fell in the hole. Question: What started the chain? Answer: the fuu\\nThe blubb hit the plomp. The baz hit the blubb. The plomp fell in the hole. Question: What started the chain? Answer: the baz\\nThe baz hit the fuu. The fuu hit the schleep. The schleep fell in the hole. Question: What started the chain? Answer: the baz\\nThe baz hit the plomp. The plomp hit the dinglebob. The dinglebob fell in the hole. Question: What started the chain? Answer: the baz\\nThe schleep hit the blubb. The blubb hit the bla. The bla fell in the hole. Question: What started the chain? Answer: the schleep\\nThe baz hit the fuu. The fuu hit the schleep. The schleep fell in the hole. Question: What started the chain? Answer: ', 'The baz hit the fuu. The fuu hit the blubb. The blubb fell in the hole. Question: What started the chain? Answer: the baz\\nThe blubb hit the dinglebob. The baz hit the blubb. The dinglebob fell in the hole. Question: What started the chain? Answer: the baz\\nThe schleep hit the blubb. The fuu hit the schleep. The blubb fell in the hole. Question: What started the chain? Answer: the fuu\\nThe bla hit the plomp. The blubb hit the bla. The plomp fell in the hole. Question: What started the chain? Answer: the blubb\\nThe schleep hit the bla. The fuu hit the schleep. The bla fell in the hole. Question: What started the chain? Answer: the fuu\\nThe fuu hit the schleep. The baz hit the fuu. The schleep fell in the hole. Question: What started the chain? Answer: ', 'The baz hit the fuu. The fuu hit the schleep. The schleep fell in the hole. Question: What started the chain? Answer: the baz\\nThe fuu hit the schleep. The schleep hit the blubb. The blubb fell in the hole. Question: What started the chain? Answer: the fuu\\nThe schleep hit the blubb. The blubb hit the dinglebob. The dinglebob fell in the hole. Question: What started the chain? Answer: the schleep\\nThe schleep hit the bla. The fuu hit the schleep. The bla fell in the hole. Question: What started the chain? Answer: the fuu\\nThe fuu hit the bla. The bla hit the plomp. The plomp fell in the hole. Question: What started the chain? Answer: the fuu\\nThe baz hit the fuu. The fuu hit the blubb. The blubb fell in the hole. Question: What started the chain? Answer: ']\n",
      "\n",
      "\n",
      "['The schleep hit the plomp. The baz hit the schleep. The plomp fell in the hole. Question: What was second in the chain? Answer: the schleep\\nThe fuu hit the blubb. The blubb hit the plomp. The plomp fell in the hole. Question: What was second in the chain? Answer: the blubb\\nThe schleep hit the bla. The bla hit the dinglebob. The dinglebob fell in the hole. Question: What was second in the chain? Answer: the bla\\nThe baz hit the fuu. The fuu hit the plomp. The plomp fell in the hole. Question: What was second in the chain? Answer: the fuu\\nThe fuu hit the blubb. The blubb hit the bla. The bla fell in the hole. Question: What was second in the chain? Answer: the blubb\\nThe baz hit the fuu. The fuu hit the schleep. The schleep fell in the hole. Question: What was second in the chain? Answer: ', 'The fuu hit the blubb. The blubb hit the bla. The bla fell in the hole. Question: What was second in the chain? Answer: the blubb\\nThe baz hit the fuu. The fuu hit the dinglebob. The dinglebob fell in the hole. Question: What was second in the chain? Answer: the fuu\\nThe blubb hit the bla. The baz hit the blubb. The bla fell in the hole. Question: What was second in the chain? Answer: the blubb\\nThe bla hit the plomp. The blubb hit the bla. The plomp fell in the hole. Question: What was second in the chain? Answer: the bla\\nThe baz hit the fuu. The fuu hit the plomp. The plomp fell in the hole. Question: What was second in the chain? Answer: the fuu\\nThe fuu hit the schleep. The baz hit the fuu. The schleep fell in the hole. Question: What was second in the chain? Answer: ', 'The fuu hit the schleep. The schleep hit the plomp. The plomp fell in the hole. Question: What was second in the chain? Answer: the schleep\\nThe blubb hit the dinglebob. The schleep hit the blubb. The dinglebob fell in the hole. Question: What was second in the chain? Answer: the blubb\\nThe baz hit the bla. The bla hit the dinglebob. The dinglebob fell in the hole. Question: What was second in the chain? Answer: the bla\\nThe plomp hit the dinglebob. The bla hit the plomp. The dinglebob fell in the hole. Question: What was second in the chain? Answer: the plomp\\nThe fuu hit the plomp. The plomp hit the dinglebob. The dinglebob fell in the hole. Question: What was second in the chain? Answer: the plomp\\nThe baz hit the fuu. The fuu hit the blubb. The blubb fell in the hole. Question: What was second in the chain? Answer: ']\n",
      "\n",
      "\n",
      "['The schleep hit the blubb. The baz hit the schleep. The blubb fell in the hole. Question: What fell into the hole? Answer: the blubb\\nThe fuu hit the blubb. The blubb hit the bla. The bla fell in the hole. Question: What fell into the hole? Answer: the bla\\nThe blubb hit the dinglebob. The baz hit the blubb. The dinglebob fell in the hole. Question: What fell into the hole? Answer: the dinglebob\\nThe blubb hit the plomp. The fuu hit the blubb. The plomp fell in the hole. Question: What fell into the hole? Answer: the plomp\\nThe baz hit the bla. The bla hit the plomp. The plomp fell in the hole. Question: What fell into the hole? Answer: the plomp\\nThe baz hit the fuu. The fuu hit the schleep. The schleep fell in the hole. Question: What fell into the hole? Answer: ', 'The fuu hit the schleep. The schleep hit the blubb. The blubb fell in the hole. Question: What fell into the hole? Answer: the blubb\\nThe baz hit the plomp. The plomp hit the dinglebob. The dinglebob fell in the hole. Question: What fell into the hole? Answer: the dinglebob\\nThe fuu hit the bla. The bla hit the dinglebob. The dinglebob fell in the hole. Question: What fell into the hole? Answer: the dinglebob\\nThe schleep hit the blubb. The baz hit the schleep. The blubb fell in the hole. Question: What fell into the hole? Answer: the blubb\\nThe fuu hit the blubb. The blubb hit the bla. The bla fell in the hole. Question: What fell into the hole? Answer: the bla\\nThe fuu hit the schleep. The baz hit the fuu. The schleep fell in the hole. Question: What fell into the hole? Answer: ', 'The blubb hit the dinglebob. The schleep hit the blubb. The dinglebob fell in the hole. Question: What fell into the hole? Answer: the dinglebob\\nThe bla hit the plomp. The fuu hit the bla. The plomp fell in the hole. Question: What fell into the hole? Answer: the plomp\\nThe fuu hit the schleep. The schleep hit the blubb. The blubb fell in the hole. Question: What fell into the hole? Answer: the blubb\\nThe baz hit the fuu. The fuu hit the plomp. The plomp fell in the hole. Question: What fell into the hole? Answer: the plomp\\nThe blubb hit the bla. The baz hit the blubb. The bla fell in the hole. Question: What fell into the hole? Answer: the bla\\nThe baz hit the fuu. The fuu hit the blubb. The blubb fell in the hole. Question: What fell into the hole? Answer: ']\n"
     ]
    }
   ],
   "source": [
    "print(toy_problem_3_nonsense_words.generate_all_prompts_k_shot(k=5, question='first')[:3])\n",
    "print(\"\\n\")\n",
    "print(toy_problem_3_nonsense_words.generate_all_prompts_k_shot(k=5, question='second')[:3])\n",
    "print(\"\\n\")\n",
    "print(toy_problem_3_nonsense_words.generate_all_prompts_k_shot(k=5, question='final')[:3])"
   ]
  },
  {
   "cell_type": "code",
   "execution_count": null,
   "metadata": {},
   "outputs": [],
   "source": []
  }
 ],
 "metadata": {
  "kernelspec": {
   "display_name": "Python 3",
   "language": "python",
   "name": "python3"
  },
  "language_info": {
   "codemirror_mode": {
    "name": "ipython",
    "version": 3
   },
   "file_extension": ".py",
   "mimetype": "text/x-python",
   "name": "python",
   "nbconvert_exporter": "python",
   "pygments_lexer": "ipython3",
   "version": "3.8.5"
  }
 },
 "nbformat": 4,
 "nbformat_minor": 4
}
