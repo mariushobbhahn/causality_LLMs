{
 "cells": [
  {
   "cell_type": "markdown",
   "metadata": {},
   "source": [
    "# Run the prompts and report results for one shot setting"
   ]
  },
  {
   "cell_type": "markdown",
   "metadata": {},
   "source": [
    "## cause and effect sentences"
   ]
  },
  {
   "cell_type": "code",
   "execution_count": 39,
   "metadata": {},
   "outputs": [],
   "source": [
    "import os\n",
    "import openai\n",
    "import pandas as pd\n",
    "from tqdm import tqdm\n",
    "\n",
    "# Load your API key from an environment variable or secret management service\n",
    "openai.api_key = os.getenv(\"OPENAI_KEY\")"
   ]
  },
  {
   "cell_type": "code",
   "execution_count": 40,
   "metadata": {},
   "outputs": [
    {
     "name": "stdout",
     "output_type": "stream",
     "text": [
      "Question: Which sentence is the cause of the other?\n",
      "The child hurt their knee. The child started crying. Answer: The child hurt their knee.\n",
      "My car got dirty. I washed the car. Answer:\n"
     ]
    }
   ],
   "source": [
    "test_prompt = \"Question: Which sentence is the cause of the other?\\nThe child hurt their knee. The child started crying. Answer: The child hurt their knee.\\nMy car got dirty. I washed the car. Answer:\"\n",
    "print(test_prompt)"
   ]
  },
  {
   "cell_type": "code",
   "execution_count": 41,
   "metadata": {},
   "outputs": [
    {
     "name": "stdout",
     "output_type": "stream",
     "text": [
      " My car got dirty.\n"
     ]
    }
   ],
   "source": [
    "# test run\n",
    "response = openai.Completion.create(engine=\"text-davinci-001\", prompt=test_prompt, max_tokens=15, temperature=0)\n",
    "print(response[\"choices\"][0][\"text\"])"
   ]
  },
  {
   "cell_type": "code",
   "execution_count": 38,
   "metadata": {},
   "outputs": [
    {
     "data": {
      "text/html": [
       "<div>\n",
       "<style scoped>\n",
       "    .dataframe tbody tr th:only-of-type {\n",
       "        vertical-align: middle;\n",
       "    }\n",
       "\n",
       "    .dataframe tbody tr th {\n",
       "        vertical-align: top;\n",
       "    }\n",
       "\n",
       "    .dataframe thead th {\n",
       "        text-align: right;\n",
       "    }\n",
       "</style>\n",
       "<table border=\"1\" class=\"dataframe\">\n",
       "  <thead>\n",
       "    <tr style=\"text-align: right;\">\n",
       "      <th></th>\n",
       "      <th>prompts</th>\n",
       "      <th>correct_answers</th>\n",
       "    </tr>\n",
       "  </thead>\n",
       "  <tbody>\n",
       "    <tr>\n",
       "      <th>0</th>\n",
       "      <td>The child hurt their knee. The child started c...</td>\n",
       "      <td>The child hurt their knee.</td>\n",
       "    </tr>\n",
       "    <tr>\n",
       "      <th>1</th>\n",
       "      <td>The child started crying. The child hurt their...</td>\n",
       "      <td>The child hurt their knee.</td>\n",
       "    </tr>\n",
       "    <tr>\n",
       "      <th>2</th>\n",
       "      <td>My car got dirty. I washed the car.</td>\n",
       "      <td>My car got dirty.</td>\n",
       "    </tr>\n",
       "    <tr>\n",
       "      <th>3</th>\n",
       "      <td>I washed the car. My car got dirty.</td>\n",
       "      <td>My car got dirty.</td>\n",
       "    </tr>\n",
       "    <tr>\n",
       "      <th>4</th>\n",
       "      <td>Someone fainted. Someone called 911.</td>\n",
       "      <td>Someone fainted.</td>\n",
       "    </tr>\n",
       "  </tbody>\n",
       "</table>\n",
       "</div>"
      ],
      "text/plain": [
       "                                             prompts  \\\n",
       "0  The child hurt their knee. The child started c...   \n",
       "1  The child started crying. The child hurt their...   \n",
       "2                My car got dirty. I washed the car.   \n",
       "3                I washed the car. My car got dirty.   \n",
       "4               Someone fainted. Someone called 911.   \n",
       "\n",
       "              correct_answers  \n",
       "0  The child hurt their knee.  \n",
       "1  The child hurt their knee.  \n",
       "2           My car got dirty.  \n",
       "3           My car got dirty.  \n",
       "4            Someone fainted.  "
      ]
     },
     "execution_count": 38,
     "metadata": {},
     "output_type": "execute_result"
    }
   ],
   "source": [
    "# load dataframe\n",
    "\n",
    "df_ce_two_sentences = pd.read_csv(\"data/bigbench_csvs/ce_two_sentences.csv\")\n",
    "df_ce_two_sentences.head()"
   ]
  },
  {
   "cell_type": "code",
   "execution_count": 18,
   "metadata": {},
   "outputs": [],
   "source": [
    "cause_question = \"Question: Which sentence is the cause of the other?\"\n",
    "effect_question = \"Question: Which sentence is the effect of the other?\"\n",
    "\n",
    "example_1 = \"\\nThe child hurt their knee. The child started crying. Answer: The child hurt their knee.\"\n",
    "example_1_switched = \"\\nThe child started crying. The child hurt their knee. Answer: The child hurt their knee.\""
   ]
  },
  {
   "cell_type": "code",
   "execution_count": 25,
   "metadata": {},
   "outputs": [
    {
     "name": "stderr",
     "output_type": "stream",
     "text": [
      "\r",
      "0it [00:00, ?it/s]"
     ]
    },
    {
     "name": "stdout",
     "output_type": "stream",
     "text": [
      "Question: Which sentence is the cause of the other?\n",
      "The child hurt their knee. The child started crying. Answer: The child hurt their knee.\n",
      "The child hurt their knee. The child started crying. Answer:\n",
      " The child started crying.\n",
      "Question: Which sentence is the cause of the other?\n",
      "The child started crying. The child hurt their knee. Answer: The child hurt their knee.\n",
      "The child hurt their knee. The child started crying. Answer:\n",
      " The child started crying.\n"
     ]
    },
    {
     "name": "stderr",
     "output_type": "stream",
     "text": [
      "\r",
      "1it [00:03,  3.99s/it]"
     ]
    },
    {
     "name": "stdout",
     "output_type": "stream",
     "text": [
      "Question: Which sentence is the cause of the other?\n",
      "The child hurt their knee. The child started crying. Answer: The child hurt their knee.\n",
      "The child started crying. The child hurt their knee. Answer:\n",
      " The child started crying.\n",
      "Question: Which sentence is the cause of the other?\n",
      "The child started crying. The child hurt their knee. Answer: The child hurt their knee.\n",
      "The child started crying. The child hurt their knee. Answer:\n",
      " The child hurt their knee.\n"
     ]
    },
    {
     "name": "stderr",
     "output_type": "stream",
     "text": [
      "\r",
      "2it [00:06,  3.49s/it]"
     ]
    },
    {
     "name": "stdout",
     "output_type": "stream",
     "text": [
      "Question: Which sentence is the cause of the other?\n",
      "The child hurt their knee. The child started crying. Answer: The child hurt their knee.\n",
      "My car got dirty. I washed the car. Answer:\n",
      " My car got dirty.\n",
      "Question: Which sentence is the cause of the other?\n",
      "The child started crying. The child hurt their knee. Answer: The child hurt their knee.\n",
      "My car got dirty. I washed the car. Answer:\n",
      " I washed the car.\n"
     ]
    },
    {
     "name": "stderr",
     "output_type": "stream",
     "text": [
      "\r",
      "3it [00:08,  3.03s/it]"
     ]
    },
    {
     "name": "stdout",
     "output_type": "stream",
     "text": [
      "Question: Which sentence is the cause of the other?\n",
      "The child hurt their knee. The child started crying. Answer: The child hurt their knee.\n",
      "I washed the car. My car got dirty. Answer:\n",
      " My car got dirty.\n",
      "Question: Which sentence is the cause of the other?\n",
      "The child started crying. The child hurt their knee. Answer: The child hurt their knee.\n",
      "I washed the car. My car got dirty. Answer:\n",
      " My car got dirty.\n"
     ]
    },
    {
     "name": "stderr",
     "output_type": "stream",
     "text": [
      "\r",
      "4it [00:09,  2.56s/it]"
     ]
    },
    {
     "name": "stdout",
     "output_type": "stream",
     "text": [
      "Question: Which sentence is the cause of the other?\n",
      "The child hurt their knee. The child started crying. Answer: The child hurt their knee.\n",
      "Someone fainted. Someone called 911. Answer:\n",
      " Someone called 911.\n",
      "Question: Which sentence is the cause of the other?\n",
      "The child started crying. The child hurt their knee. Answer: The child hurt their knee.\n",
      "Someone fainted. Someone called 911. Answer:\n",
      " Someone called 911.\n"
     ]
    },
    {
     "name": "stderr",
     "output_type": "stream",
     "text": [
      "\r",
      "5it [00:11,  2.33s/it]"
     ]
    },
    {
     "name": "stdout",
     "output_type": "stream",
     "text": [
      "Question: Which sentence is the cause of the other?\n",
      "The child hurt their knee. The child started crying. Answer: The child hurt their knee.\n",
      "Someone called 911. Someone fainted. Answer:\n",
      " Someone called 911.\n",
      "Question: Which sentence is the cause of the other?\n",
      "The child started crying. The child hurt their knee. Answer: The child hurt their knee.\n",
      "Someone called 911. Someone fainted. Answer:\n",
      " Someone fainted.\n"
     ]
    },
    {
     "name": "stderr",
     "output_type": "stream",
     "text": [
      "\r",
      "6it [00:13,  2.22s/it]"
     ]
    },
    {
     "name": "stdout",
     "output_type": "stream",
     "text": [
      "Question: Which sentence is the cause of the other?\n",
      "The child hurt their knee. The child started crying. Answer: The child hurt their knee.\n",
      "A man accidently pushed the vase off a counter. The vase shattered on the floor. Answer:\n",
      " The man accidently pushed the vase off a counter.\n",
      "Question: Which sentence is the cause of the other?\n",
      "The child started crying. The child hurt their knee. Answer: The child hurt their knee.\n",
      "A man accidently pushed the vase off a counter. The vase shattered on the floor. Answer:\n",
      " The vase shattered on the floor.\n"
     ]
    },
    {
     "name": "stderr",
     "output_type": "stream",
     "text": [
      "\r",
      "7it [00:15,  2.19s/it]"
     ]
    },
    {
     "name": "stdout",
     "output_type": "stream",
     "text": [
      "Question: Which sentence is the cause of the other?\n",
      "The child hurt their knee. The child started crying. Answer: The child hurt their knee.\n",
      "The vase shattered on the floor. A man accidently pushed the vase off a counter. Answer:\n",
      " The vase shattered on the floor.\n",
      "Question: Which sentence is the cause of the other?\n",
      "The child started crying. The child hurt their knee. Answer: The child hurt their knee.\n",
      "The vase shattered on the floor. A man accidently pushed the vase off a counter. Answer:\n",
      " A man accidently pushed the vase off a counter.\n"
     ]
    },
    {
     "name": "stderr",
     "output_type": "stream",
     "text": [
      "\r",
      "8it [00:17,  2.25s/it]"
     ]
    },
    {
     "name": "stdout",
     "output_type": "stream",
     "text": [
      "Question: Which sentence is the cause of the other?\n",
      "The child hurt their knee. The child started crying. Answer: The child hurt their knee.\n",
      "It started raining. The woman who was walking on the street opened her umbrella. Answer:\n",
      " It started raining.\n",
      "Question: Which sentence is the cause of the other?\n",
      "The child started crying. The child hurt their knee. Answer: The child hurt their knee.\n",
      "It started raining. The woman who was walking on the street opened her umbrella. Answer:\n",
      " The woman who was walking on the street opened her umbrella.\n"
     ]
    },
    {
     "name": "stderr",
     "output_type": "stream",
     "text": [
      "\r",
      "9it [00:20,  2.19s/it]"
     ]
    },
    {
     "name": "stdout",
     "output_type": "stream",
     "text": [
      "Question: Which sentence is the cause of the other?\n",
      "The child hurt their knee. The child started crying. Answer: The child hurt their knee.\n",
      "The woman who was walking on the street opened her umbrella. It started raining. Answer:\n",
      " The woman who was walking on the street opened her umbrella.\n",
      "Question: Which sentence is the cause of the other?\n",
      "The child started crying. The child hurt their knee. Answer: The child hurt their knee.\n",
      "The woman who was walking on the street opened her umbrella. It started raining. Answer:\n",
      " It started raining.\n"
     ]
    },
    {
     "name": "stderr",
     "output_type": "stream",
     "text": [
      "\r",
      "10it [00:22,  2.17s/it]"
     ]
    },
    {
     "name": "stdout",
     "output_type": "stream",
     "text": [
      "Question: Which sentence is the cause of the other?\n",
      "The child hurt their knee. The child started crying. Answer: The child hurt their knee.\n",
      "There was a loud noise. The boy lifted his eyes from the book. Answer:\n",
      " The boy lifted his eyes from the book.\n",
      "Question: Which sentence is the cause of the other?\n",
      "The child started crying. The child hurt their knee. Answer: The child hurt their knee.\n",
      "There was a loud noise. The boy lifted his eyes from the book. Answer:\n",
      " The boy lifted his eyes from the book.\n"
     ]
    },
    {
     "name": "stderr",
     "output_type": "stream",
     "text": [
      "\r",
      "11it [00:24,  2.23s/it]"
     ]
    },
    {
     "name": "stdout",
     "output_type": "stream",
     "text": [
      "Question: Which sentence is the cause of the other?\n",
      "The child hurt their knee. The child started crying. Answer: The child hurt their knee.\n",
      "The boy lifted his eyes from the book. There was a loud noise. Answer:\n",
      " The boy lifted his eyes from the book.\n",
      "Question: Which sentence is the cause of the other?\n",
      "The child started crying. The child hurt their knee. Answer: The child hurt their knee.\n",
      "The boy lifted his eyes from the book. There was a loud noise. Answer:\n",
      " There was a loud noise.\n"
     ]
    },
    {
     "name": "stderr",
     "output_type": "stream",
     "text": [
      "\r",
      "12it [00:27,  2.32s/it]"
     ]
    },
    {
     "name": "stdout",
     "output_type": "stream",
     "text": [
      "Question: Which sentence is the cause of the other?\n",
      "The child hurt their knee. The child started crying. Answer: The child hurt their knee.\n",
      "The girl had a nightmare. The girl woke up covered in cold sweat. Answer:\n",
      " The girl had a nightmare.\n",
      "Question: Which sentence is the cause of the other?\n",
      "The child started crying. The child hurt their knee. Answer: The child hurt their knee.\n",
      "The girl had a nightmare. The girl woke up covered in cold sweat. Answer:\n",
      " The girl woke up covered in cold sweat.\n"
     ]
    },
    {
     "name": "stderr",
     "output_type": "stream",
     "text": [
      "\r",
      "13it [00:29,  2.38s/it]"
     ]
    },
    {
     "name": "stdout",
     "output_type": "stream",
     "text": [
      "Question: Which sentence is the cause of the other?\n",
      "The child hurt their knee. The child started crying. Answer: The child hurt their knee.\n",
      "The girl woke up covered in cold sweat. The girl had a nightmare. Answer:\n",
      " The girl woke up covered in cold sweat.\n",
      "Question: Which sentence is the cause of the other?\n",
      "The child started crying. The child hurt their knee. Answer: The child hurt their knee.\n",
      "The girl woke up covered in cold sweat. The girl had a nightmare. Answer:\n",
      " The girl had a nightmare.\n"
     ]
    },
    {
     "name": "stderr",
     "output_type": "stream",
     "text": [
      "\r",
      "14it [00:31,  2.30s/it]"
     ]
    },
    {
     "name": "stdout",
     "output_type": "stream",
     "text": [
      "Question: Which sentence is the cause of the other?\n",
      "The child hurt their knee. The child started crying. Answer: The child hurt their knee.\n",
      "It started raining. The driver turned the wipers on. Answer:\n",
      " It started raining.\n",
      "Question: Which sentence is the cause of the other?\n",
      "The child started crying. The child hurt their knee. Answer: The child hurt their knee.\n",
      "It started raining. The driver turned the wipers on. Answer:\n",
      " The driver turned the wipers on.\n"
     ]
    },
    {
     "name": "stderr",
     "output_type": "stream",
     "text": [
      "\r",
      "15it [00:33,  2.16s/it]"
     ]
    },
    {
     "name": "stdout",
     "output_type": "stream",
     "text": [
      "Question: Which sentence is the cause of the other?\n",
      "The child hurt their knee. The child started crying. Answer: The child hurt their knee.\n",
      "The driver turned the wipers on. It started raining. Answer:\n",
      " The driver turned the wipers on.\n",
      "Question: Which sentence is the cause of the other?\n",
      "The child started crying. The child hurt their knee. Answer: The child hurt their knee.\n",
      "The driver turned the wipers on. It started raining. Answer:\n",
      " It started raining.\n"
     ]
    },
    {
     "name": "stderr",
     "output_type": "stream",
     "text": [
      "\r",
      "16it [00:35,  1.99s/it]"
     ]
    },
    {
     "name": "stdout",
     "output_type": "stream",
     "text": [
      "Question: Which sentence is the cause of the other?\n",
      "The child hurt their knee. The child started crying. Answer: The child hurt their knee.\n",
      "A watermelon exploded. A man was covered in sticky red goo. Answer:\n",
      " A watermelon exploded.\n",
      "Question: Which sentence is the cause of the other?\n",
      "The child started crying. The child hurt their knee. Answer: The child hurt their knee.\n",
      "A watermelon exploded. A man was covered in sticky red goo. Answer:\n",
      " A watermelon exploded.\n"
     ]
    },
    {
     "name": "stderr",
     "output_type": "stream",
     "text": [
      "\r",
      "17it [00:36,  1.86s/it]"
     ]
    },
    {
     "name": "stdout",
     "output_type": "stream",
     "text": [
      "Question: Which sentence is the cause of the other?\n",
      "The child hurt their knee. The child started crying. Answer: The child hurt their knee.\n",
      "A man was covered in sticky red goo. A watermelon exploded. Answer:\n",
      " A watermelon exploded.\n",
      "Question: Which sentence is the cause of the other?\n",
      "The child started crying. The child hurt their knee. Answer: The child hurt their knee.\n",
      "A man was covered in sticky red goo. A watermelon exploded. Answer:\n",
      " A watermelon exploded.\n"
     ]
    },
    {
     "name": "stderr",
     "output_type": "stream",
     "text": [
      "\r",
      "18it [00:38,  1.76s/it]"
     ]
    },
    {
     "name": "stdout",
     "output_type": "stream",
     "text": [
      "Question: Which sentence is the cause of the other?\n",
      "The child hurt their knee. The child started crying. Answer: The child hurt their knee.\n",
      "She noticed that she was out of toilet paper. She went to the store and bought toilet paper. Answer:\n",
      " She noticed that she was out of toilet paper.\n",
      "Question: Which sentence is the cause of the other?\n",
      "The child started crying. The child hurt their knee. Answer: The child hurt their knee.\n",
      "She noticed that she was out of toilet paper. She went to the store and bought toilet paper. Answer:\n",
      " She went to the store and bought toilet paper.\n"
     ]
    },
    {
     "name": "stderr",
     "output_type": "stream",
     "text": [
      "\r",
      "19it [00:40,  1.79s/it]"
     ]
    },
    {
     "name": "stdout",
     "output_type": "stream",
     "text": [
      "Question: Which sentence is the cause of the other?\n",
      "The child hurt their knee. The child started crying. Answer: The child hurt their knee.\n",
      "She went to the store and bought toilet paper. She noticed that she was out of toilet paper. Answer:\n",
      " She went to the store and bought toilet paper.\n",
      "Question: Which sentence is the cause of the other?\n",
      "The child started crying. The child hurt their knee. Answer: The child hurt their knee.\n",
      "She went to the store and bought toilet paper. She noticed that she was out of toilet paper. Answer:\n",
      " She noticed that she was out of toilet paper.\n"
     ]
    },
    {
     "name": "stderr",
     "output_type": "stream",
     "text": [
      "\r",
      "20it [00:42,  1.89s/it]"
     ]
    },
    {
     "name": "stdout",
     "output_type": "stream",
     "text": [
      "Question: Which sentence is the cause of the other?\n",
      "The child hurt their knee. The child started crying. Answer: The child hurt their knee.\n",
      "A large object hit the Earth. The dinosaurs became extinct. Answer:\n",
      " The large object hit the Earth.\n",
      "Question: Which sentence is the cause of the other?\n",
      "The child started crying. The child hurt their knee. Answer: The child hurt their knee.\n",
      "A large object hit the Earth. The dinosaurs became extinct. Answer:\n",
      " The dinosaurs became extinct.\n"
     ]
    },
    {
     "name": "stderr",
     "output_type": "stream",
     "text": [
      "\r",
      "21it [00:43,  1.80s/it]"
     ]
    },
    {
     "name": "stdout",
     "output_type": "stream",
     "text": [
      "Question: Which sentence is the cause of the other?\n",
      "The child hurt their knee. The child started crying. Answer: The child hurt their knee.\n",
      "The dinosaurs became extinct. A large object hit the Earth. Answer:\n",
      " The large object hit the Earth.\n",
      "Question: Which sentence is the cause of the other?\n",
      "The child started crying. The child hurt their knee. Answer: The child hurt their knee.\n",
      "The dinosaurs became extinct. A large object hit the Earth. Answer:\n",
      " A large object hit the Earth.\n"
     ]
    },
    {
     "name": "stderr",
     "output_type": "stream",
     "text": [
      "\r",
      "22it [00:45,  1.66s/it]"
     ]
    },
    {
     "name": "stdout",
     "output_type": "stream",
     "text": [
      "Question: Which sentence is the cause of the other?\n",
      "The child hurt their knee. The child started crying. Answer: The child hurt their knee.\n",
      "The bottle was left open. The soda went flat. Answer:\n",
      " The bottle was left open.\n",
      "Question: Which sentence is the cause of the other?\n",
      "The child started crying. The child hurt their knee. Answer: The child hurt their knee.\n",
      "The bottle was left open. The soda went flat. Answer:\n",
      " The soda went flat.\n"
     ]
    },
    {
     "name": "stderr",
     "output_type": "stream",
     "text": [
      "\r",
      "23it [00:46,  1.59s/it]"
     ]
    },
    {
     "name": "stdout",
     "output_type": "stream",
     "text": [
      "Question: Which sentence is the cause of the other?\n",
      "The child hurt their knee. The child started crying. Answer: The child hurt their knee.\n",
      "The soda went flat. The bottle was left open. Answer:\n",
      " The soda went flat.\n",
      "Question: Which sentence is the cause of the other?\n",
      "The child started crying. The child hurt their knee. Answer: The child hurt their knee.\n",
      "The soda went flat. The bottle was left open. Answer:\n",
      " The bottle was left open.\n"
     ]
    },
    {
     "name": "stderr",
     "output_type": "stream",
     "text": [
      "\r",
      "24it [00:47,  1.53s/it]"
     ]
    },
    {
     "name": "stdout",
     "output_type": "stream",
     "text": [
      "Question: Which sentence is the cause of the other?\n",
      "The child hurt their knee. The child started crying. Answer: The child hurt their knee.\n",
      "The laptop ran out of battery. George plugged the laptop charger in. Answer:\n",
      " George plugged the laptop charger in.\n",
      "Question: Which sentence is the cause of the other?\n",
      "The child started crying. The child hurt their knee. Answer: The child hurt their knee.\n",
      "The laptop ran out of battery. George plugged the laptop charger in. Answer:\n",
      " George plugged the laptop charger in.\n"
     ]
    },
    {
     "name": "stderr",
     "output_type": "stream",
     "text": [
      "\r",
      "25it [00:49,  1.49s/it]"
     ]
    },
    {
     "name": "stdout",
     "output_type": "stream",
     "text": [
      "Question: Which sentence is the cause of the other?\n",
      "The child hurt their knee. The child started crying. Answer: The child hurt their knee.\n",
      "George plugged the laptop charger in. The laptop ran out of battery. Answer:\n",
      " George plugged the laptop charger in.\n",
      "Question: Which sentence is the cause of the other?\n",
      "The child started crying. The child hurt their knee. Answer: The child hurt their knee.\n",
      "George plugged the laptop charger in. The laptop ran out of battery. Answer:\n",
      " The laptop ran out of battery.\n"
     ]
    },
    {
     "name": "stderr",
     "output_type": "stream",
     "text": [
      "\r",
      "26it [00:51,  1.57s/it]"
     ]
    },
    {
     "name": "stdout",
     "output_type": "stream",
     "text": [
      "Question: Which sentence is the cause of the other?\n",
      "The child hurt their knee. The child started crying. Answer: The child hurt their knee.\n",
      "The curtains were opened. Sunlight filled the room. Answer:\n",
      " The curtains were opened.\n",
      "Question: Which sentence is the cause of the other?\n",
      "The child started crying. The child hurt their knee. Answer: The child hurt their knee.\n",
      "The curtains were opened. Sunlight filled the room. Answer:\n",
      " Sunlight filled the room.\n"
     ]
    },
    {
     "name": "stderr",
     "output_type": "stream",
     "text": [
      "\r",
      "27it [00:52,  1.60s/it]"
     ]
    },
    {
     "name": "stdout",
     "output_type": "stream",
     "text": [
      "Question: Which sentence is the cause of the other?\n",
      "The child hurt their knee. The child started crying. Answer: The child hurt their knee.\n",
      "Sunlight filled the room. The curtains were opened. Answer:\n",
      " Sunlight filled the room.\n",
      "Question: Which sentence is the cause of the other?\n",
      "The child started crying. The child hurt their knee. Answer: The child hurt their knee.\n",
      "Sunlight filled the room. The curtains were opened. Answer:\n",
      " The curtains were opened.\n"
     ]
    },
    {
     "name": "stderr",
     "output_type": "stream",
     "text": [
      "\r",
      "28it [00:54,  1.68s/it]"
     ]
    },
    {
     "name": "stdout",
     "output_type": "stream",
     "text": [
      "Question: Which sentence is the cause of the other?\n",
      "The child hurt their knee. The child started crying. Answer: The child hurt their knee.\n",
      "The insect pollinated the tomato flowers. Tomatoes grew on the vine. Answer:\n",
      " The insect pollinated the tomato flowers.\n",
      "Question: Which sentence is the cause of the other?\n",
      "The child started crying. The child hurt their knee. Answer: The child hurt their knee.\n",
      "The insect pollinated the tomato flowers. Tomatoes grew on the vine. Answer:\n",
      " The insect pollinated the tomato flowers.\n"
     ]
    },
    {
     "name": "stderr",
     "output_type": "stream",
     "text": [
      "\r",
      "29it [00:56,  1.79s/it]"
     ]
    },
    {
     "name": "stdout",
     "output_type": "stream",
     "text": [
      "Question: Which sentence is the cause of the other?\n",
      "The child hurt their knee. The child started crying. Answer: The child hurt their knee.\n",
      "Tomatoes grew on the vine. The insect pollinated the tomato flowers. Answer:\n",
      " The insect pollinated the tomato flowers.\n",
      "Question: Which sentence is the cause of the other?\n",
      "The child started crying. The child hurt their knee. Answer: The child hurt their knee.\n",
      "Tomatoes grew on the vine. The insect pollinated the tomato flowers. Answer:\n",
      " The insect pollinated the tomato flowers.\n"
     ]
    },
    {
     "name": "stderr",
     "output_type": "stream",
     "text": [
      "\r",
      "30it [00:58,  1.90s/it]"
     ]
    },
    {
     "name": "stdout",
     "output_type": "stream",
     "text": [
      "Question: Which sentence is the cause of the other?\n",
      "The child hurt their knee. The child started crying. Answer: The child hurt their knee.\n",
      "The girl stepped onto the street. The driver hit the brakes. Answer:\n",
      " The girl stepped onto the street.\n",
      "Question: Which sentence is the cause of the other?\n",
      "The child started crying. The child hurt their knee. Answer: The child hurt their knee.\n",
      "The girl stepped onto the street. The driver hit the brakes. Answer:\n",
      " The girl stepped onto the street.\n"
     ]
    },
    {
     "name": "stderr",
     "output_type": "stream",
     "text": [
      "\r",
      "31it [01:00,  1.98s/it]"
     ]
    },
    {
     "name": "stdout",
     "output_type": "stream",
     "text": [
      "Question: Which sentence is the cause of the other?\n",
      "The child hurt their knee. The child started crying. Answer: The child hurt their knee.\n",
      "The driver hit the brakes. The girl stepped onto the street. Answer:\n",
      " The driver hit the brakes.\n",
      "Question: Which sentence is the cause of the other?\n",
      "The child started crying. The child hurt their knee. Answer: The child hurt their knee.\n",
      "The driver hit the brakes. The girl stepped onto the street. Answer:\n",
      " The girl stepped onto the street.\n"
     ]
    },
    {
     "name": "stderr",
     "output_type": "stream",
     "text": [
      "\r",
      "32it [01:02,  1.89s/it]"
     ]
    },
    {
     "name": "stdout",
     "output_type": "stream",
     "text": [
      "Question: Which sentence is the cause of the other?\n",
      "The child hurt their knee. The child started crying. Answer: The child hurt their knee.\n",
      "There was a wardrobe malfunction. The performer ran off the stage. Answer:\n",
      " The performer ran off the stage.\n",
      "Question: Which sentence is the cause of the other?\n",
      "The child started crying. The child hurt their knee. Answer: The child hurt their knee.\n",
      "There was a wardrobe malfunction. The performer ran off the stage. Answer:\n",
      " The performer ran off the stage.\n"
     ]
    },
    {
     "name": "stderr",
     "output_type": "stream",
     "text": [
      "\r",
      "33it [01:04,  1.80s/it]"
     ]
    },
    {
     "name": "stdout",
     "output_type": "stream",
     "text": [
      "Question: Which sentence is the cause of the other?\n",
      "The child hurt their knee. The child started crying. Answer: The child hurt their knee.\n",
      "The performer ran off the stage. There was a wardrobe malfunction. Answer:\n",
      " There was a wardrobe malfunction.\n",
      "Question: Which sentence is the cause of the other?\n",
      "The child started crying. The child hurt their knee. Answer: The child hurt their knee.\n",
      "The performer ran off the stage. There was a wardrobe malfunction. Answer:\n",
      " There was a wardrobe malfunction.\n"
     ]
    },
    {
     "name": "stderr",
     "output_type": "stream",
     "text": [
      "\r",
      "34it [01:05,  1.75s/it]"
     ]
    },
    {
     "name": "stdout",
     "output_type": "stream",
     "text": [
      "Question: Which sentence is the cause of the other?\n",
      "The child hurt their knee. The child started crying. Answer: The child hurt their knee.\n",
      "A bird hit the engine. The pilot turned on the \"fasten seatbelts\" light. Answer:\n",
      " The bird hit the engine.\n",
      "Question: Which sentence is the cause of the other?\n",
      "The child started crying. The child hurt their knee. Answer: The child hurt their knee.\n",
      "A bird hit the engine. The pilot turned on the \"fasten seatbelts\" light. Answer:\n",
      " The bird hit the engine.\n"
     ]
    },
    {
     "name": "stderr",
     "output_type": "stream",
     "text": [
      "\r",
      "35it [01:07,  1.81s/it]"
     ]
    },
    {
     "name": "stdout",
     "output_type": "stream",
     "text": [
      "Question: Which sentence is the cause of the other?\n",
      "The child hurt their knee. The child started crying. Answer: The child hurt their knee.\n",
      "The pilot turned on the \"fasten seatbelts\" light. A bird hit the engine. Answer:\n",
      " The bird hit the engine.\n",
      "Question: Which sentence is the cause of the other?\n",
      "The child started crying. The child hurt their knee. Answer: The child hurt their knee.\n",
      "The pilot turned on the \"fasten seatbelts\" light. A bird hit the engine. Answer:\n",
      " A bird hit the engine.\n"
     ]
    },
    {
     "name": "stderr",
     "output_type": "stream",
     "text": [
      "\r",
      "36it [01:09,  1.82s/it]"
     ]
    },
    {
     "name": "stdout",
     "output_type": "stream",
     "text": [
      "Question: Which sentence is the cause of the other?\n",
      "The child hurt their knee. The child started crying. Answer: The child hurt their knee.\n",
      "The milk was left outside the fridge over night. The man sipped the milk and spit it out. Answer:\n",
      " The milk was left outside the fridge over night.\n",
      "Question: Which sentence is the cause of the other?\n",
      "The child started crying. The child hurt their knee. Answer: The child hurt their knee.\n",
      "The milk was left outside the fridge over night. The man sipped the milk and spit it out. Answer:\n",
      " The milk was left outside the fridge over night.\n"
     ]
    },
    {
     "name": "stderr",
     "output_type": "stream",
     "text": [
      "\r",
      "37it [01:11,  1.96s/it]"
     ]
    },
    {
     "name": "stdout",
     "output_type": "stream",
     "text": [
      "Question: Which sentence is the cause of the other?\n",
      "The child hurt their knee. The child started crying. Answer: The child hurt their knee.\n",
      "The man sipped the milk and spit it out. The milk was left outside the fridge over night. Answer:\n",
      " The milk was left outside the fridge over night.\n",
      "Question: Which sentence is the cause of the other?\n",
      "The child started crying. The child hurt their knee. Answer: The child hurt their knee.\n",
      "The man sipped the milk and spit it out. The milk was left outside the fridge over night. Answer:\n",
      " The milk was left outside the fridge over night.\n"
     ]
    },
    {
     "name": "stderr",
     "output_type": "stream",
     "text": [
      "\r",
      "38it [01:13,  1.96s/it]"
     ]
    },
    {
     "name": "stdout",
     "output_type": "stream",
     "text": [
      "Question: Which sentence is the cause of the other?\n",
      "The child hurt their knee. The child started crying. Answer: The child hurt their knee.\n",
      "The man couldn't hear what the woman was saying. The man turned down the music volume. Answer:\n",
      " The man turned down the music volume.\n",
      "Question: Which sentence is the cause of the other?\n",
      "The child started crying. The child hurt their knee. Answer: The child hurt their knee.\n",
      "The man couldn't hear what the woman was saying. The man turned down the music volume. Answer:\n",
      " The man turned down the music volume.\n"
     ]
    },
    {
     "name": "stderr",
     "output_type": "stream",
     "text": [
      "\r",
      "39it [01:16,  2.06s/it]"
     ]
    },
    {
     "name": "stdout",
     "output_type": "stream",
     "text": [
      "Question: Which sentence is the cause of the other?\n",
      "The child hurt their knee. The child started crying. Answer: The child hurt their knee.\n",
      "The man turned down the music volume. The man couldn't hear what the woman was saying. Answer:\n",
      " The man turned down the music volume.\n",
      "Question: Which sentence is the cause of the other?\n",
      "The child started crying. The child hurt their knee. Answer: The child hurt their knee.\n",
      "The man turned down the music volume. The man couldn't hear what the woman was saying. Answer:\n",
      " The man couldn't hear what the woman was saying.\n"
     ]
    },
    {
     "name": "stderr",
     "output_type": "stream",
     "text": [
      "\r",
      "40it [01:18,  2.18s/it]"
     ]
    },
    {
     "name": "stdout",
     "output_type": "stream",
     "text": [
      "Question: Which sentence is the cause of the other?\n",
      "The child hurt their knee. The child started crying. Answer: The child hurt their knee.\n",
      "The power was out for days. The meat spoiled. Answer:\n",
      " The meat spoiled.\n",
      "Question: Which sentence is the cause of the other?\n",
      "The child started crying. The child hurt their knee. Answer: The child hurt their knee.\n",
      "The power was out for days. The meat spoiled. Answer:\n",
      " The meat spoiled.\n"
     ]
    },
    {
     "name": "stderr",
     "output_type": "stream",
     "text": [
      "\r",
      "41it [01:20,  2.02s/it]"
     ]
    },
    {
     "name": "stdout",
     "output_type": "stream",
     "text": [
      "Question: Which sentence is the cause of the other?\n",
      "The child hurt their knee. The child started crying. Answer: The child hurt their knee.\n",
      "The meat spoiled. The power was out for days. Answer:\n",
      " The meat spoiled.\n",
      "Question: Which sentence is the cause of the other?\n",
      "The child started crying. The child hurt their knee. Answer: The child hurt their knee.\n",
      "The meat spoiled. The power was out for days. Answer:\n",
      " The power was out for days.\n"
     ]
    },
    {
     "name": "stderr",
     "output_type": "stream",
     "text": [
      "\r",
      "42it [01:21,  1.86s/it]"
     ]
    },
    {
     "name": "stdout",
     "output_type": "stream",
     "text": [
      "Question: Which sentence is the cause of the other?\n",
      "The child hurt their knee. The child started crying. Answer: The child hurt their knee.\n",
      "The gardener planted a seed. A flower grew. Answer:\n",
      " The gardener planted a seed.\n",
      "Question: Which sentence is the cause of the other?\n",
      "The child started crying. The child hurt their knee. Answer: The child hurt their knee.\n",
      "The gardener planted a seed. A flower grew. Answer:\n",
      " The gardener planted a seed.\n"
     ]
    },
    {
     "name": "stderr",
     "output_type": "stream",
     "text": [
      "\r",
      "43it [01:23,  1.68s/it]"
     ]
    },
    {
     "name": "stdout",
     "output_type": "stream",
     "text": [
      "Question: Which sentence is the cause of the other?\n",
      "The child hurt their knee. The child started crying. Answer: The child hurt their knee.\n",
      "A flower grew. The gardener planted a seed. Answer:\n",
      " The gardener planted a seed.\n",
      "Question: Which sentence is the cause of the other?\n",
      "The child started crying. The child hurt their knee. Answer: The child hurt their knee.\n",
      "A flower grew. The gardener planted a seed. Answer:\n",
      " The gardener planted a seed.\n"
     ]
    },
    {
     "name": "stderr",
     "output_type": "stream",
     "text": [
      "\r",
      "44it [01:24,  1.57s/it]"
     ]
    },
    {
     "name": "stdout",
     "output_type": "stream",
     "text": [
      "Question: Which sentence is the cause of the other?\n",
      "The child hurt their knee. The child started crying. Answer: The child hurt their knee.\n",
      "The team won the game. The team won the championship. Answer:\n",
      " The team won the game.\n",
      "Question: Which sentence is the cause of the other?\n",
      "The child started crying. The child hurt their knee. Answer: The child hurt their knee.\n",
      "The team won the game. The team won the championship. Answer:\n",
      " The team won the championship.\n"
     ]
    },
    {
     "name": "stderr",
     "output_type": "stream",
     "text": [
      "\r",
      "45it [01:25,  1.51s/it]"
     ]
    },
    {
     "name": "stdout",
     "output_type": "stream",
     "text": [
      "Question: Which sentence is the cause of the other?\n",
      "The child hurt their knee. The child started crying. Answer: The child hurt their knee.\n",
      "The team won the championship. The team won the game. Answer:\n",
      " The team won the game.\n",
      "Question: Which sentence is the cause of the other?\n",
      "The child started crying. The child hurt their knee. Answer: The child hurt their knee.\n",
      "The team won the championship. The team won the game. Answer:\n",
      " The team won the game.\n"
     ]
    },
    {
     "name": "stderr",
     "output_type": "stream",
     "text": [
      "\r",
      "46it [01:27,  1.49s/it]"
     ]
    },
    {
     "name": "stdout",
     "output_type": "stream",
     "text": [
      "Question: Which sentence is the cause of the other?\n",
      "The child hurt their knee. The child started crying. Answer: The child hurt their knee.\n",
      "The door was locked. The man climbed in through the window. Answer:\n",
      " The door was locked.\n",
      "Question: Which sentence is the cause of the other?\n",
      "The child started crying. The child hurt their knee. Answer: The child hurt their knee.\n",
      "The door was locked. The man climbed in through the window. Answer:\n",
      " The man climbed in through the window.\n"
     ]
    },
    {
     "name": "stderr",
     "output_type": "stream",
     "text": [
      "\r",
      "47it [01:29,  1.74s/it]"
     ]
    },
    {
     "name": "stdout",
     "output_type": "stream",
     "text": [
      "Question: Which sentence is the cause of the other?\n",
      "The child hurt their knee. The child started crying. Answer: The child hurt their knee.\n",
      "The man climbed in through the window. The door was locked. Answer:\n",
      " The man climbed in through the window.\n",
      "Question: Which sentence is the cause of the other?\n",
      "The child started crying. The child hurt their knee. Answer: The child hurt their knee.\n",
      "The man climbed in through the window. The door was locked. Answer:\n",
      " The door was locked.\n"
     ]
    },
    {
     "name": "stderr",
     "output_type": "stream",
     "text": [
      "\r",
      "48it [01:31,  1.76s/it]"
     ]
    },
    {
     "name": "stdout",
     "output_type": "stream",
     "text": [
      "Question: Which sentence is the cause of the other?\n",
      "The child hurt their knee. The child started crying. Answer: The child hurt their knee.\n",
      "The wind blew strong. The ship capsized. Answer:\n",
      " The wind blew strong.\n",
      "Question: Which sentence is the cause of the other?\n",
      "The child started crying. The child hurt their knee. Answer: The child hurt their knee.\n",
      "The wind blew strong. The ship capsized. Answer:\n",
      " The wind blew strong.\n"
     ]
    },
    {
     "name": "stderr",
     "output_type": "stream",
     "text": [
      "\r",
      "49it [01:33,  1.74s/it]"
     ]
    },
    {
     "name": "stdout",
     "output_type": "stream",
     "text": [
      "Question: Which sentence is the cause of the other?\n",
      "The child hurt their knee. The child started crying. Answer: The child hurt their knee.\n",
      "The ship capsized. The wind blew strong. Answer:\n",
      " The ship capsized.\n",
      "Question: Which sentence is the cause of the other?\n",
      "The child started crying. The child hurt their knee. Answer: The child hurt their knee.\n",
      "The ship capsized. The wind blew strong. Answer:\n",
      " The wind blew strong.\n"
     ]
    },
    {
     "name": "stderr",
     "output_type": "stream",
     "text": [
      "\r",
      "50it [01:34,  1.80s/it]"
     ]
    },
    {
     "name": "stdout",
     "output_type": "stream",
     "text": [
      "Question: Which sentence is the cause of the other?\n",
      "The child hurt their knee. The child started crying. Answer: The child hurt their knee.\n",
      "The man robbed a gas station. The man went to jail. Answer:\n",
      " The man robbed a gas station.\n",
      "Question: Which sentence is the cause of the other?\n",
      "The child started crying. The child hurt their knee. Answer: The child hurt their knee.\n",
      "The man robbed a gas station. The man went to jail. Answer:\n",
      " The man went to jail.\n"
     ]
    },
    {
     "name": "stderr",
     "output_type": "stream",
     "text": [
      "\r",
      "51it [01:37,  1.87s/it]"
     ]
    },
    {
     "name": "stdout",
     "output_type": "stream",
     "text": [
      "Question: Which sentence is the cause of the other?\n",
      "The child hurt their knee. The child started crying. Answer: The child hurt their knee.\n",
      "The man went to jail. The man robbed a gas station. Answer:\n",
      " The man robbed a gas station.\n",
      "Question: Which sentence is the cause of the other?\n",
      "The child started crying. The child hurt their knee. Answer: The child hurt their knee.\n",
      "The man went to jail. The man robbed a gas station. Answer:\n",
      " The man robbed a gas station.\n"
     ]
    },
    {
     "name": "stderr",
     "output_type": "stream",
     "text": [
      "\r",
      "52it [01:39,  2.05s/it]"
     ]
    },
    {
     "name": "stdout",
     "output_type": "stream",
     "text": [
      "Question: Which sentence is the cause of the other?\n",
      "The child hurt their knee. The child started crying. Answer: The child hurt their knee.\n",
      "Jill won the lawsuit against Acme. Acme paid Jill's legal fees. Answer:\n",
      " Jill won the lawsuit against Acme.\n",
      "Question: Which sentence is the cause of the other?\n",
      "The child started crying. The child hurt their knee. Answer: The child hurt their knee.\n",
      "Jill won the lawsuit against Acme. Acme paid Jill's legal fees. Answer:\n",
      " Acme paid Jill's legal fees.\n"
     ]
    },
    {
     "name": "stderr",
     "output_type": "stream",
     "text": [
      "\r",
      "53it [01:41,  2.14s/it]"
     ]
    },
    {
     "name": "stdout",
     "output_type": "stream",
     "text": [
      "Question: Which sentence is the cause of the other?\n",
      "The child hurt their knee. The child started crying. Answer: The child hurt their knee.\n",
      "Acme paid Jill's legal fees. Jill won the lawsuit against Acme. Answer:\n",
      " Jill won the lawsuit against Acme.\n",
      "Question: Which sentence is the cause of the other?\n",
      "The child started crying. The child hurt their knee. Answer: The child hurt their knee.\n",
      "Acme paid Jill's legal fees. Jill won the lawsuit against Acme. Answer:\n",
      " Jill won the lawsuit against Acme.\n"
     ]
    },
    {
     "name": "stderr",
     "output_type": "stream",
     "text": [
      "\r",
      "54it [01:44,  2.20s/it]"
     ]
    },
    {
     "name": "stdout",
     "output_type": "stream",
     "text": [
      "Question: Which sentence is the cause of the other?\n",
      "The child hurt their knee. The child started crying. Answer: The child hurt their knee.\n",
      "There was a snowstorm. School was cancelled. Answer:\n",
      " There was a snowstorm.\n",
      "Question: Which sentence is the cause of the other?\n",
      "The child started crying. The child hurt their knee. Answer: The child hurt their knee.\n",
      "There was a snowstorm. School was cancelled. Answer:\n",
      " School was cancelled.\n"
     ]
    },
    {
     "name": "stderr",
     "output_type": "stream",
     "text": [
      "\r",
      "55it [01:46,  2.16s/it]"
     ]
    },
    {
     "name": "stdout",
     "output_type": "stream",
     "text": [
      "Question: Which sentence is the cause of the other?\n",
      "The child hurt their knee. The child started crying. Answer: The child hurt their knee.\n",
      "School was cancelled. There was a snowstorm. Answer:\n",
      " School was cancelled.\n",
      "Question: Which sentence is the cause of the other?\n",
      "The child started crying. The child hurt their knee. Answer: The child hurt their knee.\n",
      "School was cancelled. There was a snowstorm. Answer:\n",
      " There was a snowstorm.\n"
     ]
    },
    {
     "name": "stderr",
     "output_type": "stream",
     "text": [
      "\r",
      "56it [01:48,  2.06s/it]"
     ]
    },
    {
     "name": "stdout",
     "output_type": "stream",
     "text": [
      "Question: Which sentence is the cause of the other?\n",
      "The child hurt their knee. The child started crying. Answer: The child hurt their knee.\n",
      "The tenants noticed mold on the bathroom ceiling. The tenants contacted their landlord. Answer:\n",
      " The tenants noticed mold on the bathroom ceiling.\n",
      "Question: Which sentence is the cause of the other?\n",
      "The child started crying. The child hurt their knee. Answer: The child hurt their knee.\n",
      "The tenants noticed mold on the bathroom ceiling. The tenants contacted their landlord. Answer:\n",
      " The tenants contacted their landlord.\n"
     ]
    },
    {
     "name": "stderr",
     "output_type": "stream",
     "text": [
      "\r",
      "57it [01:50,  2.15s/it]"
     ]
    },
    {
     "name": "stdout",
     "output_type": "stream",
     "text": [
      "Question: Which sentence is the cause of the other?\n",
      "The child hurt their knee. The child started crying. Answer: The child hurt their knee.\n",
      "The tenants contacted their landlord. The tenants noticed mold on the bathroom ceiling. Answer:\n",
      " The tenants contacted their landlord.\n",
      "Question: Which sentence is the cause of the other?\n",
      "The child started crying. The child hurt their knee. Answer: The child hurt their knee.\n",
      "The tenants contacted their landlord. The tenants noticed mold on the bathroom ceiling. Answer:\n",
      " The tenants noticed mold on the bathroom ceiling.\n"
     ]
    },
    {
     "name": "stderr",
     "output_type": "stream",
     "text": [
      "\r",
      "58it [01:52,  2.14s/it]"
     ]
    },
    {
     "name": "stdout",
     "output_type": "stream",
     "text": [
      "Question: Which sentence is the cause of the other?\n",
      "The child hurt their knee. The child started crying. Answer: The child hurt their knee.\n",
      "I studied hard. I got an A on the test. Answer:\n",
      " I studied hard.\n",
      "Question: Which sentence is the cause of the other?\n",
      "The child started crying. The child hurt their knee. Answer: The child hurt their knee.\n",
      "I studied hard. I got an A on the test. Answer:\n",
      " I got an A on the test.\n"
     ]
    },
    {
     "name": "stderr",
     "output_type": "stream",
     "text": [
      "\r",
      "59it [01:54,  2.09s/it]"
     ]
    },
    {
     "name": "stdout",
     "output_type": "stream",
     "text": [
      "Question: Which sentence is the cause of the other?\n",
      "The child hurt their knee. The child started crying. Answer: The child hurt their knee.\n",
      "I got an A on the test. I studied hard. Answer:\n",
      " I got an A on the test.\n",
      "Question: Which sentence is the cause of the other?\n",
      "The child started crying. The child hurt their knee. Answer: The child hurt their knee.\n",
      "I got an A on the test. I studied hard. Answer:\n",
      " I studied hard.\n"
     ]
    },
    {
     "name": "stderr",
     "output_type": "stream",
     "text": [
      "\r",
      "60it [01:56,  2.14s/it]"
     ]
    },
    {
     "name": "stdout",
     "output_type": "stream",
     "text": [
      "Question: Which sentence is the cause of the other?\n",
      "The child hurt their knee. The child started crying. Answer: The child hurt their knee.\n",
      "The boy threw a rock. The window broke. Answer:\n",
      " The boy threw a rock.\n",
      "Question: Which sentence is the cause of the other?\n",
      "The child started crying. The child hurt their knee. Answer: The child hurt their knee.\n",
      "The boy threw a rock. The window broke. Answer:\n",
      " The window broke.\n"
     ]
    },
    {
     "name": "stderr",
     "output_type": "stream",
     "text": [
      "\r",
      "61it [01:58,  1.93s/it]"
     ]
    },
    {
     "name": "stdout",
     "output_type": "stream",
     "text": [
      "Question: Which sentence is the cause of the other?\n",
      "The child hurt their knee. The child started crying. Answer: The child hurt their knee.\n",
      "The window broke. The boy threw a rock. Answer:\n",
      " The window broke.\n",
      "Question: Which sentence is the cause of the other?\n",
      "The child started crying. The child hurt their knee. Answer: The child hurt their knee.\n",
      "The window broke. The boy threw a rock. Answer:\n",
      " The boy threw a rock.\n"
     ]
    },
    {
     "name": "stderr",
     "output_type": "stream",
     "text": [
      "\r",
      "62it [02:00,  1.89s/it]"
     ]
    },
    {
     "name": "stdout",
     "output_type": "stream",
     "text": [
      "Question: Which sentence is the cause of the other?\n",
      "The child hurt their knee. The child started crying. Answer: The child hurt their knee.\n",
      "The driver ran a red light. The driver was pulled over and was fined. Answer:\n",
      " The driver ran a red light.\n",
      "Question: Which sentence is the cause of the other?\n",
      "The child started crying. The child hurt their knee. Answer: The child hurt their knee.\n",
      "The driver ran a red light. The driver was pulled over and was fined. Answer:\n",
      " The driver was pulled over and was fined.\n"
     ]
    },
    {
     "name": "stderr",
     "output_type": "stream",
     "text": [
      "\r",
      "63it [02:02,  1.92s/it]"
     ]
    },
    {
     "name": "stdout",
     "output_type": "stream",
     "text": [
      "Question: Which sentence is the cause of the other?\n",
      "The child hurt their knee. The child started crying. Answer: The child hurt their knee.\n",
      "The driver was pulled over and was fined. The driver ran a red light. Answer:\n",
      " The driver ran a red light.\n",
      "Question: Which sentence is the cause of the other?\n",
      "The child started crying. The child hurt their knee. Answer: The child hurt their knee.\n",
      "The driver was pulled over and was fined. The driver ran a red light. Answer:\n",
      " The driver ran a red light.\n"
     ]
    },
    {
     "name": "stderr",
     "output_type": "stream",
     "text": [
      "\r",
      "64it [02:04,  2.17s/it]"
     ]
    },
    {
     "name": "stdout",
     "output_type": "stream",
     "text": [
      "Question: Which sentence is the cause of the other?\n",
      "The child hurt their knee. The child started crying. Answer: The child hurt their knee.\n",
      "The girl skipped school. The girl got detention. Answer:\n",
      " The girl skipped school.\n",
      "Question: Which sentence is the cause of the other?\n",
      "The child started crying. The child hurt their knee. Answer: The child hurt their knee.\n",
      "The girl skipped school. The girl got detention. Answer:\n",
      " The girl got detention.\n"
     ]
    },
    {
     "name": "stderr",
     "output_type": "stream",
     "text": [
      "\r",
      "65it [02:06,  1.99s/it]"
     ]
    },
    {
     "name": "stdout",
     "output_type": "stream",
     "text": [
      "Question: Which sentence is the cause of the other?\n",
      "The child hurt their knee. The child started crying. Answer: The child hurt their knee.\n",
      "The girl got detention. The girl skipped school. Answer:\n",
      " The girl skipped school.\n",
      "Question: Which sentence is the cause of the other?\n",
      "The child started crying. The child hurt their knee. Answer: The child hurt their knee.\n",
      "The girl got detention. The girl skipped school. Answer:\n",
      " The girl skipped school.\n"
     ]
    },
    {
     "name": "stderr",
     "output_type": "stream",
     "text": [
      "\r",
      "66it [02:07,  1.80s/it]"
     ]
    },
    {
     "name": "stdout",
     "output_type": "stream",
     "text": [
      "Question: Which sentence is the cause of the other?\n",
      "The child hurt their knee. The child started crying. Answer: The child hurt their knee.\n",
      "I flipped the switch. Light filled the room. Answer:\n",
      " I flipped the switch.\n",
      "Question: Which sentence is the cause of the other?\n",
      "The child started crying. The child hurt their knee. Answer: The child hurt their knee.\n",
      "I flipped the switch. Light filled the room. Answer:\n",
      " I flipped the switch.\n"
     ]
    },
    {
     "name": "stderr",
     "output_type": "stream",
     "text": [
      "\r",
      "67it [02:09,  1.68s/it]"
     ]
    },
    {
     "name": "stdout",
     "output_type": "stream",
     "text": [
      "Question: Which sentence is the cause of the other?\n",
      "The child hurt their knee. The child started crying. Answer: The child hurt their knee.\n",
      "Light filled the room. I flipped the switch. Answer:\n",
      " I flipped the switch.\n",
      "Question: Which sentence is the cause of the other?\n",
      "The child started crying. The child hurt their knee. Answer: The child hurt their knee.\n",
      "Light filled the room. I flipped the switch. Answer:\n",
      " I flipped the switch.\n"
     ]
    },
    {
     "name": "stderr",
     "output_type": "stream",
     "text": [
      "\r",
      "68it [02:10,  1.63s/it]"
     ]
    },
    {
     "name": "stdout",
     "output_type": "stream",
     "text": [
      "Question: Which sentence is the cause of the other?\n",
      "The child hurt their knee. The child started crying. Answer: The child hurt their knee.\n",
      "I pulled the dog's tail. The dog bit me. Answer:\n",
      " I pulled the dog's tail.\n",
      "Question: Which sentence is the cause of the other?\n",
      "The child started crying. The child hurt their knee. Answer: The child hurt their knee.\n",
      "I pulled the dog's tail. The dog bit me. Answer:\n",
      " The dog bit me.\n"
     ]
    },
    {
     "name": "stderr",
     "output_type": "stream",
     "text": [
      "\r",
      "69it [02:12,  1.66s/it]"
     ]
    },
    {
     "name": "stdout",
     "output_type": "stream",
     "text": [
      "Question: Which sentence is the cause of the other?\n",
      "The child hurt their knee. The child started crying. Answer: The child hurt their knee.\n",
      "The dog bit me. I pulled the dog's tail. Answer:\n",
      " The dog bit me.\n",
      "Question: Which sentence is the cause of the other?\n",
      "The child started crying. The child hurt their knee. Answer: The child hurt their knee.\n",
      "The dog bit me. I pulled the dog's tail. Answer:\n",
      " I pulled the dog's tail.\n"
     ]
    },
    {
     "name": "stderr",
     "output_type": "stream",
     "text": [
      "\r",
      "70it [02:13,  1.60s/it]"
     ]
    },
    {
     "name": "stdout",
     "output_type": "stream",
     "text": [
      "Question: Which sentence is the cause of the other?\n",
      "The child hurt their knee. The child started crying. Answer: The child hurt their knee.\n",
      "School was on break. The family went on vacation. Answer:\n",
      " School was on break.\n",
      "Question: Which sentence is the cause of the other?\n",
      "The child started crying. The child hurt their knee. Answer: The child hurt their knee.\n",
      "School was on break. The family went on vacation. Answer:\n",
      " The family went on vacation.\n"
     ]
    },
    {
     "name": "stderr",
     "output_type": "stream",
     "text": [
      "\r",
      "71it [02:15,  1.60s/it]"
     ]
    },
    {
     "name": "stdout",
     "output_type": "stream",
     "text": [
      "Question: Which sentence is the cause of the other?\n",
      "The child hurt their knee. The child started crying. Answer: The child hurt their knee.\n",
      "The family went on vacation. School was on break. Answer:\n",
      " The family went on vacation.\n",
      "Question: Which sentence is the cause of the other?\n",
      "The child started crying. The child hurt their knee. Answer: The child hurt their knee.\n",
      "The family went on vacation. School was on break. Answer:\n",
      " School was on break.\n"
     ]
    },
    {
     "name": "stderr",
     "output_type": "stream",
     "text": [
      "\r",
      "72it [02:16,  1.59s/it]"
     ]
    },
    {
     "name": "stdout",
     "output_type": "stream",
     "text": [
      "Question: Which sentence is the cause of the other?\n",
      "The child hurt their knee. The child started crying. Answer: The child hurt their knee.\n",
      "The air conditioner broke. The family went to the beach. Answer:\n",
      " The air conditioner broke.\n",
      "Question: Which sentence is the cause of the other?\n",
      "The child started crying. The child hurt their knee. Answer: The child hurt their knee.\n",
      "The air conditioner broke. The family went to the beach. Answer:\n",
      " The family went to the beach.\n"
     ]
    },
    {
     "name": "stderr",
     "output_type": "stream",
     "text": [
      "\r",
      "73it [02:18,  1.70s/it]"
     ]
    },
    {
     "name": "stdout",
     "output_type": "stream",
     "text": [
      "Question: Which sentence is the cause of the other?\n",
      "The child hurt their knee. The child started crying. Answer: The child hurt their knee.\n",
      "The family went to the beach. The air conditioner broke. Answer:\n",
      " The air conditioner broke.\n",
      "Question: Which sentence is the cause of the other?\n",
      "The child started crying. The child hurt their knee. Answer: The child hurt their knee.\n",
      "The family went to the beach. The air conditioner broke. Answer:\n",
      " The air conditioner broke.\n"
     ]
    },
    {
     "name": "stderr",
     "output_type": "stream",
     "text": [
      "\r",
      "74it [02:20,  1.71s/it]"
     ]
    },
    {
     "name": "stdout",
     "output_type": "stream",
     "text": [
      "Question: Which sentence is the cause of the other?\n",
      "The child hurt their knee. The child started crying. Answer: The child hurt their knee.\n",
      "The girl had a fever. Mom gave the girl fever medicine. Answer:\n",
      " The girl had a fever.\n",
      "Question: Which sentence is the cause of the other?\n",
      "The child started crying. The child hurt their knee. Answer: The child hurt their knee.\n",
      "The girl had a fever. Mom gave the girl fever medicine. Answer:\n",
      " Mom gave the girl fever medicine.\n"
     ]
    },
    {
     "name": "stderr",
     "output_type": "stream",
     "text": [
      "\r",
      "75it [02:22,  1.71s/it]"
     ]
    },
    {
     "name": "stdout",
     "output_type": "stream",
     "text": [
      "Question: Which sentence is the cause of the other?\n",
      "The child hurt their knee. The child started crying. Answer: The child hurt their knee.\n",
      "Mom gave the girl fever medicine. The girl had a fever. Answer:\n",
      " Mom gave the girl fever medicine.\n",
      "Question: Which sentence is the cause of the other?\n",
      "The child started crying. The child hurt their knee. Answer: The child hurt their knee.\n",
      "Mom gave the girl fever medicine. The girl had a fever. Answer:\n",
      " The girl had a fever.\n"
     ]
    },
    {
     "name": "stderr",
     "output_type": "stream",
     "text": [
      "\r",
      "76it [02:24,  1.79s/it]"
     ]
    },
    {
     "name": "stdout",
     "output_type": "stream",
     "text": [
      "Question: Which sentence is the cause of the other?\n",
      "The child hurt their knee. The child started crying. Answer: The child hurt their knee.\n",
      "The bread was dry. We made French toast. Answer:\n",
      " The bread was dry.\n",
      "Question: Which sentence is the cause of the other?\n",
      "The child started crying. The child hurt their knee. Answer: The child hurt their knee.\n",
      "The bread was dry. We made French toast. Answer:\n",
      " We made French toast.\n"
     ]
    },
    {
     "name": "stderr",
     "output_type": "stream",
     "text": [
      "\r",
      "77it [02:26,  1.87s/it]"
     ]
    },
    {
     "name": "stdout",
     "output_type": "stream",
     "text": [
      "Question: Which sentence is the cause of the other?\n",
      "The child hurt their knee. The child started crying. Answer: The child hurt their knee.\n",
      "We made French toast. The bread was dry. Answer:\n",
      " The bread was dry.\n",
      "Question: Which sentence is the cause of the other?\n",
      "The child started crying. The child hurt their knee. Answer: The child hurt their knee.\n",
      "We made French toast. The bread was dry. Answer:\n",
      " The bread was dry.\n"
     ]
    },
    {
     "name": "stderr",
     "output_type": "stream",
     "text": [
      "\r",
      "78it [02:28,  1.81s/it]"
     ]
    },
    {
     "name": "stdout",
     "output_type": "stream",
     "text": [
      "Question: Which sentence is the cause of the other?\n",
      "The child hurt their knee. The child started crying. Answer: The child hurt their knee.\n",
      "The company's posted strong earnings. The company's stock went up. Answer:\n",
      " The company's stock went up.\n",
      "Question: Which sentence is the cause of the other?\n",
      "The child started crying. The child hurt their knee. Answer: The child hurt their knee.\n",
      "The company's posted strong earnings. The company's stock went up. Answer:\n",
      " The company's stock went up.\n"
     ]
    },
    {
     "name": "stderr",
     "output_type": "stream",
     "text": [
      "\r",
      "79it [02:30,  1.87s/it]"
     ]
    },
    {
     "name": "stdout",
     "output_type": "stream",
     "text": [
      "Question: Which sentence is the cause of the other?\n",
      "The child hurt their knee. The child started crying. Answer: The child hurt their knee.\n",
      "The company's stock went up. The company's posted strong earnings. Answer:\n",
      " The company's stock went up.\n",
      "Question: Which sentence is the cause of the other?\n",
      "The child started crying. The child hurt their knee. Answer: The child hurt their knee.\n",
      "The company's stock went up. The company's posted strong earnings. Answer:\n",
      " The company's posted strong earnings.\n"
     ]
    },
    {
     "name": "stderr",
     "output_type": "stream",
     "text": [
      "\r",
      "80it [02:31,  1.78s/it]"
     ]
    },
    {
     "name": "stdout",
     "output_type": "stream",
     "text": [
      "Question: Which sentence is the cause of the other?\n",
      "The child hurt their knee. The child started crying. Answer: The child hurt their knee.\n",
      "My clothes got dirty. I put my clothes in the washing machine. Answer:\n",
      " I put my clothes in the washing machine.\n",
      "Question: Which sentence is the cause of the other?\n",
      "The child started crying. The child hurt their knee. Answer: The child hurt their knee.\n",
      "My clothes got dirty. I put my clothes in the washing machine. Answer:\n",
      " I put my clothes in the washing machine.\n"
     ]
    },
    {
     "name": "stderr",
     "output_type": "stream",
     "text": [
      "\r",
      "81it [02:33,  1.85s/it]"
     ]
    },
    {
     "name": "stdout",
     "output_type": "stream",
     "text": [
      "Question: Which sentence is the cause of the other?\n",
      "The child hurt their knee. The child started crying. Answer: The child hurt their knee.\n",
      "I put my clothes in the washing machine. My clothes got dirty. Answer:\n",
      " I put my clothes in the washing machine.\n",
      "Question: Which sentence is the cause of the other?\n",
      "The child started crying. The child hurt their knee. Answer: The child hurt their knee.\n",
      "I put my clothes in the washing machine. My clothes got dirty. Answer:\n",
      " My clothes got dirty.\n"
     ]
    },
    {
     "name": "stderr",
     "output_type": "stream",
     "text": [
      "\r",
      "82it [02:35,  1.82s/it]"
     ]
    },
    {
     "name": "stdout",
     "output_type": "stream",
     "text": [
      "Question: Which sentence is the cause of the other?\n",
      "The child hurt their knee. The child started crying. Answer: The child hurt their knee.\n",
      "My friend got a promotion. My friend celebrated with their family. Answer:\n",
      " My friend got a promotion.\n",
      "Question: Which sentence is the cause of the other?\n",
      "The child started crying. The child hurt their knee. Answer: The child hurt their knee.\n",
      "My friend got a promotion. My friend celebrated with their family. Answer:\n",
      " My friend celebrated with their family.\n"
     ]
    },
    {
     "name": "stderr",
     "output_type": "stream",
     "text": [
      "\r",
      "83it [02:37,  1.88s/it]"
     ]
    },
    {
     "name": "stdout",
     "output_type": "stream",
     "text": [
      "Question: Which sentence is the cause of the other?\n",
      "The child hurt their knee. The child started crying. Answer: The child hurt their knee.\n",
      "My friend celebrated with their family. My friend got a promotion. Answer:\n",
      " My friend got a promotion.\n",
      "Question: Which sentence is the cause of the other?\n",
      "The child started crying. The child hurt their knee. Answer: The child hurt their knee.\n",
      "My friend celebrated with their family. My friend got a promotion. Answer:\n",
      " My friend got a promotion.\n"
     ]
    },
    {
     "name": "stderr",
     "output_type": "stream",
     "text": [
      "\r",
      "84it [02:39,  1.92s/it]"
     ]
    },
    {
     "name": "stdout",
     "output_type": "stream",
     "text": [
      "Question: Which sentence is the cause of the other?\n",
      "The child hurt their knee. The child started crying. Answer: The child hurt their knee.\n",
      "The basketball player was shoved. The basketball player took a free throw. Answer:\n",
      " The basketball player was shoved.\n",
      "Question: Which sentence is the cause of the other?\n",
      "The child started crying. The child hurt their knee. Answer: The child hurt their knee.\n",
      "The basketball player was shoved. The basketball player took a free throw. Answer:\n",
      " The basketball player took a free throw.\n"
     ]
    },
    {
     "name": "stderr",
     "output_type": "stream",
     "text": [
      "\r",
      "85it [02:41,  1.94s/it]"
     ]
    },
    {
     "name": "stdout",
     "output_type": "stream",
     "text": [
      "Question: Which sentence is the cause of the other?\n",
      "The child hurt their knee. The child started crying. Answer: The child hurt their knee.\n",
      "The basketball player took a free throw. The basketball player was shoved. Answer:\n",
      " The basketball player was shoved.\n",
      "Question: Which sentence is the cause of the other?\n",
      "The child started crying. The child hurt their knee. Answer: The child hurt their knee.\n",
      "The basketball player took a free throw. The basketball player was shoved. Answer:\n",
      " The basketball player was shoved.\n"
     ]
    },
    {
     "name": "stderr",
     "output_type": "stream",
     "text": [
      "\r",
      "86it [02:42,  1.82s/it]"
     ]
    },
    {
     "name": "stdout",
     "output_type": "stream",
     "text": [
      "Question: Which sentence is the cause of the other?\n",
      "The child hurt their knee. The child started crying. Answer: The child hurt their knee.\n",
      "Alice didn't wake up. Alice missed her flight. Answer:\n",
      " Alice didn't wake up.\n",
      "Question: Which sentence is the cause of the other?\n",
      "The child started crying. The child hurt their knee. Answer: The child hurt their knee.\n",
      "Alice didn't wake up. Alice missed her flight. Answer:\n",
      " Alice missed her flight.\n"
     ]
    },
    {
     "name": "stderr",
     "output_type": "stream",
     "text": [
      "\r",
      "87it [02:44,  1.69s/it]"
     ]
    },
    {
     "name": "stdout",
     "output_type": "stream",
     "text": [
      "Question: Which sentence is the cause of the other?\n",
      "The child hurt their knee. The child started crying. Answer: The child hurt their knee.\n",
      "Alice missed her flight. Alice didn't wake up. Answer:\n",
      " Alice didn't wake up.\n",
      "Question: Which sentence is the cause of the other?\n",
      "The child started crying. The child hurt their knee. Answer: The child hurt their knee.\n",
      "Alice missed her flight. Alice didn't wake up. Answer:\n",
      " Alice didn't wake up.\n"
     ]
    },
    {
     "name": "stderr",
     "output_type": "stream",
     "text": [
      "\r",
      "88it [02:46,  1.72s/it]"
     ]
    },
    {
     "name": "stdout",
     "output_type": "stream",
     "text": [
      "Question: Which sentence is the cause of the other?\n",
      "The child hurt their knee. The child started crying. Answer: The child hurt their knee.\n",
      "The floor was wet. The man sued. Answer:\n",
      " The floor was wet.\n",
      "Question: Which sentence is the cause of the other?\n",
      "The child started crying. The child hurt their knee. Answer: The child hurt their knee.\n",
      "The floor was wet. The man sued. Answer:\n",
      " The floor was wet.\n"
     ]
    },
    {
     "name": "stderr",
     "output_type": "stream",
     "text": [
      "\r",
      "89it [02:47,  1.73s/it]"
     ]
    },
    {
     "name": "stdout",
     "output_type": "stream",
     "text": [
      "Question: Which sentence is the cause of the other?\n",
      "The child hurt their knee. The child started crying. Answer: The child hurt their knee.\n",
      "The man sued. The floor was wet. Answer:\n",
      " The floor was wet.\n",
      "Question: Which sentence is the cause of the other?\n",
      "The child started crying. The child hurt their knee. Answer: The child hurt their knee.\n",
      "The man sued. The floor was wet. Answer:\n",
      " The floor was wet.\n"
     ]
    },
    {
     "name": "stderr",
     "output_type": "stream",
     "text": [
      "\r",
      "90it [02:49,  1.79s/it]"
     ]
    },
    {
     "name": "stdout",
     "output_type": "stream",
     "text": [
      "Question: Which sentence is the cause of the other?\n",
      "The child hurt their knee. The child started crying. Answer: The child hurt their knee.\n",
      "It rained. The picnic was cancelled. Answer:\n",
      " It rained.\n",
      "Question: Which sentence is the cause of the other?\n",
      "The child started crying. The child hurt their knee. Answer: The child hurt their knee.\n",
      "It rained. The picnic was cancelled. Answer:\n",
      " The picnic was cancelled.\n"
     ]
    },
    {
     "name": "stderr",
     "output_type": "stream",
     "text": [
      "\r",
      "91it [02:51,  1.78s/it]"
     ]
    },
    {
     "name": "stdout",
     "output_type": "stream",
     "text": [
      "Question: Which sentence is the cause of the other?\n",
      "The child hurt their knee. The child started crying. Answer: The child hurt their knee.\n",
      "The picnic was cancelled. It rained. Answer:\n",
      " It rained.\n",
      "Question: Which sentence is the cause of the other?\n",
      "The child started crying. The child hurt their knee. Answer: The child hurt their knee.\n",
      "The picnic was cancelled. It rained. Answer:\n",
      " It rained.\n"
     ]
    },
    {
     "name": "stderr",
     "output_type": "stream",
     "text": [
      "\r",
      "92it [02:53,  1.70s/it]"
     ]
    },
    {
     "name": "stdout",
     "output_type": "stream",
     "text": [
      "Question: Which sentence is the cause of the other?\n",
      "The child hurt their knee. The child started crying. Answer: The child hurt their knee.\n",
      "The girl didn't wear her sweater. The girl caught a cold. Answer:\n",
      " The girl didn't wear her sweater.\n",
      "Question: Which sentence is the cause of the other?\n",
      "The child started crying. The child hurt their knee. Answer: The child hurt their knee.\n",
      "The girl didn't wear her sweater. The girl caught a cold. Answer:\n",
      " The girl caught a cold.\n"
     ]
    },
    {
     "name": "stderr",
     "output_type": "stream",
     "text": [
      "\r",
      "93it [02:54,  1.63s/it]"
     ]
    },
    {
     "name": "stdout",
     "output_type": "stream",
     "text": [
      "Question: Which sentence is the cause of the other?\n",
      "The child hurt their knee. The child started crying. Answer: The child hurt their knee.\n",
      "The girl caught a cold. The girl didn't wear her sweater. Answer:\n",
      " The girl caught a cold.\n",
      "Question: Which sentence is the cause of the other?\n",
      "The child started crying. The child hurt their knee. Answer: The child hurt their knee.\n",
      "The girl caught a cold. The girl didn't wear her sweater. Answer:\n",
      " The girl didn't wear her sweater.\n"
     ]
    },
    {
     "name": "stderr",
     "output_type": "stream",
     "text": [
      "\r",
      "94it [02:56,  1.67s/it]"
     ]
    },
    {
     "name": "stdout",
     "output_type": "stream",
     "text": [
      "Question: Which sentence is the cause of the other?\n",
      "The child hurt their knee. The child started crying. Answer: The child hurt their knee.\n",
      "The man got lost in the woods. A search party was assembled. Answer:\n",
      " The man got lost in the woods.\n",
      "Question: Which sentence is the cause of the other?\n",
      "The child started crying. The child hurt their knee. Answer: The child hurt their knee.\n",
      "The man got lost in the woods. A search party was assembled. Answer:\n",
      " A search party was assembled.\n"
     ]
    },
    {
     "name": "stderr",
     "output_type": "stream",
     "text": [
      "\r",
      "95it [02:58,  1.71s/it]"
     ]
    },
    {
     "name": "stdout",
     "output_type": "stream",
     "text": [
      "Question: Which sentence is the cause of the other?\n",
      "The child hurt their knee. The child started crying. Answer: The child hurt their knee.\n",
      "A search party was assembled. The man got lost in the woods. Answer:\n",
      " The man got lost in the woods.\n",
      "Question: Which sentence is the cause of the other?\n",
      "The child started crying. The child hurt their knee. Answer: The child hurt their knee.\n",
      "A search party was assembled. The man got lost in the woods. Answer:\n",
      " The man got lost in the woods.\n"
     ]
    },
    {
     "name": "stderr",
     "output_type": "stream",
     "text": [
      "\r",
      "96it [03:00,  1.90s/it]"
     ]
    },
    {
     "name": "stdout",
     "output_type": "stream",
     "text": [
      "Question: Which sentence is the cause of the other?\n",
      "The child hurt their knee. The child started crying. Answer: The child hurt their knee.\n",
      "Ted went out drinking. Ted had a hangover. Answer:\n",
      " Ted went out drinking.\n",
      "Question: Which sentence is the cause of the other?\n",
      "The child started crying. The child hurt their knee. Answer: The child hurt their knee.\n",
      "Ted went out drinking. Ted had a hangover. Answer:\n",
      " Ted had a hangover.\n"
     ]
    },
    {
     "name": "stderr",
     "output_type": "stream",
     "text": [
      "\r",
      "97it [03:02,  1.89s/it]"
     ]
    },
    {
     "name": "stdout",
     "output_type": "stream",
     "text": [
      "Question: Which sentence is the cause of the other?\n",
      "The child hurt their knee. The child started crying. Answer: The child hurt their knee.\n",
      "Ted had a hangover. Ted went out drinking. Answer:\n",
      " Ted went out drinking.\n",
      "Question: Which sentence is the cause of the other?\n",
      "The child started crying. The child hurt their knee. Answer: The child hurt their knee.\n",
      "Ted had a hangover. Ted went out drinking. Answer:\n",
      " Ted went out drinking.\n"
     ]
    },
    {
     "name": "stderr",
     "output_type": "stream",
     "text": [
      "\r",
      "98it [03:03,  1.76s/it]"
     ]
    },
    {
     "name": "stdout",
     "output_type": "stream",
     "text": [
      "Question: Which sentence is the cause of the other?\n",
      "The child hurt their knee. The child started crying. Answer: The child hurt their knee.\n",
      "Alice ate the last cookie. Bob opened the jar and was frustrated. Answer:\n",
      " Alice ate the last cookie.\n",
      "Question: Which sentence is the cause of the other?\n",
      "The child started crying. The child hurt their knee. Answer: The child hurt their knee.\n",
      "Alice ate the last cookie. Bob opened the jar and was frustrated. Answer:\n",
      " Alice ate the last cookie.\n"
     ]
    },
    {
     "name": "stderr",
     "output_type": "stream",
     "text": [
      "\r",
      "99it [03:05,  1.86s/it]"
     ]
    },
    {
     "name": "stdout",
     "output_type": "stream",
     "text": [
      "Question: Which sentence is the cause of the other?\n",
      "The child hurt their knee. The child started crying. Answer: The child hurt their knee.\n",
      "Bob opened the jar and was frustrated. Alice ate the last cookie. Answer:\n",
      " Alice ate the last cookie.\n",
      "Question: Which sentence is the cause of the other?\n",
      "The child started crying. The child hurt their knee. Answer: The child hurt their knee.\n",
      "Bob opened the jar and was frustrated. Alice ate the last cookie. Answer:\n",
      " Alice ate the last cookie.\n"
     ]
    },
    {
     "name": "stderr",
     "output_type": "stream",
     "text": [
      "\r",
      "100it [03:07,  1.83s/it]"
     ]
    },
    {
     "name": "stdout",
     "output_type": "stream",
     "text": [
      "Question: Which sentence is the cause of the other?\n",
      "The child hurt their knee. The child started crying. Answer: The child hurt their knee.\n",
      "Jimmy took the last piece of cake. Mom rinsed the tray. Answer:\n",
      " Mom rinsed the tray.\n",
      "Question: Which sentence is the cause of the other?\n",
      "The child started crying. The child hurt their knee. Answer: The child hurt their knee.\n",
      "Jimmy took the last piece of cake. Mom rinsed the tray. Answer:\n",
      " Mom rinsed the tray.\n"
     ]
    },
    {
     "name": "stderr",
     "output_type": "stream",
     "text": [
      "\r",
      "101it [03:09,  1.83s/it]"
     ]
    },
    {
     "name": "stdout",
     "output_type": "stream",
     "text": [
      "Question: Which sentence is the cause of the other?\n",
      "The child hurt their knee. The child started crying. Answer: The child hurt their knee.\n",
      "Mom rinsed the tray. Jimmy took the last piece of cake. Answer:\n",
      " Mom rinsed the tray.\n",
      "Question: Which sentence is the cause of the other?\n",
      "The child started crying. The child hurt their knee. Answer: The child hurt their knee.\n",
      "Mom rinsed the tray. Jimmy took the last piece of cake. Answer:\n",
      " Jimmy took the last piece of cake.\n"
     ]
    },
    {
     "name": "stderr",
     "output_type": "stream",
     "text": [
      "102it [03:11,  1.88s/it]\n"
     ]
    }
   ],
   "source": [
    "# run and populate the entire dataframe\n",
    "cause_answers = []\n",
    "effect_answers = []\n",
    "cause_answers_switched = []\n",
    "effect_answers_switched = []\n",
    "\n",
    "for index, row in tqdm(df_ce_two_sentences.iterrows()):\n",
    "    prompt_ = row[\"prompts\"]\n",
    "    # cause\n",
    "    prompt_cause = cause_question + example_1 + \"\\n\" + prompt_ + \" Answer:\"\n",
    "    print(prompt_cause)\n",
    "    response_cause = openai.Completion.create(engine=\"text-davinci-001\", prompt=prompt_cause, max_tokens=15, temperature=0)\n",
    "    rc_ = response_cause[\"choices\"][0][\"text\"]\n",
    "    print(rc_)\n",
    "    cause_answers.append(rc_)\n",
    "    # cause switched\n",
    "    prompt_cause_switched = cause_question + example_1_switched + \"\\n\" + prompt_ + \" Answer:\"\n",
    "    print(prompt_cause_switched)\n",
    "    response_cause = openai.Completion.create(engine=\"text-davinci-001\", prompt=prompt_cause_switched, max_tokens=15, temperature=0)\n",
    "    rc_switched = response_cause[\"choices\"][0][\"text\"]\n",
    "    print(rc_switched)\n",
    "    cause_answers_switched.append(rc_switched)\n",
    "    # effect\n",
    "    prompt_effect = effect_question + example_1 + \"\\n\" + prompt_ + \" Answer:\"\n",
    "    response_effect = openai.Completion.create(engine=\"text-davinci-001\", prompt=prompt_effect, max_tokens=15, temperature=0)\n",
    "    re_ = response_effect[\"choices\"][0][\"text\"]\n",
    "    effect_answers.append(re_)\n",
    "    # effect switched\n",
    "    prompt_effect_switched = effect_question + example_1_switched + \"\\n\" + prompt_ + \" Answer:\"\n",
    "    response_effect_switched = openai.Completion.create(engine=\"text-davinci-001\", prompt=prompt_effect_switched, max_tokens=15, temperature=0)\n",
    "    re_switched = response_effect_switched[\"choices\"][0][\"text\"]\n",
    "    effect_answers_switched.append(re_switched)"
   ]
  },
  {
   "cell_type": "code",
   "execution_count": 26,
   "metadata": {},
   "outputs": [
    {
     "data": {
      "text/html": [
       "<div>\n",
       "<style scoped>\n",
       "    .dataframe tbody tr th:only-of-type {\n",
       "        vertical-align: middle;\n",
       "    }\n",
       "\n",
       "    .dataframe tbody tr th {\n",
       "        vertical-align: top;\n",
       "    }\n",
       "\n",
       "    .dataframe thead th {\n",
       "        text-align: right;\n",
       "    }\n",
       "</style>\n",
       "<table border=\"1\" class=\"dataframe\">\n",
       "  <thead>\n",
       "    <tr style=\"text-align: right;\">\n",
       "      <th></th>\n",
       "      <th>prompts</th>\n",
       "      <th>correct_answers</th>\n",
       "      <th>cause_answers</th>\n",
       "      <th>effect_answers</th>\n",
       "      <th>cause_answers_ex_switched</th>\n",
       "      <th>effect_answers_ex_switched</th>\n",
       "    </tr>\n",
       "  </thead>\n",
       "  <tbody>\n",
       "    <tr>\n",
       "      <th>0</th>\n",
       "      <td>The child hurt their knee. The child started c...</td>\n",
       "      <td>The child hurt their knee.</td>\n",
       "      <td>The child started crying.</td>\n",
       "      <td>The child started crying.</td>\n",
       "      <td>The child started crying.</td>\n",
       "      <td>The child started crying.</td>\n",
       "    </tr>\n",
       "    <tr>\n",
       "      <th>1</th>\n",
       "      <td>The child started crying. The child hurt their...</td>\n",
       "      <td>The child hurt their knee.</td>\n",
       "      <td>The child started crying.</td>\n",
       "      <td>The child started crying.</td>\n",
       "      <td>The child hurt their knee.</td>\n",
       "      <td>The child started crying.</td>\n",
       "    </tr>\n",
       "    <tr>\n",
       "      <th>2</th>\n",
       "      <td>My car got dirty. I washed the car.</td>\n",
       "      <td>My car got dirty.</td>\n",
       "      <td>My car got dirty.</td>\n",
       "      <td>My car got dirty.</td>\n",
       "      <td>I washed the car.</td>\n",
       "      <td>I washed the car.</td>\n",
       "    </tr>\n",
       "    <tr>\n",
       "      <th>3</th>\n",
       "      <td>I washed the car. My car got dirty.</td>\n",
       "      <td>My car got dirty.</td>\n",
       "      <td>My car got dirty.</td>\n",
       "      <td>My car got dirty.</td>\n",
       "      <td>My car got dirty.</td>\n",
       "      <td>My car got dirty.</td>\n",
       "    </tr>\n",
       "    <tr>\n",
       "      <th>4</th>\n",
       "      <td>Someone fainted. Someone called 911.</td>\n",
       "      <td>Someone fainted.</td>\n",
       "      <td>Someone called 911.</td>\n",
       "      <td>Someone called 911.</td>\n",
       "      <td>Someone called 911.</td>\n",
       "      <td>Someone called 911.</td>\n",
       "    </tr>\n",
       "  </tbody>\n",
       "</table>\n",
       "</div>"
      ],
      "text/plain": [
       "                                             prompts  \\\n",
       "0  The child hurt their knee. The child started c...   \n",
       "1  The child started crying. The child hurt their...   \n",
       "2                My car got dirty. I washed the car.   \n",
       "3                I washed the car. My car got dirty.   \n",
       "4               Someone fainted. Someone called 911.   \n",
       "\n",
       "              correct_answers               cause_answers  \\\n",
       "0  The child hurt their knee.   The child started crying.   \n",
       "1  The child hurt their knee.   The child started crying.   \n",
       "2           My car got dirty.           My car got dirty.   \n",
       "3           My car got dirty.           My car got dirty.   \n",
       "4            Someone fainted.         Someone called 911.   \n",
       "\n",
       "               effect_answers    cause_answers_ex_switched  \\\n",
       "0   The child started crying.    The child started crying.   \n",
       "1   The child started crying.   The child hurt their knee.   \n",
       "2           My car got dirty.            I washed the car.   \n",
       "3           My car got dirty.            My car got dirty.   \n",
       "4         Someone called 911.          Someone called 911.   \n",
       "\n",
       "   effect_answers_ex_switched  \n",
       "0   The child started crying.  \n",
       "1   The child started crying.  \n",
       "2           I washed the car.  \n",
       "3           My car got dirty.  \n",
       "4         Someone called 911.  "
      ]
     },
     "execution_count": 26,
     "metadata": {},
     "output_type": "execute_result"
    }
   ],
   "source": [
    "# add results to the dataframe and save\n",
    "\n",
    "df_ce_two_sentences[\"cause_answers\"] = cause_answers\n",
    "df_ce_two_sentences[\"effect_answers\"] = effect_answers\n",
    "df_ce_two_sentences[\"cause_answers_ex_switched\"] = cause_answers_switched\n",
    "df_ce_two_sentences[\"effect_answers_ex_switched\"] = effect_answers_switched\n",
    "df_ce_two_sentences.head()"
   ]
  },
  {
   "cell_type": "code",
   "execution_count": 27,
   "metadata": {},
   "outputs": [],
   "source": [
    "df_ce_two_sentences.to_csv(\"data/bigbench_results/ce_two_sentences_results_one_shot.csv\", index=False)"
   ]
  },
  {
   "cell_type": "markdown",
   "metadata": {},
   "source": [
    "## which sentence is more plausible?"
   ]
  },
  {
   "cell_type": "code",
   "execution_count": 42,
   "metadata": {},
   "outputs": [
    {
     "data": {
      "text/html": [
       "<div>\n",
       "<style scoped>\n",
       "    .dataframe tbody tr th:only-of-type {\n",
       "        vertical-align: middle;\n",
       "    }\n",
       "\n",
       "    .dataframe tbody tr th {\n",
       "        vertical-align: top;\n",
       "    }\n",
       "\n",
       "    .dataframe thead th {\n",
       "        text-align: right;\n",
       "    }\n",
       "</style>\n",
       "<table border=\"1\" class=\"dataframe\">\n",
       "  <thead>\n",
       "    <tr style=\"text-align: right;\">\n",
       "      <th></th>\n",
       "      <th>prompts</th>\n",
       "      <th>correct_answers</th>\n",
       "    </tr>\n",
       "  </thead>\n",
       "  <tbody>\n",
       "    <tr>\n",
       "      <th>0</th>\n",
       "      <td>The child started crying because the child hur...</td>\n",
       "      <td>The child started crying because the child hur...</td>\n",
       "    </tr>\n",
       "    <tr>\n",
       "      <th>1</th>\n",
       "      <td>The child hurt their knee because the child st...</td>\n",
       "      <td>The child started crying because the child hur...</td>\n",
       "    </tr>\n",
       "    <tr>\n",
       "      <th>2</th>\n",
       "      <td>I washed the car because my car got dirty. My ...</td>\n",
       "      <td>I washed the car because my car got dirty.</td>\n",
       "    </tr>\n",
       "    <tr>\n",
       "      <th>3</th>\n",
       "      <td>My car got dirty because i washed the car. I w...</td>\n",
       "      <td>I washed the car because my car got dirty.</td>\n",
       "    </tr>\n",
       "    <tr>\n",
       "      <th>4</th>\n",
       "      <td>Someone called 911 because someone fainted. So...</td>\n",
       "      <td>Someone called 911 because someone fainted.</td>\n",
       "    </tr>\n",
       "  </tbody>\n",
       "</table>\n",
       "</div>"
      ],
      "text/plain": [
       "                                             prompts  \\\n",
       "0  The child started crying because the child hur...   \n",
       "1  The child hurt their knee because the child st...   \n",
       "2  I washed the car because my car got dirty. My ...   \n",
       "3  My car got dirty because i washed the car. I w...   \n",
       "4  Someone called 911 because someone fainted. So...   \n",
       "\n",
       "                                     correct_answers  \n",
       "0  The child started crying because the child hur...  \n",
       "1  The child started crying because the child hur...  \n",
       "2         I washed the car because my car got dirty.  \n",
       "3         I washed the car because my car got dirty.  \n",
       "4        Someone called 911 because someone fainted.  "
      ]
     },
     "execution_count": 42,
     "metadata": {},
     "output_type": "execute_result"
    }
   ],
   "source": [
    "# load dataframe\n",
    "\n",
    "df_ce_one_sentence = pd.read_csv(\"data/bigbench_csvs/ce_one_sentence.csv\")\n",
    "df_ce_one_sentence.head()"
   ]
  },
  {
   "cell_type": "code",
   "execution_count": 43,
   "metadata": {},
   "outputs": [
    {
     "name": "stdout",
     "output_type": "stream",
     "text": [
      "Which sentence gets cause and effect right?\n",
      "I washed the car because my car got dirty. My car got dirty because I washed the car. Answer: I washed the car because my car got dirty.\n",
      "Someone called 911 because someone fainted. Someone fainted because someone called 911. Answer:\n"
     ]
    }
   ],
   "source": [
    "test_prompt2 = \"Which sentence gets cause and effect right?\\nI washed the car because my car got dirty. My car got dirty because I washed the car. Answer: I washed the car because my car got dirty.\\nSomeone called 911 because someone fainted. Someone fainted because someone called 911. Answer:\"\n",
    "print(test_prompt2)"
   ]
  },
  {
   "cell_type": "code",
   "execution_count": 45,
   "metadata": {},
   "outputs": [
    {
     "name": "stdout",
     "output_type": "stream",
     "text": [
      " Someone called 911 because someone fainted.\n"
     ]
    }
   ],
   "source": [
    "# test run\n",
    "response2 = openai.Completion.create(engine=\"text-davinci-001\", prompt=test_prompt2, max_tokens=20, temperature=0)\n",
    "print(response2[\"choices\"][0][\"text\"])"
   ]
  },
  {
   "cell_type": "code",
   "execution_count": 46,
   "metadata": {},
   "outputs": [],
   "source": [
    "#question = \"Which sentence is more plausible?\"\n",
    "#question = \"Which sentence is more logical?\"\n",
    "question = \"Which sentence gets cause and effect right?\"\n",
    "example = \"\\nI washed the car because my car got dirty. My car got dirty because I washed the car. Answer: I washed the car because my car got dirty.\"\n",
    "example_switched = \"\\nMy car got dirty because I washed the car. I washed the car because my car got dirty. Answer: I washed the car because my car got dirty.\""
   ]
  },
  {
   "cell_type": "code",
   "execution_count": 47,
   "metadata": {},
   "outputs": [
    {
     "name": "stderr",
     "output_type": "stream",
     "text": [
      "\r",
      "0it [00:00, ?it/s]"
     ]
    },
    {
     "name": "stdout",
     "output_type": "stream",
     "text": [
      "Which sentence gets cause and effect right?\n",
      "I washed the car because my car got dirty. My car got dirty because I washed the car. Answer: I washed the car because my car got dirty.\n",
      "The child started crying because the child hurt their knee. The child hurt their knee because the child started crying.Answer:\n",
      "Which sentence gets cause and effect right?\n",
      "My car got dirty because I washed the car. I washed the car because my car got dirty. Answer: I washed the car because my car got dirty.\n",
      "The child started crying because the child hurt their knee. The child hurt their knee because the child started crying.Answer:\n"
     ]
    },
    {
     "name": "stderr",
     "output_type": "stream",
     "text": [
      "\r",
      "1it [00:00,  1.03it/s]"
     ]
    },
    {
     "name": "stdout",
     "output_type": "stream",
     "text": [
      "Which sentence gets cause and effect right?\n",
      "I washed the car because my car got dirty. My car got dirty because I washed the car. Answer: I washed the car because my car got dirty.\n",
      "The child hurt their knee because the child started crying. The child started crying because the child hurt their knee.Answer:\n",
      "Which sentence gets cause and effect right?\n",
      "My car got dirty because I washed the car. I washed the car because my car got dirty. Answer: I washed the car because my car got dirty.\n",
      "The child hurt their knee because the child started crying. The child started crying because the child hurt their knee.Answer:\n"
     ]
    },
    {
     "name": "stderr",
     "output_type": "stream",
     "text": [
      "\r",
      "2it [00:02,  1.04s/it]"
     ]
    },
    {
     "name": "stdout",
     "output_type": "stream",
     "text": [
      "Which sentence gets cause and effect right?\n",
      "I washed the car because my car got dirty. My car got dirty because I washed the car. Answer: I washed the car because my car got dirty.\n",
      "I washed the car because my car got dirty. My car got dirty because i washed the car.Answer:\n",
      "Which sentence gets cause and effect right?\n",
      "My car got dirty because I washed the car. I washed the car because my car got dirty. Answer: I washed the car because my car got dirty.\n",
      "I washed the car because my car got dirty. My car got dirty because i washed the car.Answer:\n"
     ]
    },
    {
     "name": "stderr",
     "output_type": "stream",
     "text": [
      "\r",
      "3it [00:03,  1.03s/it]"
     ]
    },
    {
     "name": "stdout",
     "output_type": "stream",
     "text": [
      "Which sentence gets cause and effect right?\n",
      "I washed the car because my car got dirty. My car got dirty because I washed the car. Answer: I washed the car because my car got dirty.\n",
      "My car got dirty because i washed the car. I washed the car because my car got dirty.Answer:\n",
      "Which sentence gets cause and effect right?\n",
      "My car got dirty because I washed the car. I washed the car because my car got dirty. Answer: I washed the car because my car got dirty.\n",
      "My car got dirty because i washed the car. I washed the car because my car got dirty.Answer:\n"
     ]
    },
    {
     "name": "stderr",
     "output_type": "stream",
     "text": [
      "\r",
      "4it [00:04,  1.01it/s]"
     ]
    },
    {
     "name": "stdout",
     "output_type": "stream",
     "text": [
      "Which sentence gets cause and effect right?\n",
      "I washed the car because my car got dirty. My car got dirty because I washed the car. Answer: I washed the car because my car got dirty.\n",
      "Someone called 911 because someone fainted. Someone fainted because someone called 911.Answer:\n",
      "Which sentence gets cause and effect right?\n",
      "My car got dirty because I washed the car. I washed the car because my car got dirty. Answer: I washed the car because my car got dirty.\n",
      "Someone called 911 because someone fainted. Someone fainted because someone called 911.Answer:\n"
     ]
    },
    {
     "name": "stderr",
     "output_type": "stream",
     "text": [
      "\r",
      "5it [00:05,  1.02s/it]"
     ]
    },
    {
     "name": "stdout",
     "output_type": "stream",
     "text": [
      "Which sentence gets cause and effect right?\n",
      "I washed the car because my car got dirty. My car got dirty because I washed the car. Answer: I washed the car because my car got dirty.\n",
      "Someone fainted because someone called 911. Someone called 911 because someone fainted.Answer:\n",
      "Which sentence gets cause and effect right?\n",
      "My car got dirty because I washed the car. I washed the car because my car got dirty. Answer: I washed the car because my car got dirty.\n",
      "Someone fainted because someone called 911. Someone called 911 because someone fainted.Answer:\n"
     ]
    },
    {
     "name": "stderr",
     "output_type": "stream",
     "text": [
      "\r",
      "6it [00:06,  1.02s/it]"
     ]
    },
    {
     "name": "stdout",
     "output_type": "stream",
     "text": [
      "Which sentence gets cause and effect right?\n",
      "I washed the car because my car got dirty. My car got dirty because I washed the car. Answer: I washed the car because my car got dirty.\n",
      "The vase shattered on the floor because a man accidently pushed the vase off a counter. A man accidently pushed the vase off a counter because the vase shattered on the floor.Answer:\n",
      "Which sentence gets cause and effect right?\n",
      "My car got dirty because I washed the car. I washed the car because my car got dirty. Answer: I washed the car because my car got dirty.\n",
      "The vase shattered on the floor because a man accidently pushed the vase off a counter. A man accidently pushed the vase off a counter because the vase shattered on the floor.Answer:\n"
     ]
    },
    {
     "name": "stderr",
     "output_type": "stream",
     "text": [
      "\r",
      "7it [00:07,  1.07s/it]"
     ]
    },
    {
     "name": "stdout",
     "output_type": "stream",
     "text": [
      "Which sentence gets cause and effect right?\n",
      "I washed the car because my car got dirty. My car got dirty because I washed the car. Answer: I washed the car because my car got dirty.\n",
      "A man accidently pushed the vase off a counter because the vase shattered on the floor. The vase shattered on the floor because a man accidently pushed the vase off a counter.Answer:\n",
      "Which sentence gets cause and effect right?\n",
      "My car got dirty because I washed the car. I washed the car because my car got dirty. Answer: I washed the car because my car got dirty.\n",
      "A man accidently pushed the vase off a counter because the vase shattered on the floor. The vase shattered on the floor because a man accidently pushed the vase off a counter.Answer:\n"
     ]
    },
    {
     "name": "stderr",
     "output_type": "stream",
     "text": [
      "\r",
      "8it [00:08,  1.07s/it]"
     ]
    },
    {
     "name": "stdout",
     "output_type": "stream",
     "text": [
      "Which sentence gets cause and effect right?\n",
      "I washed the car because my car got dirty. My car got dirty because I washed the car. Answer: I washed the car because my car got dirty.\n",
      "The woman who was walking on the street opened her umbrella because it started raining. It started raining because the woman who was walking on the street opened her umbrella.Answer:\n",
      "Which sentence gets cause and effect right?\n",
      "My car got dirty because I washed the car. I washed the car because my car got dirty. Answer: I washed the car because my car got dirty.\n",
      "The woman who was walking on the street opened her umbrella because it started raining. It started raining because the woman who was walking on the street opened her umbrella.Answer:\n"
     ]
    },
    {
     "name": "stderr",
     "output_type": "stream",
     "text": [
      "\r",
      "9it [00:09,  1.12s/it]"
     ]
    },
    {
     "name": "stdout",
     "output_type": "stream",
     "text": [
      "Which sentence gets cause and effect right?\n",
      "I washed the car because my car got dirty. My car got dirty because I washed the car. Answer: I washed the car because my car got dirty.\n",
      "It started raining because the woman who was walking on the street opened her umbrella. The woman who was walking on the street opened her umbrella because it started raining.Answer:\n",
      "Which sentence gets cause and effect right?\n",
      "My car got dirty because I washed the car. I washed the car because my car got dirty. Answer: I washed the car because my car got dirty.\n",
      "It started raining because the woman who was walking on the street opened her umbrella. The woman who was walking on the street opened her umbrella because it started raining.Answer:\n"
     ]
    },
    {
     "name": "stderr",
     "output_type": "stream",
     "text": [
      "\r",
      "10it [00:10,  1.15s/it]"
     ]
    },
    {
     "name": "stdout",
     "output_type": "stream",
     "text": [
      "Which sentence gets cause and effect right?\n",
      "I washed the car because my car got dirty. My car got dirty because I washed the car. Answer: I washed the car because my car got dirty.\n",
      "The boy lifted his eyes from the book because there was a loud noise. There was a loud noise because the boy lifted his eyes from the book.Answer:\n",
      "Which sentence gets cause and effect right?\n",
      "My car got dirty because I washed the car. I washed the car because my car got dirty. Answer: I washed the car because my car got dirty.\n",
      "The boy lifted his eyes from the book because there was a loud noise. There was a loud noise because the boy lifted his eyes from the book.Answer:\n"
     ]
    },
    {
     "name": "stderr",
     "output_type": "stream",
     "text": [
      "\r",
      "11it [00:12,  1.15s/it]"
     ]
    },
    {
     "name": "stdout",
     "output_type": "stream",
     "text": [
      "Which sentence gets cause and effect right?\n",
      "I washed the car because my car got dirty. My car got dirty because I washed the car. Answer: I washed the car because my car got dirty.\n",
      "There was a loud noise because the boy lifted his eyes from the book. The boy lifted his eyes from the book because there was a loud noise.Answer:\n",
      "Which sentence gets cause and effect right?\n",
      "My car got dirty because I washed the car. I washed the car because my car got dirty. Answer: I washed the car because my car got dirty.\n",
      "There was a loud noise because the boy lifted his eyes from the book. The boy lifted his eyes from the book because there was a loud noise.Answer:\n"
     ]
    },
    {
     "name": "stderr",
     "output_type": "stream",
     "text": [
      "\r",
      "12it [00:13,  1.12s/it]"
     ]
    },
    {
     "name": "stdout",
     "output_type": "stream",
     "text": [
      "Which sentence gets cause and effect right?\n",
      "I washed the car because my car got dirty. My car got dirty because I washed the car. Answer: I washed the car because my car got dirty.\n",
      "The girl woke up covered in cold sweat because the girl had a nightmare. The girl had a nightmare because the girl woke up covered in cold sweat.Answer:\n",
      "Which sentence gets cause and effect right?\n",
      "My car got dirty because I washed the car. I washed the car because my car got dirty. Answer: I washed the car because my car got dirty.\n",
      "The girl woke up covered in cold sweat because the girl had a nightmare. The girl had a nightmare because the girl woke up covered in cold sweat.Answer:\n"
     ]
    },
    {
     "name": "stderr",
     "output_type": "stream",
     "text": [
      "\r",
      "13it [00:14,  1.07s/it]"
     ]
    },
    {
     "name": "stdout",
     "output_type": "stream",
     "text": [
      "Which sentence gets cause and effect right?\n",
      "I washed the car because my car got dirty. My car got dirty because I washed the car. Answer: I washed the car because my car got dirty.\n",
      "The girl had a nightmare because the girl woke up covered in cold sweat. The girl woke up covered in cold sweat because the girl had a nightmare.Answer:\n",
      "Which sentence gets cause and effect right?\n",
      "My car got dirty because I washed the car. I washed the car because my car got dirty. Answer: I washed the car because my car got dirty.\n",
      "The girl had a nightmare because the girl woke up covered in cold sweat. The girl woke up covered in cold sweat because the girl had a nightmare.Answer:\n"
     ]
    },
    {
     "name": "stderr",
     "output_type": "stream",
     "text": [
      "\r",
      "14it [00:15,  1.15s/it]"
     ]
    },
    {
     "name": "stdout",
     "output_type": "stream",
     "text": [
      "Which sentence gets cause and effect right?\n",
      "I washed the car because my car got dirty. My car got dirty because I washed the car. Answer: I washed the car because my car got dirty.\n",
      "The driver turned the wipers on because it started raining. It started raining because the driver turned the wipers on.Answer:\n",
      "Which sentence gets cause and effect right?\n",
      "My car got dirty because I washed the car. I washed the car because my car got dirty. Answer: I washed the car because my car got dirty.\n",
      "The driver turned the wipers on because it started raining. It started raining because the driver turned the wipers on.Answer:\n"
     ]
    },
    {
     "name": "stderr",
     "output_type": "stream",
     "text": [
      "\r",
      "15it [00:16,  1.23s/it]"
     ]
    },
    {
     "name": "stdout",
     "output_type": "stream",
     "text": [
      "Which sentence gets cause and effect right?\n",
      "I washed the car because my car got dirty. My car got dirty because I washed the car. Answer: I washed the car because my car got dirty.\n",
      "It started raining because the driver turned the wipers on. The driver turned the wipers on because it started raining.Answer:\n",
      "Which sentence gets cause and effect right?\n",
      "My car got dirty because I washed the car. I washed the car because my car got dirty. Answer: I washed the car because my car got dirty.\n",
      "It started raining because the driver turned the wipers on. The driver turned the wipers on because it started raining.Answer:\n"
     ]
    },
    {
     "name": "stderr",
     "output_type": "stream",
     "text": [
      "\r",
      "16it [00:18,  1.35s/it]"
     ]
    },
    {
     "name": "stdout",
     "output_type": "stream",
     "text": [
      "Which sentence gets cause and effect right?\n",
      "I washed the car because my car got dirty. My car got dirty because I washed the car. Answer: I washed the car because my car got dirty.\n",
      "A man was covered in sticky red goo because a watermelon exploded. A watermelon exploded because a man was covered in sticky red goo.Answer:\n",
      "Which sentence gets cause and effect right?\n",
      "My car got dirty because I washed the car. I washed the car because my car got dirty. Answer: I washed the car because my car got dirty.\n",
      "A man was covered in sticky red goo because a watermelon exploded. A watermelon exploded because a man was covered in sticky red goo.Answer:\n"
     ]
    },
    {
     "name": "stderr",
     "output_type": "stream",
     "text": [
      "\r",
      "17it [00:19,  1.40s/it]"
     ]
    },
    {
     "name": "stdout",
     "output_type": "stream",
     "text": [
      "Which sentence gets cause and effect right?\n",
      "I washed the car because my car got dirty. My car got dirty because I washed the car. Answer: I washed the car because my car got dirty.\n",
      "A watermelon exploded because a man was covered in sticky red goo. A man was covered in sticky red goo because a watermelon exploded.Answer:\n",
      "Which sentence gets cause and effect right?\n",
      "My car got dirty because I washed the car. I washed the car because my car got dirty. Answer: I washed the car because my car got dirty.\n",
      "A watermelon exploded because a man was covered in sticky red goo. A man was covered in sticky red goo because a watermelon exploded.Answer:\n"
     ]
    },
    {
     "name": "stderr",
     "output_type": "stream",
     "text": [
      "\r",
      "18it [00:21,  1.30s/it]"
     ]
    },
    {
     "name": "stdout",
     "output_type": "stream",
     "text": [
      "Which sentence gets cause and effect right?\n",
      "I washed the car because my car got dirty. My car got dirty because I washed the car. Answer: I washed the car because my car got dirty.\n",
      "She went to the store and bought toilet paper because she noticed that she was out of toilet paper. She noticed that she was out of toilet paper because she went to the store and bought toilet paper.Answer:\n",
      "Which sentence gets cause and effect right?\n",
      "My car got dirty because I washed the car. I washed the car because my car got dirty. Answer: I washed the car because my car got dirty.\n",
      "She went to the store and bought toilet paper because she noticed that she was out of toilet paper. She noticed that she was out of toilet paper because she went to the store and bought toilet paper.Answer:\n"
     ]
    },
    {
     "name": "stderr",
     "output_type": "stream",
     "text": [
      "\r",
      "19it [00:22,  1.45s/it]"
     ]
    },
    {
     "name": "stdout",
     "output_type": "stream",
     "text": [
      "Which sentence gets cause and effect right?\n",
      "I washed the car because my car got dirty. My car got dirty because I washed the car. Answer: I washed the car because my car got dirty.\n",
      "She noticed that she was out of toilet paper because she went to the store and bought toilet paper. She went to the store and bought toilet paper because she noticed that she was out of toilet paper.Answer:\n",
      "Which sentence gets cause and effect right?\n",
      "My car got dirty because I washed the car. I washed the car because my car got dirty. Answer: I washed the car because my car got dirty.\n",
      "She noticed that she was out of toilet paper because she went to the store and bought toilet paper. She went to the store and bought toilet paper because she noticed that she was out of toilet paper.Answer:\n"
     ]
    },
    {
     "name": "stderr",
     "output_type": "stream",
     "text": [
      "\r",
      "20it [00:24,  1.42s/it]"
     ]
    },
    {
     "name": "stdout",
     "output_type": "stream",
     "text": [
      "Which sentence gets cause and effect right?\n",
      "I washed the car because my car got dirty. My car got dirty because I washed the car. Answer: I washed the car because my car got dirty.\n",
      "The dinosaurs became extinct because a large object hit the Earth. A large object hit the Earth because the dinosaurs became extinct.Answer:\n",
      "Which sentence gets cause and effect right?\n",
      "My car got dirty because I washed the car. I washed the car because my car got dirty. Answer: I washed the car because my car got dirty.\n",
      "The dinosaurs became extinct because a large object hit the Earth. A large object hit the Earth because the dinosaurs became extinct.Answer:\n"
     ]
    },
    {
     "name": "stderr",
     "output_type": "stream",
     "text": [
      "\r",
      "21it [00:26,  1.55s/it]"
     ]
    },
    {
     "name": "stdout",
     "output_type": "stream",
     "text": [
      "Which sentence gets cause and effect right?\n",
      "I washed the car because my car got dirty. My car got dirty because I washed the car. Answer: I washed the car because my car got dirty.\n",
      "A large object hit the Earth because the dinosaurs became extinct. The dinosaurs became extinct because a large object hit the Earth.Answer:\n",
      "Which sentence gets cause and effect right?\n",
      "My car got dirty because I washed the car. I washed the car because my car got dirty. Answer: I washed the car because my car got dirty.\n",
      "A large object hit the Earth because the dinosaurs became extinct. The dinosaurs became extinct because a large object hit the Earth.Answer:\n"
     ]
    },
    {
     "name": "stderr",
     "output_type": "stream",
     "text": [
      "\r",
      "22it [00:27,  1.39s/it]"
     ]
    },
    {
     "name": "stdout",
     "output_type": "stream",
     "text": [
      "Which sentence gets cause and effect right?\n",
      "I washed the car because my car got dirty. My car got dirty because I washed the car. Answer: I washed the car because my car got dirty.\n",
      "The soda went flat because the bottle was left open. The bottle was left open because the soda went flat.Answer:\n",
      "Which sentence gets cause and effect right?\n",
      "My car got dirty because I washed the car. I washed the car because my car got dirty. Answer: I washed the car because my car got dirty.\n",
      "The soda went flat because the bottle was left open. The bottle was left open because the soda went flat.Answer:\n"
     ]
    },
    {
     "name": "stderr",
     "output_type": "stream",
     "text": [
      "\r",
      "23it [00:27,  1.25s/it]"
     ]
    },
    {
     "name": "stdout",
     "output_type": "stream",
     "text": [
      "Which sentence gets cause and effect right?\n",
      "I washed the car because my car got dirty. My car got dirty because I washed the car. Answer: I washed the car because my car got dirty.\n",
      "The bottle was left open because the soda went flat. The soda went flat because the bottle was left open.Answer:\n",
      "Which sentence gets cause and effect right?\n",
      "My car got dirty because I washed the car. I washed the car because my car got dirty. Answer: I washed the car because my car got dirty.\n",
      "The bottle was left open because the soda went flat. The soda went flat because the bottle was left open.Answer:\n"
     ]
    },
    {
     "name": "stderr",
     "output_type": "stream",
     "text": [
      "\r",
      "24it [00:29,  1.25s/it]"
     ]
    },
    {
     "name": "stdout",
     "output_type": "stream",
     "text": [
      "Which sentence gets cause and effect right?\n",
      "I washed the car because my car got dirty. My car got dirty because I washed the car. Answer: I washed the car because my car got dirty.\n",
      "George plugged the laptop charger in because the laptop ran out of battery. The laptop ran out of battery because George plugged the laptop charger in.Answer:\n",
      "Which sentence gets cause and effect right?\n",
      "My car got dirty because I washed the car. I washed the car because my car got dirty. Answer: I washed the car because my car got dirty.\n",
      "George plugged the laptop charger in because the laptop ran out of battery. The laptop ran out of battery because George plugged the laptop charger in.Answer:\n"
     ]
    },
    {
     "name": "stderr",
     "output_type": "stream",
     "text": [
      "\r",
      "25it [00:30,  1.23s/it]"
     ]
    },
    {
     "name": "stdout",
     "output_type": "stream",
     "text": [
      "Which sentence gets cause and effect right?\n",
      "I washed the car because my car got dirty. My car got dirty because I washed the car. Answer: I washed the car because my car got dirty.\n",
      "The laptop ran out of battery because George plugged the laptop charger in. George plugged the laptop charger in because the laptop ran out of battery.Answer:\n",
      "Which sentence gets cause and effect right?\n",
      "My car got dirty because I washed the car. I washed the car because my car got dirty. Answer: I washed the car because my car got dirty.\n",
      "The laptop ran out of battery because George plugged the laptop charger in. George plugged the laptop charger in because the laptop ran out of battery.Answer:\n"
     ]
    },
    {
     "name": "stderr",
     "output_type": "stream",
     "text": [
      "\r",
      "26it [00:31,  1.21s/it]"
     ]
    },
    {
     "name": "stdout",
     "output_type": "stream",
     "text": [
      "Which sentence gets cause and effect right?\n",
      "I washed the car because my car got dirty. My car got dirty because I washed the car. Answer: I washed the car because my car got dirty.\n",
      "Sunlight filled the room because the curtains were opened. The curtains were opened because sunlight filled the room.Answer:\n",
      "Which sentence gets cause and effect right?\n",
      "My car got dirty because I washed the car. I washed the car because my car got dirty. Answer: I washed the car because my car got dirty.\n",
      "Sunlight filled the room because the curtains were opened. The curtains were opened because sunlight filled the room.Answer:\n"
     ]
    },
    {
     "name": "stderr",
     "output_type": "stream",
     "text": [
      "\r",
      "27it [00:32,  1.24s/it]"
     ]
    },
    {
     "name": "stdout",
     "output_type": "stream",
     "text": [
      "Which sentence gets cause and effect right?\n",
      "I washed the car because my car got dirty. My car got dirty because I washed the car. Answer: I washed the car because my car got dirty.\n",
      "The curtains were opened because sunlight filled the room. Sunlight filled the room because the curtains were opened.Answer:\n",
      "Which sentence gets cause and effect right?\n",
      "My car got dirty because I washed the car. I washed the car because my car got dirty. Answer: I washed the car because my car got dirty.\n",
      "The curtains were opened because sunlight filled the room. Sunlight filled the room because the curtains were opened.Answer:\n"
     ]
    },
    {
     "name": "stderr",
     "output_type": "stream",
     "text": [
      "\r",
      "28it [00:34,  1.21s/it]"
     ]
    },
    {
     "name": "stdout",
     "output_type": "stream",
     "text": [
      "Which sentence gets cause and effect right?\n",
      "I washed the car because my car got dirty. My car got dirty because I washed the car. Answer: I washed the car because my car got dirty.\n",
      "Tomatoes grew on the vine because the insect pollinated the tomato flowers. The insect pollinated the tomato flowers because tomatoes grew on the vine.Answer:\n",
      "Which sentence gets cause and effect right?\n",
      "My car got dirty because I washed the car. I washed the car because my car got dirty. Answer: I washed the car because my car got dirty.\n",
      "Tomatoes grew on the vine because the insect pollinated the tomato flowers. The insect pollinated the tomato flowers because tomatoes grew on the vine.Answer:\n"
     ]
    },
    {
     "name": "stderr",
     "output_type": "stream",
     "text": [
      "\r",
      "29it [00:35,  1.15s/it]"
     ]
    },
    {
     "name": "stdout",
     "output_type": "stream",
     "text": [
      "Which sentence gets cause and effect right?\n",
      "I washed the car because my car got dirty. My car got dirty because I washed the car. Answer: I washed the car because my car got dirty.\n",
      "The insect pollinated the tomato flowers because tomatoes grew on the vine. Tomatoes grew on the vine because the insect pollinated the tomato flowers.Answer:\n",
      "Which sentence gets cause and effect right?\n",
      "My car got dirty because I washed the car. I washed the car because my car got dirty. Answer: I washed the car because my car got dirty.\n",
      "The insect pollinated the tomato flowers because tomatoes grew on the vine. Tomatoes grew on the vine because the insect pollinated the tomato flowers.Answer:\n"
     ]
    },
    {
     "name": "stderr",
     "output_type": "stream",
     "text": [
      "\r",
      "30it [00:36,  1.18s/it]"
     ]
    },
    {
     "name": "stdout",
     "output_type": "stream",
     "text": [
      "Which sentence gets cause and effect right?\n",
      "I washed the car because my car got dirty. My car got dirty because I washed the car. Answer: I washed the car because my car got dirty.\n",
      "The driver hit the brakes because the girl stepped onto the street. The girl stepped onto the street because the driver hit the brakes.Answer:\n",
      "Which sentence gets cause and effect right?\n",
      "My car got dirty because I washed the car. I washed the car because my car got dirty. Answer: I washed the car because my car got dirty.\n",
      "The driver hit the brakes because the girl stepped onto the street. The girl stepped onto the street because the driver hit the brakes.Answer:\n"
     ]
    },
    {
     "name": "stderr",
     "output_type": "stream",
     "text": [
      "\r",
      "31it [00:37,  1.22s/it]"
     ]
    },
    {
     "name": "stdout",
     "output_type": "stream",
     "text": [
      "Which sentence gets cause and effect right?\n",
      "I washed the car because my car got dirty. My car got dirty because I washed the car. Answer: I washed the car because my car got dirty.\n",
      "The girl stepped onto the street because the driver hit the brakes. The driver hit the brakes because the girl stepped onto the street.Answer:\n",
      "Which sentence gets cause and effect right?\n",
      "My car got dirty because I washed the car. I washed the car because my car got dirty. Answer: I washed the car because my car got dirty.\n",
      "The girl stepped onto the street because the driver hit the brakes. The driver hit the brakes because the girl stepped onto the street.Answer:\n"
     ]
    },
    {
     "name": "stderr",
     "output_type": "stream",
     "text": [
      "\r",
      "32it [00:39,  1.44s/it]"
     ]
    },
    {
     "name": "stdout",
     "output_type": "stream",
     "text": [
      "Which sentence gets cause and effect right?\n",
      "I washed the car because my car got dirty. My car got dirty because I washed the car. Answer: I washed the car because my car got dirty.\n",
      "The performer ran off the stage because there was a wardrobe malfunction. There was a wardrobe malfunction because the performer ran off the stage.Answer:\n",
      "Which sentence gets cause and effect right?\n",
      "My car got dirty because I washed the car. I washed the car because my car got dirty. Answer: I washed the car because my car got dirty.\n",
      "The performer ran off the stage because there was a wardrobe malfunction. There was a wardrobe malfunction because the performer ran off the stage.Answer:\n"
     ]
    },
    {
     "name": "stderr",
     "output_type": "stream",
     "text": [
      "\r",
      "33it [00:40,  1.31s/it]"
     ]
    },
    {
     "name": "stdout",
     "output_type": "stream",
     "text": [
      "Which sentence gets cause and effect right?\n",
      "I washed the car because my car got dirty. My car got dirty because I washed the car. Answer: I washed the car because my car got dirty.\n",
      "There was a wardrobe malfunction because the performer ran off the stage. The performer ran off the stage because there was a wardrobe malfunction.Answer:\n",
      "Which sentence gets cause and effect right?\n",
      "My car got dirty because I washed the car. I washed the car because my car got dirty. Answer: I washed the car because my car got dirty.\n",
      "There was a wardrobe malfunction because the performer ran off the stage. The performer ran off the stage because there was a wardrobe malfunction.Answer:\n"
     ]
    },
    {
     "name": "stderr",
     "output_type": "stream",
     "text": [
      "\r",
      "34it [00:41,  1.20s/it]"
     ]
    },
    {
     "name": "stdout",
     "output_type": "stream",
     "text": [
      "Which sentence gets cause and effect right?\n",
      "I washed the car because my car got dirty. My car got dirty because I washed the car. Answer: I washed the car because my car got dirty.\n",
      "The pilot turned on the \"fasten seatbelts\" light because a bird hit the engine. A bird hit the engine because the pilot turned on the \"fasten seatbelts\" light.Answer:\n",
      "Which sentence gets cause and effect right?\n",
      "My car got dirty because I washed the car. I washed the car because my car got dirty. Answer: I washed the car because my car got dirty.\n",
      "The pilot turned on the \"fasten seatbelts\" light because a bird hit the engine. A bird hit the engine because the pilot turned on the \"fasten seatbelts\" light.Answer:\n"
     ]
    },
    {
     "name": "stderr",
     "output_type": "stream",
     "text": [
      "\r",
      "35it [00:42,  1.18s/it]"
     ]
    },
    {
     "name": "stdout",
     "output_type": "stream",
     "text": [
      "Which sentence gets cause and effect right?\n",
      "I washed the car because my car got dirty. My car got dirty because I washed the car. Answer: I washed the car because my car got dirty.\n",
      "A bird hit the engine because the pilot turned on the \"fasten seatbelts\" light. The pilot turned on the \"fasten seatbelts\" light because a bird hit the engine.Answer:\n",
      "Which sentence gets cause and effect right?\n",
      "My car got dirty because I washed the car. I washed the car because my car got dirty. Answer: I washed the car because my car got dirty.\n",
      "A bird hit the engine because the pilot turned on the \"fasten seatbelts\" light. The pilot turned on the \"fasten seatbelts\" light because a bird hit the engine.Answer:\n"
     ]
    },
    {
     "name": "stderr",
     "output_type": "stream",
     "text": [
      "\r",
      "36it [00:44,  1.25s/it]"
     ]
    },
    {
     "name": "stdout",
     "output_type": "stream",
     "text": [
      "Which sentence gets cause and effect right?\n",
      "I washed the car because my car got dirty. My car got dirty because I washed the car. Answer: I washed the car because my car got dirty.\n",
      "The man sipped the milk and spit it out because the milk was left outside the fridge over night. The milk was left outside the fridge over night because the man sipped the milk and spit it out.Answer:\n",
      "Which sentence gets cause and effect right?\n",
      "My car got dirty because I washed the car. I washed the car because my car got dirty. Answer: I washed the car because my car got dirty.\n",
      "The man sipped the milk and spit it out because the milk was left outside the fridge over night. The milk was left outside the fridge over night because the man sipped the milk and spit it out.Answer:\n"
     ]
    },
    {
     "name": "stderr",
     "output_type": "stream",
     "text": [
      "\r",
      "37it [00:45,  1.24s/it]"
     ]
    },
    {
     "name": "stdout",
     "output_type": "stream",
     "text": [
      "Which sentence gets cause and effect right?\n",
      "I washed the car because my car got dirty. My car got dirty because I washed the car. Answer: I washed the car because my car got dirty.\n",
      "The milk was left outside the fridge over night because the man sipped the milk and spit it out. The man sipped the milk and spit it out because the milk was left outside the fridge over night.Answer:\n",
      "Which sentence gets cause and effect right?\n",
      "My car got dirty because I washed the car. I washed the car because my car got dirty. Answer: I washed the car because my car got dirty.\n",
      "The milk was left outside the fridge over night because the man sipped the milk and spit it out. The man sipped the milk and spit it out because the milk was left outside the fridge over night.Answer:\n"
     ]
    },
    {
     "name": "stderr",
     "output_type": "stream",
     "text": [
      "\r",
      "38it [00:46,  1.27s/it]"
     ]
    },
    {
     "name": "stdout",
     "output_type": "stream",
     "text": [
      "Which sentence gets cause and effect right?\n",
      "I washed the car because my car got dirty. My car got dirty because I washed the car. Answer: I washed the car because my car got dirty.\n",
      "The man turned down the music volume because the man couldn't hear what the woman was saying. The man couldn't hear what the woman was saying because the man turned down the music volume.Answer:\n",
      "Which sentence gets cause and effect right?\n",
      "My car got dirty because I washed the car. I washed the car because my car got dirty. Answer: I washed the car because my car got dirty.\n",
      "The man turned down the music volume because the man couldn't hear what the woman was saying. The man couldn't hear what the woman was saying because the man turned down the music volume.Answer:\n"
     ]
    },
    {
     "name": "stderr",
     "output_type": "stream",
     "text": [
      "\r",
      "39it [00:47,  1.22s/it]"
     ]
    },
    {
     "name": "stdout",
     "output_type": "stream",
     "text": [
      "Which sentence gets cause and effect right?\n",
      "I washed the car because my car got dirty. My car got dirty because I washed the car. Answer: I washed the car because my car got dirty.\n",
      "The man couldn't hear what the woman was saying because the man turned down the music volume. The man turned down the music volume because the man couldn't hear what the woman was saying.Answer:\n",
      "Which sentence gets cause and effect right?\n",
      "My car got dirty because I washed the car. I washed the car because my car got dirty. Answer: I washed the car because my car got dirty.\n",
      "The man couldn't hear what the woman was saying because the man turned down the music volume. The man turned down the music volume because the man couldn't hear what the woman was saying.Answer:\n"
     ]
    },
    {
     "name": "stderr",
     "output_type": "stream",
     "text": [
      "\r",
      "40it [00:49,  1.26s/it]"
     ]
    },
    {
     "name": "stdout",
     "output_type": "stream",
     "text": [
      "Which sentence gets cause and effect right?\n",
      "I washed the car because my car got dirty. My car got dirty because I washed the car. Answer: I washed the car because my car got dirty.\n",
      "The meat spoiled because the power was out for days. The power was out for days because the meat spoiled.Answer:\n",
      "Which sentence gets cause and effect right?\n",
      "My car got dirty because I washed the car. I washed the car because my car got dirty. Answer: I washed the car because my car got dirty.\n",
      "The meat spoiled because the power was out for days. The power was out for days because the meat spoiled.Answer:\n"
     ]
    },
    {
     "name": "stderr",
     "output_type": "stream",
     "text": [
      "\r",
      "41it [00:50,  1.16s/it]"
     ]
    },
    {
     "name": "stdout",
     "output_type": "stream",
     "text": [
      "Which sentence gets cause and effect right?\n",
      "I washed the car because my car got dirty. My car got dirty because I washed the car. Answer: I washed the car because my car got dirty.\n",
      "The power was out for days because the meat spoiled. The meat spoiled because the power was out for days.Answer:\n",
      "Which sentence gets cause and effect right?\n",
      "My car got dirty because I washed the car. I washed the car because my car got dirty. Answer: I washed the car because my car got dirty.\n",
      "The power was out for days because the meat spoiled. The meat spoiled because the power was out for days.Answer:\n"
     ]
    },
    {
     "name": "stderr",
     "output_type": "stream",
     "text": [
      "\r",
      "42it [00:50,  1.08s/it]"
     ]
    },
    {
     "name": "stdout",
     "output_type": "stream",
     "text": [
      "Which sentence gets cause and effect right?\n",
      "I washed the car because my car got dirty. My car got dirty because I washed the car. Answer: I washed the car because my car got dirty.\n",
      "A flower grew because the gardener planted a seed. The gardener planted a seed because a flower grew.Answer:\n",
      "Which sentence gets cause and effect right?\n",
      "My car got dirty because I washed the car. I washed the car because my car got dirty. Answer: I washed the car because my car got dirty.\n",
      "A flower grew because the gardener planted a seed. The gardener planted a seed because a flower grew.Answer:\n"
     ]
    },
    {
     "name": "stderr",
     "output_type": "stream",
     "text": [
      "\r",
      "43it [00:51,  1.02s/it]"
     ]
    },
    {
     "name": "stdout",
     "output_type": "stream",
     "text": [
      "Which sentence gets cause and effect right?\n",
      "I washed the car because my car got dirty. My car got dirty because I washed the car. Answer: I washed the car because my car got dirty.\n",
      "The gardener planted a seed because a flower grew. A flower grew because the gardener planted a seed.Answer:\n",
      "Which sentence gets cause and effect right?\n",
      "My car got dirty because I washed the car. I washed the car because my car got dirty. Answer: I washed the car because my car got dirty.\n",
      "The gardener planted a seed because a flower grew. A flower grew because the gardener planted a seed.Answer:\n"
     ]
    },
    {
     "name": "stderr",
     "output_type": "stream",
     "text": [
      "\r",
      "44it [00:53,  1.12s/it]"
     ]
    },
    {
     "name": "stdout",
     "output_type": "stream",
     "text": [
      "Which sentence gets cause and effect right?\n",
      "I washed the car because my car got dirty. My car got dirty because I washed the car. Answer: I washed the car because my car got dirty.\n",
      "The team won the championship because the team won the game. The team won the game because the team won the championship.Answer:\n",
      "Which sentence gets cause and effect right?\n",
      "My car got dirty because I washed the car. I washed the car because my car got dirty. Answer: I washed the car because my car got dirty.\n",
      "The team won the championship because the team won the game. The team won the game because the team won the championship.Answer:\n"
     ]
    },
    {
     "name": "stderr",
     "output_type": "stream",
     "text": [
      "\r",
      "45it [00:54,  1.24s/it]"
     ]
    },
    {
     "name": "stdout",
     "output_type": "stream",
     "text": [
      "Which sentence gets cause and effect right?\n",
      "I washed the car because my car got dirty. My car got dirty because I washed the car. Answer: I washed the car because my car got dirty.\n",
      "The team won the game because the team won the championship. The team won the championship because the team won the game.Answer:\n",
      "Which sentence gets cause and effect right?\n",
      "My car got dirty because I washed the car. I washed the car because my car got dirty. Answer: I washed the car because my car got dirty.\n",
      "The team won the game because the team won the championship. The team won the championship because the team won the game.Answer:\n"
     ]
    },
    {
     "name": "stderr",
     "output_type": "stream",
     "text": [
      "\r",
      "46it [00:56,  1.30s/it]"
     ]
    },
    {
     "name": "stdout",
     "output_type": "stream",
     "text": [
      "Which sentence gets cause and effect right?\n",
      "I washed the car because my car got dirty. My car got dirty because I washed the car. Answer: I washed the car because my car got dirty.\n",
      "The man climbed in through the window because the door was locked. The door was locked because the man climbed in through the window.Answer:\n",
      "Which sentence gets cause and effect right?\n",
      "My car got dirty because I washed the car. I washed the car because my car got dirty. Answer: I washed the car because my car got dirty.\n",
      "The man climbed in through the window because the door was locked. The door was locked because the man climbed in through the window.Answer:\n"
     ]
    },
    {
     "name": "stderr",
     "output_type": "stream",
     "text": [
      "\r",
      "47it [00:57,  1.19s/it]"
     ]
    },
    {
     "name": "stdout",
     "output_type": "stream",
     "text": [
      "Which sentence gets cause and effect right?\n",
      "I washed the car because my car got dirty. My car got dirty because I washed the car. Answer: I washed the car because my car got dirty.\n",
      "The door was locked because the man climbed in through the window. The man climbed in through the window because the door was locked.Answer:\n",
      "Which sentence gets cause and effect right?\n",
      "My car got dirty because I washed the car. I washed the car because my car got dirty. Answer: I washed the car because my car got dirty.\n",
      "The door was locked because the man climbed in through the window. The man climbed in through the window because the door was locked.Answer:\n"
     ]
    },
    {
     "name": "stderr",
     "output_type": "stream",
     "text": [
      "\r",
      "48it [00:58,  1.14s/it]"
     ]
    },
    {
     "name": "stdout",
     "output_type": "stream",
     "text": [
      "Which sentence gets cause and effect right?\n",
      "I washed the car because my car got dirty. My car got dirty because I washed the car. Answer: I washed the car because my car got dirty.\n",
      "The ship capsized because the wind blew strong. The wind blew strong because the ship capsized.Answer:\n",
      "Which sentence gets cause and effect right?\n",
      "My car got dirty because I washed the car. I washed the car because my car got dirty. Answer: I washed the car because my car got dirty.\n",
      "The ship capsized because the wind blew strong. The wind blew strong because the ship capsized.Answer:\n"
     ]
    },
    {
     "name": "stderr",
     "output_type": "stream",
     "text": [
      "\r",
      "49it [00:59,  1.12s/it]"
     ]
    },
    {
     "name": "stdout",
     "output_type": "stream",
     "text": [
      "Which sentence gets cause and effect right?\n",
      "I washed the car because my car got dirty. My car got dirty because I washed the car. Answer: I washed the car because my car got dirty.\n",
      "The wind blew strong because the ship capsized. The ship capsized because the wind blew strong.Answer:\n",
      "Which sentence gets cause and effect right?\n",
      "My car got dirty because I washed the car. I washed the car because my car got dirty. Answer: I washed the car because my car got dirty.\n",
      "The wind blew strong because the ship capsized. The ship capsized because the wind blew strong.Answer:\n"
     ]
    },
    {
     "name": "stderr",
     "output_type": "stream",
     "text": [
      "\r",
      "50it [01:00,  1.20s/it]"
     ]
    },
    {
     "name": "stdout",
     "output_type": "stream",
     "text": [
      "Which sentence gets cause and effect right?\n",
      "I washed the car because my car got dirty. My car got dirty because I washed the car. Answer: I washed the car because my car got dirty.\n",
      "The man went to jail because the man robbed a gas station. The man robbed a gas station because the man went to jail.Answer:\n",
      "Which sentence gets cause and effect right?\n",
      "My car got dirty because I washed the car. I washed the car because my car got dirty. Answer: I washed the car because my car got dirty.\n",
      "The man went to jail because the man robbed a gas station. The man robbed a gas station because the man went to jail.Answer:\n"
     ]
    },
    {
     "name": "stderr",
     "output_type": "stream",
     "text": [
      "\r",
      "51it [01:01,  1.08s/it]"
     ]
    },
    {
     "name": "stdout",
     "output_type": "stream",
     "text": [
      "Which sentence gets cause and effect right?\n",
      "I washed the car because my car got dirty. My car got dirty because I washed the car. Answer: I washed the car because my car got dirty.\n",
      "The man robbed a gas station because the man went to jail. The man went to jail because the man robbed a gas station.Answer:\n",
      "Which sentence gets cause and effect right?\n",
      "My car got dirty because I washed the car. I washed the car because my car got dirty. Answer: I washed the car because my car got dirty.\n",
      "The man robbed a gas station because the man went to jail. The man went to jail because the man robbed a gas station.Answer:\n"
     ]
    },
    {
     "name": "stderr",
     "output_type": "stream",
     "text": [
      "\r",
      "52it [01:02,  1.11s/it]"
     ]
    },
    {
     "name": "stdout",
     "output_type": "stream",
     "text": [
      "Which sentence gets cause and effect right?\n",
      "I washed the car because my car got dirty. My car got dirty because I washed the car. Answer: I washed the car because my car got dirty.\n",
      "Acme paid Jill's legal fees because Jill won the lawsuit against Acme. Jill won the lawsuit against Acme because acme paid Jill's legal fees.Answer:\n",
      "Which sentence gets cause and effect right?\n",
      "My car got dirty because I washed the car. I washed the car because my car got dirty. Answer: I washed the car because my car got dirty.\n",
      "Acme paid Jill's legal fees because Jill won the lawsuit against Acme. Jill won the lawsuit against Acme because acme paid Jill's legal fees.Answer:\n"
     ]
    },
    {
     "name": "stderr",
     "output_type": "stream",
     "text": [
      "\r",
      "53it [01:03,  1.11s/it]"
     ]
    },
    {
     "name": "stdout",
     "output_type": "stream",
     "text": [
      "Which sentence gets cause and effect right?\n",
      "I washed the car because my car got dirty. My car got dirty because I washed the car. Answer: I washed the car because my car got dirty.\n",
      "Jill won the lawsuit against Acme because acme paid Jill's legal fees. Acme paid Jill's legal fees because Jill won the lawsuit against Acme.Answer:\n",
      "Which sentence gets cause and effect right?\n",
      "My car got dirty because I washed the car. I washed the car because my car got dirty. Answer: I washed the car because my car got dirty.\n",
      "Jill won the lawsuit against Acme because acme paid Jill's legal fees. Acme paid Jill's legal fees because Jill won the lawsuit against Acme.Answer:\n"
     ]
    },
    {
     "name": "stderr",
     "output_type": "stream",
     "text": [
      "\r",
      "54it [01:04,  1.11s/it]"
     ]
    },
    {
     "name": "stdout",
     "output_type": "stream",
     "text": [
      "Which sentence gets cause and effect right?\n",
      "I washed the car because my car got dirty. My car got dirty because I washed the car. Answer: I washed the car because my car got dirty.\n",
      "School was cancelled because there was a snowstorm. There was a snowstorm because school was cancelled.Answer:\n",
      "Which sentence gets cause and effect right?\n",
      "My car got dirty because I washed the car. I washed the car because my car got dirty. Answer: I washed the car because my car got dirty.\n",
      "School was cancelled because there was a snowstorm. There was a snowstorm because school was cancelled.Answer:\n"
     ]
    },
    {
     "name": "stderr",
     "output_type": "stream",
     "text": [
      "\r",
      "55it [01:05,  1.13s/it]"
     ]
    },
    {
     "name": "stdout",
     "output_type": "stream",
     "text": [
      "Which sentence gets cause and effect right?\n",
      "I washed the car because my car got dirty. My car got dirty because I washed the car. Answer: I washed the car because my car got dirty.\n",
      "There was a snowstorm because school was cancelled. School was cancelled because there was a snowstorm.Answer:\n",
      "Which sentence gets cause and effect right?\n",
      "My car got dirty because I washed the car. I washed the car because my car got dirty. Answer: I washed the car because my car got dirty.\n",
      "There was a snowstorm because school was cancelled. School was cancelled because there was a snowstorm.Answer:\n"
     ]
    },
    {
     "name": "stderr",
     "output_type": "stream",
     "text": [
      "\r",
      "56it [01:06,  1.10s/it]"
     ]
    },
    {
     "name": "stdout",
     "output_type": "stream",
     "text": [
      "Which sentence gets cause and effect right?\n",
      "I washed the car because my car got dirty. My car got dirty because I washed the car. Answer: I washed the car because my car got dirty.\n",
      "The tenants contacted their landlord because the tenants noticed mold on the bathroom ceiling. The tenants noticed mold on the bathroom ceiling because the tenants contacted their landlord.Answer:\n",
      "Which sentence gets cause and effect right?\n",
      "My car got dirty because I washed the car. I washed the car because my car got dirty. Answer: I washed the car because my car got dirty.\n",
      "The tenants contacted their landlord because the tenants noticed mold on the bathroom ceiling. The tenants noticed mold on the bathroom ceiling because the tenants contacted their landlord.Answer:\n"
     ]
    },
    {
     "name": "stderr",
     "output_type": "stream",
     "text": [
      "\r",
      "57it [01:07,  1.09s/it]"
     ]
    },
    {
     "name": "stdout",
     "output_type": "stream",
     "text": [
      "Which sentence gets cause and effect right?\n",
      "I washed the car because my car got dirty. My car got dirty because I washed the car. Answer: I washed the car because my car got dirty.\n",
      "The tenants noticed mold on the bathroom ceiling because the tenants contacted their landlord. The tenants contacted their landlord because the tenants noticed mold on the bathroom ceiling.Answer:\n",
      "Which sentence gets cause and effect right?\n",
      "My car got dirty because I washed the car. I washed the car because my car got dirty. Answer: I washed the car because my car got dirty.\n",
      "The tenants noticed mold on the bathroom ceiling because the tenants contacted their landlord. The tenants contacted their landlord because the tenants noticed mold on the bathroom ceiling.Answer:\n"
     ]
    },
    {
     "name": "stderr",
     "output_type": "stream",
     "text": [
      "\r",
      "58it [01:09,  1.15s/it]"
     ]
    },
    {
     "name": "stdout",
     "output_type": "stream",
     "text": [
      "Which sentence gets cause and effect right?\n",
      "I washed the car because my car got dirty. My car got dirty because I washed the car. Answer: I washed the car because my car got dirty.\n",
      "I got an A on the test because i studied hard. I studied hard because i got an A on the test.Answer:\n",
      "Which sentence gets cause and effect right?\n",
      "My car got dirty because I washed the car. I washed the car because my car got dirty. Answer: I washed the car because my car got dirty.\n",
      "I got an A on the test because i studied hard. I studied hard because i got an A on the test.Answer:\n"
     ]
    },
    {
     "name": "stderr",
     "output_type": "stream",
     "text": [
      "\r",
      "59it [01:10,  1.15s/it]"
     ]
    },
    {
     "name": "stdout",
     "output_type": "stream",
     "text": [
      "Which sentence gets cause and effect right?\n",
      "I washed the car because my car got dirty. My car got dirty because I washed the car. Answer: I washed the car because my car got dirty.\n",
      "I studied hard because i got an A on the test. I got an A on the test because i studied hard.Answer:\n",
      "Which sentence gets cause and effect right?\n",
      "My car got dirty because I washed the car. I washed the car because my car got dirty. Answer: I washed the car because my car got dirty.\n",
      "I studied hard because i got an A on the test. I got an A on the test because i studied hard.Answer:\n"
     ]
    },
    {
     "name": "stderr",
     "output_type": "stream",
     "text": [
      "\r",
      "60it [01:11,  1.09s/it]"
     ]
    },
    {
     "name": "stdout",
     "output_type": "stream",
     "text": [
      "Which sentence gets cause and effect right?\n",
      "I washed the car because my car got dirty. My car got dirty because I washed the car. Answer: I washed the car because my car got dirty.\n",
      "The window broke because the boy threw a rock. The boy threw a rock because the window broke.Answer:\n",
      "Which sentence gets cause and effect right?\n",
      "My car got dirty because I washed the car. I washed the car because my car got dirty. Answer: I washed the car because my car got dirty.\n",
      "The window broke because the boy threw a rock. The boy threw a rock because the window broke.Answer:\n"
     ]
    },
    {
     "name": "stderr",
     "output_type": "stream",
     "text": [
      "\r",
      "61it [01:12,  1.03s/it]"
     ]
    },
    {
     "name": "stdout",
     "output_type": "stream",
     "text": [
      "Which sentence gets cause and effect right?\n",
      "I washed the car because my car got dirty. My car got dirty because I washed the car. Answer: I washed the car because my car got dirty.\n",
      "The boy threw a rock because the window broke. The window broke because the boy threw a rock.Answer:\n",
      "Which sentence gets cause and effect right?\n",
      "My car got dirty because I washed the car. I washed the car because my car got dirty. Answer: I washed the car because my car got dirty.\n",
      "The boy threw a rock because the window broke. The window broke because the boy threw a rock.Answer:\n"
     ]
    },
    {
     "name": "stderr",
     "output_type": "stream",
     "text": [
      "\r",
      "62it [01:13,  1.08s/it]"
     ]
    },
    {
     "name": "stdout",
     "output_type": "stream",
     "text": [
      "Which sentence gets cause and effect right?\n",
      "I washed the car because my car got dirty. My car got dirty because I washed the car. Answer: I washed the car because my car got dirty.\n",
      "The driver was pulled over and was fined because the driver ran a red light. The driver ran a red light because the driver was pulled over and was fined.Answer:\n",
      "Which sentence gets cause and effect right?\n",
      "My car got dirty because I washed the car. I washed the car because my car got dirty. Answer: I washed the car because my car got dirty.\n",
      "The driver was pulled over and was fined because the driver ran a red light. The driver ran a red light because the driver was pulled over and was fined.Answer:\n"
     ]
    },
    {
     "name": "stderr",
     "output_type": "stream",
     "text": [
      "\r",
      "63it [01:14,  1.10s/it]"
     ]
    },
    {
     "name": "stdout",
     "output_type": "stream",
     "text": [
      "Which sentence gets cause and effect right?\n",
      "I washed the car because my car got dirty. My car got dirty because I washed the car. Answer: I washed the car because my car got dirty.\n",
      "The driver ran a red light because the driver was pulled over and was fined. The driver was pulled over and was fined because the driver ran a red light.Answer:\n",
      "Which sentence gets cause and effect right?\n",
      "My car got dirty because I washed the car. I washed the car because my car got dirty. Answer: I washed the car because my car got dirty.\n",
      "The driver ran a red light because the driver was pulled over and was fined. The driver was pulled over and was fined because the driver ran a red light.Answer:\n"
     ]
    },
    {
     "name": "stderr",
     "output_type": "stream",
     "text": [
      "\r",
      "64it [01:15,  1.11s/it]"
     ]
    },
    {
     "name": "stdout",
     "output_type": "stream",
     "text": [
      "Which sentence gets cause and effect right?\n",
      "I washed the car because my car got dirty. My car got dirty because I washed the car. Answer: I washed the car because my car got dirty.\n",
      "The girl got detention because the girl skipped school. The girl skipped school because the girl got detention.Answer:\n",
      "Which sentence gets cause and effect right?\n",
      "My car got dirty because I washed the car. I washed the car because my car got dirty. Answer: I washed the car because my car got dirty.\n",
      "The girl got detention because the girl skipped school. The girl skipped school because the girl got detention.Answer:\n"
     ]
    },
    {
     "name": "stderr",
     "output_type": "stream",
     "text": [
      "\r",
      "65it [01:16,  1.12s/it]"
     ]
    },
    {
     "name": "stdout",
     "output_type": "stream",
     "text": [
      "Which sentence gets cause and effect right?\n",
      "I washed the car because my car got dirty. My car got dirty because I washed the car. Answer: I washed the car because my car got dirty.\n",
      "The girl skipped school because the girl got detention. The girl got detention because the girl skipped school.Answer:\n",
      "Which sentence gets cause and effect right?\n",
      "My car got dirty because I washed the car. I washed the car because my car got dirty. Answer: I washed the car because my car got dirty.\n",
      "The girl skipped school because the girl got detention. The girl got detention because the girl skipped school.Answer:\n"
     ]
    },
    {
     "name": "stderr",
     "output_type": "stream",
     "text": [
      "\r",
      "66it [01:17,  1.10s/it]"
     ]
    },
    {
     "name": "stdout",
     "output_type": "stream",
     "text": [
      "Which sentence gets cause and effect right?\n",
      "I washed the car because my car got dirty. My car got dirty because I washed the car. Answer: I washed the car because my car got dirty.\n",
      "Light filled the room because i flipped the switch. I flipped the switch because light filled the room.Answer:\n",
      "Which sentence gets cause and effect right?\n",
      "My car got dirty because I washed the car. I washed the car because my car got dirty. Answer: I washed the car because my car got dirty.\n",
      "Light filled the room because i flipped the switch. I flipped the switch because light filled the room.Answer:\n"
     ]
    },
    {
     "name": "stderr",
     "output_type": "stream",
     "text": [
      "\r",
      "67it [01:19,  1.15s/it]"
     ]
    },
    {
     "name": "stdout",
     "output_type": "stream",
     "text": [
      "Which sentence gets cause and effect right?\n",
      "I washed the car because my car got dirty. My car got dirty because I washed the car. Answer: I washed the car because my car got dirty.\n",
      "I flipped the switch because light filled the room. Light filled the room because i flipped the switch.Answer:\n",
      "Which sentence gets cause and effect right?\n",
      "My car got dirty because I washed the car. I washed the car because my car got dirty. Answer: I washed the car because my car got dirty.\n",
      "I flipped the switch because light filled the room. Light filled the room because i flipped the switch.Answer:\n"
     ]
    },
    {
     "name": "stderr",
     "output_type": "stream",
     "text": [
      "\r",
      "68it [01:20,  1.09s/it]"
     ]
    },
    {
     "name": "stdout",
     "output_type": "stream",
     "text": [
      "Which sentence gets cause and effect right?\n",
      "I washed the car because my car got dirty. My car got dirty because I washed the car. Answer: I washed the car because my car got dirty.\n",
      "The dog bit me because i pulled the dog's tail. I pulled the dog's tail because the dog bit me.Answer:\n",
      "Which sentence gets cause and effect right?\n",
      "My car got dirty because I washed the car. I washed the car because my car got dirty. Answer: I washed the car because my car got dirty.\n",
      "The dog bit me because i pulled the dog's tail. I pulled the dog's tail because the dog bit me.Answer:\n"
     ]
    },
    {
     "name": "stderr",
     "output_type": "stream",
     "text": [
      "\r",
      "69it [01:21,  1.03s/it]"
     ]
    },
    {
     "name": "stdout",
     "output_type": "stream",
     "text": [
      "Which sentence gets cause and effect right?\n",
      "I washed the car because my car got dirty. My car got dirty because I washed the car. Answer: I washed the car because my car got dirty.\n",
      "I pulled the dog's tail because the dog bit me. The dog bit me because i pulled the dog's tail.Answer:\n",
      "Which sentence gets cause and effect right?\n",
      "My car got dirty because I washed the car. I washed the car because my car got dirty. Answer: I washed the car because my car got dirty.\n",
      "I pulled the dog's tail because the dog bit me. The dog bit me because i pulled the dog's tail.Answer:\n"
     ]
    },
    {
     "name": "stderr",
     "output_type": "stream",
     "text": [
      "\r",
      "70it [01:22,  1.06s/it]"
     ]
    },
    {
     "name": "stdout",
     "output_type": "stream",
     "text": [
      "Which sentence gets cause and effect right?\n",
      "I washed the car because my car got dirty. My car got dirty because I washed the car. Answer: I washed the car because my car got dirty.\n",
      "The family went on vacation because school was on break. School was on break because the family went on vacation.Answer:\n",
      "Which sentence gets cause and effect right?\n",
      "My car got dirty because I washed the car. I washed the car because my car got dirty. Answer: I washed the car because my car got dirty.\n",
      "The family went on vacation because school was on break. School was on break because the family went on vacation.Answer:\n"
     ]
    },
    {
     "name": "stderr",
     "output_type": "stream",
     "text": [
      "\r",
      "71it [01:23,  1.14s/it]"
     ]
    },
    {
     "name": "stdout",
     "output_type": "stream",
     "text": [
      "Which sentence gets cause and effect right?\n",
      "I washed the car because my car got dirty. My car got dirty because I washed the car. Answer: I washed the car because my car got dirty.\n",
      "School was on break because the family went on vacation. The family went on vacation because school was on break.Answer:\n",
      "Which sentence gets cause and effect right?\n",
      "My car got dirty because I washed the car. I washed the car because my car got dirty. Answer: I washed the car because my car got dirty.\n",
      "School was on break because the family went on vacation. The family went on vacation because school was on break.Answer:\n"
     ]
    },
    {
     "name": "stderr",
     "output_type": "stream",
     "text": [
      "\r",
      "72it [01:24,  1.20s/it]"
     ]
    },
    {
     "name": "stdout",
     "output_type": "stream",
     "text": [
      "Which sentence gets cause and effect right?\n",
      "I washed the car because my car got dirty. My car got dirty because I washed the car. Answer: I washed the car because my car got dirty.\n",
      "The family went to the beach because the air conditioner broke. The air conditioner broke because the family went to the beach.Answer:\n",
      "Which sentence gets cause and effect right?\n",
      "My car got dirty because I washed the car. I washed the car because my car got dirty. Answer: I washed the car because my car got dirty.\n",
      "The family went to the beach because the air conditioner broke. The air conditioner broke because the family went to the beach.Answer:\n"
     ]
    },
    {
     "name": "stderr",
     "output_type": "stream",
     "text": [
      "\r",
      "73it [01:26,  1.24s/it]"
     ]
    },
    {
     "name": "stdout",
     "output_type": "stream",
     "text": [
      "Which sentence gets cause and effect right?\n",
      "I washed the car because my car got dirty. My car got dirty because I washed the car. Answer: I washed the car because my car got dirty.\n",
      "The air conditioner broke because the family went to the beach. The family went to the beach because the air conditioner broke.Answer:\n",
      "Which sentence gets cause and effect right?\n",
      "My car got dirty because I washed the car. I washed the car because my car got dirty. Answer: I washed the car because my car got dirty.\n",
      "The air conditioner broke because the family went to the beach. The family went to the beach because the air conditioner broke.Answer:\n"
     ]
    },
    {
     "name": "stderr",
     "output_type": "stream",
     "text": [
      "\r",
      "74it [01:27,  1.24s/it]"
     ]
    },
    {
     "name": "stdout",
     "output_type": "stream",
     "text": [
      "Which sentence gets cause and effect right?\n",
      "I washed the car because my car got dirty. My car got dirty because I washed the car. Answer: I washed the car because my car got dirty.\n",
      "Mom gave the girl fever medicine because the girl had a fever. The girl had a fever because mom gave the girl fever medicine.Answer:\n",
      "Which sentence gets cause and effect right?\n",
      "My car got dirty because I washed the car. I washed the car because my car got dirty. Answer: I washed the car because my car got dirty.\n",
      "Mom gave the girl fever medicine because the girl had a fever. The girl had a fever because mom gave the girl fever medicine.Answer:\n"
     ]
    },
    {
     "name": "stderr",
     "output_type": "stream",
     "text": [
      "\r",
      "75it [01:28,  1.20s/it]"
     ]
    },
    {
     "name": "stdout",
     "output_type": "stream",
     "text": [
      "Which sentence gets cause and effect right?\n",
      "I washed the car because my car got dirty. My car got dirty because I washed the car. Answer: I washed the car because my car got dirty.\n",
      "The girl had a fever because mom gave the girl fever medicine. Mom gave the girl fever medicine because the girl had a fever.Answer:\n",
      "Which sentence gets cause and effect right?\n",
      "My car got dirty because I washed the car. I washed the car because my car got dirty. Answer: I washed the car because my car got dirty.\n",
      "The girl had a fever because mom gave the girl fever medicine. Mom gave the girl fever medicine because the girl had a fever.Answer:\n"
     ]
    },
    {
     "name": "stderr",
     "output_type": "stream",
     "text": [
      "\r",
      "76it [01:29,  1.24s/it]"
     ]
    },
    {
     "name": "stdout",
     "output_type": "stream",
     "text": [
      "Which sentence gets cause and effect right?\n",
      "I washed the car because my car got dirty. My car got dirty because I washed the car. Answer: I washed the car because my car got dirty.\n",
      "We made French toast because the bread was dry. The bread was dry because we made French toast.Answer:\n",
      "Which sentence gets cause and effect right?\n",
      "My car got dirty because I washed the car. I washed the car because my car got dirty. Answer: I washed the car because my car got dirty.\n",
      "We made French toast because the bread was dry. The bread was dry because we made French toast.Answer:\n"
     ]
    },
    {
     "name": "stderr",
     "output_type": "stream",
     "text": [
      "\r",
      "77it [01:30,  1.19s/it]"
     ]
    },
    {
     "name": "stdout",
     "output_type": "stream",
     "text": [
      "Which sentence gets cause and effect right?\n",
      "I washed the car because my car got dirty. My car got dirty because I washed the car. Answer: I washed the car because my car got dirty.\n",
      "The bread was dry because we made French toast. We made French toast because the bread was dry.Answer:\n",
      "Which sentence gets cause and effect right?\n",
      "My car got dirty because I washed the car. I washed the car because my car got dirty. Answer: I washed the car because my car got dirty.\n",
      "The bread was dry because we made French toast. We made French toast because the bread was dry.Answer:\n"
     ]
    },
    {
     "name": "stderr",
     "output_type": "stream",
     "text": [
      "\r",
      "78it [01:32,  1.22s/it]"
     ]
    },
    {
     "name": "stdout",
     "output_type": "stream",
     "text": [
      "Which sentence gets cause and effect right?\n",
      "I washed the car because my car got dirty. My car got dirty because I washed the car. Answer: I washed the car because my car got dirty.\n",
      "The company's stock went up because the company's posted strong earnings. The company's posted strong earnings because the company's stock went up.Answer:\n",
      "Which sentence gets cause and effect right?\n",
      "My car got dirty because I washed the car. I washed the car because my car got dirty. Answer: I washed the car because my car got dirty.\n",
      "The company's stock went up because the company's posted strong earnings. The company's posted strong earnings because the company's stock went up.Answer:\n"
     ]
    },
    {
     "name": "stderr",
     "output_type": "stream",
     "text": [
      "\r",
      "79it [01:33,  1.27s/it]"
     ]
    },
    {
     "name": "stdout",
     "output_type": "stream",
     "text": [
      "Which sentence gets cause and effect right?\n",
      "I washed the car because my car got dirty. My car got dirty because I washed the car. Answer: I washed the car because my car got dirty.\n",
      "The company's posted strong earnings because the company's stock went up. The company's stock went up because the company's posted strong earnings.Answer:\n",
      "Which sentence gets cause and effect right?\n",
      "My car got dirty because I washed the car. I washed the car because my car got dirty. Answer: I washed the car because my car got dirty.\n",
      "The company's posted strong earnings because the company's stock went up. The company's stock went up because the company's posted strong earnings.Answer:\n"
     ]
    },
    {
     "name": "stderr",
     "output_type": "stream",
     "text": [
      "\r",
      "80it [01:35,  1.34s/it]"
     ]
    },
    {
     "name": "stdout",
     "output_type": "stream",
     "text": [
      "Which sentence gets cause and effect right?\n",
      "I washed the car because my car got dirty. My car got dirty because I washed the car. Answer: I washed the car because my car got dirty.\n",
      "I put my clothes in the washing machine because my clothes got dirty. My clothes got dirty because i put my clothes in the washing machine.Answer:\n",
      "Which sentence gets cause and effect right?\n",
      "My car got dirty because I washed the car. I washed the car because my car got dirty. Answer: I washed the car because my car got dirty.\n",
      "I put my clothes in the washing machine because my clothes got dirty. My clothes got dirty because i put my clothes in the washing machine.Answer:\n"
     ]
    },
    {
     "name": "stderr",
     "output_type": "stream",
     "text": [
      "\r",
      "81it [01:36,  1.42s/it]"
     ]
    },
    {
     "name": "stdout",
     "output_type": "stream",
     "text": [
      "Which sentence gets cause and effect right?\n",
      "I washed the car because my car got dirty. My car got dirty because I washed the car. Answer: I washed the car because my car got dirty.\n",
      "My clothes got dirty because i put my clothes in the washing machine. I put my clothes in the washing machine because my clothes got dirty.Answer:\n",
      "Which sentence gets cause and effect right?\n",
      "My car got dirty because I washed the car. I washed the car because my car got dirty. Answer: I washed the car because my car got dirty.\n",
      "My clothes got dirty because i put my clothes in the washing machine. I put my clothes in the washing machine because my clothes got dirty.Answer:\n"
     ]
    },
    {
     "name": "stderr",
     "output_type": "stream",
     "text": [
      "\r",
      "82it [01:38,  1.39s/it]"
     ]
    },
    {
     "name": "stdout",
     "output_type": "stream",
     "text": [
      "Which sentence gets cause and effect right?\n",
      "I washed the car because my car got dirty. My car got dirty because I washed the car. Answer: I washed the car because my car got dirty.\n",
      "My friend celebrated with their family because my friend got a promotion. My friend got a promotion because my friend celebrated with their family.Answer:\n",
      "Which sentence gets cause and effect right?\n",
      "My car got dirty because I washed the car. I washed the car because my car got dirty. Answer: I washed the car because my car got dirty.\n",
      "My friend celebrated with their family because my friend got a promotion. My friend got a promotion because my friend celebrated with their family.Answer:\n"
     ]
    },
    {
     "name": "stderr",
     "output_type": "stream",
     "text": [
      "\r",
      "83it [01:39,  1.37s/it]"
     ]
    },
    {
     "name": "stdout",
     "output_type": "stream",
     "text": [
      "Which sentence gets cause and effect right?\n",
      "I washed the car because my car got dirty. My car got dirty because I washed the car. Answer: I washed the car because my car got dirty.\n",
      "My friend got a promotion because my friend celebrated with their family. My friend celebrated with their family because my friend got a promotion.Answer:\n",
      "Which sentence gets cause and effect right?\n",
      "My car got dirty because I washed the car. I washed the car because my car got dirty. Answer: I washed the car because my car got dirty.\n",
      "My friend got a promotion because my friend celebrated with their family. My friend celebrated with their family because my friend got a promotion.Answer:\n"
     ]
    },
    {
     "name": "stderr",
     "output_type": "stream",
     "text": [
      "\r",
      "84it [01:40,  1.24s/it]"
     ]
    },
    {
     "name": "stdout",
     "output_type": "stream",
     "text": [
      "Which sentence gets cause and effect right?\n",
      "I washed the car because my car got dirty. My car got dirty because I washed the car. Answer: I washed the car because my car got dirty.\n",
      "The basketball player took a free throw because the basketball player was shoved. The basketball player was shoved because the basketball player took a free throw.Answer:\n",
      "Which sentence gets cause and effect right?\n",
      "My car got dirty because I washed the car. I washed the car because my car got dirty. Answer: I washed the car because my car got dirty.\n",
      "The basketball player took a free throw because the basketball player was shoved. The basketball player was shoved because the basketball player took a free throw.Answer:\n"
     ]
    },
    {
     "name": "stderr",
     "output_type": "stream",
     "text": [
      "\r",
      "85it [01:41,  1.19s/it]"
     ]
    },
    {
     "name": "stdout",
     "output_type": "stream",
     "text": [
      "Which sentence gets cause and effect right?\n",
      "I washed the car because my car got dirty. My car got dirty because I washed the car. Answer: I washed the car because my car got dirty.\n",
      "The basketball player was shoved because the basketball player took a free throw. The basketball player took a free throw because the basketball player was shoved.Answer:\n",
      "Which sentence gets cause and effect right?\n",
      "My car got dirty because I washed the car. I washed the car because my car got dirty. Answer: I washed the car because my car got dirty.\n",
      "The basketball player was shoved because the basketball player took a free throw. The basketball player took a free throw because the basketball player was shoved.Answer:\n"
     ]
    },
    {
     "name": "stderr",
     "output_type": "stream",
     "text": [
      "\r",
      "86it [01:42,  1.18s/it]"
     ]
    },
    {
     "name": "stdout",
     "output_type": "stream",
     "text": [
      "Which sentence gets cause and effect right?\n",
      "I washed the car because my car got dirty. My car got dirty because I washed the car. Answer: I washed the car because my car got dirty.\n",
      "Alice missed her flight because Alice didn't wake up. Alice didn't wake up because Alice missed her flight.Answer:\n",
      "Which sentence gets cause and effect right?\n",
      "My car got dirty because I washed the car. I washed the car because my car got dirty. Answer: I washed the car because my car got dirty.\n",
      "Alice missed her flight because Alice didn't wake up. Alice didn't wake up because Alice missed her flight.Answer:\n"
     ]
    },
    {
     "name": "stderr",
     "output_type": "stream",
     "text": [
      "\r",
      "87it [01:43,  1.16s/it]"
     ]
    },
    {
     "name": "stdout",
     "output_type": "stream",
     "text": [
      "Which sentence gets cause and effect right?\n",
      "I washed the car because my car got dirty. My car got dirty because I washed the car. Answer: I washed the car because my car got dirty.\n",
      "Alice didn't wake up because Alice missed her flight. Alice missed her flight because Alice didn't wake up.Answer:\n",
      "Which sentence gets cause and effect right?\n",
      "My car got dirty because I washed the car. I washed the car because my car got dirty. Answer: I washed the car because my car got dirty.\n",
      "Alice didn't wake up because Alice missed her flight. Alice missed her flight because Alice didn't wake up.Answer:\n"
     ]
    },
    {
     "name": "stderr",
     "output_type": "stream",
     "text": [
      "\r",
      "88it [01:44,  1.18s/it]"
     ]
    },
    {
     "name": "stdout",
     "output_type": "stream",
     "text": [
      "Which sentence gets cause and effect right?\n",
      "I washed the car because my car got dirty. My car got dirty because I washed the car. Answer: I washed the car because my car got dirty.\n",
      "The man sued because the floor was wet. The floor was wet because the man sued.Answer:\n",
      "Which sentence gets cause and effect right?\n",
      "My car got dirty because I washed the car. I washed the car because my car got dirty. Answer: I washed the car because my car got dirty.\n",
      "The man sued because the floor was wet. The floor was wet because the man sued.Answer:\n"
     ]
    },
    {
     "name": "stderr",
     "output_type": "stream",
     "text": [
      "\r",
      "89it [01:45,  1.14s/it]"
     ]
    },
    {
     "name": "stdout",
     "output_type": "stream",
     "text": [
      "Which sentence gets cause and effect right?\n",
      "I washed the car because my car got dirty. My car got dirty because I washed the car. Answer: I washed the car because my car got dirty.\n",
      "The floor was wet because the man sued. The man sued because the floor was wet.Answer:\n",
      "Which sentence gets cause and effect right?\n",
      "My car got dirty because I washed the car. I washed the car because my car got dirty. Answer: I washed the car because my car got dirty.\n",
      "The floor was wet because the man sued. The man sued because the floor was wet.Answer:\n"
     ]
    },
    {
     "name": "stderr",
     "output_type": "stream",
     "text": [
      "\r",
      "90it [01:46,  1.06s/it]"
     ]
    },
    {
     "name": "stdout",
     "output_type": "stream",
     "text": [
      "Which sentence gets cause and effect right?\n",
      "I washed the car because my car got dirty. My car got dirty because I washed the car. Answer: I washed the car because my car got dirty.\n",
      "The picnic was cancelled because it rained. It rained because the picnic was cancelled.Answer:\n",
      "Which sentence gets cause and effect right?\n",
      "My car got dirty because I washed the car. I washed the car because my car got dirty. Answer: I washed the car because my car got dirty.\n",
      "The picnic was cancelled because it rained. It rained because the picnic was cancelled.Answer:\n"
     ]
    },
    {
     "name": "stderr",
     "output_type": "stream",
     "text": [
      "\r",
      "91it [01:47,  1.08s/it]"
     ]
    },
    {
     "name": "stdout",
     "output_type": "stream",
     "text": [
      "Which sentence gets cause and effect right?\n",
      "I washed the car because my car got dirty. My car got dirty because I washed the car. Answer: I washed the car because my car got dirty.\n",
      "It rained because the picnic was cancelled. The picnic was cancelled because it rained.Answer:\n",
      "Which sentence gets cause and effect right?\n",
      "My car got dirty because I washed the car. I washed the car because my car got dirty. Answer: I washed the car because my car got dirty.\n",
      "It rained because the picnic was cancelled. The picnic was cancelled because it rained.Answer:\n"
     ]
    },
    {
     "name": "stderr",
     "output_type": "stream",
     "text": [
      "\r",
      "92it [01:49,  1.13s/it]"
     ]
    },
    {
     "name": "stdout",
     "output_type": "stream",
     "text": [
      "Which sentence gets cause and effect right?\n",
      "I washed the car because my car got dirty. My car got dirty because I washed the car. Answer: I washed the car because my car got dirty.\n",
      "The girl caught a cold because the girl didn't wear her sweater. The girl didn't wear her sweater because the girl caught a cold.Answer:\n",
      "Which sentence gets cause and effect right?\n",
      "My car got dirty because I washed the car. I washed the car because my car got dirty. Answer: I washed the car because my car got dirty.\n",
      "The girl caught a cold because the girl didn't wear her sweater. The girl didn't wear her sweater because the girl caught a cold.Answer:\n"
     ]
    },
    {
     "name": "stderr",
     "output_type": "stream",
     "text": [
      "\r",
      "93it [01:50,  1.13s/it]"
     ]
    },
    {
     "name": "stdout",
     "output_type": "stream",
     "text": [
      "Which sentence gets cause and effect right?\n",
      "I washed the car because my car got dirty. My car got dirty because I washed the car. Answer: I washed the car because my car got dirty.\n",
      "The girl didn't wear her sweater because the girl caught a cold. The girl caught a cold because the girl didn't wear her sweater.Answer:\n",
      "Which sentence gets cause and effect right?\n",
      "My car got dirty because I washed the car. I washed the car because my car got dirty. Answer: I washed the car because my car got dirty.\n",
      "The girl didn't wear her sweater because the girl caught a cold. The girl caught a cold because the girl didn't wear her sweater.Answer:\n"
     ]
    },
    {
     "name": "stderr",
     "output_type": "stream",
     "text": [
      "\r",
      "94it [01:51,  1.10s/it]"
     ]
    },
    {
     "name": "stdout",
     "output_type": "stream",
     "text": [
      "Which sentence gets cause and effect right?\n",
      "I washed the car because my car got dirty. My car got dirty because I washed the car. Answer: I washed the car because my car got dirty.\n",
      "A search party was assembled because the man got lost in the woods. The man got lost in the woods because a search party was assembled.Answer:\n",
      "Which sentence gets cause and effect right?\n",
      "My car got dirty because I washed the car. I washed the car because my car got dirty. Answer: I washed the car because my car got dirty.\n",
      "A search party was assembled because the man got lost in the woods. The man got lost in the woods because a search party was assembled.Answer:\n"
     ]
    },
    {
     "name": "stderr",
     "output_type": "stream",
     "text": [
      "\r",
      "95it [01:52,  1.26s/it]"
     ]
    },
    {
     "name": "stdout",
     "output_type": "stream",
     "text": [
      "Which sentence gets cause and effect right?\n",
      "I washed the car because my car got dirty. My car got dirty because I washed the car. Answer: I washed the car because my car got dirty.\n",
      "The man got lost in the woods because a search party was assembled. A search party was assembled because the man got lost in the woods.Answer:\n",
      "Which sentence gets cause and effect right?\n",
      "My car got dirty because I washed the car. I washed the car because my car got dirty. Answer: I washed the car because my car got dirty.\n",
      "The man got lost in the woods because a search party was assembled. A search party was assembled because the man got lost in the woods.Answer:\n"
     ]
    },
    {
     "name": "stderr",
     "output_type": "stream",
     "text": [
      "\r",
      "96it [01:54,  1.31s/it]"
     ]
    },
    {
     "name": "stdout",
     "output_type": "stream",
     "text": [
      "Which sentence gets cause and effect right?\n",
      "I washed the car because my car got dirty. My car got dirty because I washed the car. Answer: I washed the car because my car got dirty.\n",
      "Ted had a hangover because Ted went out drinking. Ted went out drinking because Ted had a hangover.Answer:\n",
      "Which sentence gets cause and effect right?\n",
      "My car got dirty because I washed the car. I washed the car because my car got dirty. Answer: I washed the car because my car got dirty.\n",
      "Ted had a hangover because Ted went out drinking. Ted went out drinking because Ted had a hangover.Answer:\n"
     ]
    },
    {
     "name": "stderr",
     "output_type": "stream",
     "text": [
      "\r",
      "97it [01:55,  1.26s/it]"
     ]
    },
    {
     "name": "stdout",
     "output_type": "stream",
     "text": [
      "Which sentence gets cause and effect right?\n",
      "I washed the car because my car got dirty. My car got dirty because I washed the car. Answer: I washed the car because my car got dirty.\n",
      "Ted went out drinking because Ted had a hangover. Ted had a hangover because Ted went out drinking.Answer:\n",
      "Which sentence gets cause and effect right?\n",
      "My car got dirty because I washed the car. I washed the car because my car got dirty. Answer: I washed the car because my car got dirty.\n",
      "Ted went out drinking because Ted had a hangover. Ted had a hangover because Ted went out drinking.Answer:\n"
     ]
    },
    {
     "name": "stderr",
     "output_type": "stream",
     "text": [
      "\r",
      "98it [01:56,  1.18s/it]"
     ]
    },
    {
     "name": "stdout",
     "output_type": "stream",
     "text": [
      "Which sentence gets cause and effect right?\n",
      "I washed the car because my car got dirty. My car got dirty because I washed the car. Answer: I washed the car because my car got dirty.\n",
      "Bob opened the jar and was frustrated because Alice ate the last cookie. Alice ate the last cookie because Bob opened the jar and was frustrated.Answer:\n",
      "Which sentence gets cause and effect right?\n",
      "My car got dirty because I washed the car. I washed the car because my car got dirty. Answer: I washed the car because my car got dirty.\n",
      "Bob opened the jar and was frustrated because Alice ate the last cookie. Alice ate the last cookie because Bob opened the jar and was frustrated.Answer:\n"
     ]
    },
    {
     "name": "stderr",
     "output_type": "stream",
     "text": [
      "\r",
      "99it [01:57,  1.17s/it]"
     ]
    },
    {
     "name": "stdout",
     "output_type": "stream",
     "text": [
      "Which sentence gets cause and effect right?\n",
      "I washed the car because my car got dirty. My car got dirty because I washed the car. Answer: I washed the car because my car got dirty.\n",
      "Alice ate the last cookie because Bob opened the jar and was frustrated. Bob opened the jar and was frustrated because Alice ate the last cookie.Answer:\n",
      "Which sentence gets cause and effect right?\n",
      "My car got dirty because I washed the car. I washed the car because my car got dirty. Answer: I washed the car because my car got dirty.\n",
      "Alice ate the last cookie because Bob opened the jar and was frustrated. Bob opened the jar and was frustrated because Alice ate the last cookie.Answer:\n"
     ]
    },
    {
     "name": "stderr",
     "output_type": "stream",
     "text": [
      "\r",
      "100it [02:02,  2.25s/it]"
     ]
    },
    {
     "name": "stdout",
     "output_type": "stream",
     "text": [
      "Which sentence gets cause and effect right?\n",
      "I washed the car because my car got dirty. My car got dirty because I washed the car. Answer: I washed the car because my car got dirty.\n",
      "Mom rinsed the tray because Jimmy took the last piece of cake. Jimmy took the last piece of cake because mom rinsed the tray.Answer:\n",
      "Which sentence gets cause and effect right?\n",
      "My car got dirty because I washed the car. I washed the car because my car got dirty. Answer: I washed the car because my car got dirty.\n",
      "Mom rinsed the tray because Jimmy took the last piece of cake. Jimmy took the last piece of cake because mom rinsed the tray.Answer:\n"
     ]
    },
    {
     "name": "stderr",
     "output_type": "stream",
     "text": [
      "\r",
      "101it [02:03,  1.97s/it]"
     ]
    },
    {
     "name": "stdout",
     "output_type": "stream",
     "text": [
      "Which sentence gets cause and effect right?\n",
      "I washed the car because my car got dirty. My car got dirty because I washed the car. Answer: I washed the car because my car got dirty.\n",
      "Jimmy took the last piece of cake because mom rinsed the tray. Mom rinsed the tray because Jimmy took the last piece of cake.Answer:\n",
      "Which sentence gets cause and effect right?\n",
      "My car got dirty because I washed the car. I washed the car because my car got dirty. Answer: I washed the car because my car got dirty.\n",
      "Jimmy took the last piece of cake because mom rinsed the tray. Mom rinsed the tray because Jimmy took the last piece of cake.Answer:\n"
     ]
    },
    {
     "name": "stderr",
     "output_type": "stream",
     "text": [
      "102it [02:04,  1.22s/it]\n"
     ]
    }
   ],
   "source": [
    "# run and populate the entire dataframe\n",
    "answers2 = []\n",
    "answers2_switched = []\n",
    "\n",
    "for index, row in tqdm(df_ce_one_sentence.iterrows()):\n",
    "    prompt_ = row[\"prompts\"]\n",
    "    # normal\n",
    "    prompt = question + example + \"\\n\" + prompt_ + \"Answer:\"\n",
    "    print(prompt)\n",
    "    response = openai.Completion.create(engine=\"text-davinci-001\", prompt=prompt, max_tokens=20, temperature=0)\n",
    "    response_text = response[\"choices\"][0][\"text\"]\n",
    "    answers2.append(response_text)\n",
    "    # switched\n",
    "    prompt_switched = question + example_switched + \"\\n\" + prompt_ + \"Answer:\"\n",
    "    print(prompt_switched)\n",
    "    response_switched = openai.Completion.create(engine=\"text-davinci-001\", prompt=prompt_switched, max_tokens=20, temperature=0)\n",
    "    response_text_switched = response_switched[\"choices\"][0][\"text\"]\n",
    "    answers2_switched.append(response_text_switched)"
   ]
  },
  {
   "cell_type": "code",
   "execution_count": 14,
   "metadata": {},
   "outputs": [
    {
     "data": {
      "text/html": [
       "<div>\n",
       "<style scoped>\n",
       "    .dataframe tbody tr th:only-of-type {\n",
       "        vertical-align: middle;\n",
       "    }\n",
       "\n",
       "    .dataframe tbody tr th {\n",
       "        vertical-align: top;\n",
       "    }\n",
       "\n",
       "    .dataframe thead th {\n",
       "        text-align: right;\n",
       "    }\n",
       "</style>\n",
       "<table border=\"1\" class=\"dataframe\">\n",
       "  <thead>\n",
       "    <tr style=\"text-align: right;\">\n",
       "      <th></th>\n",
       "      <th>prompts</th>\n",
       "      <th>correct_answers</th>\n",
       "      <th>answers</th>\n",
       "    </tr>\n",
       "  </thead>\n",
       "  <tbody>\n",
       "    <tr>\n",
       "      <th>0</th>\n",
       "      <td>The child started crying because the child hur...</td>\n",
       "      <td>The child started crying because the child hur...</td>\n",
       "      <td>\\n\\nThe child started crying because the child...</td>\n",
       "    </tr>\n",
       "    <tr>\n",
       "      <th>1</th>\n",
       "      <td>The child hurt their knee because the child st...</td>\n",
       "      <td>The child started crying because the child hur...</td>\n",
       "      <td>\\n\\nThe child started crying because the child...</td>\n",
       "    </tr>\n",
       "    <tr>\n",
       "      <th>2</th>\n",
       "      <td>I washed the car because my car got dirty.\\nMy...</td>\n",
       "      <td>I washed the car because my car got dirty.</td>\n",
       "      <td>\\n\\nThe sentence that gets cause and effect ri...</td>\n",
       "    </tr>\n",
       "    <tr>\n",
       "      <th>3</th>\n",
       "      <td>My car got dirty because i washed the car.\\nI ...</td>\n",
       "      <td>I washed the car because my car got dirty.</td>\n",
       "      <td>\\n\\nThe sentence that gets cause and effect ri...</td>\n",
       "    </tr>\n",
       "    <tr>\n",
       "      <th>4</th>\n",
       "      <td>Someone called 911 because someone fainted.\\nS...</td>\n",
       "      <td>Someone called 911 because someone fainted.</td>\n",
       "      <td>\\n\\nThe sentence that gets cause and effect ri...</td>\n",
       "    </tr>\n",
       "  </tbody>\n",
       "</table>\n",
       "</div>"
      ],
      "text/plain": [
       "                                             prompts  \\\n",
       "0  The child started crying because the child hur...   \n",
       "1  The child hurt their knee because the child st...   \n",
       "2  I washed the car because my car got dirty.\\nMy...   \n",
       "3  My car got dirty because i washed the car.\\nI ...   \n",
       "4  Someone called 911 because someone fainted.\\nS...   \n",
       "\n",
       "                                     correct_answers  \\\n",
       "0  The child started crying because the child hur...   \n",
       "1  The child started crying because the child hur...   \n",
       "2         I washed the car because my car got dirty.   \n",
       "3         I washed the car because my car got dirty.   \n",
       "4        Someone called 911 because someone fainted.   \n",
       "\n",
       "                                             answers  \n",
       "0  \\n\\nThe child started crying because the child...  \n",
       "1  \\n\\nThe child started crying because the child...  \n",
       "2  \\n\\nThe sentence that gets cause and effect ri...  \n",
       "3  \\n\\nThe sentence that gets cause and effect ri...  \n",
       "4  \\n\\nThe sentence that gets cause and effect ri...  "
      ]
     },
     "execution_count": 14,
     "metadata": {},
     "output_type": "execute_result"
    }
   ],
   "source": [
    "# add results to the dataframe and save\n",
    "\n",
    "df_ce_one_sentence[\"answers\"] = answers2\n",
    "df_ce_one_sentence.head()"
   ]
  },
  {
   "cell_type": "code",
   "execution_count": 15,
   "metadata": {},
   "outputs": [],
   "source": [
    "df_ce_one_sentence.to_csv(\"data/bigbench_results/ce_one_sentence_results_one_shot.csv\", index=False)"
   ]
  },
  {
   "cell_type": "markdown",
   "metadata": {},
   "source": [
    "## Toy sentences 3 colors"
   ]
  },
  {
   "cell_type": "code",
   "execution_count": 50,
   "metadata": {},
   "outputs": [
    {
     "data": {
      "text/html": [
       "<div>\n",
       "<style scoped>\n",
       "    .dataframe tbody tr th:only-of-type {\n",
       "        vertical-align: middle;\n",
       "    }\n",
       "\n",
       "    .dataframe tbody tr th {\n",
       "        vertical-align: top;\n",
       "    }\n",
       "\n",
       "    .dataframe thead th {\n",
       "        text-align: right;\n",
       "    }\n",
       "</style>\n",
       "<table border=\"1\" class=\"dataframe\">\n",
       "  <thead>\n",
       "    <tr style=\"text-align: right;\">\n",
       "      <th></th>\n",
       "      <th>sequence</th>\n",
       "      <th>switched</th>\n",
       "      <th>first_color</th>\n",
       "      <th>second_color</th>\n",
       "      <th>final_color</th>\n",
       "    </tr>\n",
       "  </thead>\n",
       "  <tbody>\n",
       "    <tr>\n",
       "      <th>0</th>\n",
       "      <td>The blue ball hit the red ball. The red ball h...</td>\n",
       "      <td>False</td>\n",
       "      <td>blue</td>\n",
       "      <td>red</td>\n",
       "      <td>green</td>\n",
       "    </tr>\n",
       "    <tr>\n",
       "      <th>1</th>\n",
       "      <td>The red ball hit the green ball. The blue ball...</td>\n",
       "      <td>True</td>\n",
       "      <td>blue</td>\n",
       "      <td>red</td>\n",
       "      <td>green</td>\n",
       "    </tr>\n",
       "    <tr>\n",
       "      <th>2</th>\n",
       "      <td>The blue ball hit the red ball. The red ball h...</td>\n",
       "      <td>False</td>\n",
       "      <td>blue</td>\n",
       "      <td>red</td>\n",
       "      <td>brown</td>\n",
       "    </tr>\n",
       "    <tr>\n",
       "      <th>3</th>\n",
       "      <td>The red ball hit the brown ball. The blue ball...</td>\n",
       "      <td>True</td>\n",
       "      <td>blue</td>\n",
       "      <td>red</td>\n",
       "      <td>brown</td>\n",
       "    </tr>\n",
       "    <tr>\n",
       "      <th>4</th>\n",
       "      <td>The blue ball hit the red ball. The red ball h...</td>\n",
       "      <td>False</td>\n",
       "      <td>blue</td>\n",
       "      <td>red</td>\n",
       "      <td>purple</td>\n",
       "    </tr>\n",
       "  </tbody>\n",
       "</table>\n",
       "</div>"
      ],
      "text/plain": [
       "                                            sequence  switched first_color  \\\n",
       "0  The blue ball hit the red ball. The red ball h...     False        blue   \n",
       "1  The red ball hit the green ball. The blue ball...      True        blue   \n",
       "2  The blue ball hit the red ball. The red ball h...     False        blue   \n",
       "3  The red ball hit the brown ball. The blue ball...      True        blue   \n",
       "4  The blue ball hit the red ball. The red ball h...     False        blue   \n",
       "\n",
       "  second_color final_color  \n",
       "0          red       green  \n",
       "1          red       green  \n",
       "2          red       brown  \n",
       "3          red       brown  \n",
       "4          red      purple  "
      ]
     },
     "execution_count": 50,
     "metadata": {},
     "output_type": "execute_result"
    }
   ],
   "source": [
    "df_toy_problem_3c = pd.read_csv(\"data/toy_problem_3/toy_problem_3c.csv\")\n",
    "df_toy_problem_3c.head()"
   ]
  },
  {
   "cell_type": "code",
   "execution_count": 51,
   "metadata": {},
   "outputs": [
    {
     "name": "stdout",
     "output_type": "stream",
     "text": [
      "Question: Which ball started the chain?\n",
      "The blue ball hit the red ball. The red ball hit the green ball. The green ball fell in the hole. Answer: The blue ball started the chain.\n",
      "The yellow ball hit the red ball. The red ball hit the green ball. The green ball fell in the hole. Answer:\n",
      "\n",
      "\n",
      "Question: Which ball started the chain?\n",
      "The red ball hit the green ball. The blue ball hit the red ball. The green ball fell in the hole. Answer: The blue ball started the chain.\n",
      "The red ball hit the green ball. yellow ball hit the red ball. The green ball fell in the hole. Answer:\n"
     ]
    }
   ],
   "source": [
    "test_prompt_3c = \"Question: Which ball started the chain?\\nThe blue ball hit the red ball. The red ball hit the green ball. The green ball fell in the hole. Answer: The blue ball started the chain.\\nThe yellow ball hit the red ball. The red ball hit the green ball. The green ball fell in the hole. Answer:\"\n",
    "test_prompt_3c_switched = \"Question: Which ball started the chain?\\nThe red ball hit the green ball. The blue ball hit the red ball. The green ball fell in the hole. Answer: The blue ball started the chain.\\nThe red ball hit the green ball. yellow ball hit the red ball. The green ball fell in the hole. Answer:\"\n",
    "print(test_prompt_3c)\n",
    "print(\"\\n\")\n",
    "print(test_prompt_3c_switched)"
   ]
  },
  {
   "cell_type": "code",
   "execution_count": 52,
   "metadata": {},
   "outputs": [
    {
     "name": "stdout",
     "output_type": "stream",
     "text": [
      " The yellow ball started the chain.\n",
      " The yellow ball started the chain.\n"
     ]
    }
   ],
   "source": [
    "# test run\n",
    "response_3c = openai.Completion.create(engine=\"text-davinci-001\", prompt=test_prompt_3c, max_tokens=15, temperature=0)\n",
    "print(response_3c[\"choices\"][0][\"text\"])\n",
    "# test run\n",
    "response_3c_switched = openai.Completion.create(engine=\"text-davinci-001\", prompt=test_prompt_3c_switched, max_tokens=15, temperature=0)\n",
    "print(response_3c_switched[\"choices\"][0][\"text\"])"
   ]
  },
  {
   "cell_type": "code",
   "execution_count": 53,
   "metadata": {},
   "outputs": [],
   "source": [
    "question1 = \"Question: Which ball started the chain?\"\n",
    "example1 = \"The blue ball hit the red ball. The red ball hit the green ball. The green ball fell in the hole. Answer: The blue ball.\"\n",
    "question2 = \"Question: Which ball was second in the chain?\"\n",
    "example2 = \"The blue ball hit the red ball. The red ball hit the green ball. The green ball fell in the hole. Answer: The red ball.\"\n",
    "question3 = \"Question: Which ball fell into the hole?\"\n",
    "example3 = \"The blue ball hit the red ball. The red ball hit the green ball. The green ball fell in the hole. Answer: The green ball.\""
   ]
  },
  {
   "cell_type": "code",
   "execution_count": 55,
   "metadata": {},
   "outputs": [
    {
     "name": "stderr",
     "output_type": "stream",
     "text": [
      "1it [00:01,  1.29s/it]"
     ]
    },
    {
     "name": "stdout",
     "output_type": "stream",
     "text": [
      " The blue ball.\n",
      " The red ball.\n",
      " The green ball.\n"
     ]
    },
    {
     "name": "stderr",
     "output_type": "stream",
     "text": [
      "\r",
      "2it [00:02,  1.28s/it]"
     ]
    },
    {
     "name": "stdout",
     "output_type": "stream",
     "text": [
      " The blue ball.\n",
      " The green ball.\n",
      " The green ball.\n"
     ]
    },
    {
     "name": "stderr",
     "output_type": "stream",
     "text": [
      "\r",
      "3it [00:03,  1.20s/it]"
     ]
    },
    {
     "name": "stdout",
     "output_type": "stream",
     "text": [
      " The blue ball.\n",
      " The brown ball.\n",
      " The brown ball.\n"
     ]
    },
    {
     "name": "stderr",
     "output_type": "stream",
     "text": [
      "\r",
      "4it [00:04,  1.18s/it]"
     ]
    },
    {
     "name": "stdout",
     "output_type": "stream",
     "text": [
      " The blue ball.\n",
      " The blue ball.\n",
      " The brown ball.\n"
     ]
    },
    {
     "name": "stderr",
     "output_type": "stream",
     "text": [
      "\r",
      "5it [00:05,  1.14s/it]"
     ]
    },
    {
     "name": "stdout",
     "output_type": "stream",
     "text": [
      " The blue ball.\n",
      " The purple ball.\n",
      " The purple ball.\n"
     ]
    },
    {
     "name": "stderr",
     "output_type": "stream",
     "text": [
      "\r",
      "6it [00:06,  1.16s/it]"
     ]
    },
    {
     "name": "stdout",
     "output_type": "stream",
     "text": [
      " The blue ball.\n",
      " The blue ball.\n",
      " The purple ball.\n"
     ]
    },
    {
     "name": "stderr",
     "output_type": "stream",
     "text": [
      "\r",
      "7it [00:08,  1.25s/it]"
     ]
    },
    {
     "name": "stdout",
     "output_type": "stream",
     "text": [
      " The blue ball.\n",
      " The black ball.\n",
      " The black ball.\n"
     ]
    },
    {
     "name": "stderr",
     "output_type": "stream",
     "text": [
      "\r",
      "8it [00:09,  1.31s/it]"
     ]
    },
    {
     "name": "stdout",
     "output_type": "stream",
     "text": [
      " The blue ball.\n",
      " The blue ball.\n",
      " The black ball.\n"
     ]
    },
    {
     "name": "stderr",
     "output_type": "stream",
     "text": [
      "\r",
      "9it [00:11,  1.33s/it]"
     ]
    },
    {
     "name": "stdout",
     "output_type": "stream",
     "text": [
      " The blue ball.\n",
      " The white ball.\n",
      " The white ball.\n"
     ]
    },
    {
     "name": "stderr",
     "output_type": "stream",
     "text": [
      "\r",
      "10it [00:12,  1.27s/it]"
     ]
    },
    {
     "name": "stdout",
     "output_type": "stream",
     "text": [
      " The blue ball.\n",
      " The blue ball.\n",
      " The white ball.\n"
     ]
    },
    {
     "name": "stderr",
     "output_type": "stream",
     "text": [
      "\r",
      "11it [00:13,  1.32s/it]"
     ]
    },
    {
     "name": "stdout",
     "output_type": "stream",
     "text": [
      " The blue ball.\n",
      " The green ball.\n",
      " The brown ball.\n"
     ]
    },
    {
     "name": "stderr",
     "output_type": "stream",
     "text": [
      "\r",
      "12it [00:14,  1.24s/it]"
     ]
    },
    {
     "name": "stdout",
     "output_type": "stream",
     "text": [
      " The green ball.\n",
      " The blue ball.\n",
      " The brown ball.\n"
     ]
    },
    {
     "name": "stderr",
     "output_type": "stream",
     "text": [
      "\r",
      "13it [00:15,  1.19s/it]"
     ]
    },
    {
     "name": "stdout",
     "output_type": "stream",
     "text": [
      " The blue ball.\n",
      " The green ball.\n",
      " The purple ball.\n"
     ]
    },
    {
     "name": "stderr",
     "output_type": "stream",
     "text": [
      "\r",
      "14it [00:17,  1.20s/it]"
     ]
    },
    {
     "name": "stdout",
     "output_type": "stream",
     "text": [
      " The green ball.\n",
      " The blue ball.\n",
      " The purple ball.\n"
     ]
    },
    {
     "name": "stderr",
     "output_type": "stream",
     "text": [
      "\r",
      "15it [00:18,  1.20s/it]"
     ]
    },
    {
     "name": "stdout",
     "output_type": "stream",
     "text": [
      " The blue ball.\n",
      " The green ball.\n",
      " The black ball.\n"
     ]
    },
    {
     "name": "stderr",
     "output_type": "stream",
     "text": [
      "\r",
      "16it [00:19,  1.15s/it]"
     ]
    },
    {
     "name": "stdout",
     "output_type": "stream",
     "text": [
      " The green ball.\n",
      " The black ball.\n",
      " The black ball.\n"
     ]
    },
    {
     "name": "stderr",
     "output_type": "stream",
     "text": [
      "\r",
      "17it [00:20,  1.19s/it]"
     ]
    },
    {
     "name": "stdout",
     "output_type": "stream",
     "text": [
      " The blue ball.\n",
      " The green ball.\n",
      " The white ball.\n"
     ]
    },
    {
     "name": "stderr",
     "output_type": "stream",
     "text": [
      "\r",
      "18it [00:22,  1.36s/it]"
     ]
    },
    {
     "name": "stdout",
     "output_type": "stream",
     "text": [
      " The green ball.\n",
      " The blue ball.\n",
      " The white ball.\n"
     ]
    },
    {
     "name": "stderr",
     "output_type": "stream",
     "text": [
      "\r",
      "19it [00:23,  1.35s/it]"
     ]
    },
    {
     "name": "stdout",
     "output_type": "stream",
     "text": [
      " The blue ball.\n",
      " The purple ball.\n",
      " The purple ball.\n"
     ]
    },
    {
     "name": "stderr",
     "output_type": "stream",
     "text": [
      "\r",
      "20it [00:24,  1.27s/it]"
     ]
    },
    {
     "name": "stdout",
     "output_type": "stream",
     "text": [
      " The blue ball.\n",
      " The blue ball.\n",
      " The purple ball.\n"
     ]
    },
    {
     "name": "stderr",
     "output_type": "stream",
     "text": [
      "\r",
      "21it [00:25,  1.22s/it]"
     ]
    },
    {
     "name": "stdout",
     "output_type": "stream",
     "text": [
      " The blue ball.\n",
      " The black ball.\n",
      " The black ball.\n"
     ]
    },
    {
     "name": "stderr",
     "output_type": "stream",
     "text": [
      "\r",
      "22it [00:27,  1.24s/it]"
     ]
    },
    {
     "name": "stdout",
     "output_type": "stream",
     "text": [
      " The blue ball.\n",
      " The black ball.\n",
      " The black ball.\n"
     ]
    },
    {
     "name": "stderr",
     "output_type": "stream",
     "text": [
      "\r",
      "23it [00:28,  1.24s/it]"
     ]
    },
    {
     "name": "stdout",
     "output_type": "stream",
     "text": [
      " The blue ball.\n",
      " The white ball.\n",
      " The white ball.\n"
     ]
    },
    {
     "name": "stderr",
     "output_type": "stream",
     "text": [
      "\r",
      "24it [00:29,  1.17s/it]"
     ]
    },
    {
     "name": "stdout",
     "output_type": "stream",
     "text": [
      " The blue ball.\n",
      " The blue ball.\n",
      " The white ball.\n"
     ]
    },
    {
     "name": "stderr",
     "output_type": "stream",
     "text": [
      "\r",
      "25it [00:30,  1.14s/it]"
     ]
    },
    {
     "name": "stdout",
     "output_type": "stream",
     "text": [
      " The blue ball.\n",
      " The black ball.\n",
      " The black ball.\n"
     ]
    },
    {
     "name": "stderr",
     "output_type": "stream",
     "text": [
      "\r",
      "26it [00:31,  1.09s/it]"
     ]
    },
    {
     "name": "stdout",
     "output_type": "stream",
     "text": [
      " The blue ball.\n",
      " The black ball.\n",
      " The black ball.\n"
     ]
    },
    {
     "name": "stderr",
     "output_type": "stream",
     "text": [
      "\r",
      "27it [00:32,  1.05s/it]"
     ]
    },
    {
     "name": "stdout",
     "output_type": "stream",
     "text": [
      " The blue ball.\n",
      " The purple ball.\n",
      " The white ball.\n"
     ]
    },
    {
     "name": "stderr",
     "output_type": "stream",
     "text": [
      "\r",
      "28it [00:33,  1.08s/it]"
     ]
    },
    {
     "name": "stdout",
     "output_type": "stream",
     "text": [
      " The blue ball.\n",
      " The blue ball.\n",
      " The white ball.\n"
     ]
    },
    {
     "name": "stderr",
     "output_type": "stream",
     "text": [
      "\r",
      "29it [00:34,  1.05s/it]"
     ]
    },
    {
     "name": "stdout",
     "output_type": "stream",
     "text": [
      " The blue ball.\n",
      " The white ball.\n",
      " The white ball.\n"
     ]
    },
    {
     "name": "stderr",
     "output_type": "stream",
     "text": [
      "\r",
      "30it [00:35,  1.13s/it]"
     ]
    },
    {
     "name": "stdout",
     "output_type": "stream",
     "text": [
      " The black ball.\n",
      " The blue ball.\n",
      " The white ball.\n"
     ]
    },
    {
     "name": "stderr",
     "output_type": "stream",
     "text": [
      "\r",
      "31it [00:37,  1.25s/it]"
     ]
    },
    {
     "name": "stdout",
     "output_type": "stream",
     "text": [
      " The red ball.\n",
      " The green ball.\n",
      " The brown ball.\n"
     ]
    },
    {
     "name": "stderr",
     "output_type": "stream",
     "text": [
      "\r",
      "32it [00:38,  1.28s/it]"
     ]
    },
    {
     "name": "stdout",
     "output_type": "stream",
     "text": [
      " The green ball.\n",
      " The green ball.\n",
      " The brown ball.\n"
     ]
    },
    {
     "name": "stderr",
     "output_type": "stream",
     "text": [
      "\r",
      "33it [00:40,  1.26s/it]"
     ]
    },
    {
     "name": "stdout",
     "output_type": "stream",
     "text": [
      " The red ball.\n",
      " The green ball.\n",
      " The purple ball.\n"
     ]
    },
    {
     "name": "stderr",
     "output_type": "stream",
     "text": [
      "\r",
      "34it [00:41,  1.44s/it]"
     ]
    },
    {
     "name": "stdout",
     "output_type": "stream",
     "text": [
      " The green ball.\n",
      " The purple ball.\n",
      " The purple ball.\n"
     ]
    },
    {
     "name": "stderr",
     "output_type": "stream",
     "text": [
      "\r",
      "35it [00:43,  1.56s/it]"
     ]
    },
    {
     "name": "stdout",
     "output_type": "stream",
     "text": [
      " The red ball.\n",
      " The green ball.\n",
      " The black ball.\n"
     ]
    },
    {
     "name": "stderr",
     "output_type": "stream",
     "text": [
      "\r",
      "36it [00:44,  1.45s/it]"
     ]
    },
    {
     "name": "stdout",
     "output_type": "stream",
     "text": [
      " The green ball.\n",
      " The black ball.\n",
      " The black ball.\n"
     ]
    },
    {
     "name": "stderr",
     "output_type": "stream",
     "text": [
      "\r",
      "37it [00:45,  1.33s/it]"
     ]
    },
    {
     "name": "stdout",
     "output_type": "stream",
     "text": [
      " The red ball.\n",
      " The green ball.\n",
      " The white ball.\n"
     ]
    },
    {
     "name": "stderr",
     "output_type": "stream",
     "text": [
      "\r",
      "38it [00:46,  1.23s/it]"
     ]
    },
    {
     "name": "stdout",
     "output_type": "stream",
     "text": [
      " The green ball.\n",
      " The white ball.\n",
      " The white ball.\n"
     ]
    },
    {
     "name": "stderr",
     "output_type": "stream",
     "text": [
      "\r",
      "39it [00:47,  1.15s/it]"
     ]
    },
    {
     "name": "stdout",
     "output_type": "stream",
     "text": [
      " The red ball.\n",
      " The purple ball.\n",
      " The purple ball.\n"
     ]
    },
    {
     "name": "stderr",
     "output_type": "stream",
     "text": [
      "\r",
      "40it [00:48,  1.11s/it]"
     ]
    },
    {
     "name": "stdout",
     "output_type": "stream",
     "text": [
      " The brown ball.\n",
      " The purple ball.\n",
      " The purple ball.\n"
     ]
    },
    {
     "name": "stderr",
     "output_type": "stream",
     "text": [
      "\r",
      "41it [00:49,  1.08s/it]"
     ]
    },
    {
     "name": "stdout",
     "output_type": "stream",
     "text": [
      " The red ball.\n",
      " The black ball.\n",
      " The black ball.\n"
     ]
    },
    {
     "name": "stderr",
     "output_type": "stream",
     "text": [
      "\r",
      "42it [00:50,  1.04s/it]"
     ]
    },
    {
     "name": "stdout",
     "output_type": "stream",
     "text": [
      " The brown ball.\n",
      " The black ball.\n",
      " The black ball.\n"
     ]
    },
    {
     "name": "stderr",
     "output_type": "stream",
     "text": [
      "\r",
      "43it [00:52,  1.18s/it]"
     ]
    },
    {
     "name": "stdout",
     "output_type": "stream",
     "text": [
      " The red ball.\n",
      " The white ball.\n",
      " The white ball.\n"
     ]
    },
    {
     "name": "stderr",
     "output_type": "stream",
     "text": [
      "\r",
      "44it [00:53,  1.25s/it]"
     ]
    },
    {
     "name": "stdout",
     "output_type": "stream",
     "text": [
      " The brown ball.\n",
      " The white ball.\n",
      " The white ball.\n"
     ]
    },
    {
     "name": "stderr",
     "output_type": "stream",
     "text": [
      "\r",
      "45it [00:55,  1.24s/it]"
     ]
    },
    {
     "name": "stdout",
     "output_type": "stream",
     "text": [
      " The red ball.\n",
      " The purple ball.\n",
      " The black ball.\n"
     ]
    },
    {
     "name": "stderr",
     "output_type": "stream",
     "text": [
      "\r",
      "46it [00:56,  1.25s/it]"
     ]
    },
    {
     "name": "stdout",
     "output_type": "stream",
     "text": [
      " The purple ball.\n",
      " The black ball.\n",
      " The black ball.\n"
     ]
    },
    {
     "name": "stderr",
     "output_type": "stream",
     "text": [
      "\r",
      "47it [00:57,  1.37s/it]"
     ]
    },
    {
     "name": "stdout",
     "output_type": "stream",
     "text": [
      " The red ball.\n",
      " The purple ball.\n",
      " The white ball.\n"
     ]
    },
    {
     "name": "stderr",
     "output_type": "stream",
     "text": [
      "\r",
      "48it [00:59,  1.42s/it]"
     ]
    },
    {
     "name": "stdout",
     "output_type": "stream",
     "text": [
      " The purple ball.\n",
      " The white ball.\n",
      " The white ball.\n"
     ]
    },
    {
     "name": "stderr",
     "output_type": "stream",
     "text": [
      "\r",
      "49it [01:01,  1.48s/it]"
     ]
    },
    {
     "name": "stdout",
     "output_type": "stream",
     "text": [
      " The red ball.\n",
      " The black ball.\n",
      " The white ball.\n"
     ]
    },
    {
     "name": "stderr",
     "output_type": "stream",
     "text": [
      "\r",
      "50it [01:02,  1.42s/it]"
     ]
    },
    {
     "name": "stdout",
     "output_type": "stream",
     "text": [
      " The black ball.\n",
      " The white ball.\n",
      " The white ball.\n"
     ]
    },
    {
     "name": "stderr",
     "output_type": "stream",
     "text": [
      "\r",
      "51it [01:03,  1.38s/it]"
     ]
    },
    {
     "name": "stdout",
     "output_type": "stream",
     "text": [
      " The green ball.\n",
      " The purple ball.\n",
      " The purple ball.\n"
     ]
    },
    {
     "name": "stderr",
     "output_type": "stream",
     "text": [
      "\r",
      "52it [01:04,  1.30s/it]"
     ]
    },
    {
     "name": "stdout",
     "output_type": "stream",
     "text": [
      " The green ball.\n",
      " The green ball.\n",
      " The purple ball.\n"
     ]
    },
    {
     "name": "stderr",
     "output_type": "stream",
     "text": [
      "\r",
      "53it [01:05,  1.22s/it]"
     ]
    },
    {
     "name": "stdout",
     "output_type": "stream",
     "text": [
      " The green ball.\n",
      " The black ball.\n",
      " The black ball.\n"
     ]
    },
    {
     "name": "stderr",
     "output_type": "stream",
     "text": [
      "\r",
      "54it [01:07,  1.22s/it]"
     ]
    },
    {
     "name": "stdout",
     "output_type": "stream",
     "text": [
      " The green ball.\n",
      " The green ball.\n",
      " The black ball.\n"
     ]
    },
    {
     "name": "stderr",
     "output_type": "stream",
     "text": [
      "\r",
      "55it [01:09,  1.73s/it]"
     ]
    },
    {
     "name": "stdout",
     "output_type": "stream",
     "text": [
      " The green ball.\n",
      " The white ball.\n",
      " The white ball.\n"
     ]
    },
    {
     "name": "stderr",
     "output_type": "stream",
     "text": [
      "\r",
      "56it [01:10,  1.52s/it]"
     ]
    },
    {
     "name": "stdout",
     "output_type": "stream",
     "text": [
      " The green ball.\n",
      " The green ball.\n",
      " The white ball.\n"
     ]
    },
    {
     "name": "stderr",
     "output_type": "stream",
     "text": [
      "\r",
      "57it [01:12,  1.41s/it]"
     ]
    },
    {
     "name": "stdout",
     "output_type": "stream",
     "text": [
      " The green ball.\n",
      " The purple ball.\n",
      " The black ball.\n"
     ]
    },
    {
     "name": "stderr",
     "output_type": "stream",
     "text": [
      "\r",
      "58it [01:14,  1.61s/it]"
     ]
    },
    {
     "name": "stdout",
     "output_type": "stream",
     "text": [
      " The green ball.\n",
      " The green ball.\n",
      " The black ball.\n"
     ]
    },
    {
     "name": "stderr",
     "output_type": "stream",
     "text": [
      "\r",
      "59it [01:16,  1.87s/it]"
     ]
    },
    {
     "name": "stdout",
     "output_type": "stream",
     "text": [
      " The green ball.\n",
      " The purple ball.\n",
      " The white ball.\n"
     ]
    },
    {
     "name": "stderr",
     "output_type": "stream",
     "text": [
      "\r",
      "60it [01:19,  2.13s/it]"
     ]
    },
    {
     "name": "stdout",
     "output_type": "stream",
     "text": [
      " The purple ball.\n",
      " The green ball.\n",
      " The white ball.\n"
     ]
    },
    {
     "name": "stderr",
     "output_type": "stream",
     "text": [
      "\r",
      "61it [01:20,  1.82s/it]"
     ]
    },
    {
     "name": "stdout",
     "output_type": "stream",
     "text": [
      " The green ball.\n",
      " The black ball.\n",
      " The white ball.\n"
     ]
    },
    {
     "name": "stderr",
     "output_type": "stream",
     "text": [
      "\r",
      "62it [01:22,  1.72s/it]"
     ]
    },
    {
     "name": "stdout",
     "output_type": "stream",
     "text": [
      " The black ball.\n",
      " The green ball.\n",
      " The white ball.\n"
     ]
    },
    {
     "name": "stderr",
     "output_type": "stream",
     "text": [
      "\r",
      "63it [01:23,  1.69s/it]"
     ]
    },
    {
     "name": "stdout",
     "output_type": "stream",
     "text": [
      " The brown ball.\n",
      " The purple ball.\n",
      " The black ball.\n"
     ]
    },
    {
     "name": "stderr",
     "output_type": "stream",
     "text": [
      "\r",
      "64it [01:24,  1.52s/it]"
     ]
    },
    {
     "name": "stdout",
     "output_type": "stream",
     "text": [
      " The purple ball.\n",
      " The black ball.\n",
      " The black ball.\n"
     ]
    },
    {
     "name": "stderr",
     "output_type": "stream",
     "text": [
      "\r",
      "65it [01:25,  1.37s/it]"
     ]
    },
    {
     "name": "stdout",
     "output_type": "stream",
     "text": [
      " The brown ball.\n",
      " The purple ball.\n",
      " The white ball.\n"
     ]
    },
    {
     "name": "stderr",
     "output_type": "stream",
     "text": [
      "\r",
      "66it [01:26,  1.29s/it]"
     ]
    },
    {
     "name": "stdout",
     "output_type": "stream",
     "text": [
      " The purple ball.\n",
      " The purple ball.\n",
      " The white ball.\n"
     ]
    },
    {
     "name": "stderr",
     "output_type": "stream",
     "text": [
      "\r",
      "67it [01:28,  1.30s/it]"
     ]
    },
    {
     "name": "stdout",
     "output_type": "stream",
     "text": [
      " The brown ball.\n",
      " The black ball.\n",
      " The white ball.\n"
     ]
    },
    {
     "name": "stderr",
     "output_type": "stream",
     "text": [
      "\r",
      "68it [01:29,  1.31s/it]"
     ]
    },
    {
     "name": "stdout",
     "output_type": "stream",
     "text": [
      " The black ball.\n",
      " The brown ball.\n",
      " The white ball.\n"
     ]
    },
    {
     "name": "stderr",
     "output_type": "stream",
     "text": [
      "\r",
      "69it [01:30,  1.22s/it]"
     ]
    },
    {
     "name": "stdout",
     "output_type": "stream",
     "text": [
      " The purple ball.\n",
      " The black ball.\n",
      " The white ball.\n"
     ]
    },
    {
     "name": "stderr",
     "output_type": "stream",
     "text": [
      "70it [01:31,  1.31s/it]"
     ]
    },
    {
     "name": "stdout",
     "output_type": "stream",
     "text": [
      " The black ball.\n",
      " The purple ball.\n",
      " The white ball.\n"
     ]
    },
    {
     "name": "stderr",
     "output_type": "stream",
     "text": [
      "\n"
     ]
    }
   ],
   "source": [
    "# run and populate the entire dataframe\n",
    "answers_c3_q1 = []\n",
    "answers_c3_q2 = []\n",
    "answers_c3_q3 = []\n",
    "\n",
    "for index, row in tqdm(df_toy_problem_3c.iterrows()):\n",
    "    prompt_q1 = question1 + \"\\n\" + example1 + \"\\n\" + row[\"sequence\"] + \" Answer:\"\n",
    "    prompt_q2 = question2 + \"\\n\" + example2 + \"\\n\" + row[\"sequence\"] + \" Answer:\"\n",
    "    prompt_q3 = question3 + \"\\n\" + example3 + \"\\n\" + row[\"sequence\"] + \" Answer:\"\n",
    "    response_q1 = openai.Completion.create(engine=\"text-davinci-001\", prompt=prompt_q1, max_tokens=15, temperature=0)\n",
    "    response_text_q1 = response_q1[\"choices\"][0][\"text\"]\n",
    "    response_q2 = openai.Completion.create(engine=\"text-davinci-001\", prompt=prompt_q2, max_tokens=15, temperature=0)\n",
    "    response_text_q2 = response_q2[\"choices\"][0][\"text\"]\n",
    "    response_q3 = openai.Completion.create(engine=\"text-davinci-001\", prompt=prompt_q3, max_tokens=15, temperature=0)\n",
    "    response_text_q3 = response_q3[\"choices\"][0][\"text\"]\n",
    "    #print(response_text_q1)\n",
    "    #print(response_text_q2)\n",
    "    #print(response_text_q3)\n",
    "    answers_c3_q1.append(response_text_q1)\n",
    "    answers_c3_q2.append(response_text_q2)\n",
    "    answers_c3_q3.append(response_text_q3)"
   ]
  },
  {
   "cell_type": "code",
   "execution_count": 68,
   "metadata": {},
   "outputs": [
    {
     "data": {
      "text/html": [
       "<div>\n",
       "<style scoped>\n",
       "    .dataframe tbody tr th:only-of-type {\n",
       "        vertical-align: middle;\n",
       "    }\n",
       "\n",
       "    .dataframe tbody tr th {\n",
       "        vertical-align: top;\n",
       "    }\n",
       "\n",
       "    .dataframe thead th {\n",
       "        text-align: right;\n",
       "    }\n",
       "</style>\n",
       "<table border=\"1\" class=\"dataframe\">\n",
       "  <thead>\n",
       "    <tr style=\"text-align: right;\">\n",
       "      <th></th>\n",
       "      <th>sequence</th>\n",
       "      <th>switched</th>\n",
       "      <th>first_color</th>\n",
       "      <th>second_color</th>\n",
       "      <th>final_color</th>\n",
       "      <th>answers_start_chain</th>\n",
       "      <th>answers_second_chain</th>\n",
       "      <th>answers_into_hole</th>\n",
       "    </tr>\n",
       "  </thead>\n",
       "  <tbody>\n",
       "    <tr>\n",
       "      <th>0</th>\n",
       "      <td>The blue ball hit the red ball. The red ball h...</td>\n",
       "      <td>False</td>\n",
       "      <td>blue</td>\n",
       "      <td>red</td>\n",
       "      <td>green</td>\n",
       "      <td>The blue ball.</td>\n",
       "      <td>The red ball.</td>\n",
       "      <td>The green ball.</td>\n",
       "    </tr>\n",
       "    <tr>\n",
       "      <th>1</th>\n",
       "      <td>The red ball hit the green ball. The blue ball...</td>\n",
       "      <td>True</td>\n",
       "      <td>blue</td>\n",
       "      <td>red</td>\n",
       "      <td>green</td>\n",
       "      <td>The blue ball.</td>\n",
       "      <td>The green ball.</td>\n",
       "      <td>The green ball.</td>\n",
       "    </tr>\n",
       "    <tr>\n",
       "      <th>2</th>\n",
       "      <td>The blue ball hit the red ball. The red ball h...</td>\n",
       "      <td>False</td>\n",
       "      <td>blue</td>\n",
       "      <td>red</td>\n",
       "      <td>brown</td>\n",
       "      <td>The blue ball.</td>\n",
       "      <td>The brown ball.</td>\n",
       "      <td>The brown ball.</td>\n",
       "    </tr>\n",
       "    <tr>\n",
       "      <th>3</th>\n",
       "      <td>The red ball hit the brown ball. The blue ball...</td>\n",
       "      <td>True</td>\n",
       "      <td>blue</td>\n",
       "      <td>red</td>\n",
       "      <td>brown</td>\n",
       "      <td>The blue ball.</td>\n",
       "      <td>The blue ball.</td>\n",
       "      <td>The brown ball.</td>\n",
       "    </tr>\n",
       "    <tr>\n",
       "      <th>4</th>\n",
       "      <td>The blue ball hit the red ball. The red ball h...</td>\n",
       "      <td>False</td>\n",
       "      <td>blue</td>\n",
       "      <td>red</td>\n",
       "      <td>purple</td>\n",
       "      <td>The blue ball.</td>\n",
       "      <td>The purple ball.</td>\n",
       "      <td>The purple ball.</td>\n",
       "    </tr>\n",
       "  </tbody>\n",
       "</table>\n",
       "</div>"
      ],
      "text/plain": [
       "                                            sequence  switched first_color  \\\n",
       "0  The blue ball hit the red ball. The red ball h...     False        blue   \n",
       "1  The red ball hit the green ball. The blue ball...      True        blue   \n",
       "2  The blue ball hit the red ball. The red ball h...     False        blue   \n",
       "3  The red ball hit the brown ball. The blue ball...      True        blue   \n",
       "4  The blue ball hit the red ball. The red ball h...     False        blue   \n",
       "\n",
       "  second_color final_color answers_start_chain answers_second_chain  \\\n",
       "0          red       green      The blue ball.        The red ball.   \n",
       "1          red       green      The blue ball.      The green ball.   \n",
       "2          red       brown      The blue ball.      The brown ball.   \n",
       "3          red       brown      The blue ball.       The blue ball.   \n",
       "4          red      purple      The blue ball.     The purple ball.   \n",
       "\n",
       "   answers_into_hole  \n",
       "0    The green ball.  \n",
       "1    The green ball.  \n",
       "2    The brown ball.  \n",
       "3    The brown ball.  \n",
       "4   The purple ball.  "
      ]
     },
     "execution_count": 68,
     "metadata": {},
     "output_type": "execute_result"
    }
   ],
   "source": [
    "df_toy_problem_3c[\"answers_start_chain\"] = answers_c3_q1\n",
    "df_toy_problem_3c[\"answers_second_chain\"] = answers_c3_q2\n",
    "df_toy_problem_3c[\"answers_into_hole\"] = answers_c3_q3\n",
    "\n",
    "df_toy_problem_3c.to_csv(\"data/toy_problem_3_results/toy_problem_3c_results_one_shot.csv\", index=False)\n",
    "df_toy_problem_3c.head()"
   ]
  },
  {
   "cell_type": "markdown",
   "metadata": {},
   "source": [
    "## Nonsense words"
   ]
  },
  {
   "cell_type": "code",
   "execution_count": 57,
   "metadata": {},
   "outputs": [
    {
     "name": "stdout",
     "output_type": "stream",
     "text": [
      "Question: What started the chain? The schleep hit the blubb. The blubb hit the baz. The baz fell in the hole. Answer: The schleep.\n",
      "The baz hit the fuu. The fuu hit the bla. The bla fell in the hole. Answer:\n",
      "\n",
      "\n",
      "Question: What started the chain? The blubb hit the baz. The schleep hit the blubb. The baz fell in the hole. Answer: the schleep.\n",
      "The fuu hit the bla. The baz hit the fuu. The bla fell in the hole. Answer:\n"
     ]
    }
   ],
   "source": [
    "test_prompt_3nonsense = \"Question: What started the chain? The schleep hit the blubb. The blubb hit the baz. The baz fell in the hole. Answer: The schleep.\\nThe baz hit the fuu. The fuu hit the bla. The bla fell in the hole. Answer:\"\n",
    "test_prompt_3nonsense_switched = \"Question: What started the chain? The blubb hit the baz. The schleep hit the blubb. The baz fell in the hole. Answer: the schleep.\\nThe fuu hit the bla. The baz hit the fuu. The bla fell in the hole. Answer:\"\n",
    "print(test_prompt_3nonsense)\n",
    "print(\"\\n\")\n",
    "print(test_prompt_3nonsense_switched)"
   ]
  },
  {
   "cell_type": "code",
   "execution_count": 59,
   "metadata": {},
   "outputs": [
    {
     "name": "stdout",
     "output_type": "stream",
     "text": [
      " The baz.\n",
      " the baz.\n"
     ]
    }
   ],
   "source": [
    "response_3nonsense = openai.Completion.create(engine=\"text-davinci-001\", prompt=test_prompt_3nonsense, max_tokens=15, temperature=0)\n",
    "print(response_3nonsense[\"choices\"][0][\"text\"])\n",
    "response_3nonsense_switched = openai.Completion.create(engine=\"text-davinci-001\", prompt=test_prompt_3nonsense_switched, max_tokens=15, temperature=0)\n",
    "print(response_3nonsense_switched[\"choices\"][0][\"text\"])"
   ]
  },
  {
   "cell_type": "code",
   "execution_count": 60,
   "metadata": {},
   "outputs": [
    {
     "data": {
      "text/html": [
       "<div>\n",
       "<style scoped>\n",
       "    .dataframe tbody tr th:only-of-type {\n",
       "        vertical-align: middle;\n",
       "    }\n",
       "\n",
       "    .dataframe tbody tr th {\n",
       "        vertical-align: top;\n",
       "    }\n",
       "\n",
       "    .dataframe thead th {\n",
       "        text-align: right;\n",
       "    }\n",
       "</style>\n",
       "<table border=\"1\" class=\"dataframe\">\n",
       "  <thead>\n",
       "    <tr style=\"text-align: right;\">\n",
       "      <th></th>\n",
       "      <th>sequence</th>\n",
       "      <th>switched</th>\n",
       "      <th>first_word</th>\n",
       "      <th>second_word</th>\n",
       "      <th>final_word</th>\n",
       "    </tr>\n",
       "  </thead>\n",
       "  <tbody>\n",
       "    <tr>\n",
       "      <th>0</th>\n",
       "      <td>The baz hit the fuu. The fuu hit the schleep. ...</td>\n",
       "      <td>False</td>\n",
       "      <td>baz</td>\n",
       "      <td>fuu</td>\n",
       "      <td>schleep</td>\n",
       "    </tr>\n",
       "    <tr>\n",
       "      <th>1</th>\n",
       "      <td>The fuu hit the schleep. The baz hit the fuu. ...</td>\n",
       "      <td>True</td>\n",
       "      <td>baz</td>\n",
       "      <td>fuu</td>\n",
       "      <td>schleep</td>\n",
       "    </tr>\n",
       "    <tr>\n",
       "      <th>2</th>\n",
       "      <td>The baz hit the fuu. The fuu hit the blubb. Th...</td>\n",
       "      <td>False</td>\n",
       "      <td>baz</td>\n",
       "      <td>fuu</td>\n",
       "      <td>blubb</td>\n",
       "    </tr>\n",
       "    <tr>\n",
       "      <th>3</th>\n",
       "      <td>The fuu hit the blubb. The baz hit the fuu. Th...</td>\n",
       "      <td>True</td>\n",
       "      <td>baz</td>\n",
       "      <td>fuu</td>\n",
       "      <td>blubb</td>\n",
       "    </tr>\n",
       "    <tr>\n",
       "      <th>4</th>\n",
       "      <td>The baz hit the fuu. The fuu hit the bla. The ...</td>\n",
       "      <td>False</td>\n",
       "      <td>baz</td>\n",
       "      <td>fuu</td>\n",
       "      <td>bla</td>\n",
       "    </tr>\n",
       "  </tbody>\n",
       "</table>\n",
       "</div>"
      ],
      "text/plain": [
       "                                            sequence  switched first_word  \\\n",
       "0  The baz hit the fuu. The fuu hit the schleep. ...     False        baz   \n",
       "1  The fuu hit the schleep. The baz hit the fuu. ...      True        baz   \n",
       "2  The baz hit the fuu. The fuu hit the blubb. Th...     False        baz   \n",
       "3  The fuu hit the blubb. The baz hit the fuu. Th...      True        baz   \n",
       "4  The baz hit the fuu. The fuu hit the bla. The ...     False        baz   \n",
       "\n",
       "  second_word final_word  \n",
       "0         fuu    schleep  \n",
       "1         fuu    schleep  \n",
       "2         fuu      blubb  \n",
       "3         fuu      blubb  \n",
       "4         fuu        bla  "
      ]
     },
     "execution_count": 60,
     "metadata": {},
     "output_type": "execute_result"
    }
   ],
   "source": [
    "df_toy_problem_3nonsense = pd.read_csv(\"data/toy_problem_3/toy_problem_3nonsense.csv\")\n",
    "df_toy_problem_3nonsense.head()"
   ]
  },
  {
   "cell_type": "code",
   "execution_count": 63,
   "metadata": {},
   "outputs": [],
   "source": [
    "question1_n = \"Question: What started the chain?\"\n",
    "example1_n = \"The schleep hit the blubb. The blubb hit the baz. The baz fell in the hole. Answer: The schleep.\"\n",
    "question2_n = \"Question: What was second in the chain?\"\n",
    "example2_n = \"The schleep hit the blubb. The blubb hit the baz. The baz fell in the hole. Answer: The blubb.\"\n",
    "question3_n = \"Question: What fell into the hole?\"\n",
    "example3_n = \"The schleep hit the blubb. The blubb hit the baz. The baz fell in the hole. Answer: The baz.\""
   ]
  },
  {
   "cell_type": "code",
   "execution_count": 65,
   "metadata": {},
   "outputs": [
    {
     "name": "stderr",
     "output_type": "stream",
     "text": [
      "70it [01:20,  1.15s/it]\n"
     ]
    }
   ],
   "source": [
    "# run and populate the entire dataframe\n",
    "answers_n3_q1 = []\n",
    "answers_n3_q2 = []\n",
    "answers_n3_q3 = []\n",
    "\n",
    "for index, row in tqdm(df_toy_problem_3nonsense.iterrows()):\n",
    "    prompt_q1 = question1_n + \"\\n\" + example1_n + \"\\n\" + row[\"sequence\"] + \" Answer:\"\n",
    "    prompt_q2 = question2_n + \"\\n\" + example2_n + \"\\n\" + row[\"sequence\"] + \" Answer:\"\n",
    "    prompt_q3 = question3_n + \"\\n\" + example3_n + \"\\n\" + row[\"sequence\"] + \" Answer:\"\n",
    "    response_q1 = openai.Completion.create(engine=\"text-davinci-001\", prompt=prompt_q1, max_tokens=15, temperature=0)\n",
    "    response_text_q1 = response_q1[\"choices\"][0][\"text\"]\n",
    "    response_q2 = openai.Completion.create(engine=\"text-davinci-001\", prompt=prompt_q2, max_tokens=15, temperature=0)\n",
    "    response_text_q2 = response_q2[\"choices\"][0][\"text\"]\n",
    "    response_q3 = openai.Completion.create(engine=\"text-davinci-001\", prompt=prompt_q3, max_tokens=15, temperature=0)\n",
    "    response_text_q3 = response_q3[\"choices\"][0][\"text\"]\n",
    "#    print(response_text_q1)\n",
    "#    print(response_text_q2)\n",
    "#    print(response_text_q3)\n",
    "    answers_n3_q1.append(response_text_q1)\n",
    "    answers_n3_q2.append(response_text_q2)\n",
    "    answers_n3_q3.append(response_text_q3)"
   ]
  },
  {
   "cell_type": "code",
   "execution_count": 67,
   "metadata": {},
   "outputs": [
    {
     "data": {
      "text/html": [
       "<div>\n",
       "<style scoped>\n",
       "    .dataframe tbody tr th:only-of-type {\n",
       "        vertical-align: middle;\n",
       "    }\n",
       "\n",
       "    .dataframe tbody tr th {\n",
       "        vertical-align: top;\n",
       "    }\n",
       "\n",
       "    .dataframe thead th {\n",
       "        text-align: right;\n",
       "    }\n",
       "</style>\n",
       "<table border=\"1\" class=\"dataframe\">\n",
       "  <thead>\n",
       "    <tr style=\"text-align: right;\">\n",
       "      <th></th>\n",
       "      <th>sequence</th>\n",
       "      <th>switched</th>\n",
       "      <th>first_word</th>\n",
       "      <th>second_word</th>\n",
       "      <th>final_word</th>\n",
       "      <th>answers_start_chain</th>\n",
       "      <th>answers_second_chain</th>\n",
       "      <th>answers_into_hole</th>\n",
       "    </tr>\n",
       "  </thead>\n",
       "  <tbody>\n",
       "    <tr>\n",
       "      <th>0</th>\n",
       "      <td>The baz hit the fuu. The fuu hit the schleep. ...</td>\n",
       "      <td>False</td>\n",
       "      <td>baz</td>\n",
       "      <td>fuu</td>\n",
       "      <td>schleep</td>\n",
       "      <td>The baz.</td>\n",
       "      <td>The fuu.</td>\n",
       "      <td>The schleep.</td>\n",
       "    </tr>\n",
       "    <tr>\n",
       "      <th>1</th>\n",
       "      <td>The fuu hit the schleep. The baz hit the fuu. ...</td>\n",
       "      <td>True</td>\n",
       "      <td>baz</td>\n",
       "      <td>fuu</td>\n",
       "      <td>schleep</td>\n",
       "      <td>The fuu.</td>\n",
       "      <td>The baz.</td>\n",
       "      <td>The schleep.</td>\n",
       "    </tr>\n",
       "    <tr>\n",
       "      <th>2</th>\n",
       "      <td>The baz hit the fuu. The fuu hit the blubb. Th...</td>\n",
       "      <td>False</td>\n",
       "      <td>baz</td>\n",
       "      <td>fuu</td>\n",
       "      <td>blubb</td>\n",
       "      <td>The baz.</td>\n",
       "      <td>The fuu.</td>\n",
       "      <td>The blubb.</td>\n",
       "    </tr>\n",
       "    <tr>\n",
       "      <th>3</th>\n",
       "      <td>The fuu hit the blubb. The baz hit the fuu. Th...</td>\n",
       "      <td>True</td>\n",
       "      <td>baz</td>\n",
       "      <td>fuu</td>\n",
       "      <td>blubb</td>\n",
       "      <td>The fuu.</td>\n",
       "      <td>The blubb.</td>\n",
       "      <td>The blubb.</td>\n",
       "    </tr>\n",
       "    <tr>\n",
       "      <th>4</th>\n",
       "      <td>The baz hit the fuu. The fuu hit the bla. The ...</td>\n",
       "      <td>False</td>\n",
       "      <td>baz</td>\n",
       "      <td>fuu</td>\n",
       "      <td>bla</td>\n",
       "      <td>The baz.</td>\n",
       "      <td>The fuu.</td>\n",
       "      <td>The bla.</td>\n",
       "    </tr>\n",
       "  </tbody>\n",
       "</table>\n",
       "</div>"
      ],
      "text/plain": [
       "                                            sequence  switched first_word  \\\n",
       "0  The baz hit the fuu. The fuu hit the schleep. ...     False        baz   \n",
       "1  The fuu hit the schleep. The baz hit the fuu. ...      True        baz   \n",
       "2  The baz hit the fuu. The fuu hit the blubb. Th...     False        baz   \n",
       "3  The fuu hit the blubb. The baz hit the fuu. Th...      True        baz   \n",
       "4  The baz hit the fuu. The fuu hit the bla. The ...     False        baz   \n",
       "\n",
       "  second_word final_word answers_start_chain answers_second_chain  \\\n",
       "0         fuu    schleep            The baz.             The fuu.   \n",
       "1         fuu    schleep            The fuu.             The baz.   \n",
       "2         fuu      blubb            The baz.             The fuu.   \n",
       "3         fuu      blubb            The fuu.           The blubb.   \n",
       "4         fuu        bla            The baz.             The fuu.   \n",
       "\n",
       "  answers_into_hole  \n",
       "0      The schleep.  \n",
       "1      The schleep.  \n",
       "2        The blubb.  \n",
       "3        The blubb.  \n",
       "4          The bla.  "
      ]
     },
     "execution_count": 67,
     "metadata": {},
     "output_type": "execute_result"
    }
   ],
   "source": [
    "df_toy_problem_3nonsense[\"answers_start_chain\"] = answers_n3_q1\n",
    "df_toy_problem_3nonsense[\"answers_second_chain\"] = answers_n3_q2\n",
    "df_toy_problem_3nonsense[\"answers_into_hole\"] = answers_n3_q3\n",
    "\n",
    "df_toy_problem_3nonsense.to_csv(\"data/toy_problem_3_results/toy_problem_3nonsense_results_one_shot.csv\", index=False)\n",
    "df_toy_problem_3nonsense.head()"
   ]
  },
  {
   "cell_type": "code",
   "execution_count": null,
   "metadata": {},
   "outputs": [],
   "source": []
  }
 ],
 "metadata": {
  "kernelspec": {
   "display_name": "Python 3",
   "language": "python",
   "name": "python3"
  },
  "language_info": {
   "codemirror_mode": {
    "name": "ipython",
    "version": 3
   },
   "file_extension": ".py",
   "mimetype": "text/x-python",
   "name": "python",
   "nbconvert_exporter": "python",
   "pygments_lexer": "ipython3",
   "version": "3.8.5"
  }
 },
 "nbformat": 4,
 "nbformat_minor": 4
}
