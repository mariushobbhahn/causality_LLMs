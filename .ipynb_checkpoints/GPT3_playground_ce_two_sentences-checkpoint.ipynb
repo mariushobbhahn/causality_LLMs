{
 "cells": [
  {
   "cell_type": "markdown",
   "metadata": {},
   "source": [
    "# Playground for cause and effect two sentences\n",
    "\n",
    "You can use the playground to test the different evaluation functions. If you want to run the entire evaluation please use the respective .py script."
   ]
  },
  {
   "cell_type": "code",
   "execution_count": 1,
   "metadata": {},
   "outputs": [],
   "source": [
    "import os\n",
    "import numpy as np\n",
    "import openai\n",
    "import pandas as pd\n",
    "from tqdm import tqdm\n",
    "from setups.ce_two_sentences_setup import CETwoSentences\n",
    "\n",
    "# Load your API key from an environment variable or secret management service\n",
    "openai.api_key = os.getenv(\"OPENAI_KEY\")"
   ]
  },
  {
   "cell_type": "code",
   "execution_count": 2,
   "metadata": {},
   "outputs": [],
   "source": [
    "gpt3_model = \"text-davinci-001\"\n",
    "#gpt3_model = \"text-curie-001\"\n",
    "#gpt3_model = \"text-babbage-001\"\n",
    "#gpt3_model = \"text-ada-001\""
   ]
  },
  {
   "cell_type": "code",
   "execution_count": 3,
   "metadata": {},
   "outputs": [],
   "source": [
    "# test run\n",
    "def gpt3_response(prompt, model):\n",
    "    response = openai.Completion.create(engine=model, prompt=prompt, max_tokens=20, temperature=0)\n",
    "    return(response[\"choices\"][0][\"text\"])"
   ]
  },
  {
   "cell_type": "code",
   "execution_count": 4,
   "metadata": {},
   "outputs": [],
   "source": [
    "ce_2_sentences = CETwoSentences()"
   ]
  },
  {
   "cell_type": "code",
   "execution_count": 5,
   "metadata": {},
   "outputs": [
    {
     "data": {
      "text/html": [
       "<div>\n",
       "<style scoped>\n",
       "    .dataframe tbody tr th:only-of-type {\n",
       "        vertical-align: middle;\n",
       "    }\n",
       "\n",
       "    .dataframe tbody tr th {\n",
       "        vertical-align: top;\n",
       "    }\n",
       "\n",
       "    .dataframe thead th {\n",
       "        text-align: right;\n",
       "    }\n",
       "</style>\n",
       "<table border=\"1\" class=\"dataframe\">\n",
       "  <thead>\n",
       "    <tr style=\"text-align: right;\">\n",
       "      <th></th>\n",
       "      <th>sequence</th>\n",
       "      <th>answer_cause</th>\n",
       "      <th>answer_effect</th>\n",
       "      <th>switched</th>\n",
       "    </tr>\n",
       "  </thead>\n",
       "  <tbody>\n",
       "    <tr>\n",
       "      <th>0</th>\n",
       "      <td>The child hurt their knee. The child started c...</td>\n",
       "      <td>The child hurt their knee.</td>\n",
       "      <td>The child started crying.</td>\n",
       "      <td>False</td>\n",
       "    </tr>\n",
       "    <tr>\n",
       "      <th>1</th>\n",
       "      <td>The child started crying. The child hurt their...</td>\n",
       "      <td>The child hurt their knee.</td>\n",
       "      <td>The child started crying.</td>\n",
       "      <td>True</td>\n",
       "    </tr>\n",
       "    <tr>\n",
       "      <th>2</th>\n",
       "      <td>My car got dirty. I washed the car.</td>\n",
       "      <td>My car got dirty.</td>\n",
       "      <td>I washed the car.</td>\n",
       "      <td>False</td>\n",
       "    </tr>\n",
       "    <tr>\n",
       "      <th>3</th>\n",
       "      <td>I washed the car. My car got dirty.</td>\n",
       "      <td>My car got dirty.</td>\n",
       "      <td>I washed the car.</td>\n",
       "      <td>True</td>\n",
       "    </tr>\n",
       "    <tr>\n",
       "      <th>4</th>\n",
       "      <td>Someone fainted. Someone called 911.</td>\n",
       "      <td>Someone fainted.</td>\n",
       "      <td>Someone called 911.</td>\n",
       "      <td>False</td>\n",
       "    </tr>\n",
       "    <tr>\n",
       "      <th>...</th>\n",
       "      <td>...</td>\n",
       "      <td>...</td>\n",
       "      <td>...</td>\n",
       "      <td>...</td>\n",
       "    </tr>\n",
       "    <tr>\n",
       "      <th>97</th>\n",
       "      <td>Ted had a hangover. Ted went out drinking.</td>\n",
       "      <td>Ted went out drinking.</td>\n",
       "      <td>Ted had a hangover.</td>\n",
       "      <td>True</td>\n",
       "    </tr>\n",
       "    <tr>\n",
       "      <th>98</th>\n",
       "      <td>Alice ate the last cookie. Bob opened the jar ...</td>\n",
       "      <td>Alice ate the last cookie.</td>\n",
       "      <td>Bob opened the jar and was frustrated.</td>\n",
       "      <td>False</td>\n",
       "    </tr>\n",
       "    <tr>\n",
       "      <th>99</th>\n",
       "      <td>Bob opened the jar and was frustrated. Alice a...</td>\n",
       "      <td>Alice ate the last cookie.</td>\n",
       "      <td>Bob opened the jar and was frustrated.</td>\n",
       "      <td>True</td>\n",
       "    </tr>\n",
       "    <tr>\n",
       "      <th>100</th>\n",
       "      <td>Jimmy took the last piece of cake. Mom rinsed ...</td>\n",
       "      <td>Jimmy took the last piece of cake.</td>\n",
       "      <td>Mom rinsed the tray.</td>\n",
       "      <td>False</td>\n",
       "    </tr>\n",
       "    <tr>\n",
       "      <th>101</th>\n",
       "      <td>Mom rinsed the tray. Jimmy took the last piece...</td>\n",
       "      <td>Jimmy took the last piece of cake.</td>\n",
       "      <td>Mom rinsed the tray.</td>\n",
       "      <td>True</td>\n",
       "    </tr>\n",
       "  </tbody>\n",
       "</table>\n",
       "<p>102 rows × 4 columns</p>\n",
       "</div>"
      ],
      "text/plain": [
       "                                              sequence  \\\n",
       "0    The child hurt their knee. The child started c...   \n",
       "1    The child started crying. The child hurt their...   \n",
       "2                  My car got dirty. I washed the car.   \n",
       "3                  I washed the car. My car got dirty.   \n",
       "4                 Someone fainted. Someone called 911.   \n",
       "..                                                 ...   \n",
       "97          Ted had a hangover. Ted went out drinking.   \n",
       "98   Alice ate the last cookie. Bob opened the jar ...   \n",
       "99   Bob opened the jar and was frustrated. Alice a...   \n",
       "100  Jimmy took the last piece of cake. Mom rinsed ...   \n",
       "101  Mom rinsed the tray. Jimmy took the last piece...   \n",
       "\n",
       "                           answer_cause  \\\n",
       "0            The child hurt their knee.   \n",
       "1            The child hurt their knee.   \n",
       "2                     My car got dirty.   \n",
       "3                     My car got dirty.   \n",
       "4                      Someone fainted.   \n",
       "..                                  ...   \n",
       "97               Ted went out drinking.   \n",
       "98           Alice ate the last cookie.   \n",
       "99           Alice ate the last cookie.   \n",
       "100  Jimmy took the last piece of cake.   \n",
       "101  Jimmy took the last piece of cake.   \n",
       "\n",
       "                              answer_effect  switched  \n",
       "0                 The child started crying.     False  \n",
       "1                 The child started crying.      True  \n",
       "2                         I washed the car.     False  \n",
       "3                         I washed the car.      True  \n",
       "4                       Someone called 911.     False  \n",
       "..                                      ...       ...  \n",
       "97                      Ted had a hangover.      True  \n",
       "98   Bob opened the jar and was frustrated.     False  \n",
       "99   Bob opened the jar and was frustrated.      True  \n",
       "100                    Mom rinsed the tray.     False  \n",
       "101                    Mom rinsed the tray.      True  \n",
       "\n",
       "[102 rows x 4 columns]"
      ]
     },
     "execution_count": 5,
     "metadata": {},
     "output_type": "execute_result"
    }
   ],
   "source": [
    "ce_2_sentences.generate_sequences_df()"
   ]
  },
  {
   "cell_type": "code",
   "execution_count": 6,
   "metadata": {},
   "outputs": [],
   "source": [
    "ce_2_sentences.save_sequences_df(filepath=\"data/bigbench_csvs/ce_two_sentences.csv\")"
   ]
  },
  {
   "cell_type": "markdown",
   "metadata": {},
   "source": [
    "### Zero shot"
   ]
  },
  {
   "cell_type": "code",
   "execution_count": 7,
   "metadata": {},
   "outputs": [
    {
     "name": "stdout",
     "output_type": "stream",
     "text": [
      "The child hurt their knee. The child started crying. Question: Which sentence caused the other?  Answer by copying the sentence:\n",
      "\n",
      "The child started crying.\n",
      "\n",
      "The child hurt their knee. The child started crying. Question: Which sentence is the effect of the other?  Answer by copying the sentence:\n",
      "\n",
      "The child's knee was hurting.\n",
      "\n",
      "The child started crying. The child hurt their knee. Question: Which sentence caused the other?  Answer by copying the sentence:\n",
      "\n",
      "The child started crying.\n",
      "\n",
      "The child started crying. The child hurt their knee. Question: Which sentence is the effect of the other?  Answer by copying the sentence:\n",
      "\n",
      "The child started crying because they hurt their knee.\n",
      "\n"
     ]
    }
   ],
   "source": [
    "prompt_zs_cause = ce_2_sentences.generate_single_prompt_zero_shot(n_subset=0, switched=False, question=\"cause\")\n",
    "prompt_zs_effect = ce_2_sentences.generate_single_prompt_zero_shot(n_subset=0, switched=False, question=\"effect\")\n",
    "\n",
    "prompt_zs_cause_switched = ce_2_sentences.generate_single_prompt_zero_shot(n_subset=0, switched=True, question=\"cause\")\n",
    "prompt_zs_effect_switched = ce_2_sentences.generate_single_prompt_zero_shot(n_subset=0, switched=True, question=\"effect\")\n",
    "\n",
    "print(prompt_zs_cause + gpt3_response(prompt_zs_cause, gpt3_model) + \"\\n\")\n",
    "print(prompt_zs_effect + gpt3_response(prompt_zs_effect, gpt3_model) + \"\\n\")\n",
    "print(prompt_zs_cause_switched + gpt3_response(prompt_zs_cause_switched, gpt3_model) + \"\\n\")\n",
    "print(prompt_zs_effect_switched + gpt3_response(prompt_zs_effect_switched, gpt3_model) + \"\\n\")"
   ]
  },
  {
   "cell_type": "code",
   "execution_count": 8,
   "metadata": {},
   "outputs": [
    {
     "name": "stdout",
     "output_type": "stream",
     "text": [
      "['The child hurt their knee. The child started crying. Question: Which sentence caused the other?  Answer by copying the sentence:', 'The child started crying. The child hurt their knee. Question: Which sentence caused the other?  Answer by copying the sentence:', 'My car got dirty. I washed the car. Question: Which sentence caused the other?  Answer by copying the sentence:']\n",
      "['The child hurt their knee. The child started crying. Question: Which sentence is the effect of the other?  Answer by copying the sentence:', 'The child started crying. The child hurt their knee. Question: Which sentence is the effect of the other?  Answer by copying the sentence:', 'My car got dirty. I washed the car. Question: Which sentence is the effect of the other?  Answer by copying the sentence:']\n"
     ]
    }
   ],
   "source": [
    "print(ce_2_sentences.generate_all_prompts_zero_shot(question='cause')[:3])\n",
    "print(ce_2_sentences.generate_all_prompts_zero_shot(question='effect')[:3])"
   ]
  },
  {
   "cell_type": "markdown",
   "metadata": {},
   "source": [
    "### One shot"
   ]
  },
  {
   "cell_type": "code",
   "execution_count": 9,
   "metadata": {},
   "outputs": [
    {
     "name": "stdout",
     "output_type": "stream",
     "text": [
      "normal\n",
      "A large object hit the Earth. The dinosaurs became extinct. Question: Which sentence caused the other? Answer by copying the sentence: A large object hit the Earth.\n",
      "The child hurt their knee. The child started crying. Question: Which sentence caused the other?  Answer by copying the sentence:\n",
      "\n",
      "The child hurt their knee.\n",
      "\n",
      "A large object hit the Earth. The dinosaurs became extinct. Question: Which sentence is the effect of the other? Answer by copying the sentence: The dinosaurs became extinct.\n",
      "The child hurt their knee. The child started crying. Question: Which sentence is the effect of the other?  Answer by copying the sentence: The child started crying.\n",
      "\n",
      "both switched\n",
      "The man sipped the milk and spit it out. The milk was left outside the fridge over night. Question: Which sentence caused the other? Answer by copying the sentence: The milk was left outside the fridge over night.\n",
      "The child started crying. The child hurt their knee. Question: Which sentence caused the other?  Answer by copying the sentence: The child hurt their knee.\n",
      "\n",
      "A man was covered in sticky red goo. A watermelon exploded. Question: Which sentence is the effect of the other? Answer by copying the sentence: A man was covered in sticky red goo.\n",
      "The child started crying. The child hurt their knee. Question: Which sentence is the effect of the other?  Answer by copying the sentence:\n",
      "The child started crying.\n",
      "\n",
      "prompt switched, shot normal\n",
      "The wind blew strong. The ship capsized. Question: Which sentence caused the other? Answer by copying the sentence: The wind blew strong.\n",
      "The child started crying. The child hurt their knee. Question: Which sentence caused the other?  Answer by copying the sentence: The child started crying.\n",
      "\n",
      "The girl had a fever. Mom gave the girl fever medicine. Question: Which sentence is the effect of the other? Answer by copying the sentence: Mom gave the girl fever medicine.\n",
      "The child started crying. The child hurt their knee. Question: Which sentence is the effect of the other?  Answer by copying the sentence: The child hurt their knee.\n",
      "\n",
      "prompt normal, shot switched\n",
      "The family went on vacation. School was on break. Question: Which sentence caused the other? Answer by copying the sentence: School was on break.\n",
      "The child hurt their knee. The child started crying. Question: Which sentence caused the other?  Answer by copying the sentence: The child started crying.\n",
      "\n",
      "The girl caught a cold. The girl didn't wear her sweater. Question: Which sentence is the effect of the other? Answer by copying the sentence: The girl caught a cold.\n",
      "The child hurt their knee. The child started crying. Question: Which sentence is the effect of the other?  Answer by copying the sentence: The child hurt their knee.\n",
      "\n"
     ]
    }
   ],
   "source": [
    "prompt_os_cause = ce_2_sentences.generate_single_prompt_one_shot(n_subset=0, switched=False, question=\"cause\")\n",
    "prompt_os_effect = ce_2_sentences.generate_single_prompt_one_shot(n_subset=0, switched=False, question=\"effect\")\n",
    "\n",
    "prompt_os_cause_switched = ce_2_sentences.generate_single_prompt_one_shot(n_subset=0, switched=True, switched_shot=True, question=\"cause\")\n",
    "prompt_os_effect_switched = ce_2_sentences.generate_single_prompt_one_shot(n_subset=0, switched=True, switched_shot=True, question=\"effect\")\n",
    "\n",
    "prompt_os_cause_switched_nss = ce_2_sentences.generate_single_prompt_one_shot(n_subset=0, switched=True, switched_shot=False, question=\"cause\")\n",
    "prompt_os_effect_switched_nss = ce_2_sentences.generate_single_prompt_one_shot(n_subset=0, switched=True, switched_shot=False, question=\"effect\")\n",
    "\n",
    "prompt_os_cause_ss = ce_2_sentences.generate_single_prompt_one_shot(n_subset=0, switched=False, switched_shot=True, question=\"cause\")\n",
    "prompt_os_effect_ss = ce_2_sentences.generate_single_prompt_one_shot(n_subset=0, switched=False, switched_shot=True, question=\"effect\")\n",
    "\n",
    "print(\"normal\")\n",
    "print(prompt_os_cause + gpt3_response(prompt_os_cause, gpt3_model) + \"\\n\")\n",
    "print(prompt_os_effect + gpt3_response(prompt_os_effect, gpt3_model) + \"\\n\")\n",
    "\n",
    "print(\"both switched\")\n",
    "print(prompt_os_cause_switched + gpt3_response(prompt_os_cause_switched, gpt3_model) + \"\\n\")\n",
    "print(prompt_os_effect_switched + gpt3_response(prompt_os_effect_switched, gpt3_model) + \"\\n\")\n",
    "\n",
    "print(\"prompt switched, shot normal\")\n",
    "print(prompt_os_cause_switched_nss + gpt3_response(prompt_os_cause_switched_nss, gpt3_model) + \"\\n\")\n",
    "print(prompt_os_effect_switched_nss + gpt3_response(prompt_os_effect_switched_nss, gpt3_model) + \"\\n\")\n",
    "\n",
    "print(\"prompt normal, shot switched\")\n",
    "print(prompt_os_cause_ss + gpt3_response(prompt_os_cause_ss, gpt3_model) + \"\\n\")\n",
    "print(prompt_os_effect_ss + gpt3_response(prompt_os_effect_ss, gpt3_model) + \"\\n\")"
   ]
  },
  {
   "cell_type": "code",
   "execution_count": 10,
   "metadata": {},
   "outputs": [
    {
     "name": "stdout",
     "output_type": "stream",
     "text": [
      "['I flipped the switch. Light filled the room. Question: Which sentence caused the other? Answer by copying the sentence: I flipped the switch.\\nThe child hurt their knee. The child started crying. Question: Which sentence caused the other?  Answer by copying the sentence:', 'The family went to the beach. The air conditioner broke. Question: Which sentence caused the other? Answer by copying the sentence: The air conditioner broke.\\nThe child started crying. The child hurt their knee. Question: Which sentence caused the other?  Answer by copying the sentence:']\n",
      "\n",
      "\n",
      "['The team won the game. The team won the championship. Question: Which sentence is the effect of the other? Answer by copying the sentence: The team won the championship.\\nThe child hurt their knee. The child started crying. Question: Which sentence is the effect of the other?  Answer by copying the sentence:', \"The man turned down the music volume. The man couldn't hear what the woman was saying. Question: Which sentence is the effect of the other? Answer by copying the sentence: The man turned down the music volume.\\nThe child started crying. The child hurt their knee. Question: Which sentence is the effect of the other?  Answer by copying the sentence:\"]\n",
      "\n",
      "\n"
     ]
    }
   ],
   "source": [
    "print(ce_2_sentences.generate_all_prompts_one_shot(question='cause')[:2])\n",
    "print(\"\\n\")\n",
    "print(ce_2_sentences.generate_all_prompts_one_shot(question='effect')[:2])\n",
    "print(\"\\n\")"
   ]
  },
  {
   "cell_type": "code",
   "execution_count": 11,
   "metadata": {},
   "outputs": [
    {
     "name": "stdout",
     "output_type": "stream",
     "text": [
      "[\"The dog bit me. I pulled the dog's tail. Question: Which sentence caused the other? Answer by copying the sentence: I pulled the dog's tail.\\nThe child hurt their knee. The child started crying. Question: Which sentence caused the other?  Answer by copying the sentence:\", 'The bread was dry. We made French toast. Question: Which sentence caused the other? Answer by copying the sentence: The bread was dry.\\nThe child started crying. The child hurt their knee. Question: Which sentence caused the other?  Answer by copying the sentence:']\n",
      "\n",
      "\n",
      "['Tomatoes grew on the vine. The insect pollinated the tomato flowers. Question: Which sentence is the effect of the other? Answer by copying the sentence: Tomatoes grew on the vine.\\nThe child hurt their knee. The child started crying. Question: Which sentence is the effect of the other?  Answer by copying the sentence:', 'The air conditioner broke. The family went to the beach. Question: Which sentence is the effect of the other? Answer by copying the sentence: The family went to the beach.\\nThe child started crying. The child hurt their knee. Question: Which sentence is the effect of the other?  Answer by copying the sentence:']\n",
      "\n",
      "\n"
     ]
    }
   ],
   "source": [
    "print(ce_2_sentences.generate_all_prompts_one_shot_switched_shot(question='cause')[:2])\n",
    "print(\"\\n\")\n",
    "print(ce_2_sentences.generate_all_prompts_one_shot_switched_shot(question='effect')[:2])\n",
    "print(\"\\n\")"
   ]
  },
  {
   "cell_type": "markdown",
   "metadata": {},
   "source": [
    "### K=5 shot"
   ]
  },
  {
   "cell_type": "code",
   "execution_count": 12,
   "metadata": {},
   "outputs": [
    {
     "name": "stdout",
     "output_type": "stream",
     "text": [
      "normal\n",
      "I flipped the switch. Light filled the room. Question: Which sentence caused the other? Answer by copying the sentence: I flipped the switch.\n",
      "There was a loud noise. The boy lifted his eyes from the book. Question: Which sentence caused the other? Answer by copying the sentence: There was a loud noise.\n",
      "It rained. The picnic was cancelled. Question: Which sentence caused the other? Answer by copying the sentence: It rained.\n",
      "It started raining. The woman who was walking on the street opened her umbrella. Question: Which sentence caused the other? Answer by copying the sentence: It started raining.\n",
      "A man accidently pushed the vase off a counter. The vase shattered on the floor. Question: Which sentence caused the other? Answer by copying the sentence: A man accidently pushed the vase off a counter.\n",
      "The child hurt their knee. The child started crying. Question: Which sentence caused the other?  Answer by copying the sentence: The child hurt their knee.\n",
      "\n",
      "It rained. The picnic was cancelled. Question: Which sentence is the effect of the other? Answer by copying the sentence: The picnic was cancelled.\n",
      "Someone fainted. Someone called 911. Question: Which sentence is the effect of the other? Answer by copying the sentence: Someone called 911.\n",
      "The bread was dry. We made French toast. Question: Which sentence is the effect of the other? Answer by copying the sentence: We made French toast.\n",
      "The man got lost in the woods. A search party was assembled. Question: Which sentence is the effect of the other? Answer by copying the sentence: A search party was assembled.\n",
      "The boy threw a rock. The window broke. Question: Which sentence is the effect of the other? Answer by copying the sentence: The window broke.\n",
      "The child hurt their knee. The child started crying. Question: Which sentence is the effect of the other?  Answer by copying the sentence: The child started crying.\n",
      "\n",
      "both switched\n",
      "The performer ran off the stage. There was a wardrobe malfunction. Question: Which sentence caused the other? Answer by copying the sentence: There was a wardrobe malfunction.\n",
      "The driver hit the brakes. The girl stepped onto the street. Question: Which sentence caused the other? Answer by copying the sentence: The girl stepped onto the street.\n",
      "Alice missed her flight. Alice didn't wake up. Question: Which sentence caused the other? Answer by copying the sentence: Alice didn't wake up.\n",
      "Someone called 911. Someone fainted. Question: Which sentence caused the other? Answer by copying the sentence: Someone fainted.\n",
      "The tenants contacted their landlord. The tenants noticed mold on the bathroom ceiling. Question: Which sentence caused the other? Answer by copying the sentence: The tenants noticed mold on the bathroom ceiling.\n",
      "The child started crying. The child hurt their knee. Question: Which sentence caused the other?  Answer by copying the sentence: The child hurt their knee.\n",
      "\n",
      "The vase shattered on the floor. A man accidently pushed the vase off a counter. Question: Which sentence is the effect of the other? Answer by copying the sentence: The vase shattered on the floor.\n",
      "The ship capsized. The wind blew strong. Question: Which sentence is the effect of the other? Answer by copying the sentence: The ship capsized.\n",
      "I put my clothes in the washing machine. My clothes got dirty. Question: Which sentence is the effect of the other? Answer by copying the sentence: I put my clothes in the washing machine.\n",
      "The driver hit the brakes. The girl stepped onto the street. Question: Which sentence is the effect of the other? Answer by copying the sentence: The driver hit the brakes.\n",
      "Acme paid Jill's legal fees. Jill won the lawsuit against Acme. Question: Which sentence is the effect of the other? Answer by copying the sentence: Acme paid Jill's legal fees.\n",
      "The child started crying. The child hurt their knee. Question: Which sentence is the effect of the other?  Answer by copying the sentence: The child started crying.\n",
      "\n",
      "prompt switched, shot normal\n",
      "The bread was dry. We made French toast. Question: Which sentence caused the other? Answer by copying the sentence: The bread was dry.\n",
      "The floor was wet. The man sued. Question: Which sentence caused the other? Answer by copying the sentence: The floor was wet.\n",
      "Someone fainted. Someone called 911. Question: Which sentence caused the other? Answer by copying the sentence: Someone fainted.\n",
      "The driver ran a red light. The driver was pulled over and was fined. Question: Which sentence caused the other? Answer by copying the sentence: The driver ran a red light.\n",
      "The milk was left outside the fridge over night. The man sipped the milk and spit it out. Question: Which sentence caused the other? Answer by copying the sentence: The milk was left outside the fridge over night.\n",
      "The child started crying. The child hurt their knee. Question: Which sentence caused the other?  Answer by copying the sentence: The child started crying.\n",
      "\n",
      "The gardener planted a seed. A flower grew. Question: Which sentence is the effect of the other? Answer by copying the sentence: A flower grew.\n",
      "It started raining. The woman who was walking on the street opened her umbrella. Question: Which sentence is the effect of the other? Answer by copying the sentence: The woman who was walking on the street opened her umbrella.\n",
      "The power was out for days. The meat spoiled. Question: Which sentence is the effect of the other? Answer by copying the sentence: The meat spoiled.\n",
      "The company's posted strong earnings. The company's stock went up. Question: Which sentence is the effect of the other? Answer by copying the sentence: The company's stock went up.\n",
      "The child hurt their knee. The child started crying. Question: Which sentence is the effect of the other? Answer by copying the sentence: The child started crying.\n",
      "The child started crying. The child hurt their knee. Question: Which sentence is the effect of the other?  Answer by copying the sentence: The child hurt their knee.\n",
      "\n",
      "prompt normal, shot switched\n",
      "Mom gave the girl fever medicine. The girl had a fever. Question: Which sentence caused the other? Answer by copying the sentence: The girl had a fever.\n",
      "The performer ran off the stage. There was a wardrobe malfunction. Question: Which sentence caused the other? Answer by copying the sentence: There was a wardrobe malfunction.\n",
      "The window broke. The boy threw a rock. Question: Which sentence caused the other? Answer by copying the sentence: The boy threw a rock.\n",
      "I washed the car. My car got dirty. Question: Which sentence caused the other? Answer by copying the sentence: My car got dirty.\n",
      "Acme paid Jill's legal fees. Jill won the lawsuit against Acme. Question: Which sentence caused the other? Answer by copying the sentence: Jill won the lawsuit against Acme.\n",
      "The child hurt their knee. The child started crying. Question: Which sentence caused the other?  Answer by copying the sentence: The child started crying.\n",
      "\n",
      "The pilot turned on the \"fasten seatbelts\" light. A bird hit the engine. Question: Which sentence is the effect of the other? Answer by copying the sentence: The pilot turned on the \"fasten seatbelts\" light.\n",
      "Tomatoes grew on the vine. The insect pollinated the tomato flowers. Question: Which sentence is the effect of the other? Answer by copying the sentence: Tomatoes grew on the vine.\n",
      "The man went to jail. The man robbed a gas station. Question: Which sentence is the effect of the other? Answer by copying the sentence: The man went to jail.\n",
      "Bob opened the jar and was frustrated. Alice ate the last cookie. Question: Which sentence is the effect of the other? Answer by copying the sentence: Bob opened the jar and was frustrated.\n",
      "The woman who was walking on the street opened her umbrella. It started raining. Question: Which sentence is the effect of the other? Answer by copying the sentence: The woman who was walking on the street opened her umbrella.\n",
      "The child hurt their knee. The child started crying. Question: Which sentence is the effect of the other?  Answer by copying the sentence: The child hurt their knee.\n",
      "\n"
     ]
    }
   ],
   "source": [
    "prompt_ks_cause = ce_2_sentences.generate_single_prompt_k_shot(n_subset=0, switched=False, question=\"cause\")\n",
    "prompt_ks_effect = ce_2_sentences.generate_single_prompt_k_shot(n_subset=0, switched=False, question=\"effect\")\n",
    "\n",
    "prompt_ks_cause_switched = ce_2_sentences.generate_single_prompt_k_shot(n_subset=0, switched=True, switched_shot=True, question=\"cause\")\n",
    "prompt_ks_effect_switched = ce_2_sentences.generate_single_prompt_k_shot(n_subset=0, switched=True, switched_shot=True, question=\"effect\")\n",
    "\n",
    "prompt_ks_cause_switched_nss = ce_2_sentences.generate_single_prompt_k_shot(n_subset=0, switched=True, switched_shot=False, question=\"cause\")\n",
    "prompt_ks_effect_switched_nss = ce_2_sentences.generate_single_prompt_k_shot(n_subset=0, switched=True, switched_shot=False, question=\"effect\")\n",
    "\n",
    "prompt_ks_cause_ss = ce_2_sentences.generate_single_prompt_k_shot(n_subset=0, switched=False, switched_shot=True, question=\"cause\")\n",
    "prompt_ks_effect_ss = ce_2_sentences.generate_single_prompt_k_shot(n_subset=0, switched=False, switched_shot=True, question=\"effect\")\n",
    "\n",
    "print(\"normal\")\n",
    "print(prompt_ks_cause + gpt3_response(prompt_ks_cause, gpt3_model) + \"\\n\")\n",
    "print(prompt_ks_effect + gpt3_response(prompt_ks_effect, gpt3_model) + \"\\n\")\n",
    "\n",
    "print(\"both switched\")\n",
    "print(prompt_ks_cause_switched + gpt3_response(prompt_ks_cause_switched, gpt3_model) + \"\\n\")\n",
    "print(prompt_ks_effect_switched + gpt3_response(prompt_ks_effect_switched, gpt3_model) + \"\\n\")\n",
    "\n",
    "print(\"prompt switched, shot normal\")\n",
    "print(prompt_ks_cause_switched_nss + gpt3_response(prompt_ks_cause_switched_nss, gpt3_model) + \"\\n\")\n",
    "print(prompt_ks_effect_switched_nss + gpt3_response(prompt_ks_effect_switched_nss, gpt3_model) + \"\\n\")\n",
    "\n",
    "print(\"prompt normal, shot switched\")\n",
    "print(prompt_ks_cause_ss + gpt3_response(prompt_ks_cause_ss, gpt3_model) + \"\\n\")\n",
    "print(prompt_ks_effect_ss + gpt3_response(prompt_ks_effect_ss, gpt3_model) + \"\\n\")"
   ]
  },
  {
   "cell_type": "code",
   "execution_count": 13,
   "metadata": {},
   "outputs": [
    {
     "name": "stdout",
     "output_type": "stream",
     "text": [
      "[\"There was a loud noise. The boy lifted his eyes from the book. Question: Which sentence caused the other? Answer by copying the sentence: There was a loud noise.\\nThe curtains were opened. Sunlight filled the room. Question: Which sentence caused the other? Answer by copying the sentence: The curtains were opened.\\nThere was a snowstorm. School was cancelled. Question: Which sentence caused the other? Answer by copying the sentence: There was a snowstorm.\\nThe driver ran a red light. The driver was pulled over and was fined. Question: Which sentence caused the other? Answer by copying the sentence: The driver ran a red light.\\nJill won the lawsuit against Acme. Acme paid Jill's legal fees. Question: Which sentence caused the other? Answer by copying the sentence: Jill won the lawsuit against Acme.\\nThe child hurt their knee. The child started crying. Question: Which sentence caused the other?  Answer by copying the sentence:\", 'The team won the championship. The team won the game. Question: Which sentence caused the other? Answer by copying the sentence: The team won the game.\\nThe performer ran off the stage. There was a wardrobe malfunction. Question: Which sentence caused the other? Answer by copying the sentence: There was a wardrobe malfunction.\\nThe basketball player took a free throw. The basketball player was shoved. Question: Which sentence caused the other? Answer by copying the sentence: The basketball player was shoved.\\nThe tenants contacted their landlord. The tenants noticed mold on the bathroom ceiling. Question: Which sentence caused the other? Answer by copying the sentence: The tenants noticed mold on the bathroom ceiling.\\nThe man sued. The floor was wet. Question: Which sentence caused the other? Answer by copying the sentence: The floor was wet.\\nThe child started crying. The child hurt their knee. Question: Which sentence caused the other?  Answer by copying the sentence:']\n",
      "\n",
      "\n",
      "[\"The milk was left outside the fridge over night. The man sipped the milk and spit it out. Question: Which sentence is the effect of the other? Answer by copying the sentence: The man sipped the milk and spit it out.\\nSomeone fainted. Someone called 911. Question: Which sentence is the effect of the other? Answer by copying the sentence: Someone called 911.\\nAlice didn't wake up. Alice missed her flight. Question: Which sentence is the effect of the other? Answer by copying the sentence: Alice missed her flight.\\nThe girl didn't wear her sweater. The girl caught a cold. Question: Which sentence is the effect of the other? Answer by copying the sentence: The girl caught a cold.\\nThe man robbed a gas station. The man went to jail. Question: Which sentence is the effect of the other? Answer by copying the sentence: The man went to jail.\\nThe child hurt their knee. The child started crying. Question: Which sentence is the effect of the other?  Answer by copying the sentence:\", \"Acme paid Jill's legal fees. Jill won the lawsuit against Acme. Question: Which sentence is the effect of the other? Answer by copying the sentence: Acme paid Jill's legal fees.\\nI got an A on the test. I studied hard. Question: Which sentence is the effect of the other? Answer by copying the sentence: I got an A on the test.\\nThe family went on vacation. School was on break. Question: Which sentence is the effect of the other? Answer by copying the sentence: The family went on vacation.\\nSchool was cancelled. There was a snowstorm. Question: Which sentence is the effect of the other? Answer by copying the sentence: School was cancelled.\\nThe man climbed in through the window. The door was locked. Question: Which sentence is the effect of the other? Answer by copying the sentence: The man climbed in through the window.\\nThe child started crying. The child hurt their knee. Question: Which sentence is the effect of the other?  Answer by copying the sentence:\"]\n"
     ]
    }
   ],
   "source": [
    "print(ce_2_sentences.generate_all_prompts_k_shot(k=5, question='cause')[:2])\n",
    "print(\"\\n\")\n",
    "print(ce_2_sentences.generate_all_prompts_k_shot(k=5, question='effect')[:2])"
   ]
  },
  {
   "cell_type": "code",
   "execution_count": 14,
   "metadata": {},
   "outputs": [
    {
     "name": "stdout",
     "output_type": "stream",
     "text": [
      "['The man went to jail. The man robbed a gas station. Question: Which sentence caused the other? Answer by copying the sentence: The man robbed a gas station.\\nSchool was cancelled. There was a snowstorm. Question: Which sentence caused the other? Answer by copying the sentence: There was a snowstorm.\\nA man was covered in sticky red goo. A watermelon exploded. Question: Which sentence caused the other? Answer by copying the sentence: A watermelon exploded.\\nMy friend celebrated with their family. My friend got a promotion. Question: Which sentence caused the other? Answer by copying the sentence: My friend got a promotion.\\nThe ship capsized. The wind blew strong. Question: Which sentence caused the other? Answer by copying the sentence: The wind blew strong.\\nThe child hurt their knee. The child started crying. Question: Which sentence caused the other?  Answer by copying the sentence:', \"There was a loud noise. The boy lifted his eyes from the book. Question: Which sentence caused the other? Answer by copying the sentence: There was a loud noise.\\nI pulled the dog's tail. The dog bit me. Question: Which sentence caused the other? Answer by copying the sentence: I pulled the dog's tail.\\nIt rained. The picnic was cancelled. Question: Which sentence caused the other? Answer by copying the sentence: It rained.\\nI studied hard. I got an A on the test. Question: Which sentence caused the other? Answer by copying the sentence: I studied hard.\\nThe girl skipped school. The girl got detention. Question: Which sentence caused the other? Answer by copying the sentence: The girl skipped school.\\nThe child started crying. The child hurt their knee. Question: Which sentence caused the other?  Answer by copying the sentence:\"]\n",
      "\n",
      "\n",
      "['The ship capsized. The wind blew strong. Question: Which sentence is the effect of the other? Answer by copying the sentence: The ship capsized.\\nThe family went to the beach. The air conditioner broke. Question: Which sentence is the effect of the other? Answer by copying the sentence: The family went to the beach.\\nWe made French toast. The bread was dry. Question: Which sentence is the effect of the other? Answer by copying the sentence: We made French toast.\\nI got an A on the test. I studied hard. Question: Which sentence is the effect of the other? Answer by copying the sentence: I got an A on the test.\\nThe driver was pulled over and was fined. The driver ran a red light. Question: Which sentence is the effect of the other? Answer by copying the sentence: The driver was pulled over and was fined.\\nThe child hurt their knee. The child started crying. Question: Which sentence is the effect of the other?  Answer by copying the sentence:', \"The boy threw a rock. The window broke. Question: Which sentence is the effect of the other? Answer by copying the sentence: The window broke.\\nTed went out drinking. Ted had a hangover. Question: Which sentence is the effect of the other? Answer by copying the sentence: Ted had a hangover.\\nThe company's posted strong earnings. The company's stock went up. Question: Which sentence is the effect of the other? Answer by copying the sentence: The company's stock went up.\\nThere was a snowstorm. School was cancelled. Question: Which sentence is the effect of the other? Answer by copying the sentence: School was cancelled.\\nThe basketball player was shoved. The basketball player took a free throw. Question: Which sentence is the effect of the other? Answer by copying the sentence: The basketball player took a free throw.\\nThe child started crying. The child hurt their knee. Question: Which sentence is the effect of the other?  Answer by copying the sentence:\"]\n"
     ]
    }
   ],
   "source": [
    "print(ce_2_sentences.generate_all_prompts_k_shot_switched_shot(k=5, question='cause')[:2])\n",
    "print(\"\\n\")\n",
    "print(ce_2_sentences.generate_all_prompts_k_shot_switched_shot(k=5, question='effect')[:2])"
   ]
  }
 ],
 "metadata": {
  "kernelspec": {
   "display_name": "Python 3",
   "language": "python",
   "name": "python3"
  },
  "language_info": {
   "codemirror_mode": {
    "name": "ipython",
    "version": 3
   },
   "file_extension": ".py",
   "mimetype": "text/x-python",
   "name": "python",
   "nbconvert_exporter": "python",
   "pygments_lexer": "ipython3",
   "version": "3.8.5"
  }
 },
 "nbformat": 4,
 "nbformat_minor": 4
}
