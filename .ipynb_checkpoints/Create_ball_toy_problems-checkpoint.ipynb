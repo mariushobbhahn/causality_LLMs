{
 "cells": [
  {
   "cell_type": "markdown",
   "metadata": {},
   "source": [
    "# Create toy problems\n",
    "\n",
    "We create a toy problem with balls that hit each other in a sequential manner until one of them goes into the hole, e.g. \"The red ball hit the blue ball. The blue ball hit the green ball. The green ball fell into the hole\". \n",
    "We check if the LLM can recreate the correct sequence by asking questions such as \"which ball started the chain\" or \"which ball was second in the chain\". \n",
    "To increase complexity we will permute the order in which the sentence is presented, e.g. \"The blue ball hit the green ball. The red ball hit the blue ball. The green ball fell into the hole\". "
   ]
  },
  {
   "cell_type": "markdown",
   "metadata": {},
   "source": [
    "## Three ball problems"
   ]
  },
  {
   "cell_type": "code",
   "execution_count": 8,
   "metadata": {},
   "outputs": [],
   "source": [
    "events = [\n",
    "    \"The {} ball hit the {} ball.\",\n",
    "    \"The {} ball hit the {} ball.\"\n",
    "]\n",
    "outro = \"The {} ball fell in the hole.\"\n",
    "colors = [\n",
    "    \"blue\",\n",
    "    \"red\",\n",
    "    \"green\",\n",
    "    \"brown\",\n",
    "    \"purple\",\n",
    "    \"black\",\n",
    "    \"white\"\n",
    "]"
   ]
  },
  {
   "cell_type": "code",
   "execution_count": 9,
   "metadata": {},
   "outputs": [],
   "source": [
    "import itertools\n",
    " \n",
    "def findsubsets(s, n):\n",
    "    return list(itertools.combinations(s, n))"
   ]
  },
  {
   "cell_type": "code",
   "execution_count": 11,
   "metadata": {},
   "outputs": [
    {
     "name": "stdout",
     "output_type": "stream",
     "text": [
      "The blue ball hit the red ball. The red ball hit the green ball. The green ball fell in the hole.\n",
      "The blue ball hit the red ball. The red ball hit the brown ball. The brown ball fell in the hole.\n",
      "The blue ball hit the red ball. The red ball hit the purple ball. The purple ball fell in the hole.\n",
      "The blue ball hit the red ball. The red ball hit the black ball. The black ball fell in the hole.\n",
      "The blue ball hit the red ball. The red ball hit the white ball. The white ball fell in the hole.\n",
      "The blue ball hit the green ball. The green ball hit the brown ball. The brown ball fell in the hole.\n",
      "The blue ball hit the green ball. The green ball hit the purple ball. The purple ball fell in the hole.\n",
      "The blue ball hit the green ball. The green ball hit the black ball. The black ball fell in the hole.\n",
      "The blue ball hit the green ball. The green ball hit the white ball. The white ball fell in the hole.\n",
      "The blue ball hit the brown ball. The brown ball hit the purple ball. The purple ball fell in the hole.\n",
      "The blue ball hit the brown ball. The brown ball hit the black ball. The black ball fell in the hole.\n",
      "The blue ball hit the brown ball. The brown ball hit the white ball. The white ball fell in the hole.\n",
      "The blue ball hit the purple ball. The purple ball hit the black ball. The black ball fell in the hole.\n",
      "The blue ball hit the purple ball. The purple ball hit the white ball. The white ball fell in the hole.\n",
      "The blue ball hit the black ball. The black ball hit the white ball. The white ball fell in the hole.\n",
      "The red ball hit the green ball. The green ball hit the brown ball. The brown ball fell in the hole.\n",
      "The red ball hit the green ball. The green ball hit the purple ball. The purple ball fell in the hole.\n",
      "The red ball hit the green ball. The green ball hit the black ball. The black ball fell in the hole.\n",
      "The red ball hit the green ball. The green ball hit the white ball. The white ball fell in the hole.\n",
      "The red ball hit the brown ball. The brown ball hit the purple ball. The purple ball fell in the hole.\n",
      "The red ball hit the brown ball. The brown ball hit the black ball. The black ball fell in the hole.\n",
      "The red ball hit the brown ball. The brown ball hit the white ball. The white ball fell in the hole.\n",
      "The red ball hit the purple ball. The purple ball hit the black ball. The black ball fell in the hole.\n",
      "The red ball hit the purple ball. The purple ball hit the white ball. The white ball fell in the hole.\n",
      "The red ball hit the black ball. The black ball hit the white ball. The white ball fell in the hole.\n",
      "The green ball hit the brown ball. The brown ball hit the purple ball. The purple ball fell in the hole.\n",
      "The green ball hit the brown ball. The brown ball hit the black ball. The black ball fell in the hole.\n",
      "The green ball hit the brown ball. The brown ball hit the white ball. The white ball fell in the hole.\n",
      "The green ball hit the purple ball. The purple ball hit the black ball. The black ball fell in the hole.\n",
      "The green ball hit the purple ball. The purple ball hit the white ball. The white ball fell in the hole.\n",
      "The green ball hit the black ball. The black ball hit the white ball. The white ball fell in the hole.\n",
      "The brown ball hit the purple ball. The purple ball hit the black ball. The black ball fell in the hole.\n",
      "The brown ball hit the purple ball. The purple ball hit the white ball. The white ball fell in the hole.\n",
      "The brown ball hit the black ball. The black ball hit the white ball. The white ball fell in the hole.\n",
      "The purple ball hit the black ball. The black ball hit the white ball. The white ball fell in the hole.\n"
     ]
    }
   ],
   "source": [
    "# create sequences \n",
    "sequences = []\n",
    "first_color = []\n",
    "second_color = []\n",
    "final_color = []\n",
    "\n",
    "color_triplets = findsubsets(colors, 3)\n",
    "\n",
    "for ct in color_triplets:\n",
    "    c1, c2, c3 = ct[0], ct[1], ct[2]\n",
    "    s1 = events[0].format(c1, c2)\n",
    "    s2 = events[1].format(c2, c3)\n",
    "    o = outro.format(c3)\n",
    "    print(s1, s2, o)"
   ]
  },
  {
   "cell_type": "code",
   "execution_count": null,
   "metadata": {},
   "outputs": [],
   "source": []
  },
  {
   "cell_type": "code",
   "execution_count": null,
   "metadata": {},
   "outputs": [],
   "source": []
  },
  {
   "cell_type": "code",
   "execution_count": null,
   "metadata": {},
   "outputs": [],
   "source": []
  },
  {
   "cell_type": "code",
   "execution_count": null,
   "metadata": {},
   "outputs": [],
   "source": []
  },
  {
   "cell_type": "code",
   "execution_count": null,
   "metadata": {},
   "outputs": [],
   "source": []
  }
 ],
 "metadata": {
  "kernelspec": {
   "display_name": "Python 3",
   "language": "python",
   "name": "python3"
  },
  "language_info": {
   "codemirror_mode": {
    "name": "ipython",
    "version": 3
   },
   "file_extension": ".py",
   "mimetype": "text/x-python",
   "name": "python",
   "nbconvert_exporter": "python",
   "pygments_lexer": "ipython3",
   "version": "3.8.5"
  }
 },
 "nbformat": 4,
 "nbformat_minor": 4
}
