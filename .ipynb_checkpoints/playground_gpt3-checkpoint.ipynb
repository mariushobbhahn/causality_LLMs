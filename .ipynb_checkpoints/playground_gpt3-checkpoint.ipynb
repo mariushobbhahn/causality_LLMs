{
 "cells": [
  {
   "cell_type": "markdown",
   "metadata": {},
   "source": [
    "# Run the prompts and report results"
   ]
  },
  {
   "cell_type": "markdown",
   "metadata": {},
   "source": [
    "## cause and effect sentences"
   ]
  },
  {
   "cell_type": "code",
   "execution_count": 1,
   "metadata": {},
   "outputs": [],
   "source": [
    "import os\n",
    "import openai\n",
    "import pandas as pd\n",
    "from tqdm import tqdm\n",
    "\n",
    "# Load your API key from an environment variable or secret management service\n",
    "openai.api_key = os.getenv(\"OPENAI_KEY\")"
   ]
  },
  {
   "cell_type": "code",
   "execution_count": 2,
   "metadata": {},
   "outputs": [
    {
     "name": "stdout",
     "output_type": "stream",
     "text": [
      "My car got dirty.\n",
      "I washed the car.\n",
      "Which sentence is the cause of the other?\n"
     ]
    }
   ],
   "source": [
    "test_prompt = \"My car got dirty.\\nI washed the car.\\nWhich sentence is the cause of the other?\"\n",
    "print(test_prompt)"
   ]
  },
  {
   "cell_type": "code",
   "execution_count": 3,
   "metadata": {},
   "outputs": [
    {
     "name": "stdout",
     "output_type": "stream",
     "text": [
      "{\n",
      "  \"choices\": [\n",
      "    {\n",
      "      \"finish_reason\": \"stop\",\n",
      "      \"index\": 0,\n",
      "      \"logprobs\": null,\n",
      "      \"text\": \"\\n\\nThe first sentence is the cause of the other.\"\n",
      "    }\n",
      "  ],\n",
      "  \"created\": 1644860245,\n",
      "  \"id\": \"cmpl-4bZZtrynERRWDVrV751TuDfLAnBA8\",\n",
      "  \"model\": \"text-davinci:001\",\n",
      "  \"object\": \"text_completion\"\n",
      "}\n"
     ]
    }
   ],
   "source": [
    "# test run\n",
    "response = openai.Completion.create(engine=\"text-davinci-001\", prompt=test_prompt, max_tokens=15, temperature=0)\n",
    "print(response)"
   ]
  },
  {
   "cell_type": "code",
   "execution_count": 4,
   "metadata": {},
   "outputs": [
    {
     "data": {
      "text/html": [
       "<div>\n",
       "<style scoped>\n",
       "    .dataframe tbody tr th:only-of-type {\n",
       "        vertical-align: middle;\n",
       "    }\n",
       "\n",
       "    .dataframe tbody tr th {\n",
       "        vertical-align: top;\n",
       "    }\n",
       "\n",
       "    .dataframe thead th {\n",
       "        text-align: right;\n",
       "    }\n",
       "</style>\n",
       "<table border=\"1\" class=\"dataframe\">\n",
       "  <thead>\n",
       "    <tr style=\"text-align: right;\">\n",
       "      <th></th>\n",
       "      <th>prompts</th>\n",
       "      <th>correct_answers</th>\n",
       "    </tr>\n",
       "  </thead>\n",
       "  <tbody>\n",
       "    <tr>\n",
       "      <th>0</th>\n",
       "      <td>The child hurt their knee.\\nThe child started ...</td>\n",
       "      <td>The child hurt their knee.</td>\n",
       "    </tr>\n",
       "    <tr>\n",
       "      <th>1</th>\n",
       "      <td>The child started crying.\\nThe child hurt thei...</td>\n",
       "      <td>The child hurt their knee.</td>\n",
       "    </tr>\n",
       "    <tr>\n",
       "      <th>2</th>\n",
       "      <td>My car got dirty.\\nI washed the car.</td>\n",
       "      <td>My car got dirty.</td>\n",
       "    </tr>\n",
       "    <tr>\n",
       "      <th>3</th>\n",
       "      <td>I washed the car.\\nMy car got dirty.</td>\n",
       "      <td>My car got dirty.</td>\n",
       "    </tr>\n",
       "    <tr>\n",
       "      <th>4</th>\n",
       "      <td>Someone fainted.\\nSomeone called 911.</td>\n",
       "      <td>Someone fainted.</td>\n",
       "    </tr>\n",
       "  </tbody>\n",
       "</table>\n",
       "</div>"
      ],
      "text/plain": [
       "                                             prompts  \\\n",
       "0  The child hurt their knee.\\nThe child started ...   \n",
       "1  The child started crying.\\nThe child hurt thei...   \n",
       "2               My car got dirty.\\nI washed the car.   \n",
       "3               I washed the car.\\nMy car got dirty.   \n",
       "4              Someone fainted.\\nSomeone called 911.   \n",
       "\n",
       "              correct_answers  \n",
       "0  The child hurt their knee.  \n",
       "1  The child hurt their knee.  \n",
       "2           My car got dirty.  \n",
       "3           My car got dirty.  \n",
       "4            Someone fainted.  "
      ]
     },
     "execution_count": 4,
     "metadata": {},
     "output_type": "execute_result"
    }
   ],
   "source": [
    "# load dataframe\n",
    "\n",
    "df_ce_two_sentences = pd.read_csv(\"data/bigbench_csvs/ce_two_sentences.csv\")\n",
    "df_ce_two_sentences.head()"
   ]
  },
  {
   "cell_type": "code",
   "execution_count": 5,
   "metadata": {},
   "outputs": [],
   "source": [
    "cause_question = \"\\nWhich sentence is the cause of the other?\"\n",
    "effect_question = \"\\nWhich sentence is the effect of the other?\""
   ]
  },
  {
   "cell_type": "code",
   "execution_count": 6,
   "metadata": {},
   "outputs": [
    {
     "name": "stderr",
     "output_type": "stream",
     "text": [
      "102it [01:45,  1.04s/it]\n"
     ]
    }
   ],
   "source": [
    "# run and populate the entire dataframe\n",
    "cause_answers = []\n",
    "effect_answers = []\n",
    "\n",
    "for index, row in tqdm(df_ce_two_sentences.iterrows()):\n",
    "    prompt_ = row[\"prompts\"]\n",
    "    # cause\n",
    "    prompt_cause = prompt_ + cause_question \n",
    "    response_cause = openai.Completion.create(engine=\"text-davinci-001\", prompt=prompt_cause, max_tokens=15, temperature=0)\n",
    "    rc_ = response_cause[\"choices\"][0][\"text\"]\n",
    "    cause_answers.append(rc_)\n",
    "    # effect\n",
    "    prompt_effect = prompt_ + effect_question \n",
    "    response_effect = openai.Completion.create(engine=\"text-davinci-001\", prompt=prompt_effect, max_tokens=15, temperature=0)\n",
    "    re_ = response_effect[\"choices\"][0][\"text\"]\n",
    "    effect_answers.append(re_)"
   ]
  },
  {
   "cell_type": "code",
   "execution_count": 7,
   "metadata": {},
   "outputs": [
    {
     "data": {
      "text/html": [
       "<div>\n",
       "<style scoped>\n",
       "    .dataframe tbody tr th:only-of-type {\n",
       "        vertical-align: middle;\n",
       "    }\n",
       "\n",
       "    .dataframe tbody tr th {\n",
       "        vertical-align: top;\n",
       "    }\n",
       "\n",
       "    .dataframe thead th {\n",
       "        text-align: right;\n",
       "    }\n",
       "</style>\n",
       "<table border=\"1\" class=\"dataframe\">\n",
       "  <thead>\n",
       "    <tr style=\"text-align: right;\">\n",
       "      <th></th>\n",
       "      <th>prompts</th>\n",
       "      <th>correct_answers</th>\n",
       "      <th>cause_answers</th>\n",
       "      <th>effect_answers</th>\n",
       "    </tr>\n",
       "  </thead>\n",
       "  <tbody>\n",
       "    <tr>\n",
       "      <th>0</th>\n",
       "      <td>The child hurt their knee.\\nThe child started ...</td>\n",
       "      <td>The child hurt their knee.</td>\n",
       "      <td>\\n\\nThe child's crying is the cause of their k...</td>\n",
       "      <td>\\n\\nThe child started crying is the effect of ...</td>\n",
       "    </tr>\n",
       "    <tr>\n",
       "      <th>1</th>\n",
       "      <td>The child started crying.\\nThe child hurt thei...</td>\n",
       "      <td>The child hurt their knee.</td>\n",
       "      <td>\\n\\nThe child started crying because they hurt...</td>\n",
       "      <td>\\n\\nThe child started crying because they hurt...</td>\n",
       "    </tr>\n",
       "    <tr>\n",
       "      <th>2</th>\n",
       "      <td>My car got dirty.\\nI washed the car.</td>\n",
       "      <td>My car got dirty.</td>\n",
       "      <td>\\n\\nThe first sentence is the cause of the other.</td>\n",
       "      <td>\\n\\nThe first sentence is the effect of the ot...</td>\n",
       "    </tr>\n",
       "    <tr>\n",
       "      <th>3</th>\n",
       "      <td>I washed the car.\\nMy car got dirty.</td>\n",
       "      <td>My car got dirty.</td>\n",
       "      <td>\\n\\nThe first sentence is the cause of the other.</td>\n",
       "      <td>\\n\\nThe first sentence is the effect of the ot...</td>\n",
       "    </tr>\n",
       "    <tr>\n",
       "      <th>4</th>\n",
       "      <td>Someone fainted.\\nSomeone called 911.</td>\n",
       "      <td>Someone fainted.</td>\n",
       "      <td>\\n\\nThe sentence \"Someone called 911\" is the c...</td>\n",
       "      <td>\\n\\nThe sentence \"Someone called 911\" is the e...</td>\n",
       "    </tr>\n",
       "  </tbody>\n",
       "</table>\n",
       "</div>"
      ],
      "text/plain": [
       "                                             prompts  \\\n",
       "0  The child hurt their knee.\\nThe child started ...   \n",
       "1  The child started crying.\\nThe child hurt thei...   \n",
       "2               My car got dirty.\\nI washed the car.   \n",
       "3               I washed the car.\\nMy car got dirty.   \n",
       "4              Someone fainted.\\nSomeone called 911.   \n",
       "\n",
       "              correct_answers  \\\n",
       "0  The child hurt their knee.   \n",
       "1  The child hurt their knee.   \n",
       "2           My car got dirty.   \n",
       "3           My car got dirty.   \n",
       "4            Someone fainted.   \n",
       "\n",
       "                                       cause_answers  \\\n",
       "0  \\n\\nThe child's crying is the cause of their k...   \n",
       "1  \\n\\nThe child started crying because they hurt...   \n",
       "2  \\n\\nThe first sentence is the cause of the other.   \n",
       "3  \\n\\nThe first sentence is the cause of the other.   \n",
       "4  \\n\\nThe sentence \"Someone called 911\" is the c...   \n",
       "\n",
       "                                      effect_answers  \n",
       "0  \\n\\nThe child started crying is the effect of ...  \n",
       "1  \\n\\nThe child started crying because they hurt...  \n",
       "2  \\n\\nThe first sentence is the effect of the ot...  \n",
       "3  \\n\\nThe first sentence is the effect of the ot...  \n",
       "4  \\n\\nThe sentence \"Someone called 911\" is the e...  "
      ]
     },
     "execution_count": 7,
     "metadata": {},
     "output_type": "execute_result"
    }
   ],
   "source": [
    "# add results to the dataframe and save\n",
    "\n",
    "df_ce_two_sentences[\"cause_answers\"] = cause_answers\n",
    "df_ce_two_sentences[\"effect_answers\"] = effect_answers\n",
    "df_ce_two_sentences.head()"
   ]
  },
  {
   "cell_type": "code",
   "execution_count": 8,
   "metadata": {},
   "outputs": [],
   "source": [
    "df_ce_two_sentences.to_csv(\"data/bigbench_results/ce_two_sentences_results.csv\", index=False)"
   ]
  },
  {
   "cell_type": "markdown",
   "metadata": {},
   "source": [
    "## which sentence is more plausible?"
   ]
  },
  {
   "cell_type": "code",
   "execution_count": 9,
   "metadata": {},
   "outputs": [
    {
     "data": {
      "text/html": [
       "<div>\n",
       "<style scoped>\n",
       "    .dataframe tbody tr th:only-of-type {\n",
       "        vertical-align: middle;\n",
       "    }\n",
       "\n",
       "    .dataframe tbody tr th {\n",
       "        vertical-align: top;\n",
       "    }\n",
       "\n",
       "    .dataframe thead th {\n",
       "        text-align: right;\n",
       "    }\n",
       "</style>\n",
       "<table border=\"1\" class=\"dataframe\">\n",
       "  <thead>\n",
       "    <tr style=\"text-align: right;\">\n",
       "      <th></th>\n",
       "      <th>prompts</th>\n",
       "      <th>correct_answers</th>\n",
       "    </tr>\n",
       "  </thead>\n",
       "  <tbody>\n",
       "    <tr>\n",
       "      <th>0</th>\n",
       "      <td>The child started crying because the child hur...</td>\n",
       "      <td>The child started crying because the child hur...</td>\n",
       "    </tr>\n",
       "    <tr>\n",
       "      <th>1</th>\n",
       "      <td>The child hurt their knee because the child st...</td>\n",
       "      <td>The child started crying because the child hur...</td>\n",
       "    </tr>\n",
       "    <tr>\n",
       "      <th>2</th>\n",
       "      <td>I washed the car because my car got dirty.\\nMy...</td>\n",
       "      <td>I washed the car because my car got dirty.</td>\n",
       "    </tr>\n",
       "    <tr>\n",
       "      <th>3</th>\n",
       "      <td>My car got dirty because i washed the car.\\nI ...</td>\n",
       "      <td>I washed the car because my car got dirty.</td>\n",
       "    </tr>\n",
       "    <tr>\n",
       "      <th>4</th>\n",
       "      <td>Someone called 911 because someone fainted.\\nS...</td>\n",
       "      <td>Someone called 911 because someone fainted.</td>\n",
       "    </tr>\n",
       "  </tbody>\n",
       "</table>\n",
       "</div>"
      ],
      "text/plain": [
       "                                             prompts  \\\n",
       "0  The child started crying because the child hur...   \n",
       "1  The child hurt their knee because the child st...   \n",
       "2  I washed the car because my car got dirty.\\nMy...   \n",
       "3  My car got dirty because i washed the car.\\nI ...   \n",
       "4  Someone called 911 because someone fainted.\\nS...   \n",
       "\n",
       "                                     correct_answers  \n",
       "0  The child started crying because the child hur...  \n",
       "1  The child started crying because the child hur...  \n",
       "2         I washed the car because my car got dirty.  \n",
       "3         I washed the car because my car got dirty.  \n",
       "4        Someone called 911 because someone fainted.  "
      ]
     },
     "execution_count": 9,
     "metadata": {},
     "output_type": "execute_result"
    }
   ],
   "source": [
    "# load dataframe\n",
    "\n",
    "df_ce_one_sentence = pd.read_csv(\"data/bigbench_csvs/ce_one_sentence.csv\")\n",
    "df_ce_one_sentence.head()"
   ]
  },
  {
   "cell_type": "code",
   "execution_count": 10,
   "metadata": {},
   "outputs": [
    {
     "name": "stdout",
     "output_type": "stream",
     "text": [
      "I washed the car because my car got dirty.\n",
      "My car got dirty because I washed the car.\n",
      "Which sentence gets cause and effect right?\n"
     ]
    }
   ],
   "source": [
    "test_prompt2 = \"I washed the car because my car got dirty.\\nMy car got dirty because I washed the car.\\nWhich sentence gets cause and effect right?\"\n",
    "print(test_prompt2)"
   ]
  },
  {
   "cell_type": "code",
   "execution_count": 11,
   "metadata": {},
   "outputs": [
    {
     "name": "stdout",
     "output_type": "stream",
     "text": [
      "{\n",
      "  \"choices\": [\n",
      "    {\n",
      "      \"finish_reason\": \"length\",\n",
      "      \"index\": 0,\n",
      "      \"logprobs\": null,\n",
      "      \"text\": \"\\n\\nThe sentence that gets cause and effect right is \\\"My car got dirty because I washed the\"\n",
      "    }\n",
      "  ],\n",
      "  \"created\": 1644860351,\n",
      "  \"id\": \"cmpl-4bZbbpjrwJXifG4xPJFeADkIQRojG\",\n",
      "  \"model\": \"text-davinci:001\",\n",
      "  \"object\": \"text_completion\"\n",
      "}\n"
     ]
    }
   ],
   "source": [
    "# test run\n",
    "response2 = openai.Completion.create(engine=\"text-davinci-001\", prompt=test_prompt2, max_tokens=20, temperature=0)\n",
    "print(response2)"
   ]
  },
  {
   "cell_type": "code",
   "execution_count": 12,
   "metadata": {},
   "outputs": [],
   "source": [
    "#question = \"\\nWhich sentence is more plausible?\"\n",
    "#question = \"\\nWhich sentence is more logical?\"\n",
    "question = \"\\nWhich sentence gets cause and effect right?\""
   ]
  },
  {
   "cell_type": "code",
   "execution_count": 13,
   "metadata": {},
   "outputs": [
    {
     "name": "stderr",
     "output_type": "stream",
     "text": [
      "102it [01:04,  1.59it/s]\n"
     ]
    }
   ],
   "source": [
    "# run and populate the entire dataframe\n",
    "answers2 = []\n",
    "\n",
    "for index, row in tqdm(df_ce_one_sentence.iterrows()):\n",
    "    prompt_ = row[\"prompts\"]\n",
    "    # cause\n",
    "    prompt = prompt_ + question\n",
    "    #print(prompt)\n",
    "    response = openai.Completion.create(engine=\"text-davinci-001\", prompt=prompt, max_tokens=20, temperature=0)\n",
    "    response_text = response[\"choices\"][0][\"text\"]\n",
    "    #print(response_text)\n",
    "    #print(\"end!\")\n",
    "    #if index > 10: break\n",
    "    answers2.append(response_text)"
   ]
  },
  {
   "cell_type": "code",
   "execution_count": 14,
   "metadata": {},
   "outputs": [
    {
     "data": {
      "text/html": [
       "<div>\n",
       "<style scoped>\n",
       "    .dataframe tbody tr th:only-of-type {\n",
       "        vertical-align: middle;\n",
       "    }\n",
       "\n",
       "    .dataframe tbody tr th {\n",
       "        vertical-align: top;\n",
       "    }\n",
       "\n",
       "    .dataframe thead th {\n",
       "        text-align: right;\n",
       "    }\n",
       "</style>\n",
       "<table border=\"1\" class=\"dataframe\">\n",
       "  <thead>\n",
       "    <tr style=\"text-align: right;\">\n",
       "      <th></th>\n",
       "      <th>prompts</th>\n",
       "      <th>correct_answers</th>\n",
       "      <th>answers</th>\n",
       "    </tr>\n",
       "  </thead>\n",
       "  <tbody>\n",
       "    <tr>\n",
       "      <th>0</th>\n",
       "      <td>The child started crying because the child hur...</td>\n",
       "      <td>The child started crying because the child hur...</td>\n",
       "      <td>\\n\\nThe child started crying because the child...</td>\n",
       "    </tr>\n",
       "    <tr>\n",
       "      <th>1</th>\n",
       "      <td>The child hurt their knee because the child st...</td>\n",
       "      <td>The child started crying because the child hur...</td>\n",
       "      <td>\\n\\nThe child started crying because the child...</td>\n",
       "    </tr>\n",
       "    <tr>\n",
       "      <th>2</th>\n",
       "      <td>I washed the car because my car got dirty.\\nMy...</td>\n",
       "      <td>I washed the car because my car got dirty.</td>\n",
       "      <td>\\n\\nThe sentence that gets cause and effect ri...</td>\n",
       "    </tr>\n",
       "    <tr>\n",
       "      <th>3</th>\n",
       "      <td>My car got dirty because i washed the car.\\nI ...</td>\n",
       "      <td>I washed the car because my car got dirty.</td>\n",
       "      <td>\\n\\nThe sentence that gets cause and effect ri...</td>\n",
       "    </tr>\n",
       "    <tr>\n",
       "      <th>4</th>\n",
       "      <td>Someone called 911 because someone fainted.\\nS...</td>\n",
       "      <td>Someone called 911 because someone fainted.</td>\n",
       "      <td>\\n\\nThe sentence that gets cause and effect ri...</td>\n",
       "    </tr>\n",
       "  </tbody>\n",
       "</table>\n",
       "</div>"
      ],
      "text/plain": [
       "                                             prompts  \\\n",
       "0  The child started crying because the child hur...   \n",
       "1  The child hurt their knee because the child st...   \n",
       "2  I washed the car because my car got dirty.\\nMy...   \n",
       "3  My car got dirty because i washed the car.\\nI ...   \n",
       "4  Someone called 911 because someone fainted.\\nS...   \n",
       "\n",
       "                                     correct_answers  \\\n",
       "0  The child started crying because the child hur...   \n",
       "1  The child started crying because the child hur...   \n",
       "2         I washed the car because my car got dirty.   \n",
       "3         I washed the car because my car got dirty.   \n",
       "4        Someone called 911 because someone fainted.   \n",
       "\n",
       "                                             answers  \n",
       "0  \\n\\nThe child started crying because the child...  \n",
       "1  \\n\\nThe child started crying because the child...  \n",
       "2  \\n\\nThe sentence that gets cause and effect ri...  \n",
       "3  \\n\\nThe sentence that gets cause and effect ri...  \n",
       "4  \\n\\nThe sentence that gets cause and effect ri...  "
      ]
     },
     "execution_count": 14,
     "metadata": {},
     "output_type": "execute_result"
    }
   ],
   "source": [
    "# add results to the dataframe and save\n",
    "\n",
    "df_ce_one_sentence[\"answers\"] = answers2\n",
    "df_ce_one_sentence.head()"
   ]
  },
  {
   "cell_type": "code",
   "execution_count": 15,
   "metadata": {},
   "outputs": [],
   "source": [
    "df_ce_one_sentence.to_csv(\"data/bigbench_results/ce_one_sentence_results.csv\", index=False)"
   ]
  },
  {
   "cell_type": "markdown",
   "metadata": {},
   "source": [
    "## Toy sentences 3 colors"
   ]
  },
  {
   "cell_type": "code",
   "execution_count": 16,
   "metadata": {},
   "outputs": [
    {
     "data": {
      "text/html": [
       "<div>\n",
       "<style scoped>\n",
       "    .dataframe tbody tr th:only-of-type {\n",
       "        vertical-align: middle;\n",
       "    }\n",
       "\n",
       "    .dataframe tbody tr th {\n",
       "        vertical-align: top;\n",
       "    }\n",
       "\n",
       "    .dataframe thead th {\n",
       "        text-align: right;\n",
       "    }\n",
       "</style>\n",
       "<table border=\"1\" class=\"dataframe\">\n",
       "  <thead>\n",
       "    <tr style=\"text-align: right;\">\n",
       "      <th></th>\n",
       "      <th>sequence</th>\n",
       "      <th>switched</th>\n",
       "      <th>first_color</th>\n",
       "      <th>second_color</th>\n",
       "      <th>final_color</th>\n",
       "    </tr>\n",
       "  </thead>\n",
       "  <tbody>\n",
       "    <tr>\n",
       "      <th>0</th>\n",
       "      <td>The blue ball hit the red ball. The red ball h...</td>\n",
       "      <td>False</td>\n",
       "      <td>blue</td>\n",
       "      <td>red</td>\n",
       "      <td>green</td>\n",
       "    </tr>\n",
       "    <tr>\n",
       "      <th>1</th>\n",
       "      <td>The red ball hit the green ball. The blue ball...</td>\n",
       "      <td>True</td>\n",
       "      <td>blue</td>\n",
       "      <td>red</td>\n",
       "      <td>green</td>\n",
       "    </tr>\n",
       "    <tr>\n",
       "      <th>2</th>\n",
       "      <td>The blue ball hit the red ball. The red ball h...</td>\n",
       "      <td>False</td>\n",
       "      <td>blue</td>\n",
       "      <td>red</td>\n",
       "      <td>brown</td>\n",
       "    </tr>\n",
       "    <tr>\n",
       "      <th>3</th>\n",
       "      <td>The red ball hit the brown ball. The blue ball...</td>\n",
       "      <td>True</td>\n",
       "      <td>blue</td>\n",
       "      <td>red</td>\n",
       "      <td>brown</td>\n",
       "    </tr>\n",
       "    <tr>\n",
       "      <th>4</th>\n",
       "      <td>The blue ball hit the red ball. The red ball h...</td>\n",
       "      <td>False</td>\n",
       "      <td>blue</td>\n",
       "      <td>red</td>\n",
       "      <td>purple</td>\n",
       "    </tr>\n",
       "  </tbody>\n",
       "</table>\n",
       "</div>"
      ],
      "text/plain": [
       "                                            sequence  switched first_color  \\\n",
       "0  The blue ball hit the red ball. The red ball h...     False        blue   \n",
       "1  The red ball hit the green ball. The blue ball...      True        blue   \n",
       "2  The blue ball hit the red ball. The red ball h...     False        blue   \n",
       "3  The red ball hit the brown ball. The blue ball...      True        blue   \n",
       "4  The blue ball hit the red ball. The red ball h...     False        blue   \n",
       "\n",
       "  second_color final_color  \n",
       "0          red       green  \n",
       "1          red       green  \n",
       "2          red       brown  \n",
       "3          red       brown  \n",
       "4          red      purple  "
      ]
     },
     "execution_count": 16,
     "metadata": {},
     "output_type": "execute_result"
    }
   ],
   "source": [
    "df_toy_problem_3c = pd.read_csv(\"data/toy_problem_3/toy_problem_3c.csv\")\n",
    "df_toy_problem_3c.head()"
   ]
  },
  {
   "cell_type": "code",
   "execution_count": 17,
   "metadata": {},
   "outputs": [
    {
     "name": "stdout",
     "output_type": "stream",
     "text": [
      "The blue ball hit the red ball. The red ball hit the green ball. The green ball fell in the hole.\n",
      "Which ball started the chain?\n",
      "\n",
      "\n",
      "The red ball hit the green ball. The blue ball hit the red ball. The green ball fell in the hole.\n",
      "Which ball started the chain?\n"
     ]
    }
   ],
   "source": [
    "test_prompt_3c = \"The blue ball hit the red ball. The red ball hit the green ball. The green ball fell in the hole.\\nWhich ball started the chain?\"\n",
    "test_prompt_3c_switched = \"The red ball hit the green ball. The blue ball hit the red ball. The green ball fell in the hole.\\nWhich ball started the chain?\"\n",
    "print(test_prompt_3c)\n",
    "print(\"\\n\")\n",
    "print(test_prompt_3c_switched)"
   ]
  },
  {
   "cell_type": "code",
   "execution_count": 18,
   "metadata": {},
   "outputs": [
    {
     "name": "stdout",
     "output_type": "stream",
     "text": [
      "\n",
      "\n",
      "The blue ball started the chain.\n",
      "\n",
      "\n",
      "The blue ball started the chain.\n"
     ]
    }
   ],
   "source": [
    "# test run\n",
    "response_3c = openai.Completion.create(engine=\"text-davinci-001\", prompt=test_prompt_3c, max_tokens=15, temperature=0)\n",
    "print(response_3c[\"choices\"][0][\"text\"])\n",
    "# test run\n",
    "response_3c_switched = openai.Completion.create(engine=\"text-davinci-001\", prompt=test_prompt_3c_switched, max_tokens=15, temperature=0)\n",
    "print(response_3c_switched[\"choices\"][0][\"text\"])"
   ]
  },
  {
   "cell_type": "code",
   "execution_count": 19,
   "metadata": {},
   "outputs": [],
   "source": [
    "question1 = \"\\nWhich ball started the chain?\"\n",
    "question2 = \"\\nWhich ball was second in the chain?\"\n",
    "question3 = \"\\nWhich ball fell into the hole?\""
   ]
  },
  {
   "cell_type": "code",
   "execution_count": 20,
   "metadata": {},
   "outputs": [
    {
     "name": "stderr",
     "output_type": "stream",
     "text": [
      "70it [01:59,  1.71s/it]\n"
     ]
    }
   ],
   "source": [
    "# run and populate the entire dataframe\n",
    "answers_c3_q1 = []\n",
    "answers_c3_q2 = []\n",
    "answers_c3_q3 = []\n",
    "\n",
    "for index, row in tqdm(df_toy_problem_3c.iterrows()):\n",
    "    prompt_q1 = row[\"sequence\"] +  question1\n",
    "    prompt_q2 = row[\"sequence\"] +  question2\n",
    "    prompt_q3 = row[\"sequence\"] +  question3\n",
    "    response_q1 = openai.Completion.create(engine=\"text-davinci-001\", prompt=prompt_q1, max_tokens=15, temperature=0)\n",
    "    response_text_q1 = response_q1[\"choices\"][0][\"text\"]\n",
    "    response_q2 = openai.Completion.create(engine=\"text-davinci-001\", prompt=prompt_q2, max_tokens=15, temperature=0)\n",
    "    response_text_q2 = response_q2[\"choices\"][0][\"text\"]\n",
    "    response_q3 = openai.Completion.create(engine=\"text-davinci-001\", prompt=prompt_q3, max_tokens=15, temperature=0)\n",
    "    response_text_q3 = response_q3[\"choices\"][0][\"text\"]\n",
    "#    print(response_text_q1)\n",
    "#    print(response_text_q2)\n",
    "#    print(response_text_q3)\n",
    "    answers_c3_q1.append(response_text_q1)\n",
    "    answers_c3_q2.append(response_text_q2)\n",
    "    answers_c3_q3.append(response_text_q3)"
   ]
  },
  {
   "cell_type": "code",
   "execution_count": 21,
   "metadata": {},
   "outputs": [
    {
     "data": {
      "text/html": [
       "<div>\n",
       "<style scoped>\n",
       "    .dataframe tbody tr th:only-of-type {\n",
       "        vertical-align: middle;\n",
       "    }\n",
       "\n",
       "    .dataframe tbody tr th {\n",
       "        vertical-align: top;\n",
       "    }\n",
       "\n",
       "    .dataframe thead th {\n",
       "        text-align: right;\n",
       "    }\n",
       "</style>\n",
       "<table border=\"1\" class=\"dataframe\">\n",
       "  <thead>\n",
       "    <tr style=\"text-align: right;\">\n",
       "      <th></th>\n",
       "      <th>sequence</th>\n",
       "      <th>switched</th>\n",
       "      <th>first_color</th>\n",
       "      <th>second_color</th>\n",
       "      <th>final_color</th>\n",
       "      <th>answers_start_chain</th>\n",
       "      <th>answers_second_chain</th>\n",
       "      <th>answers_into_hole</th>\n",
       "    </tr>\n",
       "  </thead>\n",
       "  <tbody>\n",
       "    <tr>\n",
       "      <th>0</th>\n",
       "      <td>The blue ball hit the red ball. The red ball h...</td>\n",
       "      <td>False</td>\n",
       "      <td>blue</td>\n",
       "      <td>red</td>\n",
       "      <td>green</td>\n",
       "      <td>\\n\\nThe blue ball started the chain.</td>\n",
       "      <td>\\n\\nThe blue ball was second in the chain.</td>\n",
       "      <td>\\n\\nThe green ball fell into the hole.</td>\n",
       "    </tr>\n",
       "    <tr>\n",
       "      <th>1</th>\n",
       "      <td>The red ball hit the green ball. The blue ball...</td>\n",
       "      <td>True</td>\n",
       "      <td>blue</td>\n",
       "      <td>red</td>\n",
       "      <td>green</td>\n",
       "      <td>\\n\\nThe blue ball started the chain.</td>\n",
       "      <td>\\n\\nThe blue ball was second in the chain.</td>\n",
       "      <td>\\n\\nThe green ball fell into the hole.</td>\n",
       "    </tr>\n",
       "    <tr>\n",
       "      <th>2</th>\n",
       "      <td>The blue ball hit the red ball. The red ball h...</td>\n",
       "      <td>False</td>\n",
       "      <td>blue</td>\n",
       "      <td>red</td>\n",
       "      <td>brown</td>\n",
       "      <td>\\n\\nThe blue ball started the chain.</td>\n",
       "      <td>\\n\\nThe blue ball was second in the chain.</td>\n",
       "      <td>\\n\\nThe brown ball fell into the hole.</td>\n",
       "    </tr>\n",
       "    <tr>\n",
       "      <th>3</th>\n",
       "      <td>The red ball hit the brown ball. The blue ball...</td>\n",
       "      <td>True</td>\n",
       "      <td>blue</td>\n",
       "      <td>red</td>\n",
       "      <td>brown</td>\n",
       "      <td>\\n\\nThe blue ball started the chain.</td>\n",
       "      <td>\\n\\nThe blue ball was second in the chain.</td>\n",
       "      <td>\\n\\nThe brown ball fell into the hole.</td>\n",
       "    </tr>\n",
       "    <tr>\n",
       "      <th>4</th>\n",
       "      <td>The blue ball hit the red ball. The red ball h...</td>\n",
       "      <td>False</td>\n",
       "      <td>blue</td>\n",
       "      <td>red</td>\n",
       "      <td>purple</td>\n",
       "      <td>\\n\\nThe blue ball started the chain.</td>\n",
       "      <td>\\n\\nThe blue ball was second in the chain.</td>\n",
       "      <td>\\n\\nThe purple ball fell into the hole.</td>\n",
       "    </tr>\n",
       "  </tbody>\n",
       "</table>\n",
       "</div>"
      ],
      "text/plain": [
       "                                            sequence  switched first_color  \\\n",
       "0  The blue ball hit the red ball. The red ball h...     False        blue   \n",
       "1  The red ball hit the green ball. The blue ball...      True        blue   \n",
       "2  The blue ball hit the red ball. The red ball h...     False        blue   \n",
       "3  The red ball hit the brown ball. The blue ball...      True        blue   \n",
       "4  The blue ball hit the red ball. The red ball h...     False        blue   \n",
       "\n",
       "  second_color final_color                   answers_start_chain  \\\n",
       "0          red       green  \\n\\nThe blue ball started the chain.   \n",
       "1          red       green  \\n\\nThe blue ball started the chain.   \n",
       "2          red       brown  \\n\\nThe blue ball started the chain.   \n",
       "3          red       brown  \\n\\nThe blue ball started the chain.   \n",
       "4          red      purple  \\n\\nThe blue ball started the chain.   \n",
       "\n",
       "                         answers_second_chain  \\\n",
       "0  \\n\\nThe blue ball was second in the chain.   \n",
       "1  \\n\\nThe blue ball was second in the chain.   \n",
       "2  \\n\\nThe blue ball was second in the chain.   \n",
       "3  \\n\\nThe blue ball was second in the chain.   \n",
       "4  \\n\\nThe blue ball was second in the chain.   \n",
       "\n",
       "                         answers_into_hole  \n",
       "0   \\n\\nThe green ball fell into the hole.  \n",
       "1   \\n\\nThe green ball fell into the hole.  \n",
       "2   \\n\\nThe brown ball fell into the hole.  \n",
       "3   \\n\\nThe brown ball fell into the hole.  \n",
       "4  \\n\\nThe purple ball fell into the hole.  "
      ]
     },
     "execution_count": 21,
     "metadata": {},
     "output_type": "execute_result"
    }
   ],
   "source": [
    "df_toy_problem_3c[\"answers_start_chain\"] = answers_c3_q1\n",
    "df_toy_problem_3c[\"answers_second_chain\"] = answers_c3_q2\n",
    "df_toy_problem_3c[\"answers_into_hole\"] = answers_c3_q3\n",
    "\n",
    "df_toy_problem_3c.to_csv(\"data/toy_problem_3_results/toy_problem_3c_results.csv\", index=False)\n",
    "df_toy_problem_3c.head()"
   ]
  },
  {
   "cell_type": "markdown",
   "metadata": {},
   "source": [
    "## Nonsense words"
   ]
  },
  {
   "cell_type": "code",
   "execution_count": 22,
   "metadata": {},
   "outputs": [
    {
     "name": "stdout",
     "output_type": "stream",
     "text": [
      "The schleep hit the blubb. The blubb hit the baz. The baz fell in the hole.\n",
      "What started the chain?\n",
      "\n",
      "\n",
      "The blubb hit the baz. The schleep hit the blubb. The baz fell in the hole.\n",
      "What started the chain?\n"
     ]
    }
   ],
   "source": [
    "test_prompt_3nonsense = \"The schleep hit the blubb. The blubb hit the baz. The baz fell in the hole.\\nWhat started the chain?\"\n",
    "test_prompt_3nonsense_switched = \"The blubb hit the baz. The schleep hit the blubb. The baz fell in the hole.\\nWhat started the chain?\"\n",
    "print(test_prompt_3nonsense)\n",
    "print(\"\\n\")\n",
    "print(test_prompt_3nonsense_switched)"
   ]
  },
  {
   "cell_type": "code",
   "execution_count": 23,
   "metadata": {},
   "outputs": [
    {
     "name": "stdout",
     "output_type": "stream",
     "text": [
      "\n",
      "\n",
      "The blue ball started the chain.\n",
      "\n",
      "\n",
      "The blubb hit the baz.\n"
     ]
    }
   ],
   "source": [
    "response_3nonsense = openai.Completion.create(engine=\"text-davinci-001\", prompt=test_prompt_3nonsense, max_tokens=15, temperature=0)\n",
    "print(response_3c[\"choices\"][0][\"text\"])\n",
    "response_3nonsense_switched = openai.Completion.create(engine=\"text-davinci-001\", prompt=test_prompt_3nonsense_switched, max_tokens=15, temperature=0)\n",
    "print(response_3nonsense_switched[\"choices\"][0][\"text\"])"
   ]
  },
  {
   "cell_type": "code",
   "execution_count": 24,
   "metadata": {},
   "outputs": [
    {
     "data": {
      "text/html": [
       "<div>\n",
       "<style scoped>\n",
       "    .dataframe tbody tr th:only-of-type {\n",
       "        vertical-align: middle;\n",
       "    }\n",
       "\n",
       "    .dataframe tbody tr th {\n",
       "        vertical-align: top;\n",
       "    }\n",
       "\n",
       "    .dataframe thead th {\n",
       "        text-align: right;\n",
       "    }\n",
       "</style>\n",
       "<table border=\"1\" class=\"dataframe\">\n",
       "  <thead>\n",
       "    <tr style=\"text-align: right;\">\n",
       "      <th></th>\n",
       "      <th>sequence</th>\n",
       "      <th>switched</th>\n",
       "      <th>first_word</th>\n",
       "      <th>second_word</th>\n",
       "      <th>final_word</th>\n",
       "    </tr>\n",
       "  </thead>\n",
       "  <tbody>\n",
       "    <tr>\n",
       "      <th>0</th>\n",
       "      <td>The baz hit the fuu. The fuu hit the schleep. ...</td>\n",
       "      <td>False</td>\n",
       "      <td>baz</td>\n",
       "      <td>fuu</td>\n",
       "      <td>schleep</td>\n",
       "    </tr>\n",
       "    <tr>\n",
       "      <th>1</th>\n",
       "      <td>The fuu hit the schleep. The baz hit the fuu. ...</td>\n",
       "      <td>True</td>\n",
       "      <td>baz</td>\n",
       "      <td>fuu</td>\n",
       "      <td>schleep</td>\n",
       "    </tr>\n",
       "    <tr>\n",
       "      <th>2</th>\n",
       "      <td>The baz hit the fuu. The fuu hit the blubb. Th...</td>\n",
       "      <td>False</td>\n",
       "      <td>baz</td>\n",
       "      <td>fuu</td>\n",
       "      <td>blubb</td>\n",
       "    </tr>\n",
       "    <tr>\n",
       "      <th>3</th>\n",
       "      <td>The fuu hit the blubb. The baz hit the fuu. Th...</td>\n",
       "      <td>True</td>\n",
       "      <td>baz</td>\n",
       "      <td>fuu</td>\n",
       "      <td>blubb</td>\n",
       "    </tr>\n",
       "    <tr>\n",
       "      <th>4</th>\n",
       "      <td>The baz hit the fuu. The fuu hit the bla. The ...</td>\n",
       "      <td>False</td>\n",
       "      <td>baz</td>\n",
       "      <td>fuu</td>\n",
       "      <td>bla</td>\n",
       "    </tr>\n",
       "  </tbody>\n",
       "</table>\n",
       "</div>"
      ],
      "text/plain": [
       "                                            sequence  switched first_word  \\\n",
       "0  The baz hit the fuu. The fuu hit the schleep. ...     False        baz   \n",
       "1  The fuu hit the schleep. The baz hit the fuu. ...      True        baz   \n",
       "2  The baz hit the fuu. The fuu hit the blubb. Th...     False        baz   \n",
       "3  The fuu hit the blubb. The baz hit the fuu. Th...      True        baz   \n",
       "4  The baz hit the fuu. The fuu hit the bla. The ...     False        baz   \n",
       "\n",
       "  second_word final_word  \n",
       "0         fuu    schleep  \n",
       "1         fuu    schleep  \n",
       "2         fuu      blubb  \n",
       "3         fuu      blubb  \n",
       "4         fuu        bla  "
      ]
     },
     "execution_count": 24,
     "metadata": {},
     "output_type": "execute_result"
    }
   ],
   "source": [
    "df_toy_problem_3nonsense = pd.read_csv(\"data/toy_problem_3/toy_problem_3nonsense.csv\")\n",
    "df_toy_problem_3nonsense.head()"
   ]
  },
  {
   "cell_type": "code",
   "execution_count": 25,
   "metadata": {},
   "outputs": [],
   "source": [
    "question1 = \"\\nWhat started the chain?\"\n",
    "question2 = \"\\nWhat was second in the chain?\"\n",
    "question3 = \"\\nWhat fell into the hole?\""
   ]
  },
  {
   "cell_type": "code",
   "execution_count": 26,
   "metadata": {},
   "outputs": [
    {
     "name": "stderr",
     "output_type": "stream",
     "text": [
      "70it [02:00,  1.72s/it]\n"
     ]
    }
   ],
   "source": [
    "# run and populate the entire dataframe\n",
    "answers_n3_q1 = []\n",
    "answers_n3_q2 = []\n",
    "answers_n3_q3 = []\n",
    "\n",
    "for index, row in tqdm(df_toy_problem_3nonsense.iterrows()):\n",
    "    prompt_q1 = row[\"sequence\"] +  question1\n",
    "    prompt_q2 = row[\"sequence\"] +  question2\n",
    "    prompt_q3 = row[\"sequence\"] +  question3\n",
    "    response_q1 = openai.Completion.create(engine=\"text-davinci-001\", prompt=prompt_q1, max_tokens=15, temperature=0)\n",
    "    response_text_q1 = response_q1[\"choices\"][0][\"text\"]\n",
    "    response_q2 = openai.Completion.create(engine=\"text-davinci-001\", prompt=prompt_q2, max_tokens=15, temperature=0)\n",
    "    response_text_q2 = response_q2[\"choices\"][0][\"text\"]\n",
    "    response_q3 = openai.Completion.create(engine=\"text-davinci-001\", prompt=prompt_q3, max_tokens=15, temperature=0)\n",
    "    response_text_q3 = response_q3[\"choices\"][0][\"text\"]\n",
    "#    print(response_text_q1)\n",
    "#    print(response_text_q2)\n",
    "#    print(response_text_q3)\n",
    "    answers_n3_q1.append(response_text_q1)\n",
    "    answers_n3_q2.append(response_text_q2)\n",
    "    answers_n3_q3.append(response_text_q3)"
   ]
  },
  {
   "cell_type": "code",
   "execution_count": 27,
   "metadata": {},
   "outputs": [
    {
     "data": {
      "text/html": [
       "<div>\n",
       "<style scoped>\n",
       "    .dataframe tbody tr th:only-of-type {\n",
       "        vertical-align: middle;\n",
       "    }\n",
       "\n",
       "    .dataframe tbody tr th {\n",
       "        vertical-align: top;\n",
       "    }\n",
       "\n",
       "    .dataframe thead th {\n",
       "        text-align: right;\n",
       "    }\n",
       "</style>\n",
       "<table border=\"1\" class=\"dataframe\">\n",
       "  <thead>\n",
       "    <tr style=\"text-align: right;\">\n",
       "      <th></th>\n",
       "      <th>sequence</th>\n",
       "      <th>switched</th>\n",
       "      <th>first_word</th>\n",
       "      <th>second_word</th>\n",
       "      <th>final_word</th>\n",
       "      <th>answers_start_chain</th>\n",
       "      <th>answers_second_chain</th>\n",
       "      <th>answers_into_hole</th>\n",
       "    </tr>\n",
       "  </thead>\n",
       "  <tbody>\n",
       "    <tr>\n",
       "      <th>0</th>\n",
       "      <td>The baz hit the fuu. The fuu hit the schleep. ...</td>\n",
       "      <td>False</td>\n",
       "      <td>baz</td>\n",
       "      <td>fuu</td>\n",
       "      <td>schleep</td>\n",
       "      <td>\\n\\nThe baz hit the fuu.</td>\n",
       "      <td>\\n\\nThe baz hit the fuu. The fuu hit the</td>\n",
       "      <td>\\n\\nThe baz hit the fuu. The fuu hit the</td>\n",
       "    </tr>\n",
       "    <tr>\n",
       "      <th>1</th>\n",
       "      <td>The fuu hit the schleep. The baz hit the fuu. ...</td>\n",
       "      <td>True</td>\n",
       "      <td>baz</td>\n",
       "      <td>fuu</td>\n",
       "      <td>schleep</td>\n",
       "      <td>\\n\\nThe fuu hit the schleep.</td>\n",
       "      <td>\\n\\nThe baz hit the fuu. The schleep fell in</td>\n",
       "      <td>\\n\\nThe fuu hit the schleep. The baz hit the</td>\n",
       "    </tr>\n",
       "    <tr>\n",
       "      <th>2</th>\n",
       "      <td>The baz hit the fuu. The fuu hit the blubb. Th...</td>\n",
       "      <td>False</td>\n",
       "      <td>baz</td>\n",
       "      <td>fuu</td>\n",
       "      <td>blubb</td>\n",
       "      <td>\\n\\nThe baz hit the fuu.</td>\n",
       "      <td>\\n\\nThe blubb.</td>\n",
       "      <td>\\n\\nThe blubb.</td>\n",
       "    </tr>\n",
       "    <tr>\n",
       "      <th>3</th>\n",
       "      <td>The fuu hit the blubb. The baz hit the fuu. Th...</td>\n",
       "      <td>True</td>\n",
       "      <td>baz</td>\n",
       "      <td>fuu</td>\n",
       "      <td>blubb</td>\n",
       "      <td>\\n\\nThe fuu hit the blubb.</td>\n",
       "      <td>\\n\\nThe baz hit the fuu.</td>\n",
       "      <td>\\n\\nThe blubb.</td>\n",
       "    </tr>\n",
       "    <tr>\n",
       "      <th>4</th>\n",
       "      <td>The baz hit the fuu. The fuu hit the bla. The ...</td>\n",
       "      <td>False</td>\n",
       "      <td>baz</td>\n",
       "      <td>fuu</td>\n",
       "      <td>bla</td>\n",
       "      <td>\\n\\nThe baz hit the fuu.</td>\n",
       "      <td>\\n\\nThe bla.</td>\n",
       "      <td>\\n\\nThe baz hit the fuu. The fuu hit the</td>\n",
       "    </tr>\n",
       "  </tbody>\n",
       "</table>\n",
       "</div>"
      ],
      "text/plain": [
       "                                            sequence  switched first_word  \\\n",
       "0  The baz hit the fuu. The fuu hit the schleep. ...     False        baz   \n",
       "1  The fuu hit the schleep. The baz hit the fuu. ...      True        baz   \n",
       "2  The baz hit the fuu. The fuu hit the blubb. Th...     False        baz   \n",
       "3  The fuu hit the blubb. The baz hit the fuu. Th...      True        baz   \n",
       "4  The baz hit the fuu. The fuu hit the bla. The ...     False        baz   \n",
       "\n",
       "  second_word final_word           answers_start_chain  \\\n",
       "0         fuu    schleep      \\n\\nThe baz hit the fuu.   \n",
       "1         fuu    schleep  \\n\\nThe fuu hit the schleep.   \n",
       "2         fuu      blubb      \\n\\nThe baz hit the fuu.   \n",
       "3         fuu      blubb    \\n\\nThe fuu hit the blubb.   \n",
       "4         fuu        bla      \\n\\nThe baz hit the fuu.   \n",
       "\n",
       "                           answers_second_chain  \\\n",
       "0      \\n\\nThe baz hit the fuu. The fuu hit the   \n",
       "1  \\n\\nThe baz hit the fuu. The schleep fell in   \n",
       "2                                \\n\\nThe blubb.   \n",
       "3                      \\n\\nThe baz hit the fuu.   \n",
       "4                                  \\n\\nThe bla.   \n",
       "\n",
       "                              answers_into_hole  \n",
       "0      \\n\\nThe baz hit the fuu. The fuu hit the  \n",
       "1  \\n\\nThe fuu hit the schleep. The baz hit the  \n",
       "2                                \\n\\nThe blubb.  \n",
       "3                                \\n\\nThe blubb.  \n",
       "4      \\n\\nThe baz hit the fuu. The fuu hit the  "
      ]
     },
     "execution_count": 27,
     "metadata": {},
     "output_type": "execute_result"
    }
   ],
   "source": [
    "df_toy_problem_3nonsense[\"answers_start_chain\"] = answers_n3_q1\n",
    "df_toy_problem_3nonsense[\"answers_second_chain\"] = answers_n3_q2\n",
    "df_toy_problem_3nonsense[\"answers_into_hole\"] = answers_n3_q3\n",
    "\n",
    "df_toy_problem_3nonsense.to_csv(\"data/toy_problem_3_results/toy_problem_3nonsense_results.csv\", index=False)\n",
    "df_toy_problem_3nonsense.head()"
   ]
  },
  {
   "cell_type": "code",
   "execution_count": null,
   "metadata": {},
   "outputs": [],
   "source": []
  }
 ],
 "metadata": {
  "kernelspec": {
   "display_name": "Python 3",
   "language": "python",
   "name": "python3"
  },
  "language_info": {
   "codemirror_mode": {
    "name": "ipython",
    "version": 3
   },
   "file_extension": ".py",
   "mimetype": "text/x-python",
   "name": "python",
   "nbconvert_exporter": "python",
   "pygments_lexer": "ipython3",
   "version": "3.8.5"
  }
 },
 "nbformat": 4,
 "nbformat_minor": 4
}
