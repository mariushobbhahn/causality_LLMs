{
 "cells": [
  {
   "cell_type": "markdown",
   "metadata": {},
   "source": [
    "# Create toy problems of length 3\n",
    "\n",
    "We create a toy problem with balls that hit each other in a sequential manner until one of them goes into the hole, e.g. \"The red ball hit the blue ball. The blue ball hit the green ball. The green ball fell into the hole\". \n",
    "We check if the LLM can recreate the correct sequence by asking questions such as \"which ball started the chain\" or \"which ball was second in the chain\". \n",
    "To increase complexity we will permute the order in which the sentence is presented, e.g. \"The blue ball hit the green ball. The red ball hit the blue ball. The green ball fell into the hole\". "
   ]
  },
  {
   "cell_type": "markdown",
   "metadata": {},
   "source": [
    "## Three ball problems"
   ]
  },
  {
   "cell_type": "code",
   "execution_count": 1,
   "metadata": {},
   "outputs": [],
   "source": [
    "import pandas as pd\n",
    "import definitions\n",
    "from toy_problem_3_colors_setup import ToyProblem3Colors"
   ]
  },
  {
   "cell_type": "code",
   "execution_count": null,
   "metadata": {},
   "outputs": [],
   "source": [
    "toy_problem_3_colors = ToyProblem3Colors()"
   ]
  },
  {
   "cell_type": "code",
   "execution_count": 2,
   "metadata": {},
   "outputs": [
    {
     "name": "stdout",
     "output_type": "stream",
     "text": [
      "['blue', 'red', 'green', 'brown', 'purple', 'black', 'white']\n"
     ]
    }
   ],
   "source": [
    "events_3_colors = toy_problem_3_colors.events\n",
    "outro_3_colors = toy_problem_3_colors.outro\n",
    "colors = toy_problem_3_colors.colors\n",
    "print(colors)"
   ]
  },
  {
   "cell_type": "code",
   "execution_count": 3,
   "metadata": {},
   "outputs": [],
   "source": [
    "# create sequences \n",
    "sequences = []\n",
    "first_color = []\n",
    "second_color = []\n",
    "final_color = []\n",
    "switched = []\n",
    "\n",
    "color_triplets = toy_problem_3_colors.get_all_subsets()\n",
    "\n",
    "for ct in color_triplets:\n",
    "    c1, c2, c3 = ct[0], ct[1], ct[2]\n",
    "    s1 = events_3_colors[0].format(c1, c2)\n",
    "    s2 = events_3_colors[1].format(c2, c3)\n",
    "    o = outro_3_colors.format(c3)\n",
    "    # create the prompts\n",
    "    prompt_in_order = s1 + \" \" + s2 + \" \" + o\n",
    "    prompt_switched = s2 + \" \" + s1 + \" \" + o\n",
    "    sequences.append(prompt_in_order)\n",
    "    switched.append(False)\n",
    "    sequences.append(prompt_switched)\n",
    "    switched.append(True)\n",
    "    # always append twice to account for switched order\n",
    "    first_color.extend([c1, c1])\n",
    "    second_color.extend([c2, c2])\n",
    "    final_color.extend([c3, c3])"
   ]
  },
  {
   "cell_type": "code",
   "execution_count": 4,
   "metadata": {},
   "outputs": [
    {
     "data": {
      "text/html": [
       "<div>\n",
       "<style scoped>\n",
       "    .dataframe tbody tr th:only-of-type {\n",
       "        vertical-align: middle;\n",
       "    }\n",
       "\n",
       "    .dataframe tbody tr th {\n",
       "        vertical-align: top;\n",
       "    }\n",
       "\n",
       "    .dataframe thead th {\n",
       "        text-align: right;\n",
       "    }\n",
       "</style>\n",
       "<table border=\"1\" class=\"dataframe\">\n",
       "  <thead>\n",
       "    <tr style=\"text-align: right;\">\n",
       "      <th></th>\n",
       "      <th>sequence</th>\n",
       "      <th>switched</th>\n",
       "      <th>first_color</th>\n",
       "      <th>second_color</th>\n",
       "      <th>final_color</th>\n",
       "    </tr>\n",
       "  </thead>\n",
       "  <tbody>\n",
       "    <tr>\n",
       "      <th>0</th>\n",
       "      <td>The blue ball hit the red ball. The red ball h...</td>\n",
       "      <td>False</td>\n",
       "      <td>blue</td>\n",
       "      <td>red</td>\n",
       "      <td>green</td>\n",
       "    </tr>\n",
       "    <tr>\n",
       "      <th>1</th>\n",
       "      <td>The red ball hit the green ball. The blue ball...</td>\n",
       "      <td>True</td>\n",
       "      <td>blue</td>\n",
       "      <td>red</td>\n",
       "      <td>green</td>\n",
       "    </tr>\n",
       "    <tr>\n",
       "      <th>2</th>\n",
       "      <td>The blue ball hit the red ball. The red ball h...</td>\n",
       "      <td>False</td>\n",
       "      <td>blue</td>\n",
       "      <td>red</td>\n",
       "      <td>brown</td>\n",
       "    </tr>\n",
       "    <tr>\n",
       "      <th>3</th>\n",
       "      <td>The red ball hit the brown ball. The blue ball...</td>\n",
       "      <td>True</td>\n",
       "      <td>blue</td>\n",
       "      <td>red</td>\n",
       "      <td>brown</td>\n",
       "    </tr>\n",
       "    <tr>\n",
       "      <th>4</th>\n",
       "      <td>The blue ball hit the red ball. The red ball h...</td>\n",
       "      <td>False</td>\n",
       "      <td>blue</td>\n",
       "      <td>red</td>\n",
       "      <td>purple</td>\n",
       "    </tr>\n",
       "  </tbody>\n",
       "</table>\n",
       "</div>"
      ],
      "text/plain": [
       "                                            sequence  switched first_color  \\\n",
       "0  The blue ball hit the red ball. The red ball h...     False        blue   \n",
       "1  The red ball hit the green ball. The blue ball...      True        blue   \n",
       "2  The blue ball hit the red ball. The red ball h...     False        blue   \n",
       "3  The red ball hit the brown ball. The blue ball...      True        blue   \n",
       "4  The blue ball hit the red ball. The red ball h...     False        blue   \n",
       "\n",
       "  second_color final_color  \n",
       "0          red       green  \n",
       "1          red       green  \n",
       "2          red       brown  \n",
       "3          red       brown  \n",
       "4          red      purple  "
      ]
     },
     "execution_count": 4,
     "metadata": {},
     "output_type": "execute_result"
    }
   ],
   "source": [
    "# save all in a pandas dataframe\n",
    "\n",
    "df_toy_problem_3c = pd.DataFrame({\n",
    "    \"sequence\":sequences,\n",
    "    \"switched\":switched,\n",
    "    \"first_color\":first_color,\n",
    "    \"second_color\":second_color,\n",
    "    \"final_color\":final_color\n",
    "})\n",
    "df_toy_problem_3c.to_csv(\"data/toy_problem_3/toy_problem_3c.csv\", index=False)\n",
    "df_toy_problem_3c.head()"
   ]
  },
  {
   "cell_type": "code",
   "execution_count": 5,
   "metadata": {},
   "outputs": [
    {
     "data": {
      "text/plain": [
       "70"
      ]
     },
     "execution_count": 5,
     "metadata": {},
     "output_type": "execute_result"
    }
   ],
   "source": [
    "len(df_toy_problem_3c)"
   ]
  },
  {
   "cell_type": "markdown",
   "metadata": {},
   "source": [
    "## Three nonsense words problems"
   ]
  },
  {
   "cell_type": "code",
   "execution_count": 6,
   "metadata": {},
   "outputs": [],
   "source": [
    "events_3_nonsense_words = definitions.def_3_nonsense_words[\"events\"]\n",
    "outro_3_nonsense_words = definitions.def_3_nonsense_words[\"outro\"]\n",
    "nonsense_words = definitions.def_3_nonsense_words[\"words\"]"
   ]
  },
  {
   "cell_type": "code",
   "execution_count": 8,
   "metadata": {},
   "outputs": [],
   "source": [
    "# create sequences \n",
    "sequences = []\n",
    "first_word = []\n",
    "second_word = []\n",
    "final_word = []\n",
    "switched = []\n",
    "\n",
    "word_triplets = findsubsets(nonsense_words, 3)\n",
    "\n",
    "for wt in word_triplets:\n",
    "    w1, w2, w3 = wt[0], wt[1], wt[2]\n",
    "    event1 = events_3_nonsense_words[0].format(w1, w2)\n",
    "    event2 = events_3_nonsense_words[1].format(w2, w3)\n",
    "    o = outro_3_nonsense_words.format(w3)\n",
    "    # create the prompts\n",
    "    prompt_in_order = event1 + \" \" + event2 + \" \" + o\n",
    "    prompt_switched = event2 + \" \" + event1 + \" \" + o\n",
    "    sequences.append(prompt_in_order)\n",
    "    switched.append(False)\n",
    "    sequences.append(prompt_switched)\n",
    "    switched.append(True)\n",
    "    # always append twice to account for switched order\n",
    "    first_word.extend([w1, w1])\n",
    "    second_word.extend([w2, w2])\n",
    "    final_word.extend([w3, w3])"
   ]
  },
  {
   "cell_type": "code",
   "execution_count": 9,
   "metadata": {},
   "outputs": [
    {
     "data": {
      "text/html": [
       "<div>\n",
       "<style scoped>\n",
       "    .dataframe tbody tr th:only-of-type {\n",
       "        vertical-align: middle;\n",
       "    }\n",
       "\n",
       "    .dataframe tbody tr th {\n",
       "        vertical-align: top;\n",
       "    }\n",
       "\n",
       "    .dataframe thead th {\n",
       "        text-align: right;\n",
       "    }\n",
       "</style>\n",
       "<table border=\"1\" class=\"dataframe\">\n",
       "  <thead>\n",
       "    <tr style=\"text-align: right;\">\n",
       "      <th></th>\n",
       "      <th>sequence</th>\n",
       "      <th>switched</th>\n",
       "      <th>first_word</th>\n",
       "      <th>second_word</th>\n",
       "      <th>final_word</th>\n",
       "    </tr>\n",
       "  </thead>\n",
       "  <tbody>\n",
       "    <tr>\n",
       "      <th>0</th>\n",
       "      <td>The baz hit the fuu. The fuu hit the schleep. ...</td>\n",
       "      <td>False</td>\n",
       "      <td>baz</td>\n",
       "      <td>fuu</td>\n",
       "      <td>schleep</td>\n",
       "    </tr>\n",
       "    <tr>\n",
       "      <th>1</th>\n",
       "      <td>The fuu hit the schleep. The baz hit the fuu. ...</td>\n",
       "      <td>True</td>\n",
       "      <td>baz</td>\n",
       "      <td>fuu</td>\n",
       "      <td>schleep</td>\n",
       "    </tr>\n",
       "    <tr>\n",
       "      <th>2</th>\n",
       "      <td>The baz hit the fuu. The fuu hit the blubb. Th...</td>\n",
       "      <td>False</td>\n",
       "      <td>baz</td>\n",
       "      <td>fuu</td>\n",
       "      <td>blubb</td>\n",
       "    </tr>\n",
       "    <tr>\n",
       "      <th>3</th>\n",
       "      <td>The fuu hit the blubb. The baz hit the fuu. Th...</td>\n",
       "      <td>True</td>\n",
       "      <td>baz</td>\n",
       "      <td>fuu</td>\n",
       "      <td>blubb</td>\n",
       "    </tr>\n",
       "    <tr>\n",
       "      <th>4</th>\n",
       "      <td>The baz hit the fuu. The fuu hit the bla. The ...</td>\n",
       "      <td>False</td>\n",
       "      <td>baz</td>\n",
       "      <td>fuu</td>\n",
       "      <td>bla</td>\n",
       "    </tr>\n",
       "  </tbody>\n",
       "</table>\n",
       "</div>"
      ],
      "text/plain": [
       "                                            sequence  switched first_word  \\\n",
       "0  The baz hit the fuu. The fuu hit the schleep. ...     False        baz   \n",
       "1  The fuu hit the schleep. The baz hit the fuu. ...      True        baz   \n",
       "2  The baz hit the fuu. The fuu hit the blubb. Th...     False        baz   \n",
       "3  The fuu hit the blubb. The baz hit the fuu. Th...      True        baz   \n",
       "4  The baz hit the fuu. The fuu hit the bla. The ...     False        baz   \n",
       "\n",
       "  second_word final_word  \n",
       "0         fuu    schleep  \n",
       "1         fuu    schleep  \n",
       "2         fuu      blubb  \n",
       "3         fuu      blubb  \n",
       "4         fuu        bla  "
      ]
     },
     "execution_count": 9,
     "metadata": {},
     "output_type": "execute_result"
    }
   ],
   "source": [
    "# save all in a pandas dataframe\n",
    "\n",
    "df_toy_problem_3nonsense = pd.DataFrame({\n",
    "    \"sequence\":sequences,\n",
    "    \"switched\":switched,\n",
    "    \"first_word\":first_word,\n",
    "    \"second_word\":second_word,\n",
    "    \"final_word\":final_word\n",
    "})\n",
    "df_toy_problem_3nonsense.to_csv(\"data/toy_problem_3/toy_problem_3nonsense.csv\", index=False)\n",
    "df_toy_problem_3nonsense.head()"
   ]
  },
  {
   "cell_type": "code",
   "execution_count": 10,
   "metadata": {},
   "outputs": [
    {
     "data": {
      "text/plain": [
       "70"
      ]
     },
     "execution_count": 10,
     "metadata": {},
     "output_type": "execute_result"
    }
   ],
   "source": [
    "len(df_toy_problem_3nonsense)"
   ]
  },
  {
   "cell_type": "code",
   "execution_count": null,
   "metadata": {},
   "outputs": [],
   "source": []
  }
 ],
 "metadata": {
  "kernelspec": {
   "display_name": "Python 3",
   "language": "python",
   "name": "python3"
  },
  "language_info": {
   "codemirror_mode": {
    "name": "ipython",
    "version": 3
   },
   "file_extension": ".py",
   "mimetype": "text/x-python",
   "name": "python",
   "nbconvert_exporter": "python",
   "pygments_lexer": "ipython3",
   "version": "3.8.5"
  }
 },
 "nbformat": 4,
 "nbformat_minor": 4
}
