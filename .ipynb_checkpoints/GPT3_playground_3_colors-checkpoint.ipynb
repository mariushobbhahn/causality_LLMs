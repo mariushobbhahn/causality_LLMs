{
 "cells": [
  {
   "cell_type": "markdown",
   "metadata": {},
   "source": [
    "# Playground for 3 colors\n",
    "\n",
    "TODO:explain & explore"
   ]
  },
  {
   "cell_type": "code",
   "execution_count": 1,
   "metadata": {},
   "outputs": [],
   "source": [
    "import os\n",
    "import numpy as np\n",
    "import openai\n",
    "import pandas as pd\n",
    "from tqdm import tqdm\n",
    "from setups.toy_problem_3_colors_setup import ToyProblem3Colors\n",
    "\n",
    "# Load your API key from an environment variable or secret management service\n",
    "openai.api_key = os.getenv(\"OPENAI_KEY\")"
   ]
  },
  {
   "cell_type": "code",
   "execution_count": 2,
   "metadata": {},
   "outputs": [],
   "source": [
    "toy_problem_3_colors = ToyProblem3Colors()"
   ]
  },
  {
   "cell_type": "code",
   "execution_count": 3,
   "metadata": {},
   "outputs": [
    {
     "data": {
      "text/plain": [
       "array([['blue', 'red', 'purple'],\n",
       "       ['purple', 'black', 'white'],\n",
       "       ['blue', 'green', 'purple']], dtype='<U6')"
      ]
     },
     "execution_count": 3,
     "metadata": {},
     "output_type": "execute_result"
    }
   ],
   "source": [
    "toy_problem_3_colors.get_random_subsets(3)"
   ]
  },
  {
   "cell_type": "code",
   "execution_count": 5,
   "metadata": {},
   "outputs": [
    {
     "name": "stdout",
     "output_type": "stream",
     "text": [
      "The blue ball hit the red ball. The red ball hit the green ball. The {} ball fell in the hole.\n",
      "The red ball hit the green ball. The blue ball hit the red ball. The {} ball fell in the hole.\n"
     ]
    }
   ],
   "source": [
    "print(toy_problem_3_colors.generate_single_sequence(0, switched=False))\n",
    "print(toy_problem_3_colors.generate_single_sequence(0, switched=True))"
   ]
  },
  {
   "cell_type": "code",
   "execution_count": 6,
   "metadata": {},
   "outputs": [
    {
     "data": {
      "text/html": [
       "<div>\n",
       "<style scoped>\n",
       "    .dataframe tbody tr th:only-of-type {\n",
       "        vertical-align: middle;\n",
       "    }\n",
       "\n",
       "    .dataframe tbody tr th {\n",
       "        vertical-align: top;\n",
       "    }\n",
       "\n",
       "    .dataframe thead th {\n",
       "        text-align: right;\n",
       "    }\n",
       "</style>\n",
       "<table border=\"1\" class=\"dataframe\">\n",
       "  <thead>\n",
       "    <tr style=\"text-align: right;\">\n",
       "      <th></th>\n",
       "      <th>sequence</th>\n",
       "      <th>switched</th>\n",
       "      <th>first_color</th>\n",
       "      <th>second_color</th>\n",
       "      <th>final_color</th>\n",
       "    </tr>\n",
       "  </thead>\n",
       "  <tbody>\n",
       "    <tr>\n",
       "      <th>0</th>\n",
       "      <td>The blue ball hit the red ball. The red ball h...</td>\n",
       "      <td>False</td>\n",
       "      <td>blue</td>\n",
       "      <td>red</td>\n",
       "      <td>green</td>\n",
       "    </tr>\n",
       "    <tr>\n",
       "      <th>1</th>\n",
       "      <td>The red ball hit the green ball. The blue ball...</td>\n",
       "      <td>True</td>\n",
       "      <td>blue</td>\n",
       "      <td>red</td>\n",
       "      <td>green</td>\n",
       "    </tr>\n",
       "    <tr>\n",
       "      <th>2</th>\n",
       "      <td>The blue ball hit the red ball. The red ball h...</td>\n",
       "      <td>False</td>\n",
       "      <td>blue</td>\n",
       "      <td>red</td>\n",
       "      <td>brown</td>\n",
       "    </tr>\n",
       "    <tr>\n",
       "      <th>3</th>\n",
       "      <td>The red ball hit the brown ball. The blue ball...</td>\n",
       "      <td>True</td>\n",
       "      <td>blue</td>\n",
       "      <td>red</td>\n",
       "      <td>brown</td>\n",
       "    </tr>\n",
       "    <tr>\n",
       "      <th>4</th>\n",
       "      <td>The blue ball hit the red ball. The red ball h...</td>\n",
       "      <td>False</td>\n",
       "      <td>blue</td>\n",
       "      <td>red</td>\n",
       "      <td>purple</td>\n",
       "    </tr>\n",
       "    <tr>\n",
       "      <th>...</th>\n",
       "      <td>...</td>\n",
       "      <td>...</td>\n",
       "      <td>...</td>\n",
       "      <td>...</td>\n",
       "      <td>...</td>\n",
       "    </tr>\n",
       "    <tr>\n",
       "      <th>65</th>\n",
       "      <td>The purple ball hit the white ball. The brown ...</td>\n",
       "      <td>True</td>\n",
       "      <td>brown</td>\n",
       "      <td>purple</td>\n",
       "      <td>white</td>\n",
       "    </tr>\n",
       "    <tr>\n",
       "      <th>66</th>\n",
       "      <td>The brown ball hit the black ball. The black b...</td>\n",
       "      <td>False</td>\n",
       "      <td>brown</td>\n",
       "      <td>black</td>\n",
       "      <td>white</td>\n",
       "    </tr>\n",
       "    <tr>\n",
       "      <th>67</th>\n",
       "      <td>The black ball hit the white ball. The brown b...</td>\n",
       "      <td>True</td>\n",
       "      <td>brown</td>\n",
       "      <td>black</td>\n",
       "      <td>white</td>\n",
       "    </tr>\n",
       "    <tr>\n",
       "      <th>68</th>\n",
       "      <td>The purple ball hit the black ball. The black ...</td>\n",
       "      <td>False</td>\n",
       "      <td>purple</td>\n",
       "      <td>black</td>\n",
       "      <td>white</td>\n",
       "    </tr>\n",
       "    <tr>\n",
       "      <th>69</th>\n",
       "      <td>The black ball hit the white ball. The purple ...</td>\n",
       "      <td>True</td>\n",
       "      <td>purple</td>\n",
       "      <td>black</td>\n",
       "      <td>white</td>\n",
       "    </tr>\n",
       "  </tbody>\n",
       "</table>\n",
       "<p>70 rows × 5 columns</p>\n",
       "</div>"
      ],
      "text/plain": [
       "                                             sequence  switched first_color  \\\n",
       "0   The blue ball hit the red ball. The red ball h...     False        blue   \n",
       "1   The red ball hit the green ball. The blue ball...      True        blue   \n",
       "2   The blue ball hit the red ball. The red ball h...     False        blue   \n",
       "3   The red ball hit the brown ball. The blue ball...      True        blue   \n",
       "4   The blue ball hit the red ball. The red ball h...     False        blue   \n",
       "..                                                ...       ...         ...   \n",
       "65  The purple ball hit the white ball. The brown ...      True       brown   \n",
       "66  The brown ball hit the black ball. The black b...     False       brown   \n",
       "67  The black ball hit the white ball. The brown b...      True       brown   \n",
       "68  The purple ball hit the black ball. The black ...     False      purple   \n",
       "69  The black ball hit the white ball. The purple ...      True      purple   \n",
       "\n",
       "   second_color final_color  \n",
       "0           red       green  \n",
       "1           red       green  \n",
       "2           red       brown  \n",
       "3           red       brown  \n",
       "4           red      purple  \n",
       "..          ...         ...  \n",
       "65       purple       white  \n",
       "66        black       white  \n",
       "67        black       white  \n",
       "68        black       white  \n",
       "69        black       white  \n",
       "\n",
       "[70 rows x 5 columns]"
      ]
     },
     "execution_count": 6,
     "metadata": {},
     "output_type": "execute_result"
    }
   ],
   "source": [
    "toy_problem_3_colors.generate_sequences_df()"
   ]
  },
  {
   "cell_type": "code",
   "execution_count": 7,
   "metadata": {},
   "outputs": [
    {
     "ename": "TypeError",
     "evalue": "save_sequences_df() got an unexpected keyword argument 'index'",
     "output_type": "error",
     "traceback": [
      "\u001b[0;31m---------------------------------------------------------------------------\u001b[0m",
      "\u001b[0;31mTypeError\u001b[0m                                 Traceback (most recent call last)",
      "\u001b[0;32m<ipython-input-7-8beb9ae611e3>\u001b[0m in \u001b[0;36m<module>\u001b[0;34m\u001b[0m\n\u001b[0;32m----> 1\u001b[0;31m \u001b[0mtoy_problem_3_colors\u001b[0m\u001b[0;34m.\u001b[0m\u001b[0msave_sequences_df\u001b[0m\u001b[0;34m(\u001b[0m\u001b[0;34m\"data/toy_problem_3/toy_problem_3c.csv\"\u001b[0m\u001b[0;34m,\u001b[0m \u001b[0mindex\u001b[0m\u001b[0;34m=\u001b[0m\u001b[0;32mFalse\u001b[0m\u001b[0;34m)\u001b[0m\u001b[0;34m\u001b[0m\u001b[0;34m\u001b[0m\u001b[0m\n\u001b[0m",
      "\u001b[0;31mTypeError\u001b[0m: save_sequences_df() got an unexpected keyword argument 'index'"
     ]
    }
   ],
   "source": [
    "toy_problem_3_colors.save_sequences_df(\"data/toy_problem_3/toy_problem_3c.csv\")"
   ]
  },
  {
   "cell_type": "code",
   "execution_count": null,
   "metadata": {},
   "outputs": [],
   "source": []
  }
 ],
 "metadata": {
  "kernelspec": {
   "display_name": "Python 3",
   "language": "python",
   "name": "python3"
  },
  "language_info": {
   "codemirror_mode": {
    "name": "ipython",
    "version": 3
   },
   "file_extension": ".py",
   "mimetype": "text/x-python",
   "name": "python",
   "nbconvert_exporter": "python",
   "pygments_lexer": "ipython3",
   "version": "3.8.5"
  }
 },
 "nbformat": 4,
 "nbformat_minor": 4
}
