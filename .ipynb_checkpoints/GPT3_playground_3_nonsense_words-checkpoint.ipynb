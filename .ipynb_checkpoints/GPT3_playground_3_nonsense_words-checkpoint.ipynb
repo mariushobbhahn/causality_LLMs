{
 "cells": [
  {
   "cell_type": "markdown",
   "metadata": {},
   "source": [
    "# Playground for 3 colors\n",
    "\n",
    "TODO:explain & explore"
   ]
  },
  {
   "cell_type": "code",
   "execution_count": 1,
   "metadata": {},
   "outputs": [],
   "source": [
    "import os\n",
    "import numpy as np\n",
    "import openai\n",
    "import pandas as pd\n",
    "from tqdm import tqdm\n",
    "from setups.toy_problem_3_colors_setup import ToyProblem3Colors\n",
    "\n",
    "# Load your API key from an environment variable or secret management service\n",
    "openai.api_key = os.getenv(\"OPENAI_KEY\")"
   ]
  },
  {
   "cell_type": "code",
   "execution_count": 2,
   "metadata": {},
   "outputs": [],
   "source": [
    "toy_problem_3_colors = ToyProblem3Colors()"
   ]
  },
  {
   "cell_type": "code",
   "execution_count": 3,
   "metadata": {},
   "outputs": [
    {
     "data": {
      "text/plain": [
       "array([['brown', 'purple', 'white'],\n",
       "       ['brown', 'black', 'white'],\n",
       "       ['green', 'brown', 'black']], dtype='<U6')"
      ]
     },
     "execution_count": 3,
     "metadata": {},
     "output_type": "execute_result"
    }
   ],
   "source": [
    "toy_problem_3_colors.get_random_subsets(3)"
   ]
  },
  {
   "cell_type": "code",
   "execution_count": 4,
   "metadata": {},
   "outputs": [
    {
     "name": "stdout",
     "output_type": "stream",
     "text": [
      "The blue ball hit the red ball. The red ball hit the green ball. The green ball fell in the hole.\n",
      "The red ball hit the green ball. The blue ball hit the red ball. The green ball fell in the hole.\n"
     ]
    }
   ],
   "source": [
    "print(toy_problem_3_colors.generate_single_sequence(0, switched=False))\n",
    "print(toy_problem_3_colors.generate_single_sequence(0, switched=True))"
   ]
  },
  {
   "cell_type": "code",
   "execution_count": 5,
   "metadata": {},
   "outputs": [
    {
     "data": {
      "text/html": [
       "<div>\n",
       "<style scoped>\n",
       "    .dataframe tbody tr th:only-of-type {\n",
       "        vertical-align: middle;\n",
       "    }\n",
       "\n",
       "    .dataframe tbody tr th {\n",
       "        vertical-align: top;\n",
       "    }\n",
       "\n",
       "    .dataframe thead th {\n",
       "        text-align: right;\n",
       "    }\n",
       "</style>\n",
       "<table border=\"1\" class=\"dataframe\">\n",
       "  <thead>\n",
       "    <tr style=\"text-align: right;\">\n",
       "      <th></th>\n",
       "      <th>sequence</th>\n",
       "      <th>switched</th>\n",
       "      <th>first_color</th>\n",
       "      <th>second_color</th>\n",
       "      <th>final_color</th>\n",
       "    </tr>\n",
       "  </thead>\n",
       "  <tbody>\n",
       "    <tr>\n",
       "      <th>0</th>\n",
       "      <td>The blue ball hit the red ball. The red ball h...</td>\n",
       "      <td>False</td>\n",
       "      <td>blue</td>\n",
       "      <td>red</td>\n",
       "      <td>green</td>\n",
       "    </tr>\n",
       "    <tr>\n",
       "      <th>1</th>\n",
       "      <td>The red ball hit the green ball. The blue ball...</td>\n",
       "      <td>True</td>\n",
       "      <td>blue</td>\n",
       "      <td>red</td>\n",
       "      <td>green</td>\n",
       "    </tr>\n",
       "    <tr>\n",
       "      <th>2</th>\n",
       "      <td>The blue ball hit the red ball. The red ball h...</td>\n",
       "      <td>False</td>\n",
       "      <td>blue</td>\n",
       "      <td>red</td>\n",
       "      <td>brown</td>\n",
       "    </tr>\n",
       "    <tr>\n",
       "      <th>3</th>\n",
       "      <td>The red ball hit the brown ball. The blue ball...</td>\n",
       "      <td>True</td>\n",
       "      <td>blue</td>\n",
       "      <td>red</td>\n",
       "      <td>brown</td>\n",
       "    </tr>\n",
       "    <tr>\n",
       "      <th>4</th>\n",
       "      <td>The blue ball hit the red ball. The red ball h...</td>\n",
       "      <td>False</td>\n",
       "      <td>blue</td>\n",
       "      <td>red</td>\n",
       "      <td>purple</td>\n",
       "    </tr>\n",
       "    <tr>\n",
       "      <th>...</th>\n",
       "      <td>...</td>\n",
       "      <td>...</td>\n",
       "      <td>...</td>\n",
       "      <td>...</td>\n",
       "      <td>...</td>\n",
       "    </tr>\n",
       "    <tr>\n",
       "      <th>65</th>\n",
       "      <td>The purple ball hit the white ball. The brown ...</td>\n",
       "      <td>True</td>\n",
       "      <td>brown</td>\n",
       "      <td>purple</td>\n",
       "      <td>white</td>\n",
       "    </tr>\n",
       "    <tr>\n",
       "      <th>66</th>\n",
       "      <td>The brown ball hit the black ball. The black b...</td>\n",
       "      <td>False</td>\n",
       "      <td>brown</td>\n",
       "      <td>black</td>\n",
       "      <td>white</td>\n",
       "    </tr>\n",
       "    <tr>\n",
       "      <th>67</th>\n",
       "      <td>The black ball hit the white ball. The brown b...</td>\n",
       "      <td>True</td>\n",
       "      <td>brown</td>\n",
       "      <td>black</td>\n",
       "      <td>white</td>\n",
       "    </tr>\n",
       "    <tr>\n",
       "      <th>68</th>\n",
       "      <td>The purple ball hit the black ball. The black ...</td>\n",
       "      <td>False</td>\n",
       "      <td>purple</td>\n",
       "      <td>black</td>\n",
       "      <td>white</td>\n",
       "    </tr>\n",
       "    <tr>\n",
       "      <th>69</th>\n",
       "      <td>The black ball hit the white ball. The purple ...</td>\n",
       "      <td>True</td>\n",
       "      <td>purple</td>\n",
       "      <td>black</td>\n",
       "      <td>white</td>\n",
       "    </tr>\n",
       "  </tbody>\n",
       "</table>\n",
       "<p>70 rows × 5 columns</p>\n",
       "</div>"
      ],
      "text/plain": [
       "                                             sequence  switched first_color  \\\n",
       "0   The blue ball hit the red ball. The red ball h...     False        blue   \n",
       "1   The red ball hit the green ball. The blue ball...      True        blue   \n",
       "2   The blue ball hit the red ball. The red ball h...     False        blue   \n",
       "3   The red ball hit the brown ball. The blue ball...      True        blue   \n",
       "4   The blue ball hit the red ball. The red ball h...     False        blue   \n",
       "..                                                ...       ...         ...   \n",
       "65  The purple ball hit the white ball. The brown ...      True       brown   \n",
       "66  The brown ball hit the black ball. The black b...     False       brown   \n",
       "67  The black ball hit the white ball. The brown b...      True       brown   \n",
       "68  The purple ball hit the black ball. The black ...     False      purple   \n",
       "69  The black ball hit the white ball. The purple ...      True      purple   \n",
       "\n",
       "   second_color final_color  \n",
       "0           red       green  \n",
       "1           red       green  \n",
       "2           red       brown  \n",
       "3           red       brown  \n",
       "4           red      purple  \n",
       "..          ...         ...  \n",
       "65       purple       white  \n",
       "66        black       white  \n",
       "67        black       white  \n",
       "68        black       white  \n",
       "69        black       white  \n",
       "\n",
       "[70 rows x 5 columns]"
      ]
     },
     "execution_count": 5,
     "metadata": {},
     "output_type": "execute_result"
    }
   ],
   "source": [
    "toy_problem_3_colors.generate_sequences_df()"
   ]
  },
  {
   "cell_type": "code",
   "execution_count": 6,
   "metadata": {},
   "outputs": [],
   "source": [
    "toy_problem_3_colors.save_sequences_df(\"data/toy_problem_3/toy_problem_3c.csv\")"
   ]
  },
  {
   "cell_type": "markdown",
   "metadata": {},
   "source": [
    "### Zero shot"
   ]
  },
  {
   "cell_type": "code",
   "execution_count": 7,
   "metadata": {},
   "outputs": [
    {
     "name": "stdout",
     "output_type": "stream",
     "text": [
      "The blue ball hit the red ball. The red ball hit the green ball. The green ball fell in the hole. Question: Which ball started the chain? Answer: \n",
      "The blue ball hit the red ball. The red ball hit the green ball. The green ball fell in the hole. Question: Which ball was second in the chain? Answer: \n",
      "The blue ball hit the red ball. The red ball hit the green ball. The green ball fell in the hole. Question: Which ball fell into the hole? Answer: \n",
      "The red ball hit the green ball. The blue ball hit the red ball. The green ball fell in the hole. Question: Which ball started the chain? Answer: \n",
      "The red ball hit the green ball. The blue ball hit the red ball. The green ball fell in the hole. Question: Which ball was second in the chain? Answer: \n",
      "The red ball hit the green ball. The blue ball hit the red ball. The green ball fell in the hole. Question: Which ball fell into the hole? Answer: \n"
     ]
    }
   ],
   "source": [
    "print(toy_problem_3_colors.generate_single_prompt_zero_shot(n_subset=0, switched=False, question=\"first\"))\n",
    "print(toy_problem_3_colors.generate_single_prompt_zero_shot(n_subset=0, switched=False, question=\"second\"))\n",
    "print(toy_problem_3_colors.generate_single_prompt_zero_shot(n_subset=0, switched=False, question=\"final\"))\n",
    "\n",
    "print(toy_problem_3_colors.generate_single_prompt_zero_shot(n_subset=0, switched=True, question=\"first\"))\n",
    "print(toy_problem_3_colors.generate_single_prompt_zero_shot(n_subset=0, switched=True, question=\"second\"))\n",
    "print(toy_problem_3_colors.generate_single_prompt_zero_shot(n_subset=0, switched=True, question=\"final\"))"
   ]
  },
  {
   "cell_type": "code",
   "execution_count": 8,
   "metadata": {},
   "outputs": [
    {
     "name": "stdout",
     "output_type": "stream",
     "text": [
      "['The blue ball hit the red ball. The red ball hit the green ball. The green ball fell in the hole. Question: Which ball started the chain? Answer: ', 'The red ball hit the green ball. The blue ball hit the red ball. The green ball fell in the hole. Question: Which ball started the chain? Answer: ', 'The blue ball hit the red ball. The red ball hit the brown ball. The brown ball fell in the hole. Question: Which ball started the chain? Answer: ']\n",
      "['The blue ball hit the red ball. The red ball hit the green ball. The green ball fell in the hole. Question: Which ball was second in the chain? Answer: ', 'The red ball hit the green ball. The blue ball hit the red ball. The green ball fell in the hole. Question: Which ball was second in the chain? Answer: ', 'The blue ball hit the red ball. The red ball hit the brown ball. The brown ball fell in the hole. Question: Which ball was second in the chain? Answer: ']\n",
      "['The blue ball hit the red ball. The red ball hit the green ball. The green ball fell in the hole. Question: Which ball fell into the hole? Answer: ', 'The red ball hit the green ball. The blue ball hit the red ball. The green ball fell in the hole. Question: Which ball fell into the hole? Answer: ', 'The blue ball hit the red ball. The red ball hit the brown ball. The brown ball fell in the hole. Question: Which ball fell into the hole? Answer: ']\n"
     ]
    }
   ],
   "source": [
    "print(toy_problem_3_colors.generate_all_prompts_zero_shot(question='first')[:3])\n",
    "print(toy_problem_3_colors.generate_all_prompts_zero_shot(question='second')[:3])\n",
    "print(toy_problem_3_colors.generate_all_prompts_zero_shot(question='final')[:3])"
   ]
  },
  {
   "cell_type": "markdown",
   "metadata": {},
   "source": [
    "### One shot"
   ]
  },
  {
   "cell_type": "code",
   "execution_count": 14,
   "metadata": {},
   "outputs": [
    {
     "name": "stdout",
     "output_type": "stream",
     "text": [
      "The brown ball hit the purple ball. The green ball hit the brown ball. The purple ball fell in the hole. Question: Which ball started the chain? Answer: the green ball\n",
      "The blue ball hit the red ball. The red ball hit the green ball. The green ball fell in the hole. Question: Which ball started the chain? Answer: \n",
      "\n",
      "\n",
      "The brown ball hit the purple ball. The purple ball hit the black ball. The black ball fell in the hole. Question: Which ball was second in the chain? Answer: the purple ball\n",
      "The blue ball hit the red ball. The red ball hit the green ball. The green ball fell in the hole. Question: Which ball was second in the chain? Answer: \n",
      "\n",
      "\n",
      "The purple ball hit the black ball. The red ball hit the purple ball. The black ball fell in the hole. Question: Which ball fell into the hole? Answer: the black ball\n",
      "The blue ball hit the red ball. The red ball hit the green ball. The green ball fell in the hole. Question: Which ball fell into the hole? Answer: \n",
      "\n",
      "\n",
      "The green ball hit the purple ball. The red ball hit the green ball. The purple ball fell in the hole. Question: Which ball started the chain? Answer: the red ball\n",
      "The red ball hit the green ball. The blue ball hit the red ball. The green ball fell in the hole. Question: Which ball started the chain? Answer: \n",
      "\n",
      "\n",
      "The red ball hit the green ball. The green ball hit the white ball. The white ball fell in the hole. Question: Which ball was second in the chain? Answer: the green ball\n",
      "The red ball hit the green ball. The blue ball hit the red ball. The green ball fell in the hole. Question: Which ball was second in the chain? Answer: \n",
      "\n",
      "\n",
      "The green ball hit the brown ball. The red ball hit the green ball. The brown ball fell in the hole. Question: Which ball fell into the hole? Answer: the brown ball\n",
      "The red ball hit the green ball. The blue ball hit the red ball. The green ball fell in the hole. Question: Which ball fell into the hole? Answer: \n"
     ]
    }
   ],
   "source": [
    "print(toy_problem_3_colors.generate_single_prompt_one_shot(n_subset=0, switched=False, question=\"first\"))\n",
    "print(\"\\n\")\n",
    "print(toy_problem_3_colors.generate_single_prompt_one_shot(n_subset=0, switched=False, question=\"second\"))\n",
    "print(\"\\n\")\n",
    "print(toy_problem_3_colors.generate_single_prompt_one_shot(n_subset=0, switched=False, question=\"final\"))\n",
    "print(\"\\n\")\n",
    "\n",
    "print(toy_problem_3_colors.generate_single_prompt_one_shot(n_subset=0, switched=True, question=\"first\"))\n",
    "print(\"\\n\")\n",
    "print(toy_problem_3_colors.generate_single_prompt_one_shot(n_subset=0, switched=True, question=\"second\"))\n",
    "print(\"\\n\")\n",
    "print(toy_problem_3_colors.generate_single_prompt_one_shot(n_subset=0, switched=True, question=\"final\"))"
   ]
  },
  {
   "cell_type": "code",
   "execution_count": 15,
   "metadata": {},
   "outputs": [
    {
     "name": "stdout",
     "output_type": "stream",
     "text": [
      "['The red ball hit the green ball. The green ball hit the purple ball. The purple ball fell in the hole. Question: Which ball started the chain? Answer: the red ball\\nThe blue ball hit the red ball. The red ball hit the green ball. The green ball fell in the hole. Question: Which ball started the chain? Answer: ', 'The brown ball hit the purple ball. The purple ball hit the black ball. The black ball fell in the hole. Question: Which ball started the chain? Answer: the brown ball\\nThe red ball hit the green ball. The blue ball hit the red ball. The green ball fell in the hole. Question: Which ball started the chain? Answer: ', 'The purple ball hit the black ball. The red ball hit the purple ball. The black ball fell in the hole. Question: Which ball started the chain? Answer: the red ball\\nThe blue ball hit the red ball. The red ball hit the brown ball. The brown ball fell in the hole. Question: Which ball started the chain? Answer: ']\n",
      "\n",
      "\n",
      "['The blue ball hit the red ball. The red ball hit the brown ball. The brown ball fell in the hole. Question: Which ball was second in the chain? Answer: the red ball\\nThe blue ball hit the red ball. The red ball hit the green ball. The green ball fell in the hole. Question: Which ball was second in the chain? Answer: ', 'The red ball hit the purple ball. The purple ball hit the white ball. The white ball fell in the hole. Question: Which ball was second in the chain? Answer: the purple ball\\nThe red ball hit the green ball. The blue ball hit the red ball. The green ball fell in the hole. Question: Which ball was second in the chain? Answer: ', 'The blue ball hit the green ball. The green ball hit the purple ball. The purple ball fell in the hole. Question: Which ball was second in the chain? Answer: the green ball\\nThe blue ball hit the red ball. The red ball hit the brown ball. The brown ball fell in the hole. Question: Which ball was second in the chain? Answer: ']\n",
      "\n",
      "\n",
      "['The brown ball hit the black ball. The red ball hit the brown ball. The black ball fell in the hole. Question: Which ball fell into the hole? Answer: the black ball\\nThe blue ball hit the red ball. The red ball hit the green ball. The green ball fell in the hole. Question: Which ball fell into the hole? Answer: ', 'The black ball hit the white ball. The green ball hit the black ball. The white ball fell in the hole. Question: Which ball fell into the hole? Answer: the white ball\\nThe red ball hit the green ball. The blue ball hit the red ball. The green ball fell in the hole. Question: Which ball fell into the hole? Answer: ', 'The red ball hit the purple ball. The blue ball hit the red ball. The purple ball fell in the hole. Question: Which ball fell into the hole? Answer: the purple ball\\nThe blue ball hit the red ball. The red ball hit the brown ball. The brown ball fell in the hole. Question: Which ball fell into the hole? Answer: ']\n"
     ]
    }
   ],
   "source": [
    "print(toy_problem_3_colors.generate_all_prompts_one_shot(question='first')[:3])\n",
    "print(\"\\n\")\n",
    "print(toy_problem_3_colors.generate_all_prompts_one_shot(question='second')[:3])\n",
    "print(\"\\n\")\n",
    "print(toy_problem_3_colors.generate_all_prompts_one_shot(question='final')[:3])"
   ]
  },
  {
   "cell_type": "markdown",
   "metadata": {},
   "source": [
    "### K=5 shot"
   ]
  },
  {
   "cell_type": "code",
   "execution_count": 13,
   "metadata": {},
   "outputs": [
    {
     "name": "stdout",
     "output_type": "stream",
     "text": [
      "The brown ball hit the black ball. The red ball hit the brown ball. The black ball fell in the hole. Question: Which ball started the chain? Answer: the red ball\n",
      "The red ball hit the brown ball. The brown ball hit the black ball. The black ball fell in the hole. Question: Which ball started the chain? Answer: the red ball\n",
      "The green ball hit the brown ball. The brown ball hit the purple ball. The purple ball fell in the hole. Question: Which ball started the chain? Answer: the green ball\n",
      "The red ball hit the green ball. The green ball hit the brown ball. The brown ball fell in the hole. Question: Which ball started the chain? Answer: the red ball\n",
      "The blue ball hit the purple ball. The purple ball hit the black ball. The black ball fell in the hole. Question: Which ball started the chain? Answer: the blue ball\n",
      "The blue ball hit the red ball. The red ball hit the green ball. The green ball fell in the hole. Question: Which ball started the chain? Answer: \n",
      "\n",
      "\n",
      "The brown ball hit the black ball. The black ball hit the white ball. The white ball fell in the hole. Question: Which ball was second in the chain? Answer: the black ball\n",
      "The red ball hit the brown ball. The brown ball hit the purple ball. The purple ball fell in the hole. Question: Which ball was second in the chain? Answer: the brown ball\n",
      "The purple ball hit the black ball. The black ball hit the white ball. The white ball fell in the hole. Question: Which ball was second in the chain? Answer: the black ball\n",
      "The blue ball hit the green ball. The green ball hit the white ball. The white ball fell in the hole. Question: Which ball was second in the chain? Answer: the green ball\n",
      "The brown ball hit the black ball. The green ball hit the brown ball. The black ball fell in the hole. Question: Which ball was second in the chain? Answer: the brown ball\n",
      "The blue ball hit the red ball. The red ball hit the green ball. The green ball fell in the hole. Question: Which ball was second in the chain? Answer: \n",
      "\n",
      "\n",
      "The red ball hit the brown ball. The blue ball hit the red ball. The brown ball fell in the hole. Question: Which ball fell into the hole? Answer: the brown ball\n",
      "The brown ball hit the purple ball. The green ball hit the brown ball. The purple ball fell in the hole. Question: Which ball fell into the hole? Answer: the purple ball\n",
      "The red ball hit the purple ball. The purple ball hit the black ball. The black ball fell in the hole. Question: Which ball fell into the hole? Answer: the black ball\n",
      "The green ball hit the brown ball. The brown ball hit the black ball. The black ball fell in the hole. Question: Which ball fell into the hole? Answer: the black ball\n",
      "The blue ball hit the green ball. The green ball hit the white ball. The white ball fell in the hole. Question: Which ball fell into the hole? Answer: the white ball\n",
      "The blue ball hit the red ball. The red ball hit the green ball. The green ball fell in the hole. Question: Which ball fell into the hole? Answer: \n",
      "\n",
      "\n",
      "The red ball hit the black ball. The black ball hit the white ball. The white ball fell in the hole. Question: Which ball started the chain? Answer: the red ball\n",
      "The purple ball hit the white ball. The brown ball hit the purple ball. The white ball fell in the hole. Question: Which ball started the chain? Answer: the brown ball\n",
      "The red ball hit the brown ball. The brown ball hit the black ball. The black ball fell in the hole. Question: Which ball started the chain? Answer: the red ball\n",
      "The blue ball hit the green ball. The green ball hit the purple ball. The purple ball fell in the hole. Question: Which ball started the chain? Answer: the blue ball\n",
      "The purple ball hit the black ball. The green ball hit the purple ball. The black ball fell in the hole. Question: Which ball started the chain? Answer: the green ball\n",
      "The red ball hit the green ball. The blue ball hit the red ball. The green ball fell in the hole. Question: Which ball started the chain? Answer: \n",
      "\n",
      "\n",
      "The brown ball hit the purple ball. The green ball hit the brown ball. The purple ball fell in the hole. Question: Which ball was second in the chain? Answer: the brown ball\n",
      "The green ball hit the brown ball. The brown ball hit the white ball. The white ball fell in the hole. Question: Which ball was second in the chain? Answer: the brown ball\n",
      "The brown ball hit the white ball. The red ball hit the brown ball. The white ball fell in the hole. Question: Which ball was second in the chain? Answer: the brown ball\n",
      "The green ball hit the brown ball. The brown ball hit the black ball. The black ball fell in the hole. Question: Which ball was second in the chain? Answer: the brown ball\n",
      "The blue ball hit the red ball. The red ball hit the black ball. The black ball fell in the hole. Question: Which ball was second in the chain? Answer: the red ball\n",
      "The red ball hit the green ball. The blue ball hit the red ball. The green ball fell in the hole. Question: Which ball was second in the chain? Answer: \n",
      "\n",
      "\n",
      "The blue ball hit the brown ball. The brown ball hit the black ball. The black ball fell in the hole. Question: Which ball fell into the hole? Answer: the black ball\n",
      "The blue ball hit the red ball. The red ball hit the black ball. The black ball fell in the hole. Question: Which ball fell into the hole? Answer: the black ball\n",
      "The green ball hit the black ball. The red ball hit the green ball. The black ball fell in the hole. Question: Which ball fell into the hole? Answer: the black ball\n",
      "The green ball hit the brown ball. The brown ball hit the white ball. The white ball fell in the hole. Question: Which ball fell into the hole? Answer: the white ball\n",
      "The purple ball hit the black ball. The black ball hit the white ball. The white ball fell in the hole. Question: Which ball fell into the hole? Answer: the white ball\n",
      "The red ball hit the green ball. The blue ball hit the red ball. The green ball fell in the hole. Question: Which ball fell into the hole? Answer: \n"
     ]
    }
   ],
   "source": [
    "print(toy_problem_3_colors.generate_single_prompt_k_shot(n_subset=0, k=5, switched=False, question=\"first\"))\n",
    "print(\"\\n\")\n",
    "print(toy_problem_3_colors.generate_single_prompt_k_shot(n_subset=0, k=5, switched=False, question=\"second\"))\n",
    "print(\"\\n\")\n",
    "print(toy_problem_3_colors.generate_single_prompt_k_shot(n_subset=0, k=5, switched=False, question=\"final\"))\n",
    "print(\"\\n\")\n",
    "\n",
    "print(toy_problem_3_colors.generate_single_prompt_k_shot(n_subset=0, k=5, switched=True, question=\"first\"))\n",
    "print(\"\\n\")\n",
    "print(toy_problem_3_colors.generate_single_prompt_k_shot(n_subset=0, k=5, switched=True, question=\"second\"))\n",
    "print(\"\\n\")\n",
    "print(toy_problem_3_colors.generate_single_prompt_k_shot(n_subset=0, k=5, switched=True, question=\"final\"))"
   ]
  },
  {
   "cell_type": "code",
   "execution_count": 16,
   "metadata": {},
   "outputs": [
    {
     "name": "stdout",
     "output_type": "stream",
     "text": [
      "['The green ball hit the white ball. The red ball hit the green ball. The white ball fell in the hole. Question: Which ball started the chain? Answer: the red ball\\nThe green ball hit the brown ball. The brown ball hit the white ball. The white ball fell in the hole. Question: Which ball started the chain? Answer: the green ball\\nThe blue ball hit the red ball. The red ball hit the brown ball. The brown ball fell in the hole. Question: Which ball started the chain? Answer: the blue ball\\nThe black ball hit the white ball. The purple ball hit the black ball. The white ball fell in the hole. Question: Which ball started the chain? Answer: the purple ball\\nThe red ball hit the brown ball. The brown ball hit the white ball. The white ball fell in the hole. Question: Which ball started the chain? Answer: the red ball\\nThe blue ball hit the red ball. The red ball hit the green ball. The green ball fell in the hole. Question: Which ball started the chain? Answer: ', 'The green ball hit the purple ball. The purple ball hit the black ball. The black ball fell in the hole. Question: Which ball started the chain? Answer: the green ball\\nThe green ball hit the brown ball. The brown ball hit the black ball. The black ball fell in the hole. Question: Which ball started the chain? Answer: the green ball\\nThe blue ball hit the green ball. The green ball hit the brown ball. The brown ball fell in the hole. Question: Which ball started the chain? Answer: the blue ball\\nThe green ball hit the black ball. The red ball hit the green ball. The black ball fell in the hole. Question: Which ball started the chain? Answer: the red ball\\nThe brown ball hit the black ball. The blue ball hit the brown ball. The black ball fell in the hole. Question: Which ball started the chain? Answer: the blue ball\\nThe red ball hit the green ball. The blue ball hit the red ball. The green ball fell in the hole. Question: Which ball started the chain? Answer: ', 'The black ball hit the white ball. The blue ball hit the black ball. The white ball fell in the hole. Question: Which ball started the chain? Answer: the blue ball\\nThe blue ball hit the green ball. The green ball hit the purple ball. The purple ball fell in the hole. Question: Which ball started the chain? Answer: the blue ball\\nThe blue ball hit the red ball. The red ball hit the black ball. The black ball fell in the hole. Question: Which ball started the chain? Answer: the blue ball\\nThe red ball hit the purple ball. The purple ball hit the black ball. The black ball fell in the hole. Question: Which ball started the chain? Answer: the red ball\\nThe blue ball hit the green ball. The green ball hit the white ball. The white ball fell in the hole. Question: Which ball started the chain? Answer: the blue ball\\nThe blue ball hit the red ball. The red ball hit the brown ball. The brown ball fell in the hole. Question: Which ball started the chain? Answer: ']\n",
      "\n",
      "\n",
      "['The green ball hit the purple ball. The blue ball hit the green ball. The purple ball fell in the hole. Question: Which ball was second in the chain? Answer: the green ball\\nThe brown ball hit the black ball. The red ball hit the brown ball. The black ball fell in the hole. Question: Which ball was second in the chain? Answer: the brown ball\\nThe green ball hit the purple ball. The red ball hit the green ball. The purple ball fell in the hole. Question: Which ball was second in the chain? Answer: the green ball\\nThe green ball hit the black ball. The red ball hit the green ball. The black ball fell in the hole. Question: Which ball was second in the chain? Answer: the green ball\\nThe blue ball hit the red ball. The red ball hit the green ball. The green ball fell in the hole. Question: Which ball was second in the chain? Answer: the red ball\\nThe blue ball hit the red ball. The red ball hit the green ball. The green ball fell in the hole. Question: Which ball was second in the chain? Answer: ', 'The green ball hit the black ball. The red ball hit the green ball. The black ball fell in the hole. Question: Which ball was second in the chain? Answer: the green ball\\nThe brown ball hit the black ball. The green ball hit the brown ball. The black ball fell in the hole. Question: Which ball was second in the chain? Answer: the brown ball\\nThe brown ball hit the purple ball. The purple ball hit the white ball. The white ball fell in the hole. Question: Which ball was second in the chain? Answer: the purple ball\\nThe brown ball hit the white ball. The blue ball hit the brown ball. The white ball fell in the hole. Question: Which ball was second in the chain? Answer: the brown ball\\nThe green ball hit the brown ball. The red ball hit the green ball. The brown ball fell in the hole. Question: Which ball was second in the chain? Answer: the green ball\\nThe red ball hit the green ball. The blue ball hit the red ball. The green ball fell in the hole. Question: Which ball was second in the chain? Answer: ', 'The purple ball hit the white ball. The blue ball hit the purple ball. The white ball fell in the hole. Question: Which ball was second in the chain? Answer: the purple ball\\nThe brown ball hit the purple ball. The purple ball hit the black ball. The black ball fell in the hole. Question: Which ball was second in the chain? Answer: the purple ball\\nThe green ball hit the brown ball. The red ball hit the green ball. The brown ball fell in the hole. Question: Which ball was second in the chain? Answer: the green ball\\nThe red ball hit the purple ball. The purple ball hit the black ball. The black ball fell in the hole. Question: Which ball was second in the chain? Answer: the purple ball\\nThe black ball hit the white ball. The blue ball hit the black ball. The white ball fell in the hole. Question: Which ball was second in the chain? Answer: the black ball\\nThe blue ball hit the red ball. The red ball hit the brown ball. The brown ball fell in the hole. Question: Which ball was second in the chain? Answer: ']\n",
      "\n",
      "\n",
      "['The green ball hit the brown ball. The blue ball hit the green ball. The brown ball fell in the hole. Question: Which ball fell into the hole? Answer: the brown ball\\nThe purple ball hit the white ball. The brown ball hit the purple ball. The white ball fell in the hole. Question: Which ball fell into the hole? Answer: the white ball\\nThe green ball hit the black ball. The black ball hit the white ball. The white ball fell in the hole. Question: Which ball fell into the hole? Answer: the white ball\\nThe purple ball hit the black ball. The brown ball hit the purple ball. The black ball fell in the hole. Question: Which ball fell into the hole? Answer: the black ball\\nThe purple ball hit the black ball. The blue ball hit the purple ball. The black ball fell in the hole. Question: Which ball fell into the hole? Answer: the black ball\\nThe blue ball hit the red ball. The red ball hit the green ball. The green ball fell in the hole. Question: Which ball fell into the hole? Answer: ', 'The purple ball hit the white ball. The green ball hit the purple ball. The white ball fell in the hole. Question: Which ball fell into the hole? Answer: the white ball\\nThe purple ball hit the white ball. The brown ball hit the purple ball. The white ball fell in the hole. Question: Which ball fell into the hole? Answer: the white ball\\nThe green ball hit the brown ball. The brown ball hit the black ball. The black ball fell in the hole. Question: Which ball fell into the hole? Answer: the black ball\\nThe brown ball hit the white ball. The red ball hit the brown ball. The white ball fell in the hole. Question: Which ball fell into the hole? Answer: the white ball\\nThe brown ball hit the purple ball. The red ball hit the brown ball. The purple ball fell in the hole. Question: Which ball fell into the hole? Answer: the purple ball\\nThe red ball hit the green ball. The blue ball hit the red ball. The green ball fell in the hole. Question: Which ball fell into the hole? Answer: ', 'The blue ball hit the green ball. The green ball hit the white ball. The white ball fell in the hole. Question: Which ball fell into the hole? Answer: the white ball\\nThe green ball hit the purple ball. The purple ball hit the white ball. The white ball fell in the hole. Question: Which ball fell into the hole? Answer: the white ball\\nThe blue ball hit the red ball. The red ball hit the green ball. The green ball fell in the hole. Question: Which ball fell into the hole? Answer: the green ball\\nThe blue ball hit the brown ball. The brown ball hit the purple ball. The purple ball fell in the hole. Question: Which ball fell into the hole? Answer: the purple ball\\nThe green ball hit the black ball. The black ball hit the white ball. The white ball fell in the hole. Question: Which ball fell into the hole? Answer: the white ball\\nThe blue ball hit the red ball. The red ball hit the brown ball. The brown ball fell in the hole. Question: Which ball fell into the hole? Answer: ']\n"
     ]
    }
   ],
   "source": [
    "print(toy_problem_3_colors.generate_all_prompts_k_shot(k=5, question='first')[:3])\n",
    "print(\"\\n\")\n",
    "print(toy_problem_3_colors.generate_all_prompts_k_shot(k=5, question='second')[:3])\n",
    "print(\"\\n\")\n",
    "print(toy_problem_3_colors.generate_all_prompts_k_shot(k=5, question='final')[:3])"
   ]
  },
  {
   "cell_type": "code",
   "execution_count": null,
   "metadata": {},
   "outputs": [],
   "source": []
  }
 ],
 "metadata": {
  "kernelspec": {
   "display_name": "Python 3",
   "language": "python",
   "name": "python3"
  },
  "language_info": {
   "codemirror_mode": {
    "name": "ipython",
    "version": 3
   },
   "file_extension": ".py",
   "mimetype": "text/x-python",
   "name": "python",
   "nbconvert_exporter": "python",
   "pygments_lexer": "ipython3",
   "version": "3.8.5"
  }
 },
 "nbformat": 4,
 "nbformat_minor": 4
}
