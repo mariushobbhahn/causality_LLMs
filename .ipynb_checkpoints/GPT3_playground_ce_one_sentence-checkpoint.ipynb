{
 "cells": [
  {
   "cell_type": "markdown",
   "metadata": {},
   "source": [
    "# Playground for cause and effect two sentences\n",
    "\n",
    "TODO:explain "
   ]
  },
  {
   "cell_type": "code",
   "execution_count": 1,
   "metadata": {},
   "outputs": [],
   "source": [
    "import os\n",
    "import numpy as np\n",
    "import openai\n",
    "import pandas as pd\n",
    "from tqdm import tqdm\n",
    "from setups.ce_two_sentences_setup import CETwoSentences\n",
    "\n",
    "# Load your API key from an environment variable or secret management service\n",
    "openai.api_key = os.getenv(\"OPENAI_KEY\")"
   ]
  },
  {
   "cell_type": "code",
   "execution_count": 2,
   "metadata": {},
   "outputs": [],
   "source": [
    "gpt3_model = \"text-davinci-001\"\n",
    "#gpt3_model = \"text-curie-001\"\n",
    "#gpt3_model = \"text-babbage-001\"\n",
    "#gpt3_model = \"text-ada-001\""
   ]
  },
  {
   "cell_type": "code",
   "execution_count": 3,
   "metadata": {},
   "outputs": [],
   "source": [
    "# test run\n",
    "def gpt3_response(prompt, model):\n",
    "    response = openai.Completion.create(engine=model, prompt=prompt, max_tokens=20, temperature=0)\n",
    "    return(response[\"choices\"][0][\"text\"])"
   ]
  },
  {
   "cell_type": "code",
   "execution_count": 4,
   "metadata": {},
   "outputs": [],
   "source": [
    "ce_2_sentences = CETwoSentences()"
   ]
  },
  {
   "cell_type": "code",
   "execution_count": 5,
   "metadata": {},
   "outputs": [
    {
     "data": {
      "text/html": [
       "<div>\n",
       "<style scoped>\n",
       "    .dataframe tbody tr th:only-of-type {\n",
       "        vertical-align: middle;\n",
       "    }\n",
       "\n",
       "    .dataframe tbody tr th {\n",
       "        vertical-align: top;\n",
       "    }\n",
       "\n",
       "    .dataframe thead th {\n",
       "        text-align: right;\n",
       "    }\n",
       "</style>\n",
       "<table border=\"1\" class=\"dataframe\">\n",
       "  <thead>\n",
       "    <tr style=\"text-align: right;\">\n",
       "      <th></th>\n",
       "      <th>sequence</th>\n",
       "      <th>answer_cause</th>\n",
       "      <th>answer_effect</th>\n",
       "      <th>switched</th>\n",
       "    </tr>\n",
       "  </thead>\n",
       "  <tbody>\n",
       "    <tr>\n",
       "      <th>0</th>\n",
       "      <td>The child started crying because the child hur...</td>\n",
       "      <td>The child started crying because the child hur...</td>\n",
       "      <td>The child hurt their knee because the child st...</td>\n",
       "      <td>False</td>\n",
       "    </tr>\n",
       "    <tr>\n",
       "      <th>1</th>\n",
       "      <td>The child hurt their knee because the child st...</td>\n",
       "      <td>The child started crying because the child hur...</td>\n",
       "      <td>The child hurt their knee because the child st...</td>\n",
       "      <td>True</td>\n",
       "    </tr>\n",
       "    <tr>\n",
       "      <th>2</th>\n",
       "      <td>I washed the car because my car got dirty. My ...</td>\n",
       "      <td>I washed the car because my car got dirty.</td>\n",
       "      <td>My car got dirty because i washed the car.</td>\n",
       "      <td>False</td>\n",
       "    </tr>\n",
       "    <tr>\n",
       "      <th>3</th>\n",
       "      <td>My car got dirty because i washed the car. I w...</td>\n",
       "      <td>I washed the car because my car got dirty.</td>\n",
       "      <td>My car got dirty because i washed the car.</td>\n",
       "      <td>True</td>\n",
       "    </tr>\n",
       "    <tr>\n",
       "      <th>4</th>\n",
       "      <td>Someone called 911 because someone fainted. So...</td>\n",
       "      <td>Someone called 911 because someone fainted.</td>\n",
       "      <td>Someone fainted because someone called 911.</td>\n",
       "      <td>False</td>\n",
       "    </tr>\n",
       "    <tr>\n",
       "      <th>...</th>\n",
       "      <td>...</td>\n",
       "      <td>...</td>\n",
       "      <td>...</td>\n",
       "      <td>...</td>\n",
       "    </tr>\n",
       "    <tr>\n",
       "      <th>97</th>\n",
       "      <td>Ted went out drinking because Ted had a hangov...</td>\n",
       "      <td>Ted had a hangover because Ted went out drinking.</td>\n",
       "      <td>Ted went out drinking because Ted had a hangover.</td>\n",
       "      <td>True</td>\n",
       "    </tr>\n",
       "    <tr>\n",
       "      <th>98</th>\n",
       "      <td>Bob opened the jar and was frustrated because ...</td>\n",
       "      <td>Bob opened the jar and was frustrated because ...</td>\n",
       "      <td>Alice ate the last cookie because Bob opened t...</td>\n",
       "      <td>False</td>\n",
       "    </tr>\n",
       "    <tr>\n",
       "      <th>99</th>\n",
       "      <td>Alice ate the last cookie because Bob opened t...</td>\n",
       "      <td>Bob opened the jar and was frustrated because ...</td>\n",
       "      <td>Alice ate the last cookie because Bob opened t...</td>\n",
       "      <td>True</td>\n",
       "    </tr>\n",
       "    <tr>\n",
       "      <th>100</th>\n",
       "      <td>Mom rinsed the tray because Jimmy took the las...</td>\n",
       "      <td>Mom rinsed the tray because Jimmy took the las...</td>\n",
       "      <td>Jimmy took the last piece of cake because mom ...</td>\n",
       "      <td>False</td>\n",
       "    </tr>\n",
       "    <tr>\n",
       "      <th>101</th>\n",
       "      <td>Jimmy took the last piece of cake because mom ...</td>\n",
       "      <td>Mom rinsed the tray because Jimmy took the las...</td>\n",
       "      <td>Jimmy took the last piece of cake because mom ...</td>\n",
       "      <td>True</td>\n",
       "    </tr>\n",
       "  </tbody>\n",
       "</table>\n",
       "<p>102 rows × 4 columns</p>\n",
       "</div>"
      ],
      "text/plain": [
       "                                              sequence  \\\n",
       "0    The child started crying because the child hur...   \n",
       "1    The child hurt their knee because the child st...   \n",
       "2    I washed the car because my car got dirty. My ...   \n",
       "3    My car got dirty because i washed the car. I w...   \n",
       "4    Someone called 911 because someone fainted. So...   \n",
       "..                                                 ...   \n",
       "97   Ted went out drinking because Ted had a hangov...   \n",
       "98   Bob opened the jar and was frustrated because ...   \n",
       "99   Alice ate the last cookie because Bob opened t...   \n",
       "100  Mom rinsed the tray because Jimmy took the las...   \n",
       "101  Jimmy took the last piece of cake because mom ...   \n",
       "\n",
       "                                          answer_cause  \\\n",
       "0    The child started crying because the child hur...   \n",
       "1    The child started crying because the child hur...   \n",
       "2           I washed the car because my car got dirty.   \n",
       "3           I washed the car because my car got dirty.   \n",
       "4          Someone called 911 because someone fainted.   \n",
       "..                                                 ...   \n",
       "97   Ted had a hangover because Ted went out drinking.   \n",
       "98   Bob opened the jar and was frustrated because ...   \n",
       "99   Bob opened the jar and was frustrated because ...   \n",
       "100  Mom rinsed the tray because Jimmy took the las...   \n",
       "101  Mom rinsed the tray because Jimmy took the las...   \n",
       "\n",
       "                                         answer_effect  switched  \n",
       "0    The child hurt their knee because the child st...     False  \n",
       "1    The child hurt their knee because the child st...      True  \n",
       "2           My car got dirty because i washed the car.     False  \n",
       "3           My car got dirty because i washed the car.      True  \n",
       "4          Someone fainted because someone called 911.     False  \n",
       "..                                                 ...       ...  \n",
       "97   Ted went out drinking because Ted had a hangover.      True  \n",
       "98   Alice ate the last cookie because Bob opened t...     False  \n",
       "99   Alice ate the last cookie because Bob opened t...      True  \n",
       "100  Jimmy took the last piece of cake because mom ...     False  \n",
       "101  Jimmy took the last piece of cake because mom ...      True  \n",
       "\n",
       "[102 rows x 4 columns]"
      ]
     },
     "execution_count": 5,
     "metadata": {},
     "output_type": "execute_result"
    }
   ],
   "source": [
    "ce_2_sentences.generate_sequences_df()"
   ]
  },
  {
   "cell_type": "code",
   "execution_count": 6,
   "metadata": {},
   "outputs": [],
   "source": [
    "ce_2_sentences.save_sequences_df(filepath=\"data/bigbench_csvs/ce_two_sentences.csv\")"
   ]
  },
  {
   "cell_type": "markdown",
   "metadata": {},
   "source": [
    "### Zero shot"
   ]
  },
  {
   "cell_type": "code",
   "execution_count": 7,
   "metadata": {},
   "outputs": [
    {
     "name": "stdout",
     "output_type": "stream",
     "text": [
      "The child started crying because the child hurt their knee. The child hurt their knee because the child started crying. Question: Which sentence caused the other? Answer by copying the sentence: \n",
      "\n",
      "The child started crying because the child hurt their knee.\n",
      "\n",
      "The child started crying because the child hurt their knee. The child hurt their knee because the child started crying. Question: Which sentence is the effect of the other? Answer by copying the sentence: \n",
      "\n",
      "The child started crying because the child hurt their knee.\n",
      "\n",
      "The child hurt their knee because the child started crying. The child started crying because the child hurt their knee. Question: Which sentence caused the other? Answer by copying the sentence: \n",
      "\n",
      "The child started crying because the child hurt their knee.\n",
      "\n",
      "The child hurt their knee because the child started crying. The child started crying because the child hurt their knee. Question: Which sentence is the effect of the other? Answer by copying the sentence: \n",
      "\n",
      "The child started crying because the child hurt their knee.\n",
      "\n"
     ]
    }
   ],
   "source": [
    "prompt_zs_cause = ce_2_sentences.generate_single_prompt_zero_shot(n_subset=0, switched=False, question=\"cause\")\n",
    "prompt_zs_effect = ce_2_sentences.generate_single_prompt_zero_shot(n_subset=0, switched=False, question=\"effect\")\n",
    "\n",
    "prompt_zs_cause_switched = ce_2_sentences.generate_single_prompt_zero_shot(n_subset=0, switched=True, question=\"cause\")\n",
    "prompt_zs_effect_switched = ce_2_sentences.generate_single_prompt_zero_shot(n_subset=0, switched=True, question=\"effect\")\n",
    "\n",
    "print(prompt_zs_cause + gpt3_response(prompt_zs_cause, gpt3_model) + \"\\n\")\n",
    "print(prompt_zs_effect + gpt3_response(prompt_zs_effect, gpt3_model) + \"\\n\")\n",
    "print(prompt_zs_cause_switched + gpt3_response(prompt_zs_cause_switched, gpt3_model) + \"\\n\")\n",
    "print(prompt_zs_effect_switched + gpt3_response(prompt_zs_effect_switched, gpt3_model) + \"\\n\")"
   ]
  },
  {
   "cell_type": "code",
   "execution_count": 8,
   "metadata": {},
   "outputs": [
    {
     "name": "stdout",
     "output_type": "stream",
     "text": [
      "['The child started crying because the child hurt their knee. The child hurt their knee because the child started crying. Question: Which sentence caused the other? Answer by copying the sentence: ', 'The child hurt their knee because the child started crying. The child started crying because the child hurt their knee. Question: Which sentence caused the other? Answer by copying the sentence: ', 'I washed the car because my car got dirty. My car got dirty because i washed the car. Question: Which sentence caused the other? Answer by copying the sentence: ']\n",
      "['The child started crying because the child hurt their knee. The child hurt their knee because the child started crying. Question: Which sentence is the effect of the other? Answer by copying the sentence: ', 'The child hurt their knee because the child started crying. The child started crying because the child hurt their knee. Question: Which sentence is the effect of the other? Answer by copying the sentence: ', 'I washed the car because my car got dirty. My car got dirty because i washed the car. Question: Which sentence is the effect of the other? Answer by copying the sentence: ']\n"
     ]
    }
   ],
   "source": [
    "print(ce_2_sentences.generate_all_prompts_zero_shot(question='cause')[:3])\n",
    "print(ce_2_sentences.generate_all_prompts_zero_shot(question='effect')[:3])"
   ]
  },
  {
   "cell_type": "markdown",
   "metadata": {},
   "source": [
    "### One shot"
   ]
  },
  {
   "cell_type": "code",
   "execution_count": 9,
   "metadata": {},
   "outputs": [
    {
     "name": "stdout",
     "output_type": "stream",
     "text": [
      "Mom gave the girl fever medicine because the girl had a fever. The girl had a fever because mom gave the girl fever medicine. Question: Which sentence caused the other? Answer by copying the sentence: Mom gave the girl fever medicine because the girl had a fever.\n",
      "The child started crying because the child hurt their knee. The child hurt their knee because the child started crying. Question: Which sentence caused the other? Answer by copying the sentence: \n",
      "The child started crying because the child hurt their knee.\n",
      "\n",
      "The family went to the beach because the air conditioner broke. The air conditioner broke because the family went to the beach. Question: Which sentence is the effect of the other? Answer by copying the sentence: The air conditioner broke because the family went to the beach.\n",
      "The child started crying because the child hurt their knee. The child hurt their knee because the child started crying. Question: Which sentence is the effect of the other? Answer by copying the sentence: \n",
      "The child hurt their knee because the child started crying.\n",
      "\n",
      "She noticed that she was out of toilet paper because she went to the store and bought toilet paper. She went to the store and bought toilet paper because she noticed that she was out of toilet paper. Question: Which sentence caused the other? Answer by copying the sentence: She went to the store and bought toilet paper because she noticed that she was out of toilet paper.\n",
      "The child hurt their knee because the child started crying. The child started crying because the child hurt their knee. Question: Which sentence caused the other? Answer by copying the sentence: \n",
      "The child started crying because the child hurt their knee.\n",
      "\n",
      "My friend got a promotion because my friend celebrated with their family. My friend celebrated with their family because my friend got a promotion. Question: Which sentence is the effect of the other? Answer by copying the sentence: My friend got a promotion because my friend celebrated with their family.\n",
      "The child hurt their knee because the child started crying. The child started crying because the child hurt their knee. Question: Which sentence is the effect of the other? Answer by copying the sentence: \n",
      "The child started crying because the child hurt their knee.\n",
      "\n"
     ]
    }
   ],
   "source": [
    "prompt_os_cause = ce_2_sentences.generate_single_prompt_one_shot(n_subset=0, switched=False, question=\"cause\")\n",
    "prompt_os_effect = ce_2_sentences.generate_single_prompt_one_shot(n_subset=0, switched=False, question=\"effect\")\n",
    "\n",
    "prompt_os_cause_switched = ce_2_sentences.generate_single_prompt_one_shot(n_subset=0, switched=True, question=\"cause\")\n",
    "prompt_os_effect_switched = ce_2_sentences.generate_single_prompt_one_shot(n_subset=0, switched=True, question=\"effect\")\n",
    "\n",
    "print(prompt_os_cause + gpt3_response(prompt_os_cause, gpt3_model) + \"\\n\")\n",
    "print(prompt_os_effect + gpt3_response(prompt_os_effect, gpt3_model) + \"\\n\")\n",
    "\n",
    "print(prompt_os_cause_switched + gpt3_response(prompt_os_cause_switched, gpt3_model) + \"\\n\")\n",
    "print(prompt_os_effect_switched + gpt3_response(prompt_os_effect_switched, gpt3_model) + \"\\n\")"
   ]
  },
  {
   "cell_type": "code",
   "execution_count": 10,
   "metadata": {},
   "outputs": [
    {
     "name": "stdout",
     "output_type": "stream",
     "text": [
      "['The man sued because the floor was wet. The floor was wet because the man sued. Question: Which sentence caused the other? Answer by copying the sentence: The man sued because the floor was wet.\\nThe child started crying because the child hurt their knee. The child hurt their knee because the child started crying. Question: Which sentence caused the other? Answer by copying the sentence: ', 'The wind blew strong because the ship capsized. The ship capsized because the wind blew strong. Question: Which sentence caused the other? Answer by copying the sentence: The ship capsized because the wind blew strong.\\nThe child hurt their knee because the child started crying. The child started crying because the child hurt their knee. Question: Which sentence caused the other? Answer by copying the sentence: ', \"The man turned down the music volume because the man couldn't hear what the woman was saying. The man couldn't hear what the woman was saying because the man turned down the music volume. Question: Which sentence caused the other? Answer by copying the sentence: The man turned down the music volume because the man couldn't hear what the woman was saying.\\nI washed the car because my car got dirty. My car got dirty because i washed the car. Question: Which sentence caused the other? Answer by copying the sentence: \"]\n",
      "\n",
      "\n",
      "[\"The girl caught a cold because the girl didn't wear her sweater. The girl didn't wear her sweater because the girl caught a cold. Question: Which sentence is the effect of the other? Answer by copying the sentence: The girl didn't wear her sweater because the girl caught a cold.\\nThe child started crying because the child hurt their knee. The child hurt their knee because the child started crying. Question: Which sentence is the effect of the other? Answer by copying the sentence: \", 'The milk was left outside the fridge over night because the man sipped the milk and spit it out. The man sipped the milk and spit it out because the milk was left outside the fridge over night. Question: Which sentence is the effect of the other? Answer by copying the sentence: The milk was left outside the fridge over night because the man sipped the milk and spit it out.\\nThe child hurt their knee because the child started crying. The child started crying because the child hurt their knee. Question: Which sentence is the effect of the other? Answer by copying the sentence: ', 'The basketball player took a free throw because the basketball player was shoved. The basketball player was shoved because the basketball player took a free throw. Question: Which sentence is the effect of the other? Answer by copying the sentence: The basketball player was shoved because the basketball player took a free throw.\\nI washed the car because my car got dirty. My car got dirty because i washed the car. Question: Which sentence is the effect of the other? Answer by copying the sentence: ']\n",
      "\n",
      "\n"
     ]
    }
   ],
   "source": [
    "print(ce_2_sentences.generate_all_prompts_one_shot(question='cause')[:3])\n",
    "print(\"\\n\")\n",
    "print(ce_2_sentences.generate_all_prompts_one_shot(question='effect')[:3])\n",
    "print(\"\\n\")"
   ]
  },
  {
   "cell_type": "markdown",
   "metadata": {},
   "source": [
    "### K=5 shot"
   ]
  },
  {
   "cell_type": "code",
   "execution_count": 11,
   "metadata": {},
   "outputs": [
    {
     "name": "stdout",
     "output_type": "stream",
     "text": [
      "The vase shattered on the floor because a man accidently pushed the vase off a counter. A man accidently pushed the vase off a counter because the vase shattered on the floor. Question: Which sentence caused the other? Answer by copying the sentence: The vase shattered on the floor because a man accidently pushed the vase off a counter.\n",
      "The company's stock went up because the company's posted strong earnings. The company's posted strong earnings because the company's stock went up. Question: Which sentence caused the other? Answer by copying the sentence: The company's stock went up because the company's posted strong earnings.\n",
      "Sunlight filled the room because the curtains were opened. The curtains were opened because sunlight filled the room. Question: Which sentence caused the other? Answer by copying the sentence: Sunlight filled the room because the curtains were opened.\n",
      "Light filled the room because i flipped the switch. I flipped the switch because light filled the room. Question: Which sentence caused the other? Answer by copying the sentence: Light filled the room because i flipped the switch.\n",
      "Alice missed her flight because Alice didn't wake up. Alice didn't wake up because Alice missed her flight. Question: Which sentence caused the other? Answer by copying the sentence: Alice missed her flight because Alice didn't wake up.\n",
      "The child started crying because the child hurt their knee. The child hurt their knee because the child started crying. Question: Which sentence caused the other? Answer by copying the sentence: \n",
      "\n",
      "The child started crying because the child hurt their knee.\n",
      "\n",
      "The man sued because the floor was wet. The floor was wet because the man sued. Question: Which sentence is the effect of the other? Answer by copying the sentence: The floor was wet because the man sued.\n",
      "Alice missed her flight because Alice didn't wake up. Alice didn't wake up because Alice missed her flight. Question: Which sentence is the effect of the other? Answer by copying the sentence: Alice didn't wake up because Alice missed her flight.\n",
      "The girl caught a cold because the girl didn't wear her sweater. The girl didn't wear her sweater because the girl caught a cold. Question: Which sentence is the effect of the other? Answer by copying the sentence: The girl didn't wear her sweater because the girl caught a cold.\n",
      "The girl woke up covered in cold sweat because the girl had a nightmare. The girl had a nightmare because the girl woke up covered in cold sweat. Question: Which sentence is the effect of the other? Answer by copying the sentence: The girl had a nightmare because the girl woke up covered in cold sweat.\n",
      "Light filled the room because i flipped the switch. I flipped the switch because light filled the room. Question: Which sentence is the effect of the other? Answer by copying the sentence: I flipped the switch because light filled the room.\n",
      "The child started crying because the child hurt their knee. The child hurt their knee because the child started crying. Question: Which sentence is the effect of the other? Answer by copying the sentence: \n",
      "The child hurt their knee because the child started crying.\n",
      "\n",
      "The milk was left outside the fridge over night because the man sipped the milk and spit it out. The man sipped the milk and spit it out because the milk was left outside the fridge over night. Question: Which sentence caused the other? Answer by copying the sentence: The man sipped the milk and spit it out because the milk was left outside the fridge over night.\n",
      "The man robbed a gas station because the man went to jail. The man went to jail because the man robbed a gas station. Question: Which sentence caused the other? Answer by copying the sentence: The man went to jail because the man robbed a gas station.\n",
      "The girl skipped school because the girl got detention. The girl got detention because the girl skipped school. Question: Which sentence caused the other? Answer by copying the sentence: The girl got detention because the girl skipped school.\n",
      "The man got lost in the woods because a search party was assembled. A search party was assembled because the man got lost in the woods. Question: Which sentence caused the other? Answer by copying the sentence: A search party was assembled because the man got lost in the woods.\n",
      "My clothes got dirty because i put my clothes in the washing machine. I put my clothes in the washing machine because my clothes got dirty. Question: Which sentence caused the other? Answer by copying the sentence: I put my clothes in the washing machine because my clothes got dirty.\n",
      "The child hurt their knee because the child started crying. The child started crying because the child hurt their knee. Question: Which sentence caused the other? Answer by copying the sentence: \n",
      "The child started crying because the child hurt their knee.\n",
      "\n",
      "She noticed that she was out of toilet paper because she went to the store and bought toilet paper. She went to the store and bought toilet paper because she noticed that she was out of toilet paper. Question: Which sentence is the effect of the other? Answer by copying the sentence: She noticed that she was out of toilet paper because she went to the store and bought toilet paper.\n",
      "Ted went out drinking because Ted had a hangover. Ted had a hangover because Ted went out drinking. Question: Which sentence is the effect of the other? Answer by copying the sentence: Ted went out drinking because Ted had a hangover.\n",
      "It rained because the picnic was cancelled. The picnic was cancelled because it rained. Question: Which sentence is the effect of the other? Answer by copying the sentence: It rained because the picnic was cancelled.\n",
      "The milk was left outside the fridge over night because the man sipped the milk and spit it out. The man sipped the milk and spit it out because the milk was left outside the fridge over night. Question: Which sentence is the effect of the other? Answer by copying the sentence: The milk was left outside the fridge over night because the man sipped the milk and spit it out.\n",
      "I pulled the dog's tail because the dog bit me. The dog bit me because i pulled the dog's tail. Question: Which sentence is the effect of the other? Answer by copying the sentence: I pulled the dog's tail because the dog bit me.\n",
      "The child hurt their knee because the child started crying. The child started crying because the child hurt their knee. Question: Which sentence is the effect of the other? Answer by copying the sentence: \n",
      "The child hurt their knee because the child started crying.\n",
      "\n"
     ]
    }
   ],
   "source": [
    "prompt_ks_cause = ce_2_sentences.generate_single_prompt_k_shot(n_subset=0, k=5, switched=False, question=\"cause\")\n",
    "prompt_ks_effect = ce_2_sentences.generate_single_prompt_k_shot(n_subset=0, k=5, switched=False, question=\"effect\")\n",
    "\n",
    "prompt_ks_cause_switched = ce_2_sentences.generate_single_prompt_k_shot(n_subset=0, k=5, switched=True, question=\"cause\")\n",
    "prompt_ks_effect_switched = ce_2_sentences.generate_single_prompt_k_shot(n_subset=0, k=5, switched=True, question=\"effect\")\n",
    "\n",
    "print(prompt_ks_cause + gpt3_response(prompt_ks_cause, gpt3_model) + \"\\n\")\n",
    "print(prompt_ks_effect + gpt3_response(prompt_ks_effect, gpt3_model) + \"\\n\")\n",
    "print(prompt_ks_cause_switched + gpt3_response(prompt_ks_cause_switched, gpt3_model) + \"\\n\")\n",
    "print(prompt_ks_effect_switched + gpt3_response(prompt_ks_effect_switched, gpt3_model) + \"\\n\")"
   ]
  },
  {
   "cell_type": "code",
   "execution_count": 12,
   "metadata": {},
   "outputs": [
    {
     "name": "stdout",
     "output_type": "stream",
     "text": [
      "['The pilot turned on the \"fasten seatbelts\" light because a bird hit the engine. A bird hit the engine because the pilot turned on the \"fasten seatbelts\" light. Question: Which sentence caused the other? Answer by copying the sentence: The pilot turned on the \"fasten seatbelts\" light because a bird hit the engine.\\nShe went to the store and bought toilet paper because she noticed that she was out of toilet paper. She noticed that she was out of toilet paper because she went to the store and bought toilet paper. Question: Which sentence caused the other? Answer by copying the sentence: She went to the store and bought toilet paper because she noticed that she was out of toilet paper.\\nThe man turned down the music volume because the man couldn\\'t hear what the woman was saying. The man couldn\\'t hear what the woman was saying because the man turned down the music volume. Question: Which sentence caused the other? Answer by copying the sentence: The man turned down the music volume because the man couldn\\'t hear what the woman was saying.\\nThe soda went flat because the bottle was left open. The bottle was left open because the soda went flat. Question: Which sentence caused the other? Answer by copying the sentence: The soda went flat because the bottle was left open.\\nSunlight filled the room because the curtains were opened. The curtains were opened because sunlight filled the room. Question: Which sentence caused the other? Answer by copying the sentence: Sunlight filled the room because the curtains were opened.\\nThe child started crying because the child hurt their knee. The child hurt their knee because the child started crying. Question: Which sentence caused the other? Answer by copying the sentence: ', 'The girl had a nightmare because the girl woke up covered in cold sweat. The girl woke up covered in cold sweat because the girl had a nightmare. Question: Which sentence caused the other? Answer by copying the sentence: The girl woke up covered in cold sweat because the girl had a nightmare.\\nThe boy threw a rock because the window broke. The window broke because the boy threw a rock. Question: Which sentence caused the other? Answer by copying the sentence: The window broke because the boy threw a rock.\\nThe man robbed a gas station because the man went to jail. The man went to jail because the man robbed a gas station. Question: Which sentence caused the other? Answer by copying the sentence: The man went to jail because the man robbed a gas station.\\nThe child hurt their knee because the child started crying. The child started crying because the child hurt their knee. Question: Which sentence caused the other? Answer by copying the sentence: The child started crying because the child hurt their knee.\\nThe insect pollinated the tomato flowers because tomatoes grew on the vine. Tomatoes grew on the vine because the insect pollinated the tomato flowers. Question: Which sentence caused the other? Answer by copying the sentence: Tomatoes grew on the vine because the insect pollinated the tomato flowers.\\nThe child hurt their knee because the child started crying. The child started crying because the child hurt their knee. Question: Which sentence caused the other? Answer by copying the sentence: ', \"Acme paid Jill's legal fees because Jill won the lawsuit against Acme. Jill won the lawsuit against Acme because acme paid Jill's legal fees. Question: Which sentence caused the other? Answer by copying the sentence: Acme paid Jill's legal fees because Jill won the lawsuit against Acme.\\nThe man turned down the music volume because the man couldn't hear what the woman was saying. The man couldn't hear what the woman was saying because the man turned down the music volume. Question: Which sentence caused the other? Answer by copying the sentence: The man turned down the music volume because the man couldn't hear what the woman was saying.\\nSchool was cancelled because there was a snowstorm. There was a snowstorm because school was cancelled. Question: Which sentence caused the other? Answer by copying the sentence: School was cancelled because there was a snowstorm.\\nThe company's stock went up because the company's posted strong earnings. The company's posted strong earnings because the company's stock went up. Question: Which sentence caused the other? Answer by copying the sentence: The company's stock went up because the company's posted strong earnings.\\nSunlight filled the room because the curtains were opened. The curtains were opened because sunlight filled the room. Question: Which sentence caused the other? Answer by copying the sentence: Sunlight filled the room because the curtains were opened.\\nI washed the car because my car got dirty. My car got dirty because i washed the car. Question: Which sentence caused the other? Answer by copying the sentence: \"]\n",
      "\n",
      "\n",
      "[\"Acme paid Jill's legal fees because Jill won the lawsuit against Acme. Jill won the lawsuit against Acme because acme paid Jill's legal fees. Question: Which sentence is the effect of the other? Answer by copying the sentence: Jill won the lawsuit against Acme because acme paid Jill's legal fees.\\nI washed the car because my car got dirty. My car got dirty because i washed the car. Question: Which sentence is the effect of the other? Answer by copying the sentence: My car got dirty because i washed the car.\\nA search party was assembled because the man got lost in the woods. The man got lost in the woods because a search party was assembled. Question: Which sentence is the effect of the other? Answer by copying the sentence: The man got lost in the woods because a search party was assembled.\\nThe tenants contacted their landlord because the tenants noticed mold on the bathroom ceiling. The tenants noticed mold on the bathroom ceiling because the tenants contacted their landlord. Question: Which sentence is the effect of the other? Answer by copying the sentence: The tenants noticed mold on the bathroom ceiling because the tenants contacted their landlord.\\nThe girl woke up covered in cold sweat because the girl had a nightmare. The girl had a nightmare because the girl woke up covered in cold sweat. Question: Which sentence is the effect of the other? Answer by copying the sentence: The girl had a nightmare because the girl woke up covered in cold sweat.\\nThe child started crying because the child hurt their knee. The child hurt their knee because the child started crying. Question: Which sentence is the effect of the other? Answer by copying the sentence: \", 'The air conditioner broke because the family went to the beach. The family went to the beach because the air conditioner broke. Question: Which sentence is the effect of the other? Answer by copying the sentence: The air conditioner broke because the family went to the beach.\\nIt started raining because the driver turned the wipers on. The driver turned the wipers on because it started raining. Question: Which sentence is the effect of the other? Answer by copying the sentence: It started raining because the driver turned the wipers on.\\nThe bottle was left open because the soda went flat. The soda went flat because the bottle was left open. Question: Which sentence is the effect of the other? Answer by copying the sentence: The bottle was left open because the soda went flat.\\nThere was a wardrobe malfunction because the performer ran off the stage. The performer ran off the stage because there was a wardrobe malfunction. Question: Which sentence is the effect of the other? Answer by copying the sentence: There was a wardrobe malfunction because the performer ran off the stage.\\nThe girl skipped school because the girl got detention. The girl got detention because the girl skipped school. Question: Which sentence is the effect of the other? Answer by copying the sentence: The girl skipped school because the girl got detention.\\nThe child hurt their knee because the child started crying. The child started crying because the child hurt their knee. Question: Which sentence is the effect of the other? Answer by copying the sentence: ', \"The child started crying because the child hurt their knee. The child hurt their knee because the child started crying. Question: Which sentence is the effect of the other? Answer by copying the sentence: The child hurt their knee because the child started crying.\\nThe girl caught a cold because the girl didn't wear her sweater. The girl didn't wear her sweater because the girl caught a cold. Question: Which sentence is the effect of the other? Answer by copying the sentence: The girl didn't wear her sweater because the girl caught a cold.\\nThe driver turned the wipers on because it started raining. It started raining because the driver turned the wipers on. Question: Which sentence is the effect of the other? Answer by copying the sentence: It started raining because the driver turned the wipers on.\\nI put my clothes in the washing machine because my clothes got dirty. My clothes got dirty because i put my clothes in the washing machine. Question: Which sentence is the effect of the other? Answer by copying the sentence: My clothes got dirty because i put my clothes in the washing machine.\\nA search party was assembled because the man got lost in the woods. The man got lost in the woods because a search party was assembled. Question: Which sentence is the effect of the other? Answer by copying the sentence: The man got lost in the woods because a search party was assembled.\\nI washed the car because my car got dirty. My car got dirty because i washed the car. Question: Which sentence is the effect of the other? Answer by copying the sentence: \"]\n"
     ]
    }
   ],
   "source": [
    "print(ce_2_sentences.generate_all_prompts_k_shot(k=5, question='cause')[:3])\n",
    "print(\"\\n\")\n",
    "print(ce_2_sentences.generate_all_prompts_k_shot(k=5, question='effect')[:3])"
   ]
  },
  {
   "cell_type": "code",
   "execution_count": null,
   "metadata": {},
   "outputs": [],
   "source": []
  }
 ],
 "metadata": {
  "kernelspec": {
   "display_name": "Python 3",
   "language": "python",
   "name": "python3"
  },
  "language_info": {
   "codemirror_mode": {
    "name": "ipython",
    "version": 3
   },
   "file_extension": ".py",
   "mimetype": "text/x-python",
   "name": "python",
   "nbconvert_exporter": "python",
   "pygments_lexer": "ipython3",
   "version": "3.8.5"
  }
 },
 "nbformat": 4,
 "nbformat_minor": 4
}
