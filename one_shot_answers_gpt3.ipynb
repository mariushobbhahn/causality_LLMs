{
 "cells": [
  {
   "cell_type": "markdown",
   "metadata": {},
   "source": [
    "# Run the prompts and report results for one shot setting"
   ]
  },
  {
   "cell_type": "markdown",
   "metadata": {},
   "source": [
    "## cause and effect sentences"
   ]
  },
  {
   "cell_type": "code",
   "execution_count": 38,
   "metadata": {},
   "outputs": [],
   "source": [
    "import os\n",
    "import openai\n",
    "import pandas as pd\n",
    "from tqdm import tqdm\n",
    "\n",
    "# Load your API key from an environment variable or secret management service\n",
    "openai.api_key = os.getenv(\"OPENAI_KEY\")"
   ]
  },
  {
   "cell_type": "code",
   "execution_count": 39,
   "metadata": {},
   "outputs": [],
   "source": [
    "gpt3_model = \"text-davinci-001\"\n",
    "#gpt3_model = \"text-curie-001\"\n",
    "#gpt3_model = \"text-babbage-001\"\n",
    "#gpt3_model = \"text-ada-001\""
   ]
  },
  {
   "cell_type": "code",
   "execution_count": 40,
   "metadata": {},
   "outputs": [
    {
     "name": "stdout",
     "output_type": "stream",
     "text": [
      "Question: Which sentence is the cause of the other?\n",
      "The child hurt their knee. The child started crying. Answer: The child hurt their knee.\n",
      "My car got dirty. I washed the car. Answer:\n"
     ]
    }
   ],
   "source": [
    "test_prompt = \"Question: Which sentence is the cause of the other?\\nThe child hurt their knee. The child started crying. Answer: The child hurt their knee.\\nMy car got dirty. I washed the car. Answer:\"\n",
    "print(test_prompt)"
   ]
  },
  {
   "cell_type": "code",
   "execution_count": 41,
   "metadata": {},
   "outputs": [
    {
     "name": "stdout",
     "output_type": "stream",
     "text": [
      " My car got dirty.\n"
     ]
    }
   ],
   "source": [
    "# test run\n",
    "response = openai.Completion.create(engine=gpt3_model, prompt=test_prompt, max_tokens=15, temperature=0)\n",
    "print(response[\"choices\"][0][\"text\"])"
   ]
  },
  {
   "cell_type": "code",
   "execution_count": 5,
   "metadata": {},
   "outputs": [
    {
     "data": {
      "text/html": [
       "<div>\n",
       "<style scoped>\n",
       "    .dataframe tbody tr th:only-of-type {\n",
       "        vertical-align: middle;\n",
       "    }\n",
       "\n",
       "    .dataframe tbody tr th {\n",
       "        vertical-align: top;\n",
       "    }\n",
       "\n",
       "    .dataframe thead th {\n",
       "        text-align: right;\n",
       "    }\n",
       "</style>\n",
       "<table border=\"1\" class=\"dataframe\">\n",
       "  <thead>\n",
       "    <tr style=\"text-align: right;\">\n",
       "      <th></th>\n",
       "      <th>prompts</th>\n",
       "      <th>correct_answers</th>\n",
       "    </tr>\n",
       "  </thead>\n",
       "  <tbody>\n",
       "    <tr>\n",
       "      <th>0</th>\n",
       "      <td>The child hurt their knee. The child started c...</td>\n",
       "      <td>The child hurt their knee.</td>\n",
       "    </tr>\n",
       "    <tr>\n",
       "      <th>1</th>\n",
       "      <td>The child started crying. The child hurt their...</td>\n",
       "      <td>The child hurt their knee.</td>\n",
       "    </tr>\n",
       "    <tr>\n",
       "      <th>2</th>\n",
       "      <td>My car got dirty. I washed the car.</td>\n",
       "      <td>My car got dirty.</td>\n",
       "    </tr>\n",
       "    <tr>\n",
       "      <th>3</th>\n",
       "      <td>I washed the car. My car got dirty.</td>\n",
       "      <td>My car got dirty.</td>\n",
       "    </tr>\n",
       "    <tr>\n",
       "      <th>4</th>\n",
       "      <td>Someone fainted. Someone called 911.</td>\n",
       "      <td>Someone fainted.</td>\n",
       "    </tr>\n",
       "  </tbody>\n",
       "</table>\n",
       "</div>"
      ],
      "text/plain": [
       "                                             prompts  \\\n",
       "0  The child hurt their knee. The child started c...   \n",
       "1  The child started crying. The child hurt their...   \n",
       "2                My car got dirty. I washed the car.   \n",
       "3                I washed the car. My car got dirty.   \n",
       "4               Someone fainted. Someone called 911.   \n",
       "\n",
       "              correct_answers  \n",
       "0  The child hurt their knee.  \n",
       "1  The child hurt their knee.  \n",
       "2           My car got dirty.  \n",
       "3           My car got dirty.  \n",
       "4            Someone fainted.  "
      ]
     },
     "execution_count": 5,
     "metadata": {},
     "output_type": "execute_result"
    }
   ],
   "source": [
    "# load dataframe\n",
    "\n",
    "df_ce_two_sentences = pd.read_csv(\"data/bigbench_csvs/ce_two_sentences.csv\")\n",
    "df_ce_two_sentences.head()"
   ]
  },
  {
   "cell_type": "code",
   "execution_count": 6,
   "metadata": {},
   "outputs": [],
   "source": [
    "cause_question = \"Question: Which sentence is the cause of the other?\"\n",
    "effect_question = \"Question: Which sentence is the effect of the other?\"\n",
    "\n",
    "example_cause_1 = \"\\nThe child hurt their knee. The child started crying. Answer: The child hurt their knee.\"\n",
    "example_cause_1_switched = \"\\nThe child started crying. The child hurt their knee. Answer: The child hurt their knee.\"\n",
    "example_effect_1 = \"\\nThe child hurt their knee. The child started crying. Answer: The child started crying.\"\n",
    "example_effect_1_switched = \"\\nThe child started crying. The child hurt their knee. Answer: The child started crying.\""
   ]
  },
  {
   "cell_type": "code",
   "execution_count": 7,
   "metadata": {},
   "outputs": [
    {
     "name": "stderr",
     "output_type": "stream",
     "text": [
      "\r",
      "0it [00:00, ?it/s]"
     ]
    },
    {
     "name": "stdout",
     "output_type": "stream",
     "text": [
      "Question: Which sentence is the cause of the other?\n",
      "The child hurt their knee. The child started crying. Answer: The child hurt their knee.\n",
      "The child hurt their knee. The child started crying. Answer: \n",
      "\n",
      "\n",
      "The child started crying because they hurt their knee.\n",
      "Question: Which sentence is the cause of the other?\n",
      "The child started crying. The child hurt their knee. Answer: The child hurt their knee.\n",
      "The child hurt their knee. The child started crying. Answer: \n",
      "\n",
      "\n",
      "The child started crying.\n"
     ]
    },
    {
     "name": "stderr",
     "output_type": "stream",
     "text": [
      "\r",
      "1it [00:02,  2.92s/it]"
     ]
    },
    {
     "name": "stdout",
     "output_type": "stream",
     "text": [
      "Question: Which sentence is the cause of the other?\n",
      "The child hurt their knee. The child started crying. Answer: The child hurt their knee.\n",
      "The child started crying. The child hurt their knee. Answer: \n",
      "\n",
      "\n",
      "The child started crying.\n",
      "Question: Which sentence is the cause of the other?\n",
      "The child started crying. The child hurt their knee. Answer: The child hurt their knee.\n",
      "The child started crying. The child hurt their knee. Answer: \n",
      "\n",
      "The child started crying because they hurt their knee.\n"
     ]
    },
    {
     "name": "stderr",
     "output_type": "stream",
     "text": [
      "\r",
      "2it [00:05,  2.69s/it]"
     ]
    },
    {
     "name": "stdout",
     "output_type": "stream",
     "text": [
      "Question: Which sentence is the cause of the other?\n",
      "The child hurt their knee. The child started crying. Answer: The child hurt their knee.\n",
      "My car got dirty. I washed the car. Answer: \n",
      "\n",
      "\n",
      "My car got dirty.\n",
      "Question: Which sentence is the cause of the other?\n",
      "The child started crying. The child hurt their knee. Answer: The child hurt their knee.\n",
      "My car got dirty. I washed the car. Answer: \n",
      "\n",
      "\n",
      "I washed the car.\n"
     ]
    },
    {
     "name": "stderr",
     "output_type": "stream",
     "text": [
      "\r",
      "3it [00:06,  2.33s/it]"
     ]
    },
    {
     "name": "stdout",
     "output_type": "stream",
     "text": [
      "Question: Which sentence is the cause of the other?\n",
      "The child hurt their knee. The child started crying. Answer: The child hurt their knee.\n",
      "I washed the car. My car got dirty. Answer: \n",
      "\n",
      "\n",
      "My car got dirty.\n",
      "Question: Which sentence is the cause of the other?\n",
      "The child started crying. The child hurt their knee. Answer: The child hurt their knee.\n",
      "I washed the car. My car got dirty. Answer: \n",
      "\n",
      "\n",
      "My car got dirty.\n"
     ]
    },
    {
     "name": "stderr",
     "output_type": "stream",
     "text": [
      "\r",
      "4it [00:08,  2.09s/it]"
     ]
    },
    {
     "name": "stdout",
     "output_type": "stream",
     "text": [
      "Question: Which sentence is the cause of the other?\n",
      "The child hurt their knee. The child started crying. Answer: The child hurt their knee.\n",
      "Someone fainted. Someone called 911. Answer: \n",
      "\n",
      "Someone called 911.\n",
      "Question: Which sentence is the cause of the other?\n",
      "The child started crying. The child hurt their knee. Answer: The child hurt their knee.\n",
      "Someone fainted. Someone called 911. Answer: \n",
      "\n",
      "\n",
      "Someone called 911.\n"
     ]
    },
    {
     "name": "stderr",
     "output_type": "stream",
     "text": [
      "\r",
      "5it [00:09,  1.92s/it]"
     ]
    },
    {
     "name": "stdout",
     "output_type": "stream",
     "text": [
      "Question: Which sentence is the cause of the other?\n",
      "The child hurt their knee. The child started crying. Answer: The child hurt their knee.\n",
      "Someone called 911. Someone fainted. Answer: \n",
      "\n",
      "Someone called 911.\n",
      "Question: Which sentence is the cause of the other?\n",
      "The child started crying. The child hurt their knee. Answer: The child hurt their knee.\n",
      "Someone called 911. Someone fainted. Answer: \n",
      "\n",
      "\n",
      "Someone called 911.\n"
     ]
    },
    {
     "name": "stderr",
     "output_type": "stream",
     "text": [
      "\r",
      "6it [00:11,  1.81s/it]"
     ]
    },
    {
     "name": "stdout",
     "output_type": "stream",
     "text": [
      "Question: Which sentence is the cause of the other?\n",
      "The child hurt their knee. The child started crying. Answer: The child hurt their knee.\n",
      "A man accidently pushed the vase off a counter. The vase shattered on the floor. Answer: \n",
      "\n",
      "The man accidently pushed the vase off a counter.\n",
      "Question: Which sentence is the cause of the other?\n",
      "The child started crying. The child hurt their knee. Answer: The child hurt their knee.\n",
      "A man accidently pushed the vase off a counter. The vase shattered on the floor. Answer: \n",
      "\n",
      "\n",
      "The man accidently pushed the vase off a counter.\n"
     ]
    },
    {
     "name": "stderr",
     "output_type": "stream",
     "text": [
      "\r",
      "7it [00:13,  1.87s/it]"
     ]
    },
    {
     "name": "stdout",
     "output_type": "stream",
     "text": [
      "Question: Which sentence is the cause of the other?\n",
      "The child hurt their knee. The child started crying. Answer: The child hurt their knee.\n",
      "The vase shattered on the floor. A man accidently pushed the vase off a counter. Answer: \n",
      "\n",
      "The vase shattered on the floor.\n",
      "Question: Which sentence is the cause of the other?\n",
      "The child started crying. The child hurt their knee. Answer: The child hurt their knee.\n",
      "The vase shattered on the floor. A man accidently pushed the vase off a counter. Answer: \n",
      "\n",
      "A man accidently pushed the vase off a counter.\n"
     ]
    },
    {
     "name": "stderr",
     "output_type": "stream",
     "text": [
      "\r",
      "8it [00:15,  1.92s/it]"
     ]
    },
    {
     "name": "stdout",
     "output_type": "stream",
     "text": [
      "Question: Which sentence is the cause of the other?\n",
      "The child hurt their knee. The child started crying. Answer: The child hurt their knee.\n",
      "It started raining. The woman who was walking on the street opened her umbrella. Answer: \n",
      "\n",
      "\n",
      "It started raining.\n",
      "Question: Which sentence is the cause of the other?\n",
      "The child started crying. The child hurt their knee. Answer: The child hurt their knee.\n",
      "It started raining. The woman who was walking on the street opened her umbrella. Answer: \n",
      "\n",
      "\n",
      "The woman who was walking on the street opened her umbrella.\n"
     ]
    },
    {
     "name": "stderr",
     "output_type": "stream",
     "text": [
      "\r",
      "9it [00:17,  1.89s/it]"
     ]
    },
    {
     "name": "stdout",
     "output_type": "stream",
     "text": [
      "Question: Which sentence is the cause of the other?\n",
      "The child hurt their knee. The child started crying. Answer: The child hurt their knee.\n",
      "The woman who was walking on the street opened her umbrella. It started raining. Answer: \n",
      "\n",
      "The woman who was walking on the street opened her umbrella.\n",
      "Question: Which sentence is the cause of the other?\n",
      "The child started crying. The child hurt their knee. Answer: The child hurt their knee.\n",
      "The woman who was walking on the street opened her umbrella. It started raining. Answer: \n",
      "\n",
      "\n",
      "It started raining.\n"
     ]
    },
    {
     "name": "stderr",
     "output_type": "stream",
     "text": [
      "\r",
      "10it [00:19,  1.95s/it]"
     ]
    },
    {
     "name": "stdout",
     "output_type": "stream",
     "text": [
      "Question: Which sentence is the cause of the other?\n",
      "The child hurt their knee. The child started crying. Answer: The child hurt their knee.\n",
      "There was a loud noise. The boy lifted his eyes from the book. Answer: \n",
      "\n",
      "\n",
      "The boy lifted his eyes from the book.\n",
      "Question: Which sentence is the cause of the other?\n",
      "The child started crying. The child hurt their knee. Answer: The child hurt their knee.\n",
      "There was a loud noise. The boy lifted his eyes from the book. Answer: \n",
      "\n",
      "\n",
      "The boy lifted his eyes from the book.\n"
     ]
    },
    {
     "name": "stderr",
     "output_type": "stream",
     "text": [
      "\r",
      "11it [00:21,  1.94s/it]"
     ]
    },
    {
     "name": "stdout",
     "output_type": "stream",
     "text": [
      "Question: Which sentence is the cause of the other?\n",
      "The child hurt their knee. The child started crying. Answer: The child hurt their knee.\n",
      "The boy lifted his eyes from the book. There was a loud noise. Answer: \n",
      "\n",
      "The boy lifted his eyes from the book.\n",
      "Question: Which sentence is the cause of the other?\n",
      "The child started crying. The child hurt their knee. Answer: The child hurt their knee.\n",
      "The boy lifted his eyes from the book. There was a loud noise. Answer: \n",
      "\n",
      "\n",
      "There was a loud noise.\n"
     ]
    },
    {
     "name": "stderr",
     "output_type": "stream",
     "text": [
      "\r",
      "12it [00:23,  2.09s/it]"
     ]
    },
    {
     "name": "stdout",
     "output_type": "stream",
     "text": [
      "Question: Which sentence is the cause of the other?\n",
      "The child hurt their knee. The child started crying. Answer: The child hurt their knee.\n",
      "The girl had a nightmare. The girl woke up covered in cold sweat. Answer: \n",
      "\n",
      "The girl had a nightmare.\n",
      "Question: Which sentence is the cause of the other?\n",
      "The child started crying. The child hurt their knee. Answer: The child hurt their knee.\n",
      "The girl had a nightmare. The girl woke up covered in cold sweat. Answer: \n",
      "\n",
      "\n",
      "The girl woke up covered in cold sweat.\n"
     ]
    },
    {
     "name": "stderr",
     "output_type": "stream",
     "text": [
      "\r",
      "13it [00:25,  2.00s/it]"
     ]
    },
    {
     "name": "stdout",
     "output_type": "stream",
     "text": [
      "Question: Which sentence is the cause of the other?\n",
      "The child hurt their knee. The child started crying. Answer: The child hurt their knee.\n",
      "The girl woke up covered in cold sweat. The girl had a nightmare. Answer: \n",
      "\n",
      "The girl woke up covered in cold sweat.\n",
      "Question: Which sentence is the cause of the other?\n",
      "The child started crying. The child hurt their knee. Answer: The child hurt their knee.\n",
      "The girl woke up covered in cold sweat. The girl had a nightmare. Answer: \n",
      "\n",
      "The girl had a nightmare.\n"
     ]
    },
    {
     "name": "stderr",
     "output_type": "stream",
     "text": [
      "\r",
      "14it [00:27,  1.94s/it]"
     ]
    },
    {
     "name": "stdout",
     "output_type": "stream",
     "text": [
      "Question: Which sentence is the cause of the other?\n",
      "The child hurt their knee. The child started crying. Answer: The child hurt their knee.\n",
      "It started raining. The driver turned the wipers on. Answer: \n",
      "\n",
      "\n",
      "It started raining.\n",
      "Question: Which sentence is the cause of the other?\n",
      "The child started crying. The child hurt their knee. Answer: The child hurt their knee.\n",
      "It started raining. The driver turned the wipers on. Answer: \n",
      "\n",
      "\n",
      "The driver turned the wipers on.\n"
     ]
    },
    {
     "name": "stderr",
     "output_type": "stream",
     "text": [
      "\r",
      "15it [00:28,  1.89s/it]"
     ]
    },
    {
     "name": "stdout",
     "output_type": "stream",
     "text": [
      "Question: Which sentence is the cause of the other?\n",
      "The child hurt their knee. The child started crying. Answer: The child hurt their knee.\n",
      "The driver turned the wipers on. It started raining. Answer: \n",
      "\n",
      "The driver turned the wipers on.\n",
      "Question: Which sentence is the cause of the other?\n",
      "The child started crying. The child hurt their knee. Answer: The child hurt their knee.\n",
      "The driver turned the wipers on. It started raining. Answer: \n",
      "\n",
      "\n",
      "It started raining.\n"
     ]
    },
    {
     "name": "stderr",
     "output_type": "stream",
     "text": [
      "\r",
      "16it [00:30,  1.95s/it]"
     ]
    },
    {
     "name": "stdout",
     "output_type": "stream",
     "text": [
      "Question: Which sentence is the cause of the other?\n",
      "The child hurt their knee. The child started crying. Answer: The child hurt their knee.\n",
      "A watermelon exploded. A man was covered in sticky red goo. Answer: \n",
      "\n",
      "A watermelon exploded.\n",
      "Question: Which sentence is the cause of the other?\n",
      "The child started crying. The child hurt their knee. Answer: The child hurt their knee.\n",
      "A watermelon exploded. A man was covered in sticky red goo. Answer: \n",
      "\n",
      "A watermelon exploded.\n"
     ]
    },
    {
     "name": "stderr",
     "output_type": "stream",
     "text": [
      "\r",
      "17it [00:32,  1.88s/it]"
     ]
    },
    {
     "name": "stdout",
     "output_type": "stream",
     "text": [
      "Question: Which sentence is the cause of the other?\n",
      "The child hurt their knee. The child started crying. Answer: The child hurt their knee.\n",
      "A man was covered in sticky red goo. A watermelon exploded. Answer: \n",
      "\n",
      "\n",
      "A watermelon exploded.\n",
      "Question: Which sentence is the cause of the other?\n",
      "The child started crying. The child hurt their knee. Answer: The child hurt their knee.\n",
      "A man was covered in sticky red goo. A watermelon exploded. Answer: \n",
      "\n",
      "\n",
      "A watermelon exploded.\n"
     ]
    },
    {
     "name": "stderr",
     "output_type": "stream",
     "text": [
      "\r",
      "18it [00:34,  1.79s/it]"
     ]
    },
    {
     "name": "stdout",
     "output_type": "stream",
     "text": [
      "Question: Which sentence is the cause of the other?\n",
      "The child hurt their knee. The child started crying. Answer: The child hurt their knee.\n",
      "She noticed that she was out of toilet paper. She went to the store and bought toilet paper. Answer: \n",
      "\n",
      "\n",
      "She noticed that she was out of toilet paper.\n",
      "Question: Which sentence is the cause of the other?\n",
      "The child started crying. The child hurt their knee. Answer: The child hurt their knee.\n",
      "She noticed that she was out of toilet paper. She went to the store and bought toilet paper. Answer: \n",
      "\n",
      "\n",
      "She went to the store and bought toilet paper.\n"
     ]
    },
    {
     "name": "stderr",
     "output_type": "stream",
     "text": [
      "\r",
      "19it [00:36,  1.94s/it]"
     ]
    },
    {
     "name": "stdout",
     "output_type": "stream",
     "text": [
      "Question: Which sentence is the cause of the other?\n",
      "The child hurt their knee. The child started crying. Answer: The child hurt their knee.\n",
      "She went to the store and bought toilet paper. She noticed that she was out of toilet paper. Answer: \n",
      "\n",
      "\n",
      "She went to the store and bought toilet paper.\n",
      "Question: Which sentence is the cause of the other?\n",
      "The child started crying. The child hurt their knee. Answer: The child hurt their knee.\n",
      "She went to the store and bought toilet paper. She noticed that she was out of toilet paper. Answer: \n",
      "\n",
      "\n",
      "She noticed that she was out of toilet paper.\n"
     ]
    },
    {
     "name": "stderr",
     "output_type": "stream",
     "text": [
      "\r",
      "20it [00:38,  1.93s/it]"
     ]
    },
    {
     "name": "stdout",
     "output_type": "stream",
     "text": [
      "Question: Which sentence is the cause of the other?\n",
      "The child hurt their knee. The child started crying. Answer: The child hurt their knee.\n",
      "A large object hit the Earth. The dinosaurs became extinct. Answer: \n",
      "\n",
      "\n",
      "A large object hit the Earth.\n",
      "Question: Which sentence is the cause of the other?\n",
      "The child started crying. The child hurt their knee. Answer: The child hurt their knee.\n",
      "A large object hit the Earth. The dinosaurs became extinct. Answer: \n",
      "\n",
      "\n",
      "The dinosaurs became extinct.\n"
     ]
    },
    {
     "name": "stderr",
     "output_type": "stream",
     "text": [
      "\r",
      "21it [00:40,  1.91s/it]"
     ]
    },
    {
     "name": "stdout",
     "output_type": "stream",
     "text": [
      "Question: Which sentence is the cause of the other?\n",
      "The child hurt their knee. The child started crying. Answer: The child hurt their knee.\n",
      "The dinosaurs became extinct. A large object hit the Earth. Answer: \n",
      "\n",
      "The dinosaurs became extinct.\n",
      "Question: Which sentence is the cause of the other?\n",
      "The child started crying. The child hurt their knee. Answer: The child hurt their knee.\n",
      "The dinosaurs became extinct. A large object hit the Earth. Answer: \n",
      "\n",
      "A large object hit the Earth.\n"
     ]
    },
    {
     "name": "stderr",
     "output_type": "stream",
     "text": [
      "\r",
      "22it [00:42,  1.86s/it]"
     ]
    },
    {
     "name": "stdout",
     "output_type": "stream",
     "text": [
      "Question: Which sentence is the cause of the other?\n",
      "The child hurt their knee. The child started crying. Answer: The child hurt their knee.\n",
      "The bottle was left open. The soda went flat. Answer: \n",
      "\n",
      "\n",
      "The bottle was left open.\n",
      "Question: Which sentence is the cause of the other?\n",
      "The child started crying. The child hurt their knee. Answer: The child hurt their knee.\n",
      "The bottle was left open. The soda went flat. Answer: \n",
      "\n",
      "\n",
      "The soda went flat.\n"
     ]
    },
    {
     "name": "stderr",
     "output_type": "stream",
     "text": [
      "\r",
      "23it [00:43,  1.82s/it]"
     ]
    },
    {
     "name": "stdout",
     "output_type": "stream",
     "text": [
      "Question: Which sentence is the cause of the other?\n",
      "The child hurt their knee. The child started crying. Answer: The child hurt their knee.\n",
      "The soda went flat. The bottle was left open. Answer: \n",
      "\n",
      "\n",
      "The soda went flat.\n",
      "Question: Which sentence is the cause of the other?\n",
      "The child started crying. The child hurt their knee. Answer: The child hurt their knee.\n",
      "The soda went flat. The bottle was left open. Answer: \n",
      "\n",
      "\n",
      "The soda went flat. The bottle was left open.\n"
     ]
    },
    {
     "name": "stderr",
     "output_type": "stream",
     "text": [
      "\r",
      "24it [00:45,  1.77s/it]"
     ]
    },
    {
     "name": "stdout",
     "output_type": "stream",
     "text": [
      "Question: Which sentence is the cause of the other?\n",
      "The child hurt their knee. The child started crying. Answer: The child hurt their knee.\n",
      "The laptop ran out of battery. George plugged the laptop charger in. Answer: \n",
      "\n",
      "\n",
      "George plugged the laptop charger in.\n",
      "Question: Which sentence is the cause of the other?\n",
      "The child started crying. The child hurt their knee. Answer: The child hurt their knee.\n",
      "The laptop ran out of battery. George plugged the laptop charger in. Answer: \n",
      " George plugged the laptop charger in.\n"
     ]
    },
    {
     "name": "stderr",
     "output_type": "stream",
     "text": [
      "\r",
      "25it [00:47,  1.90s/it]"
     ]
    },
    {
     "name": "stdout",
     "output_type": "stream",
     "text": [
      "Question: Which sentence is the cause of the other?\n",
      "The child hurt their knee. The child started crying. Answer: The child hurt their knee.\n",
      "George plugged the laptop charger in. The laptop ran out of battery. Answer: \n",
      "\n",
      "George plugged the laptop charger in.\n",
      "Question: Which sentence is the cause of the other?\n",
      "The child started crying. The child hurt their knee. Answer: The child hurt their knee.\n",
      "George plugged the laptop charger in. The laptop ran out of battery. Answer: \n",
      "\n",
      "\n",
      "The laptop ran out of battery.\n"
     ]
    },
    {
     "name": "stderr",
     "output_type": "stream",
     "text": [
      "\r",
      "26it [00:49,  2.02s/it]"
     ]
    },
    {
     "name": "stdout",
     "output_type": "stream",
     "text": [
      "Question: Which sentence is the cause of the other?\n",
      "The child hurt their knee. The child started crying. Answer: The child hurt their knee.\n",
      "The curtains were opened. Sunlight filled the room. Answer: \n",
      "\n",
      "\n",
      "The curtains were opened. Sunlight filled the room.\n",
      "Question: Which sentence is the cause of the other?\n",
      "The child started crying. The child hurt their knee. Answer: The child hurt their knee.\n",
      "The curtains were opened. Sunlight filled the room. Answer: \n",
      "\n",
      "\n",
      "The curtains were opened. Sunlight filled the room.\n"
     ]
    },
    {
     "name": "stderr",
     "output_type": "stream",
     "text": [
      "\r",
      "27it [00:51,  2.01s/it]"
     ]
    },
    {
     "name": "stdout",
     "output_type": "stream",
     "text": [
      "Question: Which sentence is the cause of the other?\n",
      "The child hurt their knee. The child started crying. Answer: The child hurt their knee.\n",
      "Sunlight filled the room. The curtains were opened. Answer: \n",
      "\n",
      "\n",
      "Sunlight filled the room. The curtains were opened.\n",
      "Question: Which sentence is the cause of the other?\n",
      "The child started crying. The child hurt their knee. Answer: The child hurt their knee.\n",
      "Sunlight filled the room. The curtains were opened. Answer: \n",
      "\n",
      "\n",
      "The curtains were opened.\n"
     ]
    },
    {
     "name": "stderr",
     "output_type": "stream",
     "text": [
      "\r",
      "28it [00:53,  2.00s/it]"
     ]
    },
    {
     "name": "stdout",
     "output_type": "stream",
     "text": [
      "Question: Which sentence is the cause of the other?\n",
      "The child hurt their knee. The child started crying. Answer: The child hurt their knee.\n",
      "The insect pollinated the tomato flowers. Tomatoes grew on the vine. Answer: \n",
      "\n",
      "\n",
      "The insect pollinated the tomato flowers.\n",
      "Question: Which sentence is the cause of the other?\n",
      "The child started crying. The child hurt their knee. Answer: The child hurt their knee.\n",
      "The insect pollinated the tomato flowers. Tomatoes grew on the vine. Answer: \n",
      "\n",
      "\n",
      "The insect pollinated the tomato flowers. Tomatoes grew on the\n"
     ]
    },
    {
     "name": "stderr",
     "output_type": "stream",
     "text": [
      "\r",
      "29it [00:55,  2.01s/it]"
     ]
    },
    {
     "name": "stdout",
     "output_type": "stream",
     "text": [
      "Question: Which sentence is the cause of the other?\n",
      "The child hurt their knee. The child started crying. Answer: The child hurt their knee.\n",
      "Tomatoes grew on the vine. The insect pollinated the tomato flowers. Answer: \n",
      "\n",
      "\n",
      "The insect pollinated the tomato flowers.\n",
      "Question: Which sentence is the cause of the other?\n",
      "The child started crying. The child hurt their knee. Answer: The child hurt their knee.\n",
      "Tomatoes grew on the vine. The insect pollinated the tomato flowers. Answer: \n",
      "\n",
      "\n",
      "The insect pollinated the tomato flowers.\n"
     ]
    },
    {
     "name": "stderr",
     "output_type": "stream",
     "text": [
      "\r",
      "30it [00:58,  2.05s/it]"
     ]
    },
    {
     "name": "stdout",
     "output_type": "stream",
     "text": [
      "Question: Which sentence is the cause of the other?\n",
      "The child hurt their knee. The child started crying. Answer: The child hurt their knee.\n",
      "The girl stepped onto the street. The driver hit the brakes. Answer: \n",
      "\n",
      "\n",
      "The girl stepped onto the street.\n",
      "Question: Which sentence is the cause of the other?\n",
      "The child started crying. The child hurt their knee. Answer: The child hurt their knee.\n",
      "The girl stepped onto the street. The driver hit the brakes. Answer: \n",
      "\n",
      "\n",
      "The girl stepped onto the street.\n"
     ]
    },
    {
     "name": "stderr",
     "output_type": "stream",
     "text": [
      "\r",
      "31it [01:00,  2.05s/it]"
     ]
    },
    {
     "name": "stdout",
     "output_type": "stream",
     "text": [
      "Question: Which sentence is the cause of the other?\n",
      "The child hurt their knee. The child started crying. Answer: The child hurt their knee.\n",
      "The driver hit the brakes. The girl stepped onto the street. Answer: \n",
      "\n",
      "\n",
      "The driver hit the brakes.\n",
      "Question: Which sentence is the cause of the other?\n",
      "The child started crying. The child hurt their knee. Answer: The child hurt their knee.\n",
      "The driver hit the brakes. The girl stepped onto the street. Answer: \n",
      "\n",
      "\n",
      "The girl stepped onto the street.\n"
     ]
    },
    {
     "name": "stderr",
     "output_type": "stream",
     "text": [
      "\r",
      "32it [01:01,  1.97s/it]"
     ]
    },
    {
     "name": "stdout",
     "output_type": "stream",
     "text": [
      "Question: Which sentence is the cause of the other?\n",
      "The child hurt their knee. The child started crying. Answer: The child hurt their knee.\n",
      "There was a wardrobe malfunction. The performer ran off the stage. Answer: \n",
      "\n",
      "There was a wardrobe malfunction.\n",
      "Question: Which sentence is the cause of the other?\n",
      "The child started crying. The child hurt their knee. Answer: The child hurt their knee.\n",
      "There was a wardrobe malfunction. The performer ran off the stage. Answer: \n",
      "\n",
      "\n",
      "The performer ran off the stage.\n"
     ]
    },
    {
     "name": "stderr",
     "output_type": "stream",
     "text": [
      "\r",
      "33it [01:03,  1.97s/it]"
     ]
    },
    {
     "name": "stdout",
     "output_type": "stream",
     "text": [
      "Question: Which sentence is the cause of the other?\n",
      "The child hurt their knee. The child started crying. Answer: The child hurt their knee.\n",
      "The performer ran off the stage. There was a wardrobe malfunction. Answer: \n",
      "\n",
      "There was a wardrobe malfunction.\n",
      "Question: Which sentence is the cause of the other?\n",
      "The child started crying. The child hurt their knee. Answer: The child hurt their knee.\n",
      "The performer ran off the stage. There was a wardrobe malfunction. Answer: \n",
      "\n",
      "There was a wardrobe malfunction.\n"
     ]
    },
    {
     "name": "stderr",
     "output_type": "stream",
     "text": [
      "\r",
      "34it [01:05,  1.92s/it]"
     ]
    },
    {
     "name": "stdout",
     "output_type": "stream",
     "text": [
      "Question: Which sentence is the cause of the other?\n",
      "The child hurt their knee. The child started crying. Answer: The child hurt their knee.\n",
      "A bird hit the engine. The pilot turned on the \"fasten seatbelts\" light. Answer: \n",
      "\n",
      "\n",
      "The bird hit the engine.\n",
      "Question: Which sentence is the cause of the other?\n",
      "The child started crying. The child hurt their knee. Answer: The child hurt their knee.\n",
      "A bird hit the engine. The pilot turned on the \"fasten seatbelts\" light. Answer: \n",
      "\n",
      "\n",
      "The bird hit the engine.\n"
     ]
    },
    {
     "name": "stderr",
     "output_type": "stream",
     "text": [
      "\r",
      "35it [01:07,  1.95s/it]"
     ]
    },
    {
     "name": "stdout",
     "output_type": "stream",
     "text": [
      "Question: Which sentence is the cause of the other?\n",
      "The child hurt their knee. The child started crying. Answer: The child hurt their knee.\n",
      "The pilot turned on the \"fasten seatbelts\" light. A bird hit the engine. Answer: \n",
      "\n",
      "\n",
      "The bird hit the engine.\n",
      "Question: Which sentence is the cause of the other?\n",
      "The child started crying. The child hurt their knee. Answer: The child hurt their knee.\n",
      "The pilot turned on the \"fasten seatbelts\" light. A bird hit the engine. Answer: \n",
      "\n",
      "\n",
      "A bird hit the engine.\n"
     ]
    },
    {
     "name": "stderr",
     "output_type": "stream",
     "text": [
      "\r",
      "36it [01:09,  2.03s/it]"
     ]
    },
    {
     "name": "stdout",
     "output_type": "stream",
     "text": [
      "Question: Which sentence is the cause of the other?\n",
      "The child hurt their knee. The child started crying. Answer: The child hurt their knee.\n",
      "The milk was left outside the fridge over night. The man sipped the milk and spit it out. Answer: \n",
      "\n",
      "\n",
      "The milk was left outside the fridge over night.\n",
      "Question: Which sentence is the cause of the other?\n",
      "The child started crying. The child hurt their knee. Answer: The child hurt their knee.\n",
      "The milk was left outside the fridge over night. The man sipped the milk and spit it out. Answer: \n",
      "\n",
      "\n",
      "The milk was left outside the fridge over night. The man s\n"
     ]
    },
    {
     "name": "stderr",
     "output_type": "stream",
     "text": [
      "\r",
      "37it [01:11,  2.05s/it]"
     ]
    },
    {
     "name": "stdout",
     "output_type": "stream",
     "text": [
      "Question: Which sentence is the cause of the other?\n",
      "The child hurt their knee. The child started crying. Answer: The child hurt their knee.\n",
      "The man sipped the milk and spit it out. The milk was left outside the fridge over night. Answer: \n",
      "\n",
      "\n",
      "The milk was left outside the fridge over night.\n",
      "Question: Which sentence is the cause of the other?\n",
      "The child started crying. The child hurt their knee. Answer: The child hurt their knee.\n",
      "The man sipped the milk and spit it out. The milk was left outside the fridge over night. Answer: \n",
      "\n",
      "\n",
      "The milk was left outside the fridge over night.\n"
     ]
    },
    {
     "name": "stderr",
     "output_type": "stream",
     "text": [
      "\r",
      "38it [01:14,  2.11s/it]"
     ]
    },
    {
     "name": "stdout",
     "output_type": "stream",
     "text": [
      "Question: Which sentence is the cause of the other?\n",
      "The child hurt their knee. The child started crying. Answer: The child hurt their knee.\n",
      "The man couldn't hear what the woman was saying. The man turned down the music volume. Answer: \n",
      "\n",
      "\n",
      "The man turned down the music volume.\n",
      "Question: Which sentence is the cause of the other?\n",
      "The child started crying. The child hurt their knee. Answer: The child hurt their knee.\n",
      "The man couldn't hear what the woman was saying. The man turned down the music volume. Answer: \n",
      "\n",
      "\n",
      "The man turned down the music volume.\n"
     ]
    },
    {
     "name": "stderr",
     "output_type": "stream",
     "text": [
      "\r",
      "39it [01:16,  2.10s/it]"
     ]
    },
    {
     "name": "stdout",
     "output_type": "stream",
     "text": [
      "Question: Which sentence is the cause of the other?\n",
      "The child hurt their knee. The child started crying. Answer: The child hurt their knee.\n",
      "The man turned down the music volume. The man couldn't hear what the woman was saying. Answer: \n",
      "\n",
      "The man turned down the music volume.\n",
      "Question: Which sentence is the cause of the other?\n",
      "The child started crying. The child hurt their knee. Answer: The child hurt their knee.\n",
      "The man turned down the music volume. The man couldn't hear what the woman was saying. Answer: \n",
      "\n",
      "The man couldn't hear what the woman was saying.\n"
     ]
    },
    {
     "name": "stderr",
     "output_type": "stream",
     "text": [
      "\r",
      "40it [01:18,  2.05s/it]"
     ]
    },
    {
     "name": "stdout",
     "output_type": "stream",
     "text": [
      "Question: Which sentence is the cause of the other?\n",
      "The child hurt their knee. The child started crying. Answer: The child hurt their knee.\n",
      "The power was out for days. The meat spoiled. Answer: \n",
      "\n",
      "\n",
      "The meat spoiled.\n",
      "Question: Which sentence is the cause of the other?\n",
      "The child started crying. The child hurt their knee. Answer: The child hurt their knee.\n",
      "The power was out for days. The meat spoiled. Answer: \n",
      "\n",
      "\n",
      "The meat spoiled.\n"
     ]
    },
    {
     "name": "stderr",
     "output_type": "stream",
     "text": [
      "\r",
      "41it [01:19,  1.95s/it]"
     ]
    },
    {
     "name": "stdout",
     "output_type": "stream",
     "text": [
      "Question: Which sentence is the cause of the other?\n",
      "The child hurt their knee. The child started crying. Answer: The child hurt their knee.\n",
      "The meat spoiled. The power was out for days. Answer: \n",
      "\n",
      "The meat spoiled.\n",
      "Question: Which sentence is the cause of the other?\n",
      "The child started crying. The child hurt their knee. Answer: The child hurt their knee.\n",
      "The meat spoiled. The power was out for days. Answer: \n",
      "\n",
      "\n",
      "The meat spoiled.\n"
     ]
    },
    {
     "name": "stderr",
     "output_type": "stream",
     "text": [
      "\r",
      "42it [01:21,  1.84s/it]"
     ]
    },
    {
     "name": "stdout",
     "output_type": "stream",
     "text": [
      "Question: Which sentence is the cause of the other?\n",
      "The child hurt their knee. The child started crying. Answer: The child hurt their knee.\n",
      "The gardener planted a seed. A flower grew. Answer: \n",
      "\n",
      "\n",
      "The gardener planted a seed.\n",
      "Question: Which sentence is the cause of the other?\n",
      "The child started crying. The child hurt their knee. Answer: The child hurt their knee.\n",
      "The gardener planted a seed. A flower grew. Answer: \n",
      "\n",
      "\n",
      "The gardener planted a seed. A flower grew.\n"
     ]
    },
    {
     "name": "stderr",
     "output_type": "stream",
     "text": [
      "\r",
      "43it [01:23,  1.80s/it]"
     ]
    },
    {
     "name": "stdout",
     "output_type": "stream",
     "text": [
      "Question: Which sentence is the cause of the other?\n",
      "The child hurt their knee. The child started crying. Answer: The child hurt their knee.\n",
      "A flower grew. The gardener planted a seed. Answer: \n",
      "\n",
      "\n",
      "The gardener planted a seed.\n",
      "Question: Which sentence is the cause of the other?\n",
      "The child started crying. The child hurt their knee. Answer: The child hurt their knee.\n",
      "A flower grew. The gardener planted a seed. Answer: \n",
      "\n",
      "\n",
      "The gardener planted a seed.\n"
     ]
    },
    {
     "name": "stderr",
     "output_type": "stream",
     "text": [
      "\r",
      "44it [01:25,  1.87s/it]"
     ]
    },
    {
     "name": "stdout",
     "output_type": "stream",
     "text": [
      "Question: Which sentence is the cause of the other?\n",
      "The child hurt their knee. The child started crying. Answer: The child hurt their knee.\n",
      "The team won the game. The team won the championship. Answer: \n",
      "\n",
      "The team won the game.\n",
      "Question: Which sentence is the cause of the other?\n",
      "The child started crying. The child hurt their knee. Answer: The child hurt their knee.\n",
      "The team won the game. The team won the championship. Answer: \n",
      "\n",
      "\n",
      "The team won the championship.\n"
     ]
    },
    {
     "name": "stderr",
     "output_type": "stream",
     "text": [
      "\r",
      "45it [01:27,  1.88s/it]"
     ]
    },
    {
     "name": "stdout",
     "output_type": "stream",
     "text": [
      "Question: Which sentence is the cause of the other?\n",
      "The child hurt their knee. The child started crying. Answer: The child hurt their knee.\n",
      "The team won the championship. The team won the game. Answer: \n",
      "\n",
      "\n",
      "The team won the game.\n",
      "Question: Which sentence is the cause of the other?\n",
      "The child started crying. The child hurt their knee. Answer: The child hurt their knee.\n",
      "The team won the championship. The team won the game. Answer: \n",
      "\n",
      "\n",
      "The team won the game.\n"
     ]
    },
    {
     "name": "stderr",
     "output_type": "stream",
     "text": [
      "\r",
      "46it [01:29,  1.95s/it]"
     ]
    },
    {
     "name": "stdout",
     "output_type": "stream",
     "text": [
      "Question: Which sentence is the cause of the other?\n",
      "The child hurt their knee. The child started crying. Answer: The child hurt their knee.\n",
      "The door was locked. The man climbed in through the window. Answer: \n",
      "\n",
      "\n",
      "The door was locked.\n",
      "Question: Which sentence is the cause of the other?\n",
      "The child started crying. The child hurt their knee. Answer: The child hurt their knee.\n",
      "The door was locked. The man climbed in through the window. Answer: \n",
      "\n",
      "\n",
      "The man climbed in through the window.\n"
     ]
    },
    {
     "name": "stderr",
     "output_type": "stream",
     "text": [
      "\r",
      "47it [01:31,  1.88s/it]"
     ]
    },
    {
     "name": "stdout",
     "output_type": "stream",
     "text": [
      "Question: Which sentence is the cause of the other?\n",
      "The child hurt their knee. The child started crying. Answer: The child hurt their knee.\n",
      "The man climbed in through the window. The door was locked. Answer: \n",
      "\n",
      "\n",
      "The man climbed in through the window.\n",
      "Question: Which sentence is the cause of the other?\n",
      "The child started crying. The child hurt their knee. Answer: The child hurt their knee.\n",
      "The man climbed in through the window. The door was locked. Answer: \n",
      "\n",
      "\n",
      "The door was locked.\n"
     ]
    },
    {
     "name": "stderr",
     "output_type": "stream",
     "text": [
      "\r",
      "48it [01:32,  1.83s/it]"
     ]
    },
    {
     "name": "stdout",
     "output_type": "stream",
     "text": [
      "Question: Which sentence is the cause of the other?\n",
      "The child hurt their knee. The child started crying. Answer: The child hurt their knee.\n",
      "The wind blew strong. The ship capsized. Answer: \n",
      "\n",
      "\n",
      "The wind blew strong.\n",
      "Question: Which sentence is the cause of the other?\n",
      "The child started crying. The child hurt their knee. Answer: The child hurt their knee.\n",
      "The wind blew strong. The ship capsized. Answer: \n",
      "\n",
      "\n",
      "The wind blew strong.\n"
     ]
    },
    {
     "name": "stderr",
     "output_type": "stream",
     "text": [
      "\r",
      "49it [01:34,  1.75s/it]"
     ]
    },
    {
     "name": "stdout",
     "output_type": "stream",
     "text": [
      "Question: Which sentence is the cause of the other?\n",
      "The child hurt their knee. The child started crying. Answer: The child hurt their knee.\n",
      "The ship capsized. The wind blew strong. Answer: \n",
      "\n",
      "\n",
      "The ship capsized.\n",
      "Question: Which sentence is the cause of the other?\n",
      "The child started crying. The child hurt their knee. Answer: The child hurt their knee.\n",
      "The ship capsized. The wind blew strong. Answer: \n",
      "\n",
      "\n",
      "The wind blew strong.\n"
     ]
    },
    {
     "name": "stderr",
     "output_type": "stream",
     "text": [
      "\r",
      "50it [01:36,  1.78s/it]"
     ]
    },
    {
     "name": "stdout",
     "output_type": "stream",
     "text": [
      "Question: Which sentence is the cause of the other?\n",
      "The child hurt their knee. The child started crying. Answer: The child hurt their knee.\n",
      "The man robbed a gas station. The man went to jail. Answer: \n",
      "\n",
      "The man robbed a gas station.\n",
      "Question: Which sentence is the cause of the other?\n",
      "The child started crying. The child hurt their knee. Answer: The child hurt their knee.\n",
      "The man robbed a gas station. The man went to jail. Answer: \n",
      "\n",
      "\n",
      "The man went to jail.\n"
     ]
    },
    {
     "name": "stderr",
     "output_type": "stream",
     "text": [
      "\r",
      "51it [01:38,  1.83s/it]"
     ]
    },
    {
     "name": "stdout",
     "output_type": "stream",
     "text": [
      "Question: Which sentence is the cause of the other?\n",
      "The child hurt their knee. The child started crying. Answer: The child hurt their knee.\n",
      "The man went to jail. The man robbed a gas station. Answer: \n",
      "\n",
      "The man robbed a gas station.\n",
      "Question: Which sentence is the cause of the other?\n",
      "The child started crying. The child hurt their knee. Answer: The child hurt their knee.\n",
      "The man went to jail. The man robbed a gas station. Answer: \n",
      "\n",
      "The man robbed a gas station.\n"
     ]
    },
    {
     "name": "stderr",
     "output_type": "stream",
     "text": [
      "\r",
      "52it [01:40,  1.94s/it]"
     ]
    },
    {
     "name": "stdout",
     "output_type": "stream",
     "text": [
      "Question: Which sentence is the cause of the other?\n",
      "The child hurt their knee. The child started crying. Answer: The child hurt their knee.\n",
      "Jill won the lawsuit against Acme. Acme paid Jill's legal fees. Answer: \n",
      "\n",
      "\n",
      "Jill won the lawsuit against Acme.\n",
      "Question: Which sentence is the cause of the other?\n",
      "The child started crying. The child hurt their knee. Answer: The child hurt their knee.\n",
      "Jill won the lawsuit against Acme. Acme paid Jill's legal fees. Answer: \n",
      "\n",
      "\n",
      "Acme paid Jill's legal fees.\n"
     ]
    },
    {
     "name": "stderr",
     "output_type": "stream",
     "text": [
      "\r",
      "53it [01:42,  1.99s/it]"
     ]
    },
    {
     "name": "stdout",
     "output_type": "stream",
     "text": [
      "Question: Which sentence is the cause of the other?\n",
      "The child hurt their knee. The child started crying. Answer: The child hurt their knee.\n",
      "Acme paid Jill's legal fees. Jill won the lawsuit against Acme. Answer: \n",
      "\n",
      "\n",
      "Jill won the lawsuit against Acme.\n",
      "Question: Which sentence is the cause of the other?\n",
      "The child started crying. The child hurt their knee. Answer: The child hurt their knee.\n",
      "Acme paid Jill's legal fees. Jill won the lawsuit against Acme. Answer: \n",
      "\n",
      "\n",
      "Jill won the lawsuit against Acme.\n"
     ]
    },
    {
     "name": "stderr",
     "output_type": "stream",
     "text": [
      "\r",
      "54it [01:44,  1.99s/it]"
     ]
    },
    {
     "name": "stdout",
     "output_type": "stream",
     "text": [
      "Question: Which sentence is the cause of the other?\n",
      "The child hurt their knee. The child started crying. Answer: The child hurt their knee.\n",
      "There was a snowstorm. School was cancelled. Answer: \n",
      "\n",
      "\n",
      "There was a snowstorm. School was cancelled.\n",
      "Question: Which sentence is the cause of the other?\n",
      "The child started crying. The child hurt their knee. Answer: The child hurt their knee.\n",
      "There was a snowstorm. School was cancelled. Answer: \n",
      "\n",
      "\n",
      "School was cancelled.\n"
     ]
    },
    {
     "name": "stderr",
     "output_type": "stream",
     "text": [
      "\r",
      "55it [01:46,  1.91s/it]"
     ]
    },
    {
     "name": "stdout",
     "output_type": "stream",
     "text": [
      "Question: Which sentence is the cause of the other?\n",
      "The child hurt their knee. The child started crying. Answer: The child hurt their knee.\n",
      "School was cancelled. There was a snowstorm. Answer: \n",
      "\n",
      "\n",
      "School was cancelled.\n",
      "Question: Which sentence is the cause of the other?\n",
      "The child started crying. The child hurt their knee. Answer: The child hurt their knee.\n",
      "School was cancelled. There was a snowstorm. Answer: \n",
      "\n",
      "\n",
      "There was a snowstorm.\n"
     ]
    },
    {
     "name": "stderr",
     "output_type": "stream",
     "text": [
      "\r",
      "56it [01:47,  1.90s/it]"
     ]
    },
    {
     "name": "stdout",
     "output_type": "stream",
     "text": [
      "Question: Which sentence is the cause of the other?\n",
      "The child hurt their knee. The child started crying. Answer: The child hurt their knee.\n",
      "The tenants noticed mold on the bathroom ceiling. The tenants contacted their landlord. Answer: \n",
      "\n",
      "\n",
      "The tenants contacted their landlord.\n",
      "Question: Which sentence is the cause of the other?\n",
      "The child started crying. The child hurt their knee. Answer: The child hurt their knee.\n",
      "The tenants noticed mold on the bathroom ceiling. The tenants contacted their landlord. Answer: \n",
      "\n",
      "\n",
      "The tenants contacted their landlord.\n"
     ]
    },
    {
     "name": "stderr",
     "output_type": "stream",
     "text": [
      "\r",
      "57it [01:50,  1.97s/it]"
     ]
    },
    {
     "name": "stdout",
     "output_type": "stream",
     "text": [
      "Question: Which sentence is the cause of the other?\n",
      "The child hurt their knee. The child started crying. Answer: The child hurt their knee.\n",
      "The tenants contacted their landlord. The tenants noticed mold on the bathroom ceiling. Answer: \n",
      "\n",
      "\n",
      "The tenants contacted their landlord.\n",
      "Question: Which sentence is the cause of the other?\n",
      "The child started crying. The child hurt their knee. Answer: The child hurt their knee.\n",
      "The tenants contacted their landlord. The tenants noticed mold on the bathroom ceiling. Answer: \n",
      "\n",
      "\n",
      "The tenants noticed mold on the bathroom ceiling.\n"
     ]
    },
    {
     "name": "stderr",
     "output_type": "stream",
     "text": [
      "\r",
      "58it [01:52,  2.01s/it]"
     ]
    },
    {
     "name": "stdout",
     "output_type": "stream",
     "text": [
      "Question: Which sentence is the cause of the other?\n",
      "The child hurt their knee. The child started crying. Answer: The child hurt their knee.\n",
      "I studied hard. I got an A on the test. Answer: \n",
      " I got an A on the test.\n",
      "Question: Which sentence is the cause of the other?\n",
      "The child started crying. The child hurt their knee. Answer: The child hurt their knee.\n",
      "I studied hard. I got an A on the test. Answer: \n",
      " I got an A on the test.\n"
     ]
    },
    {
     "name": "stderr",
     "output_type": "stream",
     "text": [
      "\r",
      "59it [01:54,  2.01s/it]"
     ]
    },
    {
     "name": "stdout",
     "output_type": "stream",
     "text": [
      "Question: Which sentence is the cause of the other?\n",
      "The child hurt their knee. The child started crying. Answer: The child hurt their knee.\n",
      "I got an A on the test. I studied hard. Answer: \n",
      "\n",
      "I got an A on the test.\n",
      "Question: Which sentence is the cause of the other?\n",
      "The child started crying. The child hurt their knee. Answer: The child hurt their knee.\n",
      "I got an A on the test. I studied hard. Answer: \n",
      " I studied hard.\n"
     ]
    },
    {
     "name": "stderr",
     "output_type": "stream",
     "text": [
      "\r",
      "60it [01:56,  2.03s/it]"
     ]
    },
    {
     "name": "stdout",
     "output_type": "stream",
     "text": [
      "Question: Which sentence is the cause of the other?\n",
      "The child hurt their knee. The child started crying. Answer: The child hurt their knee.\n",
      "The boy threw a rock. The window broke. Answer: \n",
      "\n",
      "\n",
      "The boy threw a rock.\n",
      "Question: Which sentence is the cause of the other?\n",
      "The child started crying. The child hurt their knee. Answer: The child hurt their knee.\n",
      "The boy threw a rock. The window broke. Answer: \n",
      "\n",
      "\n",
      "The window broke.\n"
     ]
    },
    {
     "name": "stderr",
     "output_type": "stream",
     "text": [
      "\r",
      "61it [01:57,  1.91s/it]"
     ]
    },
    {
     "name": "stdout",
     "output_type": "stream",
     "text": [
      "Question: Which sentence is the cause of the other?\n",
      "The child hurt their knee. The child started crying. Answer: The child hurt their knee.\n",
      "The window broke. The boy threw a rock. Answer: \n",
      "\n",
      "\n",
      "The window broke.\n",
      "Question: Which sentence is the cause of the other?\n",
      "The child started crying. The child hurt their knee. Answer: The child hurt their knee.\n",
      "The window broke. The boy threw a rock. Answer: \n",
      "\n",
      "\n",
      "The boy threw a rock.\n"
     ]
    },
    {
     "name": "stderr",
     "output_type": "stream",
     "text": [
      "\r",
      "62it [01:59,  1.80s/it]"
     ]
    },
    {
     "name": "stdout",
     "output_type": "stream",
     "text": [
      "Question: Which sentence is the cause of the other?\n",
      "The child hurt their knee. The child started crying. Answer: The child hurt their knee.\n",
      "The driver ran a red light. The driver was pulled over and was fined. Answer: \n",
      "\n",
      "\n",
      "The driver ran a red light.\n",
      "Question: Which sentence is the cause of the other?\n",
      "The child started crying. The child hurt their knee. Answer: The child hurt their knee.\n",
      "The driver ran a red light. The driver was pulled over and was fined. Answer: \n",
      "\n",
      "\n",
      "The driver was pulled over and was fined.\n"
     ]
    },
    {
     "name": "stderr",
     "output_type": "stream",
     "text": [
      "\r",
      "63it [02:01,  1.93s/it]"
     ]
    },
    {
     "name": "stdout",
     "output_type": "stream",
     "text": [
      "Question: Which sentence is the cause of the other?\n",
      "The child hurt their knee. The child started crying. Answer: The child hurt their knee.\n",
      "The driver was pulled over and was fined. The driver ran a red light. Answer: \n",
      "\n",
      "\n",
      "The driver ran a red light.\n",
      "Question: Which sentence is the cause of the other?\n",
      "The child started crying. The child hurt their knee. Answer: The child hurt their knee.\n",
      "The driver was pulled over and was fined. The driver ran a red light. Answer: \n",
      "\n",
      "\n",
      "The driver ran a red light.\n"
     ]
    },
    {
     "name": "stderr",
     "output_type": "stream",
     "text": [
      "\r",
      "64it [02:03,  1.93s/it]"
     ]
    },
    {
     "name": "stdout",
     "output_type": "stream",
     "text": [
      "Question: Which sentence is the cause of the other?\n",
      "The child hurt their knee. The child started crying. Answer: The child hurt their knee.\n",
      "The girl skipped school. The girl got detention. Answer: \n",
      "\n",
      "\n",
      "The girl skipped school.\n",
      "Question: Which sentence is the cause of the other?\n",
      "The child started crying. The child hurt their knee. Answer: The child hurt their knee.\n",
      "The girl skipped school. The girl got detention. Answer: \n",
      "\n",
      "\n",
      "The girl got detention.\n"
     ]
    },
    {
     "name": "stderr",
     "output_type": "stream",
     "text": [
      "\r",
      "65it [02:05,  1.88s/it]"
     ]
    },
    {
     "name": "stdout",
     "output_type": "stream",
     "text": [
      "Question: Which sentence is the cause of the other?\n",
      "The child hurt their knee. The child started crying. Answer: The child hurt their knee.\n",
      "The girl got detention. The girl skipped school. Answer: \n",
      "\n",
      "\n",
      "The girl skipped school.\n",
      "Question: Which sentence is the cause of the other?\n",
      "The child started crying. The child hurt their knee. Answer: The child hurt their knee.\n",
      "The girl got detention. The girl skipped school. Answer: \n",
      "\n",
      "\n",
      "The girl skipped school.\n"
     ]
    },
    {
     "name": "stderr",
     "output_type": "stream",
     "text": [
      "\r",
      "66it [02:06,  1.79s/it]"
     ]
    },
    {
     "name": "stdout",
     "output_type": "stream",
     "text": [
      "Question: Which sentence is the cause of the other?\n",
      "The child hurt their knee. The child started crying. Answer: The child hurt their knee.\n",
      "I flipped the switch. Light filled the room. Answer: \n",
      "\n",
      "\n",
      "I flipped the switch.\n",
      "Question: Which sentence is the cause of the other?\n",
      "The child started crying. The child hurt their knee. Answer: The child hurt their knee.\n",
      "I flipped the switch. Light filled the room. Answer: \n",
      "\n",
      "\n",
      "I flipped the switch.\n"
     ]
    },
    {
     "name": "stderr",
     "output_type": "stream",
     "text": [
      "\r",
      "67it [02:08,  1.73s/it]"
     ]
    },
    {
     "name": "stdout",
     "output_type": "stream",
     "text": [
      "Question: Which sentence is the cause of the other?\n",
      "The child hurt their knee. The child started crying. Answer: The child hurt their knee.\n",
      "Light filled the room. I flipped the switch. Answer: \n",
      "\n",
      "\n",
      "Light filled the room. I flipped the switch.\n",
      "Question: Which sentence is the cause of the other?\n",
      "The child started crying. The child hurt their knee. Answer: The child hurt their knee.\n",
      "Light filled the room. I flipped the switch. Answer: \n",
      "\n",
      "\n",
      "I flipped the switch.\n"
     ]
    },
    {
     "name": "stderr",
     "output_type": "stream",
     "text": [
      "\r",
      "68it [02:10,  1.69s/it]"
     ]
    },
    {
     "name": "stdout",
     "output_type": "stream",
     "text": [
      "Question: Which sentence is the cause of the other?\n",
      "The child hurt their knee. The child started crying. Answer: The child hurt their knee.\n",
      "I pulled the dog's tail. The dog bit me. Answer: \n",
      "\n",
      "\n",
      "I pulled the dog's tail.\n",
      "Question: Which sentence is the cause of the other?\n",
      "The child started crying. The child hurt their knee. Answer: The child hurt their knee.\n",
      "I pulled the dog's tail. The dog bit me. Answer: \n",
      "\n",
      "\n",
      "The dog bit me.\n"
     ]
    },
    {
     "name": "stderr",
     "output_type": "stream",
     "text": [
      "\r",
      "69it [02:11,  1.65s/it]"
     ]
    },
    {
     "name": "stdout",
     "output_type": "stream",
     "text": [
      "Question: Which sentence is the cause of the other?\n",
      "The child hurt their knee. The child started crying. Answer: The child hurt their knee.\n",
      "The dog bit me. I pulled the dog's tail. Answer: \n",
      "\n",
      "\n",
      "The dog bit me.\n",
      "Question: Which sentence is the cause of the other?\n",
      "The child started crying. The child hurt their knee. Answer: The child hurt their knee.\n",
      "The dog bit me. I pulled the dog's tail. Answer: \n",
      "\n",
      "I pulled the dog's tail.\n"
     ]
    },
    {
     "name": "stderr",
     "output_type": "stream",
     "text": [
      "\r",
      "70it [02:13,  1.66s/it]"
     ]
    },
    {
     "name": "stdout",
     "output_type": "stream",
     "text": [
      "Question: Which sentence is the cause of the other?\n",
      "The child hurt their knee. The child started crying. Answer: The child hurt their knee.\n",
      "School was on break. The family went on vacation. Answer: \n",
      "\n",
      "\n",
      "School was on break.\n",
      "Question: Which sentence is the cause of the other?\n",
      "The child started crying. The child hurt their knee. Answer: The child hurt their knee.\n",
      "School was on break. The family went on vacation. Answer: \n",
      "\n",
      "\n",
      "The family went on vacation.\n"
     ]
    },
    {
     "name": "stderr",
     "output_type": "stream",
     "text": [
      "\r",
      "71it [02:14,  1.64s/it]"
     ]
    },
    {
     "name": "stdout",
     "output_type": "stream",
     "text": [
      "Question: Which sentence is the cause of the other?\n",
      "The child hurt their knee. The child started crying. Answer: The child hurt their knee.\n",
      "The family went on vacation. School was on break. Answer: \n",
      "\n",
      "\n",
      "The family went on vacation.\n",
      "Question: Which sentence is the cause of the other?\n",
      "The child started crying. The child hurt their knee. Answer: The child hurt their knee.\n",
      "The family went on vacation. School was on break. Answer: \n",
      "\n",
      "\n",
      "The family went on vacation.\n"
     ]
    },
    {
     "name": "stderr",
     "output_type": "stream",
     "text": [
      "\r",
      "72it [02:17,  1.84s/it]"
     ]
    },
    {
     "name": "stdout",
     "output_type": "stream",
     "text": [
      "Question: Which sentence is the cause of the other?\n",
      "The child hurt their knee. The child started crying. Answer: The child hurt their knee.\n",
      "The air conditioner broke. The family went to the beach. Answer: \n",
      "\n",
      "\n",
      "The air conditioner broke.\n",
      "Question: Which sentence is the cause of the other?\n",
      "The child started crying. The child hurt their knee. Answer: The child hurt their knee.\n",
      "The air conditioner broke. The family went to the beach. Answer: \n",
      "\n",
      "\n",
      "The family went to the beach.\n"
     ]
    },
    {
     "name": "stderr",
     "output_type": "stream",
     "text": [
      "\r",
      "73it [02:19,  1.92s/it]"
     ]
    },
    {
     "name": "stdout",
     "output_type": "stream",
     "text": [
      "Question: Which sentence is the cause of the other?\n",
      "The child hurt their knee. The child started crying. Answer: The child hurt their knee.\n",
      "The family went to the beach. The air conditioner broke. Answer: \n",
      "\n",
      "\n",
      "The family went to the beach. The air conditioner broke.\n",
      "Question: Which sentence is the cause of the other?\n",
      "The child started crying. The child hurt their knee. Answer: The child hurt their knee.\n",
      "The family went to the beach. The air conditioner broke. Answer: \n",
      "\n",
      "\n",
      "The air conditioner broke.\n"
     ]
    },
    {
     "name": "stderr",
     "output_type": "stream",
     "text": [
      "\r",
      "74it [02:21,  2.12s/it]"
     ]
    },
    {
     "name": "stdout",
     "output_type": "stream",
     "text": [
      "Question: Which sentence is the cause of the other?\n",
      "The child hurt their knee. The child started crying. Answer: The child hurt their knee.\n",
      "The girl had a fever. Mom gave the girl fever medicine. Answer: \n",
      "\n",
      "The girl had a fever. Mom gave the girl fever medicine.\n",
      "Question: Which sentence is the cause of the other?\n",
      "The child started crying. The child hurt their knee. Answer: The child hurt their knee.\n",
      "The girl had a fever. Mom gave the girl fever medicine. Answer: \n",
      "\n",
      "\n",
      "Mom gave the girl fever medicine.\n"
     ]
    },
    {
     "name": "stderr",
     "output_type": "stream",
     "text": [
      "\r",
      "75it [02:27,  3.09s/it]"
     ]
    },
    {
     "name": "stdout",
     "output_type": "stream",
     "text": [
      "Question: Which sentence is the cause of the other?\n",
      "The child hurt their knee. The child started crying. Answer: The child hurt their knee.\n",
      "Mom gave the girl fever medicine. The girl had a fever. Answer: \n",
      "\n",
      "\n",
      "The girl had a fever.\n",
      "Question: Which sentence is the cause of the other?\n",
      "The child started crying. The child hurt their knee. Answer: The child hurt their knee.\n",
      "Mom gave the girl fever medicine. The girl had a fever. Answer: \n",
      "\n",
      "\n",
      "The girl had a fever.\n"
     ]
    },
    {
     "name": "stderr",
     "output_type": "stream",
     "text": [
      "\r",
      "76it [02:29,  2.74s/it]"
     ]
    },
    {
     "name": "stdout",
     "output_type": "stream",
     "text": [
      "Question: Which sentence is the cause of the other?\n",
      "The child hurt their knee. The child started crying. Answer: The child hurt their knee.\n",
      "The bread was dry. We made French toast. Answer: \n",
      "\n",
      "\n",
      "The bread was dry.\n",
      "Question: Which sentence is the cause of the other?\n",
      "The child started crying. The child hurt their knee. Answer: The child hurt their knee.\n",
      "The bread was dry. We made French toast. Answer: \n",
      "\n",
      "\n",
      "We made French toast.\n"
     ]
    },
    {
     "name": "stderr",
     "output_type": "stream",
     "text": [
      "\r",
      "77it [02:30,  2.34s/it]"
     ]
    },
    {
     "name": "stdout",
     "output_type": "stream",
     "text": [
      "Question: Which sentence is the cause of the other?\n",
      "The child hurt their knee. The child started crying. Answer: The child hurt their knee.\n",
      "We made French toast. The bread was dry. Answer: \n",
      "\n",
      "\n",
      "The bread was dry.\n",
      "Question: Which sentence is the cause of the other?\n",
      "The child started crying. The child hurt their knee. Answer: The child hurt their knee.\n",
      "We made French toast. The bread was dry. Answer: \n",
      "\n",
      "\n",
      "The bread was dry.\n"
     ]
    },
    {
     "name": "stderr",
     "output_type": "stream",
     "text": [
      "\r",
      "78it [02:32,  2.15s/it]"
     ]
    },
    {
     "name": "stdout",
     "output_type": "stream",
     "text": [
      "Question: Which sentence is the cause of the other?\n",
      "The child hurt their knee. The child started crying. Answer: The child hurt their knee.\n",
      "The company's posted strong earnings. The company's stock went up. Answer: \n",
      "\n",
      "\n",
      "The company's stock went up.\n",
      "Question: Which sentence is the cause of the other?\n",
      "The child started crying. The child hurt their knee. Answer: The child hurt their knee.\n",
      "The company's posted strong earnings. The company's stock went up. Answer: \n",
      "\n",
      "\n",
      "The company's stock went up.\n"
     ]
    },
    {
     "name": "stderr",
     "output_type": "stream",
     "text": [
      "\r",
      "79it [02:34,  2.09s/it]"
     ]
    },
    {
     "name": "stdout",
     "output_type": "stream",
     "text": [
      "Question: Which sentence is the cause of the other?\n",
      "The child hurt their knee. The child started crying. Answer: The child hurt their knee.\n",
      "The company's stock went up. The company's posted strong earnings. Answer: \n",
      "\n",
      "\n",
      "The company's stock went up.\n",
      "Question: Which sentence is the cause of the other?\n",
      "The child started crying. The child hurt their knee. Answer: The child hurt their knee.\n",
      "The company's stock went up. The company's posted strong earnings. Answer: \n",
      "\n",
      "\n",
      "The company's posted strong earnings.\n"
     ]
    },
    {
     "name": "stderr",
     "output_type": "stream",
     "text": [
      "\r",
      "80it [02:36,  2.10s/it]"
     ]
    },
    {
     "name": "stdout",
     "output_type": "stream",
     "text": [
      "Question: Which sentence is the cause of the other?\n",
      "The child hurt their knee. The child started crying. Answer: The child hurt their knee.\n",
      "My clothes got dirty. I put my clothes in the washing machine. Answer: \n",
      "\n",
      "My clothes got dirty.\n",
      "Question: Which sentence is the cause of the other?\n",
      "The child started crying. The child hurt their knee. Answer: The child hurt their knee.\n",
      "My clothes got dirty. I put my clothes in the washing machine. Answer: \n",
      "\n",
      "I put my clothes in the washing machine.\n"
     ]
    },
    {
     "name": "stderr",
     "output_type": "stream",
     "text": [
      "\r",
      "81it [02:38,  2.03s/it]"
     ]
    },
    {
     "name": "stdout",
     "output_type": "stream",
     "text": [
      "Question: Which sentence is the cause of the other?\n",
      "The child hurt their knee. The child started crying. Answer: The child hurt their knee.\n",
      "I put my clothes in the washing machine. My clothes got dirty. Answer: \n",
      "\n",
      "I put my clothes in the washing machine.\n",
      "Question: Which sentence is the cause of the other?\n",
      "The child started crying. The child hurt their knee. Answer: The child hurt their knee.\n",
      "I put my clothes in the washing machine. My clothes got dirty. Answer: \n",
      "\n",
      "\n",
      "My clothes got dirty.\n"
     ]
    },
    {
     "name": "stderr",
     "output_type": "stream",
     "text": [
      "\r",
      "82it [02:39,  1.90s/it]"
     ]
    },
    {
     "name": "stdout",
     "output_type": "stream",
     "text": [
      "Question: Which sentence is the cause of the other?\n",
      "The child hurt their knee. The child started crying. Answer: The child hurt their knee.\n",
      "My friend got a promotion. My friend celebrated with their family. Answer: \n",
      "\n",
      "My friend got a promotion.\n",
      "Question: Which sentence is the cause of the other?\n",
      "The child started crying. The child hurt their knee. Answer: The child hurt their knee.\n",
      "My friend got a promotion. My friend celebrated with their family. Answer: \n",
      "\n",
      "My friend celebrated with their family.\n"
     ]
    },
    {
     "name": "stderr",
     "output_type": "stream",
     "text": [
      "\r",
      "83it [02:41,  1.94s/it]"
     ]
    },
    {
     "name": "stdout",
     "output_type": "stream",
     "text": [
      "Question: Which sentence is the cause of the other?\n",
      "The child hurt their knee. The child started crying. Answer: The child hurt their knee.\n",
      "My friend celebrated with their family. My friend got a promotion. Answer: \n",
      "\n",
      "My friend got a promotion.\n",
      "Question: Which sentence is the cause of the other?\n",
      "The child started crying. The child hurt their knee. Answer: The child hurt their knee.\n",
      "My friend celebrated with their family. My friend got a promotion. Answer: \n",
      "\n",
      "\n",
      "My friend got a promotion.\n"
     ]
    },
    {
     "name": "stderr",
     "output_type": "stream",
     "text": [
      "\r",
      "84it [02:43,  1.93s/it]"
     ]
    },
    {
     "name": "stdout",
     "output_type": "stream",
     "text": [
      "Question: Which sentence is the cause of the other?\n",
      "The child hurt their knee. The child started crying. Answer: The child hurt their knee.\n",
      "The basketball player was shoved. The basketball player took a free throw. Answer: \n",
      "\n",
      "The basketball player was shoved.\n",
      "Question: Which sentence is the cause of the other?\n",
      "The child started crying. The child hurt their knee. Answer: The child hurt their knee.\n",
      "The basketball player was shoved. The basketball player took a free throw. Answer: \n",
      "\n",
      "\n",
      "The basketball player took a free throw.\n"
     ]
    },
    {
     "name": "stderr",
     "output_type": "stream",
     "text": [
      "\r",
      "85it [02:45,  1.92s/it]"
     ]
    },
    {
     "name": "stdout",
     "output_type": "stream",
     "text": [
      "Question: Which sentence is the cause of the other?\n",
      "The child hurt their knee. The child started crying. Answer: The child hurt their knee.\n",
      "The basketball player took a free throw. The basketball player was shoved. Answer: \n",
      "\n",
      "The basketball player was shoved.\n",
      "Question: Which sentence is the cause of the other?\n",
      "The child started crying. The child hurt their knee. Answer: The child hurt their knee.\n",
      "The basketball player took a free throw. The basketball player was shoved. Answer: \n",
      "\n",
      "\n",
      "The basketball player was shoved.\n"
     ]
    },
    {
     "name": "stderr",
     "output_type": "stream",
     "text": [
      "\r",
      "86it [02:47,  1.90s/it]"
     ]
    },
    {
     "name": "stdout",
     "output_type": "stream",
     "text": [
      "Question: Which sentence is the cause of the other?\n",
      "The child hurt their knee. The child started crying. Answer: The child hurt their knee.\n",
      "Alice didn't wake up. Alice missed her flight. Answer: \n",
      " Alice didn't wake up.\n",
      "Question: Which sentence is the cause of the other?\n",
      "The child started crying. The child hurt their knee. Answer: The child hurt their knee.\n",
      "Alice didn't wake up. Alice missed her flight. Answer: \n",
      " Alice missed her flight.\n"
     ]
    },
    {
     "name": "stderr",
     "output_type": "stream",
     "text": [
      "\r",
      "87it [02:49,  1.81s/it]"
     ]
    },
    {
     "name": "stdout",
     "output_type": "stream",
     "text": [
      "Question: Which sentence is the cause of the other?\n",
      "The child hurt their knee. The child started crying. Answer: The child hurt their knee.\n",
      "Alice missed her flight. Alice didn't wake up. Answer: \n",
      " Alice didn't wake up.\n",
      "Question: Which sentence is the cause of the other?\n",
      "The child started crying. The child hurt their knee. Answer: The child hurt their knee.\n",
      "Alice missed her flight. Alice didn't wake up. Answer: \n",
      " Alice didn't wake up.\n"
     ]
    },
    {
     "name": "stderr",
     "output_type": "stream",
     "text": [
      "\r",
      "88it [02:50,  1.72s/it]"
     ]
    },
    {
     "name": "stdout",
     "output_type": "stream",
     "text": [
      "Question: Which sentence is the cause of the other?\n",
      "The child hurt their knee. The child started crying. Answer: The child hurt their knee.\n",
      "The floor was wet. The man sued. Answer: \n",
      "\n",
      "\n",
      "The floor was wet.\n",
      "Question: Which sentence is the cause of the other?\n",
      "The child started crying. The child hurt their knee. Answer: The child hurt their knee.\n",
      "The floor was wet. The man sued. Answer: \n",
      "\n",
      "\n",
      "The floor was wet.\n"
     ]
    },
    {
     "name": "stderr",
     "output_type": "stream",
     "text": [
      "\r",
      "89it [02:52,  1.69s/it]"
     ]
    },
    {
     "name": "stdout",
     "output_type": "stream",
     "text": [
      "Question: Which sentence is the cause of the other?\n",
      "The child hurt their knee. The child started crying. Answer: The child hurt their knee.\n",
      "The man sued. The floor was wet. Answer: \n",
      "\n",
      "\n",
      "The floor was wet.\n",
      "Question: Which sentence is the cause of the other?\n",
      "The child started crying. The child hurt their knee. Answer: The child hurt their knee.\n",
      "The man sued. The floor was wet. Answer: \n",
      "\n",
      "\n",
      "The floor was wet.\n"
     ]
    },
    {
     "name": "stderr",
     "output_type": "stream",
     "text": [
      "\r",
      "90it [02:53,  1.68s/it]"
     ]
    },
    {
     "name": "stdout",
     "output_type": "stream",
     "text": [
      "Question: Which sentence is the cause of the other?\n",
      "The child hurt their knee. The child started crying. Answer: The child hurt their knee.\n",
      "It rained. The picnic was cancelled. Answer: \n",
      "\n",
      "It rained.\n",
      "Question: Which sentence is the cause of the other?\n",
      "The child started crying. The child hurt their knee. Answer: The child hurt their knee.\n",
      "It rained. The picnic was cancelled. Answer: \n",
      "\n",
      "\n",
      "The picnic was cancelled.\n"
     ]
    },
    {
     "name": "stderr",
     "output_type": "stream",
     "text": [
      "\r",
      "91it [02:55,  1.62s/it]"
     ]
    },
    {
     "name": "stdout",
     "output_type": "stream",
     "text": [
      "Question: Which sentence is the cause of the other?\n",
      "The child hurt their knee. The child started crying. Answer: The child hurt their knee.\n",
      "The picnic was cancelled. It rained. Answer: \n",
      "\n",
      "\n",
      "The picnic was cancelled.\n",
      "Question: Which sentence is the cause of the other?\n",
      "The child started crying. The child hurt their knee. Answer: The child hurt their knee.\n",
      "The picnic was cancelled. It rained. Answer: \n",
      "\n",
      "\n",
      "It rained.\n"
     ]
    },
    {
     "name": "stderr",
     "output_type": "stream",
     "text": [
      "\r",
      "92it [02:56,  1.56s/it]"
     ]
    },
    {
     "name": "stdout",
     "output_type": "stream",
     "text": [
      "Question: Which sentence is the cause of the other?\n",
      "The child hurt their knee. The child started crying. Answer: The child hurt their knee.\n",
      "The girl didn't wear her sweater. The girl caught a cold. Answer: \n",
      "\n",
      "\n",
      "The girl didn't wear her sweater.\n",
      "Question: Which sentence is the cause of the other?\n",
      "The child started crying. The child hurt their knee. Answer: The child hurt their knee.\n",
      "The girl didn't wear her sweater. The girl caught a cold. Answer: \n",
      "\n",
      "\n",
      "The girl caught a cold.\n"
     ]
    },
    {
     "name": "stderr",
     "output_type": "stream",
     "text": [
      "\r",
      "93it [02:58,  1.67s/it]"
     ]
    },
    {
     "name": "stdout",
     "output_type": "stream",
     "text": [
      "Question: Which sentence is the cause of the other?\n",
      "The child hurt their knee. The child started crying. Answer: The child hurt their knee.\n",
      "The girl caught a cold. The girl didn't wear her sweater. Answer: \n",
      "\n",
      "\n",
      "The girl caught a cold.\n",
      "Question: Which sentence is the cause of the other?\n",
      "The child started crying. The child hurt their knee. Answer: The child hurt their knee.\n",
      "The girl caught a cold. The girl didn't wear her sweater. Answer: \n",
      "\n",
      "\n",
      "The girl didn't wear her sweater.\n"
     ]
    },
    {
     "name": "stderr",
     "output_type": "stream",
     "text": [
      "\r",
      "94it [03:00,  1.76s/it]"
     ]
    },
    {
     "name": "stdout",
     "output_type": "stream",
     "text": [
      "Question: Which sentence is the cause of the other?\n",
      "The child hurt their knee. The child started crying. Answer: The child hurt their knee.\n",
      "The man got lost in the woods. A search party was assembled. Answer: \n",
      "\n",
      "The man got lost in the woods.\n",
      "Question: Which sentence is the cause of the other?\n",
      "The child started crying. The child hurt their knee. Answer: The child hurt their knee.\n",
      "The man got lost in the woods. A search party was assembled. Answer: \n",
      "\n",
      "\n",
      "A search party was assembled.\n"
     ]
    },
    {
     "name": "stderr",
     "output_type": "stream",
     "text": [
      "\r",
      "95it [03:02,  1.87s/it]"
     ]
    },
    {
     "name": "stdout",
     "output_type": "stream",
     "text": [
      "Question: Which sentence is the cause of the other?\n",
      "The child hurt their knee. The child started crying. Answer: The child hurt their knee.\n",
      "A search party was assembled. The man got lost in the woods. Answer: \n",
      "\n",
      "\n",
      "The man got lost in the woods.\n",
      "Question: Which sentence is the cause of the other?\n",
      "The child started crying. The child hurt their knee. Answer: The child hurt their knee.\n",
      "A search party was assembled. The man got lost in the woods. Answer: \n",
      "\n",
      "\n",
      "The man got lost in the woods.\n"
     ]
    },
    {
     "name": "stderr",
     "output_type": "stream",
     "text": [
      "\r",
      "96it [03:05,  1.94s/it]"
     ]
    },
    {
     "name": "stdout",
     "output_type": "stream",
     "text": [
      "Question: Which sentence is the cause of the other?\n",
      "The child hurt their knee. The child started crying. Answer: The child hurt their knee.\n",
      "Ted went out drinking. Ted had a hangover. Answer: \n",
      "\n",
      "\n",
      "Ted went out drinking. Ted had a hangover.\n",
      "Question: Which sentence is the cause of the other?\n",
      "The child started crying. The child hurt their knee. Answer: The child hurt their knee.\n",
      "Ted went out drinking. Ted had a hangover. Answer: \n",
      "\n",
      "\n",
      "Ted had a hangover.\n"
     ]
    },
    {
     "name": "stderr",
     "output_type": "stream",
     "text": [
      "\r",
      "97it [03:07,  1.97s/it]"
     ]
    },
    {
     "name": "stdout",
     "output_type": "stream",
     "text": [
      "Question: Which sentence is the cause of the other?\n",
      "The child hurt their knee. The child started crying. Answer: The child hurt their knee.\n",
      "Ted had a hangover. Ted went out drinking. Answer: \n",
      "\n",
      "\n",
      "Ted had a hangover. Ted went out drinking.\n",
      "Question: Which sentence is the cause of the other?\n",
      "The child started crying. The child hurt their knee. Answer: The child hurt their knee.\n",
      "Ted had a hangover. Ted went out drinking. Answer: \n",
      "\n",
      "\n",
      "Ted went out drinking.\n"
     ]
    },
    {
     "name": "stderr",
     "output_type": "stream",
     "text": [
      "\r",
      "98it [03:08,  1.87s/it]"
     ]
    },
    {
     "name": "stdout",
     "output_type": "stream",
     "text": [
      "Question: Which sentence is the cause of the other?\n",
      "The child hurt their knee. The child started crying. Answer: The child hurt their knee.\n",
      "Alice ate the last cookie. Bob opened the jar and was frustrated. Answer: \n",
      "\n",
      "\n",
      "Alice ate the last cookie.\n",
      "Question: Which sentence is the cause of the other?\n",
      "The child started crying. The child hurt their knee. Answer: The child hurt their knee.\n",
      "Alice ate the last cookie. Bob opened the jar and was frustrated. Answer: \n",
      "\n",
      "\n",
      "Alice ate the last cookie.\n"
     ]
    },
    {
     "name": "stderr",
     "output_type": "stream",
     "text": [
      "\r",
      "99it [03:11,  2.01s/it]"
     ]
    },
    {
     "name": "stdout",
     "output_type": "stream",
     "text": [
      "Question: Which sentence is the cause of the other?\n",
      "The child hurt their knee. The child started crying. Answer: The child hurt their knee.\n",
      "Bob opened the jar and was frustrated. Alice ate the last cookie. Answer: \n",
      "\n",
      "\n",
      "Alice ate the last cookie.\n",
      "Question: Which sentence is the cause of the other?\n",
      "The child started crying. The child hurt their knee. Answer: The child hurt their knee.\n",
      "Bob opened the jar and was frustrated. Alice ate the last cookie. Answer: \n",
      "\n",
      "\n",
      "Alice ate the last cookie.\n"
     ]
    },
    {
     "name": "stderr",
     "output_type": "stream",
     "text": [
      "\r",
      "100it [03:13,  2.20s/it]"
     ]
    },
    {
     "name": "stdout",
     "output_type": "stream",
     "text": [
      "Question: Which sentence is the cause of the other?\n",
      "The child hurt their knee. The child started crying. Answer: The child hurt their knee.\n",
      "Jimmy took the last piece of cake. Mom rinsed the tray. Answer: \n",
      "\n",
      "\n",
      "Jimmy took the last piece of cake.\n",
      "Question: Which sentence is the cause of the other?\n",
      "The child started crying. The child hurt their knee. Answer: The child hurt their knee.\n",
      "Jimmy took the last piece of cake. Mom rinsed the tray. Answer: \n",
      "\n",
      "\n",
      "Jimmy took the last piece of cake.\n"
     ]
    },
    {
     "name": "stderr",
     "output_type": "stream",
     "text": [
      "\r",
      "101it [03:15,  2.22s/it]"
     ]
    },
    {
     "name": "stdout",
     "output_type": "stream",
     "text": [
      "Question: Which sentence is the cause of the other?\n",
      "The child hurt their knee. The child started crying. Answer: The child hurt their knee.\n",
      "Mom rinsed the tray. Jimmy took the last piece of cake. Answer: \n",
      "\n",
      "\n",
      "Jimmy took the last piece of cake.\n",
      "Question: Which sentence is the cause of the other?\n",
      "The child started crying. The child hurt their knee. Answer: The child hurt their knee.\n",
      "Mom rinsed the tray. Jimmy took the last piece of cake. Answer: \n",
      "\n",
      "\n",
      "Jimmy took the last piece of cake.\n"
     ]
    },
    {
     "name": "stderr",
     "output_type": "stream",
     "text": [
      "102it [03:17,  1.94s/it]\n"
     ]
    }
   ],
   "source": [
    "# run and populate the entire dataframe\n",
    "cause_answers = []\n",
    "effect_answers = []\n",
    "cause_answers_switched = []\n",
    "effect_answers_switched = []\n",
    "\n",
    "for index, row in tqdm(df_ce_two_sentences.iterrows()):\n",
    "    prompt_ = row[\"prompts\"]\n",
    "    # cause\n",
    "    prompt_cause = cause_question + example_cause_1 + \"\\n\" + prompt_ + \" Answer: \"\n",
    "    print(prompt_cause)\n",
    "    response_cause = openai.Completion.create(engine=gpt3_model, prompt=prompt_cause, max_tokens=15, temperature=0)\n",
    "    rc_ = response_cause[\"choices\"][0][\"text\"]\n",
    "    print(rc_)\n",
    "    cause_answers.append(rc_)\n",
    "    # cause switched\n",
    "    prompt_cause_switched = cause_question + example_cause_1_switched + \"\\n\" + prompt_ + \" Answer: \"\n",
    "    print(prompt_cause_switched)\n",
    "    response_cause = openai.Completion.create(engine=gpt3_model, prompt=prompt_cause_switched, max_tokens=15, temperature=0)\n",
    "    rc_switched = response_cause[\"choices\"][0][\"text\"]\n",
    "    print(rc_switched)\n",
    "    cause_answers_switched.append(rc_switched)\n",
    "    # effect\n",
    "    prompt_effect = effect_question + example_effect_1 + \"\\n\" + prompt_ + \" Answer: \"\n",
    "    response_effect = openai.Completion.create(engine=gpt3_model, prompt=prompt_effect, max_tokens=15, temperature=0)\n",
    "    re_ = response_effect[\"choices\"][0][\"text\"]\n",
    "    effect_answers.append(re_)\n",
    "    # effect switched\n",
    "    prompt_effect_switched = effect_question + example_effect_1_switched + \"\\n\" + prompt_ + \" Answer: \"\n",
    "    response_effect_switched = openai.Completion.create(engine=gpt3_model, prompt=prompt_effect_switched, max_tokens=15, temperature=0)\n",
    "    re_switched = response_effect_switched[\"choices\"][0][\"text\"]\n",
    "    effect_answers_switched.append(re_switched)"
   ]
  },
  {
   "cell_type": "code",
   "execution_count": 8,
   "metadata": {},
   "outputs": [
    {
     "data": {
      "text/html": [
       "<div>\n",
       "<style scoped>\n",
       "    .dataframe tbody tr th:only-of-type {\n",
       "        vertical-align: middle;\n",
       "    }\n",
       "\n",
       "    .dataframe tbody tr th {\n",
       "        vertical-align: top;\n",
       "    }\n",
       "\n",
       "    .dataframe thead th {\n",
       "        text-align: right;\n",
       "    }\n",
       "</style>\n",
       "<table border=\"1\" class=\"dataframe\">\n",
       "  <thead>\n",
       "    <tr style=\"text-align: right;\">\n",
       "      <th></th>\n",
       "      <th>prompts</th>\n",
       "      <th>correct_answers</th>\n",
       "      <th>cause_answers</th>\n",
       "      <th>effect_answers</th>\n",
       "      <th>cause_answers_ex_switched</th>\n",
       "      <th>effect_answers_ex_switched</th>\n",
       "    </tr>\n",
       "  </thead>\n",
       "  <tbody>\n",
       "    <tr>\n",
       "      <th>0</th>\n",
       "      <td>The child hurt their knee. The child started c...</td>\n",
       "      <td>The child hurt their knee.</td>\n",
       "      <td>\\n\\nThe child started crying because they hurt...</td>\n",
       "      <td>\\n\\nThe child started crying because they hurt...</td>\n",
       "      <td>\\n\\nThe child started crying.</td>\n",
       "      <td>\\n\\nThe child hurt their knee.</td>\n",
       "    </tr>\n",
       "    <tr>\n",
       "      <th>1</th>\n",
       "      <td>The child started crying. The child hurt their...</td>\n",
       "      <td>The child hurt their knee.</td>\n",
       "      <td>\\n\\nThe child started crying.</td>\n",
       "      <td>\\n\\nThe child started crying because they hurt...</td>\n",
       "      <td>\\nThe child started crying because they hurt t...</td>\n",
       "      <td>\\n\\nThe child started crying because they hurt...</td>\n",
       "    </tr>\n",
       "    <tr>\n",
       "      <th>2</th>\n",
       "      <td>My car got dirty. I washed the car.</td>\n",
       "      <td>My car got dirty.</td>\n",
       "      <td>\\n\\nMy car got dirty.</td>\n",
       "      <td>\\n\\nI washed the car.</td>\n",
       "      <td>\\n\\nI washed the car.</td>\n",
       "      <td>\\n\\nMy car got dirty.</td>\n",
       "    </tr>\n",
       "    <tr>\n",
       "      <th>3</th>\n",
       "      <td>I washed the car. My car got dirty.</td>\n",
       "      <td>My car got dirty.</td>\n",
       "      <td>\\n\\nMy car got dirty.</td>\n",
       "      <td>\\n\\nMy car got dirty.</td>\n",
       "      <td>\\n\\nMy car got dirty.</td>\n",
       "      <td>\\n\\nMy car got dirty.</td>\n",
       "    </tr>\n",
       "    <tr>\n",
       "      <th>4</th>\n",
       "      <td>Someone fainted. Someone called 911.</td>\n",
       "      <td>Someone fainted.</td>\n",
       "      <td>\\nSomeone called 911.</td>\n",
       "      <td>\\n\\nSomeone called 911.</td>\n",
       "      <td>\\n\\nSomeone called 911.</td>\n",
       "      <td>\\nSomeone called 911.</td>\n",
       "    </tr>\n",
       "  </tbody>\n",
       "</table>\n",
       "</div>"
      ],
      "text/plain": [
       "                                             prompts  \\\n",
       "0  The child hurt their knee. The child started c...   \n",
       "1  The child started crying. The child hurt their...   \n",
       "2                My car got dirty. I washed the car.   \n",
       "3                I washed the car. My car got dirty.   \n",
       "4               Someone fainted. Someone called 911.   \n",
       "\n",
       "              correct_answers  \\\n",
       "0  The child hurt their knee.   \n",
       "1  The child hurt their knee.   \n",
       "2           My car got dirty.   \n",
       "3           My car got dirty.   \n",
       "4            Someone fainted.   \n",
       "\n",
       "                                       cause_answers  \\\n",
       "0  \\n\\nThe child started crying because they hurt...   \n",
       "1                      \\n\\nThe child started crying.   \n",
       "2                              \\n\\nMy car got dirty.   \n",
       "3                              \\n\\nMy car got dirty.   \n",
       "4                              \\nSomeone called 911.   \n",
       "\n",
       "                                      effect_answers  \\\n",
       "0  \\n\\nThe child started crying because they hurt...   \n",
       "1  \\n\\nThe child started crying because they hurt...   \n",
       "2                              \\n\\nI washed the car.   \n",
       "3                              \\n\\nMy car got dirty.   \n",
       "4                            \\n\\nSomeone called 911.   \n",
       "\n",
       "                           cause_answers_ex_switched  \\\n",
       "0                      \\n\\nThe child started crying.   \n",
       "1  \\nThe child started crying because they hurt t...   \n",
       "2                              \\n\\nI washed the car.   \n",
       "3                              \\n\\nMy car got dirty.   \n",
       "4                            \\n\\nSomeone called 911.   \n",
       "\n",
       "                          effect_answers_ex_switched  \n",
       "0                     \\n\\nThe child hurt their knee.  \n",
       "1  \\n\\nThe child started crying because they hurt...  \n",
       "2                              \\n\\nMy car got dirty.  \n",
       "3                              \\n\\nMy car got dirty.  \n",
       "4                              \\nSomeone called 911.  "
      ]
     },
     "execution_count": 8,
     "metadata": {},
     "output_type": "execute_result"
    }
   ],
   "source": [
    "# add results to the dataframe and save\n",
    "\n",
    "df_ce_two_sentences[\"cause_answers\"] = cause_answers\n",
    "df_ce_two_sentences[\"effect_answers\"] = effect_answers\n",
    "df_ce_two_sentences[\"cause_answers_ex_switched\"] = cause_answers_switched\n",
    "df_ce_two_sentences[\"effect_answers_ex_switched\"] = effect_answers_switched\n",
    "df_ce_two_sentences.head()"
   ]
  },
  {
   "cell_type": "code",
   "execution_count": 9,
   "metadata": {},
   "outputs": [],
   "source": [
    "path=\"data/bigbench_results/ce_two_sentences_results_one_shot_{}.csv\".format(gpt3_model)\n",
    "df_ce_two_sentences.to_csv(path, index=False)"
   ]
  },
  {
   "cell_type": "markdown",
   "metadata": {},
   "source": [
    "## which sentence is more plausible?"
   ]
  },
  {
   "cell_type": "code",
   "execution_count": 10,
   "metadata": {},
   "outputs": [
    {
     "data": {
      "text/html": [
       "<div>\n",
       "<style scoped>\n",
       "    .dataframe tbody tr th:only-of-type {\n",
       "        vertical-align: middle;\n",
       "    }\n",
       "\n",
       "    .dataframe tbody tr th {\n",
       "        vertical-align: top;\n",
       "    }\n",
       "\n",
       "    .dataframe thead th {\n",
       "        text-align: right;\n",
       "    }\n",
       "</style>\n",
       "<table border=\"1\" class=\"dataframe\">\n",
       "  <thead>\n",
       "    <tr style=\"text-align: right;\">\n",
       "      <th></th>\n",
       "      <th>prompts</th>\n",
       "      <th>correct_answers</th>\n",
       "    </tr>\n",
       "  </thead>\n",
       "  <tbody>\n",
       "    <tr>\n",
       "      <th>0</th>\n",
       "      <td>The child started crying because the child hur...</td>\n",
       "      <td>The child started crying because the child hur...</td>\n",
       "    </tr>\n",
       "    <tr>\n",
       "      <th>1</th>\n",
       "      <td>The child hurt their knee because the child st...</td>\n",
       "      <td>The child started crying because the child hur...</td>\n",
       "    </tr>\n",
       "    <tr>\n",
       "      <th>2</th>\n",
       "      <td>I washed the car because my car got dirty. My ...</td>\n",
       "      <td>I washed the car because my car got dirty.</td>\n",
       "    </tr>\n",
       "    <tr>\n",
       "      <th>3</th>\n",
       "      <td>My car got dirty because i washed the car. I w...</td>\n",
       "      <td>I washed the car because my car got dirty.</td>\n",
       "    </tr>\n",
       "    <tr>\n",
       "      <th>4</th>\n",
       "      <td>Someone called 911 because someone fainted. So...</td>\n",
       "      <td>Someone called 911 because someone fainted.</td>\n",
       "    </tr>\n",
       "  </tbody>\n",
       "</table>\n",
       "</div>"
      ],
      "text/plain": [
       "                                             prompts  \\\n",
       "0  The child started crying because the child hur...   \n",
       "1  The child hurt their knee because the child st...   \n",
       "2  I washed the car because my car got dirty. My ...   \n",
       "3  My car got dirty because i washed the car. I w...   \n",
       "4  Someone called 911 because someone fainted. So...   \n",
       "\n",
       "                                     correct_answers  \n",
       "0  The child started crying because the child hur...  \n",
       "1  The child started crying because the child hur...  \n",
       "2         I washed the car because my car got dirty.  \n",
       "3         I washed the car because my car got dirty.  \n",
       "4        Someone called 911 because someone fainted.  "
      ]
     },
     "execution_count": 10,
     "metadata": {},
     "output_type": "execute_result"
    }
   ],
   "source": [
    "# load dataframe\n",
    "\n",
    "df_ce_one_sentence = pd.read_csv(\"data/bigbench_csvs/ce_one_sentence.csv\")\n",
    "df_ce_one_sentence.head()"
   ]
  },
  {
   "cell_type": "code",
   "execution_count": 29,
   "metadata": {},
   "outputs": [
    {
     "name": "stdout",
     "output_type": "stream",
     "text": [
      "Question: Which sentence gets cause and effect right?\n",
      "I washed the car because my car got dirty. My car got dirty because I washed the car. Answer: I washed the car because my car got dirty.\n",
      "Someone called 911 because someone fainted. Someone fainted because someone called 911. Answer:\n"
     ]
    }
   ],
   "source": [
    "test_prompt2 = \"Question: Which sentence gets cause and effect right?\\nI washed the car because my car got dirty. My car got dirty because I washed the car. Answer: I washed the car because my car got dirty.\\nSomeone called 911 because someone fainted. Someone fainted because someone called 911. Answer:\"\n",
    "print(test_prompt2)"
   ]
  },
  {
   "cell_type": "code",
   "execution_count": 12,
   "metadata": {},
   "outputs": [
    {
     "name": "stdout",
     "output_type": "stream",
     "text": [
      " Someone called 911 because someone fainted.\n"
     ]
    }
   ],
   "source": [
    "# test run\n",
    "response2 = openai.Completion.create(engine=gpt3_model, prompt=test_prompt2, max_tokens=20, temperature=0)\n",
    "print(response2[\"choices\"][0][\"text\"])"
   ]
  },
  {
   "cell_type": "code",
   "execution_count": 13,
   "metadata": {},
   "outputs": [],
   "source": [
    "#question = \"Which sentence is more plausible?\"\n",
    "#question = \"Which sentence is more logical?\"\n",
    "question = \"Which sentence gets cause and effect right?\"\n",
    "example = \"\\nI washed the car because my car got dirty. My car got dirty because I washed the car. Answer: I washed the car because my car got dirty.\"\n",
    "example_switched = \"\\nMy car got dirty because I washed the car. I washed the car because my car got dirty. Answer: I washed the car because my car got dirty.\""
   ]
  },
  {
   "cell_type": "code",
   "execution_count": 14,
   "metadata": {},
   "outputs": [
    {
     "name": "stderr",
     "output_type": "stream",
     "text": [
      "102it [02:05,  1.23s/it]\n"
     ]
    }
   ],
   "source": [
    "# run and populate the entire dataframe\n",
    "answers2 = []\n",
    "answers2_switched = []\n",
    "\n",
    "for index, row in tqdm(df_ce_one_sentence.iterrows()):\n",
    "    prompt_ = row[\"prompts\"]\n",
    "    # normal\n",
    "    prompt = question + example + \"\\n\" + prompt_ + \" Answer: \"\n",
    "    #print(prompt)\n",
    "    response = openai.Completion.create(engine=gpt3_model, prompt=prompt, max_tokens=20, temperature=0)\n",
    "    response_text = response[\"choices\"][0][\"text\"]\n",
    "    answers2.append(response_text)\n",
    "    # switched\n",
    "    prompt_switched = question + example_switched + \"\\n\" + prompt_ + \" Answer: \"\n",
    "    #print(prompt_switched)\n",
    "    response_switched = openai.Completion.create(engine=gpt3_model, prompt=prompt_switched, max_tokens=20, temperature=0)\n",
    "    response_text_switched = response_switched[\"choices\"][0][\"text\"]\n",
    "    answers2_switched.append(response_text_switched)"
   ]
  },
  {
   "cell_type": "code",
   "execution_count": 15,
   "metadata": {},
   "outputs": [
    {
     "data": {
      "text/html": [
       "<div>\n",
       "<style scoped>\n",
       "    .dataframe tbody tr th:only-of-type {\n",
       "        vertical-align: middle;\n",
       "    }\n",
       "\n",
       "    .dataframe tbody tr th {\n",
       "        vertical-align: top;\n",
       "    }\n",
       "\n",
       "    .dataframe thead th {\n",
       "        text-align: right;\n",
       "    }\n",
       "</style>\n",
       "<table border=\"1\" class=\"dataframe\">\n",
       "  <thead>\n",
       "    <tr style=\"text-align: right;\">\n",
       "      <th></th>\n",
       "      <th>prompts</th>\n",
       "      <th>correct_answers</th>\n",
       "      <th>answers</th>\n",
       "    </tr>\n",
       "  </thead>\n",
       "  <tbody>\n",
       "    <tr>\n",
       "      <th>0</th>\n",
       "      <td>The child started crying because the child hur...</td>\n",
       "      <td>The child started crying because the child hur...</td>\n",
       "      <td>\\n\\nThe child started crying because the child...</td>\n",
       "    </tr>\n",
       "    <tr>\n",
       "      <th>1</th>\n",
       "      <td>The child hurt their knee because the child st...</td>\n",
       "      <td>The child started crying because the child hur...</td>\n",
       "      <td>\\n\\nThe child started crying because the child...</td>\n",
       "    </tr>\n",
       "    <tr>\n",
       "      <th>2</th>\n",
       "      <td>I washed the car because my car got dirty. My ...</td>\n",
       "      <td>I washed the car because my car got dirty.</td>\n",
       "      <td>\\n\\nI washed the car because my car got dirty.</td>\n",
       "    </tr>\n",
       "    <tr>\n",
       "      <th>3</th>\n",
       "      <td>My car got dirty because i washed the car. I w...</td>\n",
       "      <td>I washed the car because my car got dirty.</td>\n",
       "      <td>\\n\\nMy car got dirty because I washed the car.</td>\n",
       "    </tr>\n",
       "    <tr>\n",
       "      <th>4</th>\n",
       "      <td>Someone called 911 because someone fainted. So...</td>\n",
       "      <td>Someone called 911 because someone fainted.</td>\n",
       "      <td>\\n\\nSomeone called 911 because someone fainted.</td>\n",
       "    </tr>\n",
       "  </tbody>\n",
       "</table>\n",
       "</div>"
      ],
      "text/plain": [
       "                                             prompts  \\\n",
       "0  The child started crying because the child hur...   \n",
       "1  The child hurt their knee because the child st...   \n",
       "2  I washed the car because my car got dirty. My ...   \n",
       "3  My car got dirty because i washed the car. I w...   \n",
       "4  Someone called 911 because someone fainted. So...   \n",
       "\n",
       "                                     correct_answers  \\\n",
       "0  The child started crying because the child hur...   \n",
       "1  The child started crying because the child hur...   \n",
       "2         I washed the car because my car got dirty.   \n",
       "3         I washed the car because my car got dirty.   \n",
       "4        Someone called 911 because someone fainted.   \n",
       "\n",
       "                                             answers  \n",
       "0  \\n\\nThe child started crying because the child...  \n",
       "1  \\n\\nThe child started crying because the child...  \n",
       "2     \\n\\nI washed the car because my car got dirty.  \n",
       "3     \\n\\nMy car got dirty because I washed the car.  \n",
       "4    \\n\\nSomeone called 911 because someone fainted.  "
      ]
     },
     "execution_count": 15,
     "metadata": {},
     "output_type": "execute_result"
    }
   ],
   "source": [
    "# add results to the dataframe and save\n",
    "\n",
    "df_ce_one_sentence[\"answers\"] = answers2\n",
    "df_ce_one_sentence.head()"
   ]
  },
  {
   "cell_type": "code",
   "execution_count": 16,
   "metadata": {},
   "outputs": [],
   "source": [
    "path=\"data/bigbench_results/ce_one_sentence_results_one_shot_{}.csv\".format(gpt3_model)\n",
    "df_ce_one_sentence.to_csv(path, index=False)"
   ]
  },
  {
   "cell_type": "markdown",
   "metadata": {},
   "source": [
    "## Toy sentences 3 colors"
   ]
  },
  {
   "cell_type": "code",
   "execution_count": 17,
   "metadata": {},
   "outputs": [
    {
     "data": {
      "text/html": [
       "<div>\n",
       "<style scoped>\n",
       "    .dataframe tbody tr th:only-of-type {\n",
       "        vertical-align: middle;\n",
       "    }\n",
       "\n",
       "    .dataframe tbody tr th {\n",
       "        vertical-align: top;\n",
       "    }\n",
       "\n",
       "    .dataframe thead th {\n",
       "        text-align: right;\n",
       "    }\n",
       "</style>\n",
       "<table border=\"1\" class=\"dataframe\">\n",
       "  <thead>\n",
       "    <tr style=\"text-align: right;\">\n",
       "      <th></th>\n",
       "      <th>sequence</th>\n",
       "      <th>switched</th>\n",
       "      <th>first_color</th>\n",
       "      <th>second_color</th>\n",
       "      <th>final_color</th>\n",
       "    </tr>\n",
       "  </thead>\n",
       "  <tbody>\n",
       "    <tr>\n",
       "      <th>0</th>\n",
       "      <td>The blue ball hit the red ball. The red ball h...</td>\n",
       "      <td>False</td>\n",
       "      <td>blue</td>\n",
       "      <td>red</td>\n",
       "      <td>green</td>\n",
       "    </tr>\n",
       "    <tr>\n",
       "      <th>1</th>\n",
       "      <td>The red ball hit the green ball. The blue ball...</td>\n",
       "      <td>True</td>\n",
       "      <td>blue</td>\n",
       "      <td>red</td>\n",
       "      <td>green</td>\n",
       "    </tr>\n",
       "    <tr>\n",
       "      <th>2</th>\n",
       "      <td>The blue ball hit the red ball. The red ball h...</td>\n",
       "      <td>False</td>\n",
       "      <td>blue</td>\n",
       "      <td>red</td>\n",
       "      <td>brown</td>\n",
       "    </tr>\n",
       "    <tr>\n",
       "      <th>3</th>\n",
       "      <td>The red ball hit the brown ball. The blue ball...</td>\n",
       "      <td>True</td>\n",
       "      <td>blue</td>\n",
       "      <td>red</td>\n",
       "      <td>brown</td>\n",
       "    </tr>\n",
       "    <tr>\n",
       "      <th>4</th>\n",
       "      <td>The blue ball hit the red ball. The red ball h...</td>\n",
       "      <td>False</td>\n",
       "      <td>blue</td>\n",
       "      <td>red</td>\n",
       "      <td>purple</td>\n",
       "    </tr>\n",
       "  </tbody>\n",
       "</table>\n",
       "</div>"
      ],
      "text/plain": [
       "                                            sequence  switched first_color  \\\n",
       "0  The blue ball hit the red ball. The red ball h...     False        blue   \n",
       "1  The red ball hit the green ball. The blue ball...      True        blue   \n",
       "2  The blue ball hit the red ball. The red ball h...     False        blue   \n",
       "3  The red ball hit the brown ball. The blue ball...      True        blue   \n",
       "4  The blue ball hit the red ball. The red ball h...     False        blue   \n",
       "\n",
       "  second_color final_color  \n",
       "0          red       green  \n",
       "1          red       green  \n",
       "2          red       brown  \n",
       "3          red       brown  \n",
       "4          red      purple  "
      ]
     },
     "execution_count": 17,
     "metadata": {},
     "output_type": "execute_result"
    }
   ],
   "source": [
    "df_toy_problem_3c = pd.read_csv(\"data/toy_problem_3/toy_problem_3c.csv\")\n",
    "df_toy_problem_3c.head()"
   ]
  },
  {
   "cell_type": "code",
   "execution_count": 18,
   "metadata": {},
   "outputs": [
    {
     "name": "stdout",
     "output_type": "stream",
     "text": [
      "Question: Which ball started the chain?\n",
      "The blue ball hit the red ball. The red ball hit the green ball. The green ball fell in the hole. Answer: The blue ball started the chain.\n",
      "The yellow ball hit the red ball. The red ball hit the green ball. The green ball fell in the hole. Answer:\n",
      "\n",
      "\n",
      "Question: Which ball started the chain?\n",
      "The red ball hit the green ball. The blue ball hit the red ball. The green ball fell in the hole. Answer: The blue ball started the chain.\n",
      "The red ball hit the green ball. yellow ball hit the red ball. The green ball fell in the hole. Answer:\n"
     ]
    }
   ],
   "source": [
    "test_prompt_3c = \"Question: Which ball started the chain?\\nThe blue ball hit the red ball. The red ball hit the green ball. The green ball fell in the hole. Answer: The blue ball started the chain.\\nThe yellow ball hit the red ball. The red ball hit the green ball. The green ball fell in the hole. Answer:\"\n",
    "test_prompt_3c_switched = \"Question: Which ball started the chain?\\nThe red ball hit the green ball. The blue ball hit the red ball. The green ball fell in the hole. Answer: The blue ball started the chain.\\nThe red ball hit the green ball. yellow ball hit the red ball. The green ball fell in the hole. Answer:\"\n",
    "print(test_prompt_3c)\n",
    "print(\"\\n\")\n",
    "print(test_prompt_3c_switched)"
   ]
  },
  {
   "cell_type": "code",
   "execution_count": 19,
   "metadata": {},
   "outputs": [
    {
     "name": "stdout",
     "output_type": "stream",
     "text": [
      " The yellow ball started the chain.\n",
      " The yellow ball started the chain.\n"
     ]
    }
   ],
   "source": [
    "# test run\n",
    "response_3c = openai.Completion.create(engine=gpt3_model, prompt=test_prompt_3c, max_tokens=15, temperature=0)\n",
    "print(response_3c[\"choices\"][0][\"text\"])\n",
    "# test run\n",
    "response_3c_switched = openai.Completion.create(engine=gpt3_model, prompt=test_prompt_3c_switched, max_tokens=15, temperature=0)\n",
    "print(response_3c_switched[\"choices\"][0][\"text\"])"
   ]
  },
  {
   "cell_type": "code",
   "execution_count": 20,
   "metadata": {},
   "outputs": [],
   "source": [
    "question1 = \"Question: Which ball started the chain?\"\n",
    "example1 = \"The blue ball hit the red ball. The red ball hit the green ball. The green ball fell in the hole. Answer: The blue ball.\"\n",
    "question2 = \"Question: Which ball was second in the chain?\"\n",
    "example2 = \"The blue ball hit the red ball. The red ball hit the green ball. The green ball fell in the hole. Answer: The red ball.\"\n",
    "question3 = \"Question: Which ball fell into the hole?\"\n",
    "example3 = \"The blue ball hit the red ball. The red ball hit the green ball. The green ball fell in the hole. Answer: The green ball.\""
   ]
  },
  {
   "cell_type": "code",
   "execution_count": 21,
   "metadata": {},
   "outputs": [
    {
     "name": "stderr",
     "output_type": "stream",
     "text": [
      "70it [01:27,  1.25s/it]\n"
     ]
    }
   ],
   "source": [
    "# run and populate the entire dataframe\n",
    "answers_c3_q1 = []\n",
    "answers_c3_q2 = []\n",
    "answers_c3_q3 = []\n",
    "\n",
    "for index, row in tqdm(df_toy_problem_3c.iterrows()):\n",
    "    prompt_q1 = question1 + \"\\n\" + example1 + \"\\n\" + row[\"sequence\"] + \" Answer: \"\n",
    "    prompt_q2 = question2 + \"\\n\" + example2 + \"\\n\" + row[\"sequence\"] + \" Answer: \"\n",
    "    prompt_q3 = question3 + \"\\n\" + example3 + \"\\n\" + row[\"sequence\"] + \" Answer: \"\n",
    "    response_q1 = openai.Completion.create(engine=gpt3_model, prompt=prompt_q1, max_tokens=15, temperature=0)\n",
    "    response_text_q1 = response_q1[\"choices\"][0][\"text\"]\n",
    "    response_q2 = openai.Completion.create(engine=gpt3_model, prompt=prompt_q2, max_tokens=15, temperature=0)\n",
    "    response_text_q2 = response_q2[\"choices\"][0][\"text\"]\n",
    "    response_q3 = openai.Completion.create(engine=gpt3_model, prompt=prompt_q3, max_tokens=15, temperature=0)\n",
    "    response_text_q3 = response_q3[\"choices\"][0][\"text\"]\n",
    "    #print(response_text_q1)\n",
    "    #print(response_text_q2)\n",
    "    #print(response_text_q3)\n",
    "    answers_c3_q1.append(response_text_q1)\n",
    "    answers_c3_q2.append(response_text_q2)\n",
    "    answers_c3_q3.append(response_text_q3)"
   ]
  },
  {
   "cell_type": "code",
   "execution_count": 22,
   "metadata": {},
   "outputs": [
    {
     "data": {
      "text/html": [
       "<div>\n",
       "<style scoped>\n",
       "    .dataframe tbody tr th:only-of-type {\n",
       "        vertical-align: middle;\n",
       "    }\n",
       "\n",
       "    .dataframe tbody tr th {\n",
       "        vertical-align: top;\n",
       "    }\n",
       "\n",
       "    .dataframe thead th {\n",
       "        text-align: right;\n",
       "    }\n",
       "</style>\n",
       "<table border=\"1\" class=\"dataframe\">\n",
       "  <thead>\n",
       "    <tr style=\"text-align: right;\">\n",
       "      <th></th>\n",
       "      <th>sequence</th>\n",
       "      <th>switched</th>\n",
       "      <th>first_color</th>\n",
       "      <th>second_color</th>\n",
       "      <th>final_color</th>\n",
       "      <th>answers_start_chain</th>\n",
       "      <th>answers_second_chain</th>\n",
       "      <th>answers_into_hole</th>\n",
       "    </tr>\n",
       "  </thead>\n",
       "  <tbody>\n",
       "    <tr>\n",
       "      <th>0</th>\n",
       "      <td>The blue ball hit the red ball. The red ball h...</td>\n",
       "      <td>False</td>\n",
       "      <td>blue</td>\n",
       "      <td>red</td>\n",
       "      <td>green</td>\n",
       "      <td>\\nThe blue ball.</td>\n",
       "      <td>\\nThe red ball.</td>\n",
       "      <td>\\nThe green ball.</td>\n",
       "    </tr>\n",
       "    <tr>\n",
       "      <th>1</th>\n",
       "      <td>The red ball hit the green ball. The blue ball...</td>\n",
       "      <td>True</td>\n",
       "      <td>blue</td>\n",
       "      <td>red</td>\n",
       "      <td>green</td>\n",
       "      <td>\\nThe blue ball.</td>\n",
       "      <td>\\nThe red ball.</td>\n",
       "      <td>\\nThe green ball.</td>\n",
       "    </tr>\n",
       "    <tr>\n",
       "      <th>2</th>\n",
       "      <td>The blue ball hit the red ball. The red ball h...</td>\n",
       "      <td>False</td>\n",
       "      <td>blue</td>\n",
       "      <td>red</td>\n",
       "      <td>brown</td>\n",
       "      <td>\\nThe blue ball.</td>\n",
       "      <td>\\nThe red ball.</td>\n",
       "      <td>\\nThe brown ball.</td>\n",
       "    </tr>\n",
       "    <tr>\n",
       "      <th>3</th>\n",
       "      <td>The red ball hit the brown ball. The blue ball...</td>\n",
       "      <td>True</td>\n",
       "      <td>blue</td>\n",
       "      <td>red</td>\n",
       "      <td>brown</td>\n",
       "      <td>\\nThe blue ball.</td>\n",
       "      <td>\\nThe blue ball.</td>\n",
       "      <td>\\nThe brown ball.</td>\n",
       "    </tr>\n",
       "    <tr>\n",
       "      <th>4</th>\n",
       "      <td>The blue ball hit the red ball. The red ball h...</td>\n",
       "      <td>False</td>\n",
       "      <td>blue</td>\n",
       "      <td>red</td>\n",
       "      <td>purple</td>\n",
       "      <td>\\nThe blue ball.</td>\n",
       "      <td>\\nThe purple ball.</td>\n",
       "      <td>\\nThe purple ball.</td>\n",
       "    </tr>\n",
       "  </tbody>\n",
       "</table>\n",
       "</div>"
      ],
      "text/plain": [
       "                                            sequence  switched first_color  \\\n",
       "0  The blue ball hit the red ball. The red ball h...     False        blue   \n",
       "1  The red ball hit the green ball. The blue ball...      True        blue   \n",
       "2  The blue ball hit the red ball. The red ball h...     False        blue   \n",
       "3  The red ball hit the brown ball. The blue ball...      True        blue   \n",
       "4  The blue ball hit the red ball. The red ball h...     False        blue   \n",
       "\n",
       "  second_color final_color answers_start_chain answers_second_chain  \\\n",
       "0          red       green    \\nThe blue ball.      \\nThe red ball.   \n",
       "1          red       green    \\nThe blue ball.      \\nThe red ball.   \n",
       "2          red       brown    \\nThe blue ball.      \\nThe red ball.   \n",
       "3          red       brown    \\nThe blue ball.     \\nThe blue ball.   \n",
       "4          red      purple    \\nThe blue ball.   \\nThe purple ball.   \n",
       "\n",
       "    answers_into_hole  \n",
       "0   \\nThe green ball.  \n",
       "1   \\nThe green ball.  \n",
       "2   \\nThe brown ball.  \n",
       "3   \\nThe brown ball.  \n",
       "4  \\nThe purple ball.  "
      ]
     },
     "execution_count": 22,
     "metadata": {},
     "output_type": "execute_result"
    }
   ],
   "source": [
    "df_toy_problem_3c[\"answers_start_chain\"] = answers_c3_q1\n",
    "df_toy_problem_3c[\"answers_second_chain\"] = answers_c3_q2\n",
    "df_toy_problem_3c[\"answers_into_hole\"] = answers_c3_q3\n",
    "\n",
    "path=\"data/toy_problem_3_results/toy_problem_3c_results_one_shot_{}.csv\".format(gpt3_model)\n",
    "df_toy_problem_3c.to_csv(path, index=False)\n",
    "df_toy_problem_3c.head()"
   ]
  },
  {
   "cell_type": "markdown",
   "metadata": {},
   "source": [
    "## Nonsense words"
   ]
  },
  {
   "cell_type": "code",
   "execution_count": 23,
   "metadata": {},
   "outputs": [
    {
     "name": "stdout",
     "output_type": "stream",
     "text": [
      "Question: What started the chain? The schleep hit the blubb. The blubb hit the baz. The baz fell in the hole. Answer: The schleep.\n",
      "The baz hit the fuu. The fuu hit the bla. The bla fell in the hole. Answer:\n",
      "\n",
      "\n",
      "Question: What started the chain? The blubb hit the baz. The schleep hit the blubb. The baz fell in the hole. Answer: the schleep.\n",
      "The fuu hit the bla. The baz hit the fuu. The bla fell in the hole. Answer:\n"
     ]
    }
   ],
   "source": [
    "test_prompt_3nonsense = \"Question: What started the chain? The schleep hit the blubb. The blubb hit the baz. The baz fell in the hole. Answer: The schleep.\\nThe baz hit the fuu. The fuu hit the bla. The bla fell in the hole. Answer:\"\n",
    "test_prompt_3nonsense_switched = \"Question: What started the chain? The blubb hit the baz. The schleep hit the blubb. The baz fell in the hole. Answer: the schleep.\\nThe fuu hit the bla. The baz hit the fuu. The bla fell in the hole. Answer:\"\n",
    "print(test_prompt_3nonsense)\n",
    "print(\"\\n\")\n",
    "print(test_prompt_3nonsense_switched)"
   ]
  },
  {
   "cell_type": "code",
   "execution_count": 24,
   "metadata": {},
   "outputs": [
    {
     "name": "stdout",
     "output_type": "stream",
     "text": [
      " The baz.\n",
      " the baz.\n"
     ]
    }
   ],
   "source": [
    "response_3nonsense = openai.Completion.create(engine=gpt3_model, prompt=test_prompt_3nonsense, max_tokens=15, temperature=0)\n",
    "print(response_3nonsense[\"choices\"][0][\"text\"])\n",
    "response_3nonsense_switched = openai.Completion.create(engine=gpt3_model, prompt=test_prompt_3nonsense_switched, max_tokens=15, temperature=0)\n",
    "print(response_3nonsense_switched[\"choices\"][0][\"text\"])"
   ]
  },
  {
   "cell_type": "code",
   "execution_count": 25,
   "metadata": {},
   "outputs": [
    {
     "data": {
      "text/html": [
       "<div>\n",
       "<style scoped>\n",
       "    .dataframe tbody tr th:only-of-type {\n",
       "        vertical-align: middle;\n",
       "    }\n",
       "\n",
       "    .dataframe tbody tr th {\n",
       "        vertical-align: top;\n",
       "    }\n",
       "\n",
       "    .dataframe thead th {\n",
       "        text-align: right;\n",
       "    }\n",
       "</style>\n",
       "<table border=\"1\" class=\"dataframe\">\n",
       "  <thead>\n",
       "    <tr style=\"text-align: right;\">\n",
       "      <th></th>\n",
       "      <th>sequence</th>\n",
       "      <th>switched</th>\n",
       "      <th>first_word</th>\n",
       "      <th>second_word</th>\n",
       "      <th>final_word</th>\n",
       "    </tr>\n",
       "  </thead>\n",
       "  <tbody>\n",
       "    <tr>\n",
       "      <th>0</th>\n",
       "      <td>The baz hit the fuu. The fuu hit the schleep. ...</td>\n",
       "      <td>False</td>\n",
       "      <td>baz</td>\n",
       "      <td>fuu</td>\n",
       "      <td>schleep</td>\n",
       "    </tr>\n",
       "    <tr>\n",
       "      <th>1</th>\n",
       "      <td>The fuu hit the schleep. The baz hit the fuu. ...</td>\n",
       "      <td>True</td>\n",
       "      <td>baz</td>\n",
       "      <td>fuu</td>\n",
       "      <td>schleep</td>\n",
       "    </tr>\n",
       "    <tr>\n",
       "      <th>2</th>\n",
       "      <td>The baz hit the fuu. The fuu hit the blubb. Th...</td>\n",
       "      <td>False</td>\n",
       "      <td>baz</td>\n",
       "      <td>fuu</td>\n",
       "      <td>blubb</td>\n",
       "    </tr>\n",
       "    <tr>\n",
       "      <th>3</th>\n",
       "      <td>The fuu hit the blubb. The baz hit the fuu. Th...</td>\n",
       "      <td>True</td>\n",
       "      <td>baz</td>\n",
       "      <td>fuu</td>\n",
       "      <td>blubb</td>\n",
       "    </tr>\n",
       "    <tr>\n",
       "      <th>4</th>\n",
       "      <td>The baz hit the fuu. The fuu hit the bla. The ...</td>\n",
       "      <td>False</td>\n",
       "      <td>baz</td>\n",
       "      <td>fuu</td>\n",
       "      <td>bla</td>\n",
       "    </tr>\n",
       "  </tbody>\n",
       "</table>\n",
       "</div>"
      ],
      "text/plain": [
       "                                            sequence  switched first_word  \\\n",
       "0  The baz hit the fuu. The fuu hit the schleep. ...     False        baz   \n",
       "1  The fuu hit the schleep. The baz hit the fuu. ...      True        baz   \n",
       "2  The baz hit the fuu. The fuu hit the blubb. Th...     False        baz   \n",
       "3  The fuu hit the blubb. The baz hit the fuu. Th...      True        baz   \n",
       "4  The baz hit the fuu. The fuu hit the bla. The ...     False        baz   \n",
       "\n",
       "  second_word final_word  \n",
       "0         fuu    schleep  \n",
       "1         fuu    schleep  \n",
       "2         fuu      blubb  \n",
       "3         fuu      blubb  \n",
       "4         fuu        bla  "
      ]
     },
     "execution_count": 25,
     "metadata": {},
     "output_type": "execute_result"
    }
   ],
   "source": [
    "df_toy_problem_3nonsense = pd.read_csv(\"data/toy_problem_3/toy_problem_3nonsense.csv\")\n",
    "df_toy_problem_3nonsense.head()"
   ]
  },
  {
   "cell_type": "code",
   "execution_count": 26,
   "metadata": {},
   "outputs": [],
   "source": [
    "question1_n = \"Question: What started the chain?\"\n",
    "example1_n = \"The schleep hit the blubb. The blubb hit the baz. The baz fell in the hole. Answer: The schleep.\"\n",
    "question2_n = \"Question: What was second in the chain?\"\n",
    "example2_n = \"The schleep hit the blubb. The blubb hit the baz. The baz fell in the hole. Answer: The blubb.\"\n",
    "question3_n = \"Question: What fell into the hole?\"\n",
    "example3_n = \"The schleep hit the blubb. The blubb hit the baz. The baz fell in the hole. Answer: The baz.\""
   ]
  },
  {
   "cell_type": "code",
   "execution_count": 27,
   "metadata": {},
   "outputs": [
    {
     "name": "stderr",
     "output_type": "stream",
     "text": [
      "70it [01:26,  1.24s/it]\n"
     ]
    }
   ],
   "source": [
    "# run and populate the entire dataframe\n",
    "answers_n3_q1 = []\n",
    "answers_n3_q2 = []\n",
    "answers_n3_q3 = []\n",
    "\n",
    "for index, row in tqdm(df_toy_problem_3nonsense.iterrows()):\n",
    "    prompt_q1 = question1_n + \"\\n\" + example1_n + \"\\n\" + row[\"sequence\"] + \" Answer: \"\n",
    "    prompt_q2 = question2_n + \"\\n\" + example2_n + \"\\n\" + row[\"sequence\"] + \" Answer: \"\n",
    "    prompt_q3 = question3_n + \"\\n\" + example3_n + \"\\n\" + row[\"sequence\"] + \" Answer: \"\n",
    "    response_q1 = openai.Completion.create(engine=gpt3_model, prompt=prompt_q1, max_tokens=15, temperature=0)\n",
    "    response_text_q1 = response_q1[\"choices\"][0][\"text\"]\n",
    "    response_q2 = openai.Completion.create(engine=gpt3_model, prompt=prompt_q2, max_tokens=15, temperature=0)\n",
    "    response_text_q2 = response_q2[\"choices\"][0][\"text\"]\n",
    "    response_q3 = openai.Completion.create(engine=gpt3_model, prompt=prompt_q3, max_tokens=15, temperature=0)\n",
    "    response_text_q3 = response_q3[\"choices\"][0][\"text\"]\n",
    "#    print(response_text_q1)\n",
    "#    print(response_text_q2)\n",
    "#    print(response_text_q3)\n",
    "    answers_n3_q1.append(response_text_q1)\n",
    "    answers_n3_q2.append(response_text_q2)\n",
    "    answers_n3_q3.append(response_text_q3)"
   ]
  },
  {
   "cell_type": "code",
   "execution_count": 28,
   "metadata": {},
   "outputs": [
    {
     "data": {
      "text/html": [
       "<div>\n",
       "<style scoped>\n",
       "    .dataframe tbody tr th:only-of-type {\n",
       "        vertical-align: middle;\n",
       "    }\n",
       "\n",
       "    .dataframe tbody tr th {\n",
       "        vertical-align: top;\n",
       "    }\n",
       "\n",
       "    .dataframe thead th {\n",
       "        text-align: right;\n",
       "    }\n",
       "</style>\n",
       "<table border=\"1\" class=\"dataframe\">\n",
       "  <thead>\n",
       "    <tr style=\"text-align: right;\">\n",
       "      <th></th>\n",
       "      <th>sequence</th>\n",
       "      <th>switched</th>\n",
       "      <th>first_word</th>\n",
       "      <th>second_word</th>\n",
       "      <th>final_word</th>\n",
       "      <th>answers_start_chain</th>\n",
       "      <th>answers_second_chain</th>\n",
       "      <th>answers_into_hole</th>\n",
       "    </tr>\n",
       "  </thead>\n",
       "  <tbody>\n",
       "    <tr>\n",
       "      <th>0</th>\n",
       "      <td>The baz hit the fuu. The fuu hit the schleep. ...</td>\n",
       "      <td>False</td>\n",
       "      <td>baz</td>\n",
       "      <td>fuu</td>\n",
       "      <td>schleep</td>\n",
       "      <td>\\nThe baz.</td>\n",
       "      <td>\\nThe fuu.</td>\n",
       "      <td>\\nThe schleep.</td>\n",
       "    </tr>\n",
       "    <tr>\n",
       "      <th>1</th>\n",
       "      <td>The fuu hit the schleep. The baz hit the fuu. ...</td>\n",
       "      <td>True</td>\n",
       "      <td>baz</td>\n",
       "      <td>fuu</td>\n",
       "      <td>schleep</td>\n",
       "      <td>\\nThe fuu.</td>\n",
       "      <td>\\nThe baz.</td>\n",
       "      <td>\\nThe schleep.</td>\n",
       "    </tr>\n",
       "    <tr>\n",
       "      <th>2</th>\n",
       "      <td>The baz hit the fuu. The fuu hit the blubb. Th...</td>\n",
       "      <td>False</td>\n",
       "      <td>baz</td>\n",
       "      <td>fuu</td>\n",
       "      <td>blubb</td>\n",
       "      <td>\\nThe baz.</td>\n",
       "      <td>\\nThe fuu.</td>\n",
       "      <td>\\nThe blubb.</td>\n",
       "    </tr>\n",
       "    <tr>\n",
       "      <th>3</th>\n",
       "      <td>The fuu hit the blubb. The baz hit the fuu. Th...</td>\n",
       "      <td>True</td>\n",
       "      <td>baz</td>\n",
       "      <td>fuu</td>\n",
       "      <td>blubb</td>\n",
       "      <td>\\nThe fuu.</td>\n",
       "      <td>\\nThe blubb.</td>\n",
       "      <td>\\nThe blubb.</td>\n",
       "    </tr>\n",
       "    <tr>\n",
       "      <th>4</th>\n",
       "      <td>The baz hit the fuu. The fuu hit the bla. The ...</td>\n",
       "      <td>False</td>\n",
       "      <td>baz</td>\n",
       "      <td>fuu</td>\n",
       "      <td>bla</td>\n",
       "      <td>\\nThe baz.</td>\n",
       "      <td>\\nThe bla.</td>\n",
       "      <td>\\n\\nThe bla.</td>\n",
       "    </tr>\n",
       "  </tbody>\n",
       "</table>\n",
       "</div>"
      ],
      "text/plain": [
       "                                            sequence  switched first_word  \\\n",
       "0  The baz hit the fuu. The fuu hit the schleep. ...     False        baz   \n",
       "1  The fuu hit the schleep. The baz hit the fuu. ...      True        baz   \n",
       "2  The baz hit the fuu. The fuu hit the blubb. Th...     False        baz   \n",
       "3  The fuu hit the blubb. The baz hit the fuu. Th...      True        baz   \n",
       "4  The baz hit the fuu. The fuu hit the bla. The ...     False        baz   \n",
       "\n",
       "  second_word final_word answers_start_chain answers_second_chain  \\\n",
       "0         fuu    schleep          \\nThe baz.           \\nThe fuu.   \n",
       "1         fuu    schleep          \\nThe fuu.           \\nThe baz.   \n",
       "2         fuu      blubb          \\nThe baz.           \\nThe fuu.   \n",
       "3         fuu      blubb          \\nThe fuu.         \\nThe blubb.   \n",
       "4         fuu        bla          \\nThe baz.           \\nThe bla.   \n",
       "\n",
       "  answers_into_hole  \n",
       "0    \\nThe schleep.  \n",
       "1    \\nThe schleep.  \n",
       "2      \\nThe blubb.  \n",
       "3      \\nThe blubb.  \n",
       "4      \\n\\nThe bla.  "
      ]
     },
     "execution_count": 28,
     "metadata": {},
     "output_type": "execute_result"
    }
   ],
   "source": [
    "df_toy_problem_3nonsense[\"answers_start_chain\"] = answers_n3_q1\n",
    "df_toy_problem_3nonsense[\"answers_second_chain\"] = answers_n3_q2\n",
    "df_toy_problem_3nonsense[\"answers_into_hole\"] = answers_n3_q3\n",
    "\n",
    "path=\"data/toy_problem_3_results/toy_problem_3nonsense_results_one_shot_{}.csv\".format(gpt3_model)\n",
    "df_toy_problem_3nonsense.to_csv(path, index=False)\n",
    "df_toy_problem_3nonsense.head()"
   ]
  },
  {
   "cell_type": "code",
   "execution_count": null,
   "metadata": {},
   "outputs": [],
   "source": []
  }
 ],
 "metadata": {
  "kernelspec": {
   "display_name": "Python 3",
   "language": "python",
   "name": "python3"
  },
  "language_info": {
   "codemirror_mode": {
    "name": "ipython",
    "version": 3
   },
   "file_extension": ".py",
   "mimetype": "text/x-python",
   "name": "python",
   "nbconvert_exporter": "python",
   "pygments_lexer": "ipython3",
   "version": "3.8.5"
  }
 },
 "nbformat": 4,
 "nbformat_minor": 4
}
