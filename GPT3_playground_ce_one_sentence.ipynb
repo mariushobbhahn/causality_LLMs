{
 "cells": [
  {
   "cell_type": "markdown",
   "metadata": {},
   "source": [
    "# Playground for cause and effect one sentence\n",
    "\n",
    "TODO:explain "
   ]
  },
  {
   "cell_type": "code",
   "execution_count": 1,
   "metadata": {},
   "outputs": [],
   "source": [
    "import os\n",
    "import numpy as np\n",
    "import openai\n",
    "import pandas as pd\n",
    "from tqdm import tqdm\n",
    "from setups.ce_one_sentence_setup import CEOneSentence\n",
    "\n",
    "# Load your API key from an environment variable or secret management service\n",
    "openai.api_key = os.getenv(\"OPENAI_KEY\")"
   ]
  },
  {
   "cell_type": "code",
   "execution_count": 2,
   "metadata": {},
   "outputs": [],
   "source": [
    "gpt3_model = \"text-davinci-001\"\n",
    "#gpt3_model = \"text-curie-001\"\n",
    "#gpt3_model = \"text-babbage-001\"\n",
    "#gpt3_model = \"text-ada-001\""
   ]
  },
  {
   "cell_type": "code",
   "execution_count": 3,
   "metadata": {},
   "outputs": [],
   "source": [
    "# test run\n",
    "def gpt3_response(prompt, model):\n",
    "    response = openai.Completion.create(engine=model, prompt=prompt, max_tokens=20, temperature=0)\n",
    "    return(response[\"choices\"][0][\"text\"])"
   ]
  },
  {
   "cell_type": "code",
   "execution_count": 4,
   "metadata": {},
   "outputs": [],
   "source": [
    "ce_1_sentence = CEOneSentence()"
   ]
  },
  {
   "cell_type": "code",
   "execution_count": 5,
   "metadata": {},
   "outputs": [
    {
     "data": {
      "text/html": [
       "<div>\n",
       "<style scoped>\n",
       "    .dataframe tbody tr th:only-of-type {\n",
       "        vertical-align: middle;\n",
       "    }\n",
       "\n",
       "    .dataframe tbody tr th {\n",
       "        vertical-align: top;\n",
       "    }\n",
       "\n",
       "    .dataframe thead th {\n",
       "        text-align: right;\n",
       "    }\n",
       "</style>\n",
       "<table border=\"1\" class=\"dataframe\">\n",
       "  <thead>\n",
       "    <tr style=\"text-align: right;\">\n",
       "      <th></th>\n",
       "      <th>sequence</th>\n",
       "      <th>answer_cause</th>\n",
       "      <th>switched</th>\n",
       "    </tr>\n",
       "  </thead>\n",
       "  <tbody>\n",
       "    <tr>\n",
       "      <th>0</th>\n",
       "      <td>The child started crying because the child hur...</td>\n",
       "      <td>The child started crying because the child hur...</td>\n",
       "      <td>False</td>\n",
       "    </tr>\n",
       "    <tr>\n",
       "      <th>1</th>\n",
       "      <td>The child hurt their knee because the child st...</td>\n",
       "      <td>The child started crying because the child hur...</td>\n",
       "      <td>True</td>\n",
       "    </tr>\n",
       "    <tr>\n",
       "      <th>2</th>\n",
       "      <td>I washed the car because my car got dirty. My ...</td>\n",
       "      <td>I washed the car because my car got dirty.</td>\n",
       "      <td>False</td>\n",
       "    </tr>\n",
       "    <tr>\n",
       "      <th>3</th>\n",
       "      <td>My car got dirty because i washed the car. I w...</td>\n",
       "      <td>I washed the car because my car got dirty.</td>\n",
       "      <td>True</td>\n",
       "    </tr>\n",
       "    <tr>\n",
       "      <th>4</th>\n",
       "      <td>Someone called 911 because someone fainted. So...</td>\n",
       "      <td>Someone called 911 because someone fainted.</td>\n",
       "      <td>False</td>\n",
       "    </tr>\n",
       "    <tr>\n",
       "      <th>...</th>\n",
       "      <td>...</td>\n",
       "      <td>...</td>\n",
       "      <td>...</td>\n",
       "    </tr>\n",
       "    <tr>\n",
       "      <th>97</th>\n",
       "      <td>Ted went out drinking because Ted had a hangov...</td>\n",
       "      <td>Ted had a hangover because Ted went out drinking.</td>\n",
       "      <td>True</td>\n",
       "    </tr>\n",
       "    <tr>\n",
       "      <th>98</th>\n",
       "      <td>Bob opened the jar and was frustrated because ...</td>\n",
       "      <td>Bob opened the jar and was frustrated because ...</td>\n",
       "      <td>False</td>\n",
       "    </tr>\n",
       "    <tr>\n",
       "      <th>99</th>\n",
       "      <td>Alice ate the last cookie because Bob opened t...</td>\n",
       "      <td>Bob opened the jar and was frustrated because ...</td>\n",
       "      <td>True</td>\n",
       "    </tr>\n",
       "    <tr>\n",
       "      <th>100</th>\n",
       "      <td>Mom rinsed the tray because Jimmy took the las...</td>\n",
       "      <td>Mom rinsed the tray because Jimmy took the las...</td>\n",
       "      <td>False</td>\n",
       "    </tr>\n",
       "    <tr>\n",
       "      <th>101</th>\n",
       "      <td>Jimmy took the last piece of cake because mom ...</td>\n",
       "      <td>Mom rinsed the tray because Jimmy took the las...</td>\n",
       "      <td>True</td>\n",
       "    </tr>\n",
       "  </tbody>\n",
       "</table>\n",
       "<p>102 rows × 3 columns</p>\n",
       "</div>"
      ],
      "text/plain": [
       "                                              sequence  \\\n",
       "0    The child started crying because the child hur...   \n",
       "1    The child hurt their knee because the child st...   \n",
       "2    I washed the car because my car got dirty. My ...   \n",
       "3    My car got dirty because i washed the car. I w...   \n",
       "4    Someone called 911 because someone fainted. So...   \n",
       "..                                                 ...   \n",
       "97   Ted went out drinking because Ted had a hangov...   \n",
       "98   Bob opened the jar and was frustrated because ...   \n",
       "99   Alice ate the last cookie because Bob opened t...   \n",
       "100  Mom rinsed the tray because Jimmy took the las...   \n",
       "101  Jimmy took the last piece of cake because mom ...   \n",
       "\n",
       "                                          answer_cause  switched  \n",
       "0    The child started crying because the child hur...     False  \n",
       "1    The child started crying because the child hur...      True  \n",
       "2           I washed the car because my car got dirty.     False  \n",
       "3           I washed the car because my car got dirty.      True  \n",
       "4          Someone called 911 because someone fainted.     False  \n",
       "..                                                 ...       ...  \n",
       "97   Ted had a hangover because Ted went out drinking.      True  \n",
       "98   Bob opened the jar and was frustrated because ...     False  \n",
       "99   Bob opened the jar and was frustrated because ...      True  \n",
       "100  Mom rinsed the tray because Jimmy took the las...     False  \n",
       "101  Mom rinsed the tray because Jimmy took the las...      True  \n",
       "\n",
       "[102 rows x 3 columns]"
      ]
     },
     "execution_count": 5,
     "metadata": {},
     "output_type": "execute_result"
    }
   ],
   "source": [
    "ce_1_sentence.generate_sequences_df()"
   ]
  },
  {
   "cell_type": "code",
   "execution_count": 6,
   "metadata": {},
   "outputs": [],
   "source": [
    "ce_1_sentence.save_sequences_df(filepath=\"data/bigbench_csvs/ce_one_sentence.csv\")"
   ]
  },
  {
   "cell_type": "markdown",
   "metadata": {},
   "source": [
    "### Zero shot"
   ]
  },
  {
   "cell_type": "code",
   "execution_count": 7,
   "metadata": {},
   "outputs": [
    {
     "name": "stdout",
     "output_type": "stream",
     "text": [
      "The child started crying because the child hurt their knee. The child hurt their knee because the child started crying. Question: Which sentence describes the cause and effect relationship better? Answer by copying the sentence: \n",
      "\n",
      "The child started crying because the child hurt their knee.\n",
      "\n",
      "The child hurt their knee because the child started crying. The child started crying because the child hurt their knee. Question: Which sentence describes the cause and effect relationship better? Answer by copying the sentence: \n",
      "\n",
      "The child started crying because the child hurt their knee.\n",
      "\n"
     ]
    }
   ],
   "source": [
    "prompt_zs = ce_1_sentence.generate_single_prompt_zero_shot(n_subset=0, switched=False, question=\"cause\")\n",
    "prompt_zs_switched = ce_1_sentence.generate_single_prompt_zero_shot(n_subset=0, switched=True, question=\"cause\")\n",
    "\n",
    "print(prompt_zs + gpt3_response(prompt_zs, gpt3_model) + \"\\n\")\n",
    "print(prompt_zs_switched + gpt3_response(prompt_zs_switched, gpt3_model) + \"\\n\")"
   ]
  },
  {
   "cell_type": "code",
   "execution_count": 8,
   "metadata": {},
   "outputs": [
    {
     "name": "stdout",
     "output_type": "stream",
     "text": [
      "['The child started crying because the child hurt their knee. The child hurt their knee because the child started crying. Question: Which sentence describes the cause and effect relationship better? Answer by copying the sentence: ', 'The child hurt their knee because the child started crying. The child started crying because the child hurt their knee. Question: Which sentence describes the cause and effect relationship better? Answer by copying the sentence: ', 'I washed the car because my car got dirty. My car got dirty because i washed the car. Question: Which sentence describes the cause and effect relationship better? Answer by copying the sentence: ']\n"
     ]
    }
   ],
   "source": [
    "print(ce_1_sentence.generate_all_prompts_zero_shot(question='cause')[:3])"
   ]
  },
  {
   "cell_type": "markdown",
   "metadata": {},
   "source": [
    "### One shot"
   ]
  },
  {
   "cell_type": "code",
   "execution_count": 9,
   "metadata": {},
   "outputs": [
    {
     "name": "stdout",
     "output_type": "stream",
     "text": [
      "We made French toast because the bread was dry. The bread was dry because we made French toast. Question: Which sentence describes the cause and effect relationship better? Answer by copying the sentence: We made French toast because the bread was dry.\n",
      "The child started crying because the child hurt their knee. The child hurt their knee because the child started crying. Question: Which sentence describes the cause and effect relationship better? Answer by copying the sentence: \n",
      "The child started crying because the child hurt their knee.\n",
      "\n",
      "The gardener planted a seed because a flower grew. A flower grew because the gardener planted a seed. Question: Which sentence describes the cause and effect relationship better? Answer by copying the sentence: A flower grew because the gardener planted a seed.\n",
      "The child hurt their knee because the child started crying. The child started crying because the child hurt their knee. Question: Which sentence describes the cause and effect relationship better? Answer by copying the sentence: \n",
      "\n",
      "The child started crying because the child hurt their knee.\n",
      "\n"
     ]
    }
   ],
   "source": [
    "prompt_os = ce_1_sentence.generate_single_prompt_one_shot(n_subset=0, switched=False, question=\"cause\")\n",
    "\n",
    "prompt_os_switched = ce_1_sentence.generate_single_prompt_one_shot(n_subset=0, switched=True, question=\"cause\")\n",
    "\n",
    "print(prompt_os + gpt3_response(prompt_os, gpt3_model) + \"\\n\")\n",
    "\n",
    "print(prompt_os_switched + gpt3_response(prompt_os_switched, gpt3_model) + \"\\n\")"
   ]
  },
  {
   "cell_type": "code",
   "execution_count": 10,
   "metadata": {},
   "outputs": [
    {
     "name": "stdout",
     "output_type": "stream",
     "text": [
      "['Light filled the room because i flipped the switch. I flipped the switch because light filled the room. Question: Which sentence describes the cause and effect relationship better? Answer by copying the sentence: Light filled the room because i flipped the switch.\\nThe child started crying because the child hurt their knee. The child hurt their knee because the child started crying. Question: Which sentence describes the cause and effect relationship better? Answer by copying the sentence: ', \"Alice didn't wake up because Alice missed her flight. Alice missed her flight because Alice didn't wake up. Question: Which sentence describes the cause and effect relationship better? Answer by copying the sentence: Alice missed her flight because Alice didn't wake up.\\nThe child hurt their knee because the child started crying. The child started crying because the child hurt their knee. Question: Which sentence describes the cause and effect relationship better? Answer by copying the sentence: \", 'Ted had a hangover because Ted went out drinking. Ted went out drinking because Ted had a hangover. Question: Which sentence describes the cause and effect relationship better? Answer by copying the sentence: Ted had a hangover because Ted went out drinking.\\nI washed the car because my car got dirty. My car got dirty because i washed the car. Question: Which sentence describes the cause and effect relationship better? Answer by copying the sentence: ']\n"
     ]
    }
   ],
   "source": [
    "print(ce_1_sentence.generate_all_prompts_one_shot(question='cause')[:3])"
   ]
  },
  {
   "cell_type": "markdown",
   "metadata": {},
   "source": [
    "### K=5 shot"
   ]
  },
  {
   "cell_type": "code",
   "execution_count": 12,
   "metadata": {},
   "outputs": [
    {
     "name": "stdout",
     "output_type": "stream",
     "text": [
      "Bob opened the jar and was frustrated because Alice ate the last cookie. Alice ate the last cookie because Bob opened the jar and was frustrated. Question: Which sentence describes the cause and effect relationship better? Answer by copying the sentence: Bob opened the jar and was frustrated because Alice ate the last cookie.\n",
      "The picnic was cancelled because it rained. It rained because the picnic was cancelled. Question: Which sentence describes the cause and effect relationship better? Answer by copying the sentence: The picnic was cancelled because it rained.\n",
      "The ship capsized because the wind blew strong. The wind blew strong because the ship capsized. Question: Which sentence describes the cause and effect relationship better? Answer by copying the sentence: The ship capsized because the wind blew strong.\n",
      "A search party was assembled because the man got lost in the woods. The man got lost in the woods because a search party was assembled. Question: Which sentence describes the cause and effect relationship better? Answer by copying the sentence: A search party was assembled because the man got lost in the woods.\n",
      "The dog bit me because i pulled the dog's tail. I pulled the dog's tail because the dog bit me. Question: Which sentence describes the cause and effect relationship better? Answer by copying the sentence: The dog bit me because i pulled the dog's tail.\n",
      "The child started crying because the child hurt their knee. The child hurt their knee because the child started crying. Question: Which sentence describes the cause and effect relationship better? Answer by copying the sentence: \n",
      "The child started crying because the child hurt their knee.\n",
      "\n",
      "I studied hard because i got an A on the test. I got an A on the test because i studied hard. Question: Which sentence describes the cause and effect relationship better? Answer by copying the sentence: I got an A on the test because i studied hard.\n",
      "A bird hit the engine because the pilot turned on the \"fasten seatbelts\" light. The pilot turned on the \"fasten seatbelts\" light because a bird hit the engine. Question: Which sentence describes the cause and effect relationship better? Answer by copying the sentence: The pilot turned on the \"fasten seatbelts\" light because a bird hit the engine.\n",
      "Alice ate the last cookie because Bob opened the jar and was frustrated. Bob opened the jar and was frustrated because Alice ate the last cookie. Question: Which sentence describes the cause and effect relationship better? Answer by copying the sentence: Bob opened the jar and was frustrated because Alice ate the last cookie.\n",
      "The tenants noticed mold on the bathroom ceiling because the tenants contacted their landlord. The tenants contacted their landlord because the tenants noticed mold on the bathroom ceiling. Question: Which sentence describes the cause and effect relationship better? Answer by copying the sentence: The tenants contacted their landlord because the tenants noticed mold on the bathroom ceiling.\n",
      "The air conditioner broke because the family went to the beach. The family went to the beach because the air conditioner broke. Question: Which sentence describes the cause and effect relationship better? Answer by copying the sentence: The family went to the beach because the air conditioner broke.\n",
      "The child hurt their knee because the child started crying. The child started crying because the child hurt their knee. Question: Which sentence describes the cause and effect relationship better? Answer by copying the sentence: \n",
      "The child started crying because the child hurt their knee.\n",
      "\n"
     ]
    }
   ],
   "source": [
    "prompt_ks = ce_1_sentence.generate_single_prompt_k_shot(n_subset=0, k=5, switched=False, question=\"cause\")\n",
    "\n",
    "prompt_ks_switched = ce_1_sentence.generate_single_prompt_k_shot(n_subset=0, k=5, switched=True, question=\"cause\")\n",
    "\n",
    "print(prompt_ks + gpt3_response(prompt_ks, gpt3_model) + \"\\n\")\n",
    "print(prompt_ks_switched + gpt3_response(prompt_ks_switched, gpt3_model) + \"\\n\")"
   ]
  },
  {
   "cell_type": "code",
   "execution_count": 14,
   "metadata": {},
   "outputs": [
    {
     "name": "stdout",
     "output_type": "stream",
     "text": [
      "['The man went to jail because the man robbed a gas station. The man robbed a gas station because the man went to jail. Question: Which sentence describes the cause and effect relationship better? Answer by copying the sentence: The man went to jail because the man robbed a gas station.\\nSunlight filled the room because the curtains were opened. The curtains were opened because sunlight filled the room. Question: Which sentence describes the cause and effect relationship better? Answer by copying the sentence: Sunlight filled the room because the curtains were opened.\\nThe girl got detention because the girl skipped school. The girl skipped school because the girl got detention. Question: Which sentence describes the cause and effect relationship better? Answer by copying the sentence: The girl got detention because the girl skipped school.\\nA man was covered in sticky red goo because a watermelon exploded. A watermelon exploded because a man was covered in sticky red goo. Question: Which sentence describes the cause and effect relationship better? Answer by copying the sentence: A man was covered in sticky red goo because a watermelon exploded.\\nThe woman who was walking on the street opened her umbrella because it started raining. It started raining because the woman who was walking on the street opened her umbrella. Question: Which sentence describes the cause and effect relationship better? Answer by copying the sentence: The woman who was walking on the street opened her umbrella because it started raining.\\nThe child started crying because the child hurt their knee. The child hurt their knee because the child started crying. Question: Which sentence describes the cause and effect relationship better? Answer by copying the sentence: ', 'The bread was dry because we made French toast. We made French toast because the bread was dry. Question: Which sentence describes the cause and effect relationship better? Answer by copying the sentence: We made French toast because the bread was dry.\\nI studied hard because i got an A on the test. I got an A on the test because i studied hard. Question: Which sentence describes the cause and effect relationship better? Answer by copying the sentence: I got an A on the test because i studied hard.\\nThere was a loud noise because the boy lifted his eyes from the book. The boy lifted his eyes from the book because there was a loud noise. Question: Which sentence describes the cause and effect relationship better? Answer by copying the sentence: The boy lifted his eyes from the book because there was a loud noise.\\nThe child hurt their knee because the child started crying. The child started crying because the child hurt their knee. Question: Which sentence describes the cause and effect relationship better? Answer by copying the sentence: The child started crying because the child hurt their knee.\\nA bird hit the engine because the pilot turned on the \"fasten seatbelts\" light. The pilot turned on the \"fasten seatbelts\" light because a bird hit the engine. Question: Which sentence describes the cause and effect relationship better? Answer by copying the sentence: The pilot turned on the \"fasten seatbelts\" light because a bird hit the engine.\\nThe child hurt their knee because the child started crying. The child started crying because the child hurt their knee. Question: Which sentence describes the cause and effect relationship better? Answer by copying the sentence: ', 'The dinosaurs became extinct because a large object hit the Earth. A large object hit the Earth because the dinosaurs became extinct. Question: Which sentence describes the cause and effect relationship better? Answer by copying the sentence: The dinosaurs became extinct because a large object hit the Earth.\\nThe woman who was walking on the street opened her umbrella because it started raining. It started raining because the woman who was walking on the street opened her umbrella. Question: Which sentence describes the cause and effect relationship better? Answer by copying the sentence: The woman who was walking on the street opened her umbrella because it started raining.\\nThe meat spoiled because the power was out for days. The power was out for days because the meat spoiled. Question: Which sentence describes the cause and effect relationship better? Answer by copying the sentence: The meat spoiled because the power was out for days.\\nThe driver hit the brakes because the girl stepped onto the street. The girl stepped onto the street because the driver hit the brakes. Question: Which sentence describes the cause and effect relationship better? Answer by copying the sentence: The driver hit the brakes because the girl stepped onto the street.\\nThe family went on vacation because school was on break. School was on break because the family went on vacation. Question: Which sentence describes the cause and effect relationship better? Answer by copying the sentence: The family went on vacation because school was on break.\\nI washed the car because my car got dirty. My car got dirty because i washed the car. Question: Which sentence describes the cause and effect relationship better? Answer by copying the sentence: ']\n"
     ]
    }
   ],
   "source": [
    "print(ce_1_sentence.generate_all_prompts_k_shot(k=5, question='cause')[:3])"
   ]
  },
  {
   "cell_type": "code",
   "execution_count": null,
   "metadata": {},
   "outputs": [],
   "source": []
  }
 ],
 "metadata": {
  "kernelspec": {
   "display_name": "Python 3",
   "language": "python",
   "name": "python3"
  },
  "language_info": {
   "codemirror_mode": {
    "name": "ipython",
    "version": 3
   },
   "file_extension": ".py",
   "mimetype": "text/x-python",
   "name": "python",
   "nbconvert_exporter": "python",
   "pygments_lexer": "ipython3",
   "version": "3.8.5"
  }
 },
 "nbformat": 4,
 "nbformat_minor": 4
}
