{
 "cells": [
  {
   "cell_type": "markdown",
   "metadata": {},
   "source": [
    "# Playground for cause and effect one sentence\n",
    "\n",
    "You can use the playground to test the different evaluation functions. If you want to run the entire evaluation please use the respective .py script. "
   ]
  },
  {
   "cell_type": "code",
   "execution_count": 1,
   "metadata": {},
   "outputs": [],
   "source": [
    "import os\n",
    "import numpy as np\n",
    "import openai\n",
    "import pandas as pd\n",
    "from tqdm import tqdm\n",
    "from setups.ce_one_sentence_setup import CEOneSentence\n",
    "\n",
    "# Load your API key from an environment variable or secret management service\n",
    "openai.api_key = os.getenv(\"OPENAI_KEY\")"
   ]
  },
  {
   "cell_type": "code",
   "execution_count": 2,
   "metadata": {},
   "outputs": [],
   "source": [
    "gpt3_model = \"text-davinci-002\"\n",
    "#gpt3_model = \"text-curie-001\"\n",
    "#gpt3_model = \"text-babbage-001\"\n",
    "#gpt3_model = \"text-ada-001\""
   ]
  },
  {
   "cell_type": "code",
   "execution_count": 3,
   "metadata": {},
   "outputs": [],
   "source": [
    "# test run\n",
    "def gpt3_response(prompt, model):\n",
    "    response = openai.Completion.create(engine=model, prompt=prompt, max_tokens=20, temperature=0)\n",
    "    return(response[\"choices\"][0][\"text\"])"
   ]
  },
  {
   "cell_type": "code",
   "execution_count": 4,
   "metadata": {},
   "outputs": [],
   "source": [
    "ce_1_sentence = CEOneSentence()"
   ]
  },
  {
   "cell_type": "code",
   "execution_count": 5,
   "metadata": {},
   "outputs": [
    {
     "data": {
      "text/html": [
       "<div>\n",
       "<style scoped>\n",
       "    .dataframe tbody tr th:only-of-type {\n",
       "        vertical-align: middle;\n",
       "    }\n",
       "\n",
       "    .dataframe tbody tr th {\n",
       "        vertical-align: top;\n",
       "    }\n",
       "\n",
       "    .dataframe thead th {\n",
       "        text-align: right;\n",
       "    }\n",
       "</style>\n",
       "<table border=\"1\" class=\"dataframe\">\n",
       "  <thead>\n",
       "    <tr style=\"text-align: right;\">\n",
       "      <th></th>\n",
       "      <th>sequence</th>\n",
       "      <th>answer_cause</th>\n",
       "      <th>switched</th>\n",
       "    </tr>\n",
       "  </thead>\n",
       "  <tbody>\n",
       "    <tr>\n",
       "      <th>0</th>\n",
       "      <td>The child started crying because the child hur...</td>\n",
       "      <td>The child started crying because the child hur...</td>\n",
       "      <td>False</td>\n",
       "    </tr>\n",
       "    <tr>\n",
       "      <th>1</th>\n",
       "      <td>The child hurt their knee because the child st...</td>\n",
       "      <td>The child started crying because the child hur...</td>\n",
       "      <td>True</td>\n",
       "    </tr>\n",
       "    <tr>\n",
       "      <th>2</th>\n",
       "      <td>I washed the car because my car got dirty. My ...</td>\n",
       "      <td>I washed the car because my car got dirty.</td>\n",
       "      <td>False</td>\n",
       "    </tr>\n",
       "    <tr>\n",
       "      <th>3</th>\n",
       "      <td>My car got dirty because i washed the car. I w...</td>\n",
       "      <td>I washed the car because my car got dirty.</td>\n",
       "      <td>True</td>\n",
       "    </tr>\n",
       "    <tr>\n",
       "      <th>4</th>\n",
       "      <td>Someone called 911 because someone fainted. So...</td>\n",
       "      <td>Someone called 911 because someone fainted.</td>\n",
       "      <td>False</td>\n",
       "    </tr>\n",
       "    <tr>\n",
       "      <th>...</th>\n",
       "      <td>...</td>\n",
       "      <td>...</td>\n",
       "      <td>...</td>\n",
       "    </tr>\n",
       "    <tr>\n",
       "      <th>97</th>\n",
       "      <td>Ted went out drinking because Ted had a hangov...</td>\n",
       "      <td>Ted had a hangover because Ted went out drinking.</td>\n",
       "      <td>True</td>\n",
       "    </tr>\n",
       "    <tr>\n",
       "      <th>98</th>\n",
       "      <td>Bob opened the jar and was frustrated because ...</td>\n",
       "      <td>Bob opened the jar and was frustrated because ...</td>\n",
       "      <td>False</td>\n",
       "    </tr>\n",
       "    <tr>\n",
       "      <th>99</th>\n",
       "      <td>Alice ate the last cookie because Bob opened t...</td>\n",
       "      <td>Bob opened the jar and was frustrated because ...</td>\n",
       "      <td>True</td>\n",
       "    </tr>\n",
       "    <tr>\n",
       "      <th>100</th>\n",
       "      <td>Mom rinsed the tray because Jimmy took the las...</td>\n",
       "      <td>Mom rinsed the tray because Jimmy took the las...</td>\n",
       "      <td>False</td>\n",
       "    </tr>\n",
       "    <tr>\n",
       "      <th>101</th>\n",
       "      <td>Jimmy took the last piece of cake because mom ...</td>\n",
       "      <td>Mom rinsed the tray because Jimmy took the las...</td>\n",
       "      <td>True</td>\n",
       "    </tr>\n",
       "  </tbody>\n",
       "</table>\n",
       "<p>102 rows × 3 columns</p>\n",
       "</div>"
      ],
      "text/plain": [
       "                                              sequence  \\\n",
       "0    The child started crying because the child hur...   \n",
       "1    The child hurt their knee because the child st...   \n",
       "2    I washed the car because my car got dirty. My ...   \n",
       "3    My car got dirty because i washed the car. I w...   \n",
       "4    Someone called 911 because someone fainted. So...   \n",
       "..                                                 ...   \n",
       "97   Ted went out drinking because Ted had a hangov...   \n",
       "98   Bob opened the jar and was frustrated because ...   \n",
       "99   Alice ate the last cookie because Bob opened t...   \n",
       "100  Mom rinsed the tray because Jimmy took the las...   \n",
       "101  Jimmy took the last piece of cake because mom ...   \n",
       "\n",
       "                                          answer_cause  switched  \n",
       "0    The child started crying because the child hur...     False  \n",
       "1    The child started crying because the child hur...      True  \n",
       "2           I washed the car because my car got dirty.     False  \n",
       "3           I washed the car because my car got dirty.      True  \n",
       "4          Someone called 911 because someone fainted.     False  \n",
       "..                                                 ...       ...  \n",
       "97   Ted had a hangover because Ted went out drinking.      True  \n",
       "98   Bob opened the jar and was frustrated because ...     False  \n",
       "99   Bob opened the jar and was frustrated because ...      True  \n",
       "100  Mom rinsed the tray because Jimmy took the las...     False  \n",
       "101  Mom rinsed the tray because Jimmy took the las...      True  \n",
       "\n",
       "[102 rows x 3 columns]"
      ]
     },
     "execution_count": 5,
     "metadata": {},
     "output_type": "execute_result"
    }
   ],
   "source": [
    "ce_1_sentence.generate_sequences_df()"
   ]
  },
  {
   "cell_type": "code",
   "execution_count": 6,
   "metadata": {},
   "outputs": [],
   "source": [
    "ce_1_sentence.save_sequences_df(filepath=\"data/bigbench_csvs/ce_one_sentence.csv\")"
   ]
  },
  {
   "cell_type": "markdown",
   "metadata": {},
   "source": [
    "### Zero shot"
   ]
  },
  {
   "cell_type": "code",
   "execution_count": 7,
   "metadata": {},
   "outputs": [
    {
     "name": "stdout",
     "output_type": "stream",
     "text": [
      "The child started crying because the child hurt their knee. The child hurt their knee because the child started crying. Question: Which sentence describes the cause and effect relationship better? Answer by copying the sentence:\n",
      "\n",
      "The child started crying because the child hurt their knee.\n",
      "\n",
      "The child hurt their knee because the child started crying. The child started crying because the child hurt their knee. Question: Which sentence describes the cause and effect relationship better? Answer by copying the sentence:\n",
      "\n",
      "The child started crying because the child hurt their knee.\n",
      "\n"
     ]
    }
   ],
   "source": [
    "prompt_zs = ce_1_sentence.generate_single_prompt_zero_shot(n_subset=0, switched=False, question=\"cause\")\n",
    "prompt_zs_switched = ce_1_sentence.generate_single_prompt_zero_shot(n_subset=0, switched=True, question=\"cause\")\n",
    "\n",
    "print(prompt_zs + gpt3_response(prompt_zs, gpt3_model) + \"\\n\")\n",
    "print(prompt_zs_switched + gpt3_response(prompt_zs_switched, gpt3_model) + \"\\n\")"
   ]
  },
  {
   "cell_type": "code",
   "execution_count": 8,
   "metadata": {},
   "outputs": [
    {
     "name": "stdout",
     "output_type": "stream",
     "text": [
      "['The child started crying because the child hurt their knee. The child hurt their knee because the child started crying. Question: Which sentence describes the cause and effect relationship better? Answer by copying the sentence:', 'The child hurt their knee because the child started crying. The child started crying because the child hurt their knee. Question: Which sentence describes the cause and effect relationship better? Answer by copying the sentence:', 'I washed the car because my car got dirty. My car got dirty because i washed the car. Question: Which sentence describes the cause and effect relationship better? Answer by copying the sentence:']\n"
     ]
    }
   ],
   "source": [
    "print(ce_1_sentence.generate_all_prompts_zero_shot(question='cause')[:3])"
   ]
  },
  {
   "cell_type": "markdown",
   "metadata": {},
   "source": [
    "### One shot"
   ]
  },
  {
   "cell_type": "code",
   "execution_count": 15,
   "metadata": {},
   "outputs": [
    {
     "name": "stdout",
     "output_type": "stream",
     "text": [
      "normal\n",
      "The woman who was walking on the street opened her umbrella because it started raining. It started raining because the woman who was walking on the street opened her umbrella. Question: Which sentence describes the cause and effect relationship better? Answer by copying the sentence:The woman who was walking on the street opened her umbrella because it started raining.\n",
      "The child started crying because the child hurt their knee. The child hurt their knee because the child started crying. Question: Which sentence describes the cause and effect relationship better? Answer by copying the sentence:\n",
      "\n",
      "The child started crying because the child hurt their knee.\n",
      "\n",
      "both switched\n",
      "The wind blew strong because the ship capsized. The ship capsized because the wind blew strong. Question: Which sentence describes the cause and effect relationship better? Answer by copying the sentence:The ship capsized because the wind blew strong.\n",
      "The child hurt their knee because the child started crying. The child started crying because the child hurt their knee. Question: Which sentence describes the cause and effect relationship better? Answer by copying the sentence:The child started crying because the child hurt their knee.\n",
      "\n",
      "prompt switched, shot normal\n",
      "The girl woke up covered in cold sweat because the girl had a nightmare. The girl had a nightmare because the girl woke up covered in cold sweat. Question: Which sentence describes the cause and effect relationship better? Answer by copying the sentence:The girl woke up covered in cold sweat because the girl had a nightmare.\n",
      "The child started crying because the child hurt their knee. The child hurt their knee because the child started crying. Question: Which sentence describes the cause and effect relationship better? Answer by copying the sentence:The child started crying because the child hurt their knee.\n",
      "\n",
      "prompt normal, shot switched\n",
      "It started raining because the driver turned the wipers on. The driver turned the wipers on because it started raining. Question: Which sentence describes the cause and effect relationship better? Answer by copying the sentence:The driver turned the wipers on because it started raining.\n",
      "The child hurt their knee because the child started crying. The child started crying because the child hurt their knee. Question: Which sentence describes the cause and effect relationship better? Answer by copying the sentence:\n",
      "\n",
      "The child started crying because the child hurt their knee.\n",
      "\n"
     ]
    }
   ],
   "source": [
    "prompt_os = ce_1_sentence.generate_single_prompt_one_shot(n_subset=0, switched=False, question=\"cause\")\n",
    "\n",
    "prompt_os_switched = ce_1_sentence.generate_single_prompt_one_shot(n_subset=0, switched=True, switched_shot=True, question=\"cause\")\n",
    "\n",
    "prompt_os_switched_nss = ce_1_sentence.generate_single_prompt_one_shot(n_subset=0, switched=False, switched_shot=False, question=\"cause\")\n",
    "\n",
    "prompt_os_ss = ce_1_sentence.generate_single_prompt_one_shot(n_subset=0, switched=True, switched_shot=True, question=\"cause\")\n",
    "\n",
    "print(\"normal\")\n",
    "print(prompt_os + gpt3_response(prompt_os, gpt3_model) + \"\\n\")\n",
    "\n",
    "print(\"both switched\")\n",
    "print(prompt_os_switched + gpt3_response(prompt_os_switched, gpt3_model) + \"\\n\")\n",
    "\n",
    "print(\"prompt switched, shot normal\")\n",
    "print(prompt_os_switched_nss + gpt3_response(prompt_os_switched_nss, gpt3_model) + \"\\n\")\n",
    "\n",
    "print(\"prompt normal, shot switched\")\n",
    "print(prompt_os_ss + gpt3_response(prompt_os_ss, gpt3_model) + \"\\n\")"
   ]
  },
  {
   "cell_type": "code",
   "execution_count": 10,
   "metadata": {},
   "outputs": [
    {
     "name": "stdout",
     "output_type": "stream",
     "text": [
      "['Someone called 911 because someone fainted. Someone fainted because someone called 911. Question: Which sentence describes the cause and effect relationship better? Answer by copying the sentence:Someone called 911 because someone fainted.\\nThe child started crying because the child hurt their knee. The child hurt their knee because the child started crying. Question: Which sentence describes the cause and effect relationship better? Answer by copying the sentence:', 'The bread was dry because we made French toast. We made French toast because the bread was dry. Question: Which sentence describes the cause and effect relationship better? Answer by copying the sentence:We made French toast because the bread was dry.\\nThe child hurt their knee because the child started crying. The child started crying because the child hurt their knee. Question: Which sentence describes the cause and effect relationship better? Answer by copying the sentence:']\n"
     ]
    }
   ],
   "source": [
    "print(ce_1_sentence.generate_all_prompts_one_shot(question='cause')[:2])"
   ]
  },
  {
   "cell_type": "code",
   "execution_count": 11,
   "metadata": {},
   "outputs": [
    {
     "name": "stdout",
     "output_type": "stream",
     "text": [
      "['Ted went out drinking because Ted had a hangover. Ted had a hangover because Ted went out drinking. Question: Which sentence describes the cause and effect relationship better? Answer by copying the sentence:Ted had a hangover because Ted went out drinking.\\nThe child started crying because the child hurt their knee. The child hurt their knee because the child started crying. Question: Which sentence describes the cause and effect relationship better? Answer by copying the sentence:', 'School was cancelled because there was a snowstorm. There was a snowstorm because school was cancelled. Question: Which sentence describes the cause and effect relationship better? Answer by copying the sentence:School was cancelled because there was a snowstorm.\\nThe child hurt their knee because the child started crying. The child started crying because the child hurt their knee. Question: Which sentence describes the cause and effect relationship better? Answer by copying the sentence:']\n"
     ]
    }
   ],
   "source": [
    "print(ce_1_sentence.generate_all_prompts_one_shot_switched_shot(question='cause')[:2])"
   ]
  },
  {
   "cell_type": "markdown",
   "metadata": {},
   "source": [
    "### K=5 shot"
   ]
  },
  {
   "cell_type": "code",
   "execution_count": 12,
   "metadata": {},
   "outputs": [
    {
     "name": "stdout",
     "output_type": "stream",
     "text": [
      "The basketball player took a free throw because the basketball player was shoved. The basketball player was shoved because the basketball player took a free throw. Question: Which sentence describes the cause and effect relationship better? Answer by copying the sentence:The basketball player took a free throw because the basketball player was shoved.\n",
      "Light filled the room because i flipped the switch. I flipped the switch because light filled the room. Question: Which sentence describes the cause and effect relationship better? Answer by copying the sentence:Light filled the room because i flipped the switch.\n",
      "We made French toast because the bread was dry. The bread was dry because we made French toast. Question: Which sentence describes the cause and effect relationship better? Answer by copying the sentence:We made French toast because the bread was dry.\n",
      "The dog bit me because i pulled the dog's tail. I pulled the dog's tail because the dog bit me. Question: Which sentence describes the cause and effect relationship better? Answer by copying the sentence:The dog bit me because i pulled the dog's tail.\n",
      "The soda went flat because the bottle was left open. The bottle was left open because the soda went flat. Question: Which sentence describes the cause and effect relationship better? Answer by copying the sentence:The soda went flat because the bottle was left open.\n",
      "The child started crying because the child hurt their knee. The child hurt their knee because the child started crying. Question: Which sentence describes the cause and effect relationship better? Answer by copying the sentence:The child started crying because the child hurt their knee.\n",
      "\n",
      "The girl didn't wear her sweater because the girl caught a cold. The girl caught a cold because the girl didn't wear her sweater. Question: Which sentence describes the cause and effect relationship better? Answer by copying the sentence:The girl caught a cold because the girl didn't wear her sweater.\n",
      "The laptop ran out of battery because George plugged the laptop charger in. George plugged the laptop charger in because the laptop ran out of battery. Question: Which sentence describes the cause and effect relationship better? Answer by copying the sentence:George plugged the laptop charger in because the laptop ran out of battery.\n",
      "Ted went out drinking because Ted had a hangover. Ted had a hangover because Ted went out drinking. Question: Which sentence describes the cause and effect relationship better? Answer by copying the sentence:Ted had a hangover because Ted went out drinking.\n",
      "The man got lost in the woods because a search party was assembled. A search party was assembled because the man got lost in the woods. Question: Which sentence describes the cause and effect relationship better? Answer by copying the sentence:A search party was assembled because the man got lost in the woods.\n",
      "It rained because the picnic was cancelled. The picnic was cancelled because it rained. Question: Which sentence describes the cause and effect relationship better? Answer by copying the sentence:The picnic was cancelled because it rained.\n",
      "The child hurt their knee because the child started crying. The child started crying because the child hurt their knee. Question: Which sentence describes the cause and effect relationship better? Answer by copying the sentence:The child started crying because the child hurt their knee.\n",
      "\n",
      "The driver was pulled over and was fined because the driver ran a red light. The driver ran a red light because the driver was pulled over and was fined. Question: Which sentence describes the cause and effect relationship better? Answer by copying the sentence:The driver was pulled over and was fined because the driver ran a red light.\n",
      "Mom gave the girl fever medicine because the girl had a fever. The girl had a fever because mom gave the girl fever medicine. Question: Which sentence describes the cause and effect relationship better? Answer by copying the sentence:Mom gave the girl fever medicine because the girl had a fever.\n",
      "The company's stock went up because the company's posted strong earnings. The company's posted strong earnings because the company's stock went up. Question: Which sentence describes the cause and effect relationship better? Answer by copying the sentence:The company's stock went up because the company's posted strong earnings.\n",
      "School was cancelled because there was a snowstorm. There was a snowstorm because school was cancelled. Question: Which sentence describes the cause and effect relationship better? Answer by copying the sentence:School was cancelled because there was a snowstorm.\n",
      "The man sipped the milk and spit it out because the milk was left outside the fridge over night. The milk was left outside the fridge over night because the man sipped the milk and spit it out. Question: Which sentence describes the cause and effect relationship better? Answer by copying the sentence:The man sipped the milk and spit it out because the milk was left outside the fridge over night.\n",
      "The child started crying because the child hurt their knee. The child hurt their knee because the child started crying. Question: Which sentence describes the cause and effect relationship better? Answer by copying the sentence:The child started crying because the child hurt their knee.\n",
      "\n",
      "My friend got a promotion because my friend celebrated with their family. My friend celebrated with their family because my friend got a promotion. Question: Which sentence describes the cause and effect relationship better? Answer by copying the sentence:My friend celebrated with their family because my friend got a promotion.\n",
      "The bottle was left open because the soda went flat. The soda went flat because the bottle was left open. Question: Which sentence describes the cause and effect relationship better? Answer by copying the sentence:The soda went flat because the bottle was left open.\n",
      "There was a snowstorm because school was cancelled. School was cancelled because there was a snowstorm. Question: Which sentence describes the cause and effect relationship better? Answer by copying the sentence:School was cancelled because there was a snowstorm.\n",
      "The laptop ran out of battery because George plugged the laptop charger in. George plugged the laptop charger in because the laptop ran out of battery. Question: Which sentence describes the cause and effect relationship better? Answer by copying the sentence:George plugged the laptop charger in because the laptop ran out of battery.\n",
      "It started raining because the driver turned the wipers on. The driver turned the wipers on because it started raining. Question: Which sentence describes the cause and effect relationship better? Answer by copying the sentence:The driver turned the wipers on because it started raining.\n",
      "The child hurt their knee because the child started crying. The child started crying because the child hurt their knee. Question: Which sentence describes the cause and effect relationship better? Answer by copying the sentence:The child started crying because the child hurt their knee.\n",
      "\n"
     ]
    }
   ],
   "source": [
    "prompt_ks = ce_1_sentence.generate_single_prompt_k_shot(n_subset=0, switched=False, question=\"cause\")\n",
    "\n",
    "prompt_ks_switched = ce_1_sentence.generate_single_prompt_k_shot(n_subset=0, switched=True, switched_shot=True, question=\"cause\")\n",
    "\n",
    "prompt_ks_switched_nss = ce_1_sentence.generate_single_prompt_k_shot(n_subset=0, switched=False, switched_shot=False, question=\"cause\")\n",
    "\n",
    "prompt_ks_ss = ce_1_sentence.generate_single_prompt_k_shot(n_subset=0, switched=True, switched_shot=True, question=\"cause\")\n",
    "\n",
    "print(prompt_ks + gpt3_response(prompt_ks, gpt3_model) + \"\\n\")\n",
    "\n",
    "print(prompt_ks_switched + gpt3_response(prompt_ks_switched, gpt3_model) + \"\\n\")\n",
    "\n",
    "print(prompt_ks_switched_nss + gpt3_response(prompt_ks_switched_nss, gpt3_model) + \"\\n\")\n",
    "\n",
    "print(prompt_ks_ss + gpt3_response(prompt_ks_ss, gpt3_model) + \"\\n\")"
   ]
  },
  {
   "cell_type": "code",
   "execution_count": 13,
   "metadata": {},
   "outputs": [
    {
     "name": "stdout",
     "output_type": "stream",
     "text": [
      "['The pilot turned on the \"fasten seatbelts\" light because a bird hit the engine. A bird hit the engine because the pilot turned on the \"fasten seatbelts\" light. Question: Which sentence describes the cause and effect relationship better? Answer by copying the sentence:The pilot turned on the \"fasten seatbelts\" light because a bird hit the engine.\\nThe vase shattered on the floor because a man accidently pushed the vase off a counter. A man accidently pushed the vase off a counter because the vase shattered on the floor. Question: Which sentence describes the cause and effect relationship better? Answer by copying the sentence:The vase shattered on the floor because a man accidently pushed the vase off a counter.\\nThe driver turned the wipers on because it started raining. It started raining because the driver turned the wipers on. Question: Which sentence describes the cause and effect relationship better? Answer by copying the sentence:The driver turned the wipers on because it started raining.\\nSchool was cancelled because there was a snowstorm. There was a snowstorm because school was cancelled. Question: Which sentence describes the cause and effect relationship better? Answer by copying the sentence:School was cancelled because there was a snowstorm.\\nThe dinosaurs became extinct because a large object hit the Earth. A large object hit the Earth because the dinosaurs became extinct. Question: Which sentence describes the cause and effect relationship better? Answer by copying the sentence:The dinosaurs became extinct because a large object hit the Earth.\\nThe child started crying because the child hurt their knee. The child hurt their knee because the child started crying. Question: Which sentence describes the cause and effect relationship better? Answer by copying the sentence:', 'The wind blew strong because the ship capsized. The ship capsized because the wind blew strong. Question: Which sentence describes the cause and effect relationship better? Answer by copying the sentence:The ship capsized because the wind blew strong.\\nJimmy took the last piece of cake because mom rinsed the tray. Mom rinsed the tray because Jimmy took the last piece of cake. Question: Which sentence describes the cause and effect relationship better? Answer by copying the sentence:Mom rinsed the tray because Jimmy took the last piece of cake.\\nThe boy threw a rock because the window broke. The window broke because the boy threw a rock. Question: Which sentence describes the cause and effect relationship better? Answer by copying the sentence:The window broke because the boy threw a rock.\\nThe curtains were opened because sunlight filled the room. Sunlight filled the room because the curtains were opened. Question: Which sentence describes the cause and effect relationship better? Answer by copying the sentence:Sunlight filled the room because the curtains were opened.\\nIt rained because the picnic was cancelled. The picnic was cancelled because it rained. Question: Which sentence describes the cause and effect relationship better? Answer by copying the sentence:The picnic was cancelled because it rained.\\nThe child hurt their knee because the child started crying. The child started crying because the child hurt their knee. Question: Which sentence describes the cause and effect relationship better? Answer by copying the sentence:']\n"
     ]
    }
   ],
   "source": [
    "print(ce_1_sentence.generate_all_prompts_k_shot(k=5, question='cause')[:2])"
   ]
  },
  {
   "cell_type": "code",
   "execution_count": 14,
   "metadata": {},
   "outputs": [
    {
     "name": "stdout",
     "output_type": "stream",
     "text": [
      "['The air conditioner broke because the family went to the beach. The family went to the beach because the air conditioner broke. Question: Which sentence describes the cause and effect relationship better? Answer by copying the sentence:The family went to the beach because the air conditioner broke.\\nThe tenants noticed mold on the bathroom ceiling because the tenants contacted their landlord. The tenants contacted their landlord because the tenants noticed mold on the bathroom ceiling. Question: Which sentence describes the cause and effect relationship better? Answer by copying the sentence:The tenants contacted their landlord because the tenants noticed mold on the bathroom ceiling.\\nIt rained because the picnic was cancelled. The picnic was cancelled because it rained. Question: Which sentence describes the cause and effect relationship better? Answer by copying the sentence:The picnic was cancelled because it rained.\\nShe noticed that she was out of toilet paper because she went to the store and bought toilet paper. She went to the store and bought toilet paper because she noticed that she was out of toilet paper. Question: Which sentence describes the cause and effect relationship better? Answer by copying the sentence:She went to the store and bought toilet paper because she noticed that she was out of toilet paper.\\nThe laptop ran out of battery because George plugged the laptop charger in. George plugged the laptop charger in because the laptop ran out of battery. Question: Which sentence describes the cause and effect relationship better? Answer by copying the sentence:George plugged the laptop charger in because the laptop ran out of battery.\\nThe child started crying because the child hurt their knee. The child hurt their knee because the child started crying. Question: Which sentence describes the cause and effect relationship better? Answer by copying the sentence:', 'I got an A on the test because i studied hard. I studied hard because i got an A on the test. Question: Which sentence describes the cause and effect relationship better? Answer by copying the sentence:I got an A on the test because i studied hard.\\nMom rinsed the tray because Jimmy took the last piece of cake. Jimmy took the last piece of cake because mom rinsed the tray. Question: Which sentence describes the cause and effect relationship better? Answer by copying the sentence:Mom rinsed the tray because Jimmy took the last piece of cake.\\nThe man climbed in through the window because the door was locked. The door was locked because the man climbed in through the window. Question: Which sentence describes the cause and effect relationship better? Answer by copying the sentence:The man climbed in through the window because the door was locked.\\nWe made French toast because the bread was dry. The bread was dry because we made French toast. Question: Which sentence describes the cause and effect relationship better? Answer by copying the sentence:We made French toast because the bread was dry.\\nThe pilot turned on the \"fasten seatbelts\" light because a bird hit the engine. A bird hit the engine because the pilot turned on the \"fasten seatbelts\" light. Question: Which sentence describes the cause and effect relationship better? Answer by copying the sentence:The pilot turned on the \"fasten seatbelts\" light because a bird hit the engine.\\nThe child hurt their knee because the child started crying. The child started crying because the child hurt their knee. Question: Which sentence describes the cause and effect relationship better? Answer by copying the sentence:']\n"
     ]
    }
   ],
   "source": [
    "print(ce_1_sentence.generate_all_prompts_k_shot_switched_shot(k=5, question='cause')[:2])"
   ]
  }
 ],
 "metadata": {
  "kernelspec": {
   "display_name": "Python 3",
   "language": "python",
   "name": "python3"
  },
  "language_info": {
   "codemirror_mode": {
    "name": "ipython",
    "version": 3
   },
   "file_extension": ".py",
   "mimetype": "text/x-python",
   "name": "python",
   "nbconvert_exporter": "python",
   "pygments_lexer": "ipython3",
   "version": "3.8.5"
  }
 },
 "nbformat": 4,
 "nbformat_minor": 4
}
