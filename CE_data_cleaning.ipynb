{
 "cells": [
  {
   "cell_type": "markdown",
   "metadata": {},
   "source": [
    "# Clean data"
   ]
  },
  {
   "cell_type": "markdown",
   "metadata": {},
   "source": [
    "## two sentences cause and effect"
   ]
  },
  {
   "cell_type": "code",
   "execution_count": 1,
   "metadata": {},
   "outputs": [],
   "source": [
    "import json\n",
    "import pandas as pd\n",
    "\n",
    "with open(\"data/bigbench_originals/ce_two_sentences.json\", \"r\") as read_file:\n",
    "    data = json.load(read_file)"
   ]
  },
  {
   "cell_type": "code",
   "execution_count": 2,
   "metadata": {},
   "outputs": [],
   "source": [
    "examples = data[\"examples\"]\n",
    "\n",
    "prompts = []\n",
    "correct_answers = []\n",
    "# run through all examples\n",
    "for ex in examples:\n",
    "    target_scores = ex['target_scores']\n",
    "    keys = list(target_scores.keys())\n",
    "    values = list(target_scores.values())\n",
    "    classic_prompt = keys[0] + \" \" + keys[1]\n",
    "    reverse_prompt = keys[1] + \" \" + keys[0]\n",
    "    prompts.append(classic_prompt)\n",
    "    prompts.append(reverse_prompt)\n",
    "    # 2x because we also flipped the order\n",
    "    correct_answers.append(keys[0])\n",
    "    correct_answers.append(keys[0])"
   ]
  },
  {
   "cell_type": "code",
   "execution_count": 3,
   "metadata": {},
   "outputs": [],
   "source": [
    "### save as csv\n",
    "\n",
    "df_ce_two_sentences = pd.DataFrame({\n",
    "    \"prompts\":prompts,\n",
    "    \"correct_answers\":correct_answers\n",
    "})\n",
    "df_ce_two_sentences.to_csv(\"data/bigbench_csvs/ce_two_sentences.csv\", index=False)"
   ]
  },
  {
   "cell_type": "markdown",
   "metadata": {},
   "source": [
    "## which sentence is more plausible?"
   ]
  },
  {
   "cell_type": "code",
   "execution_count": 4,
   "metadata": {},
   "outputs": [],
   "source": [
    "with open(\"data/bigbench_originals/ce_one_sentence_no_prompt.json\", \"r\") as read_file:\n",
    "    data2 = json.load(read_file)"
   ]
  },
  {
   "cell_type": "code",
   "execution_count": 5,
   "metadata": {},
   "outputs": [],
   "source": [
    "examples2 = data2[\"examples\"]\n",
    "\n",
    "prompts2 = []\n",
    "correct_answers2 = []\n",
    "# run through all examples\n",
    "for ex in examples2:\n",
    "    target_scores = ex['target_scores']\n",
    "    keys = list(target_scores.keys())\n",
    "    values = list(target_scores.values())\n",
    "    classic_prompt = keys[0] + \" \" + keys[1]\n",
    "    reverse_prompt = keys[1] + \" \" + keys[0]\n",
    "    prompts2.append(classic_prompt)\n",
    "    prompts2.append(reverse_prompt)\n",
    "    # 2x because we also flipped the order\n",
    "    correct_answers2.append(keys[0])\n",
    "    correct_answers2.append(keys[0])"
   ]
  },
  {
   "cell_type": "code",
   "execution_count": 6,
   "metadata": {},
   "outputs": [],
   "source": [
    "### save as csv\n",
    "\n",
    "df_ce_one_sentence = pd.DataFrame({\n",
    "    \"prompts\":prompts2,\n",
    "    \"correct_answers\":correct_answers2\n",
    "})\n",
    "df_ce_one_sentence.to_csv(\"data/bigbench_csvs/ce_one_sentence.csv\", index=False)"
   ]
  },
  {
   "cell_type": "code",
   "execution_count": null,
   "metadata": {},
   "outputs": [],
   "source": []
  }
 ],
 "metadata": {
  "kernelspec": {
   "display_name": "Python 3",
   "language": "python",
   "name": "python3"
  },
  "language_info": {
   "codemirror_mode": {
    "name": "ipython",
    "version": 3
   },
   "file_extension": ".py",
   "mimetype": "text/x-python",
   "name": "python",
   "nbconvert_exporter": "python",
   "pygments_lexer": "ipython3",
   "version": "3.8.5"
  }
 },
 "nbformat": 4,
 "nbformat_minor": 4
}
