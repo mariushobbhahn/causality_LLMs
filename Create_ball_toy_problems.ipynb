{
 "cells": [
  {
   "cell_type": "markdown",
   "metadata": {},
   "source": [
    "# Create toy problems\n",
    "\n",
    "We create a toy problem with balls that hit each other in a sequential manner until one of them goes into the hole, e.g. \"The red ball hit the blue ball. The blue ball hit the green ball. The green ball fell into the hole\". \n",
    "We check if the LLM can recreate the correct sequence by asking questions such as \"which ball started the chain\" or \"which ball was second in the chain\". \n",
    "To increase complexity we will permute the order in which the sentence is presented, e.g. \"The blue ball hit the green ball. The red ball hit the blue ball. The green ball fell into the hole\". "
   ]
  },
  {
   "cell_type": "markdown",
   "metadata": {},
   "source": [
    "## Three ball problems"
   ]
  },
  {
   "cell_type": "code",
   "execution_count": 21,
   "metadata": {},
   "outputs": [],
   "source": [
    "import itertools\n",
    "import pandas as pd\n",
    " \n",
    "def findsubsets(s, n):\n",
    "    return list(itertools.combinations(s, n))"
   ]
  },
  {
   "cell_type": "code",
   "execution_count": 22,
   "metadata": {},
   "outputs": [],
   "source": [
    "events = [\n",
    "    \"The {} ball hit the {} ball.\",\n",
    "    \"The {} ball hit the {} ball.\"\n",
    "]\n",
    "outro = \"The {} ball fell in the hole.\"\n",
    "colors = [\n",
    "    \"blue\",\n",
    "    \"red\",\n",
    "    \"green\",\n",
    "    \"brown\",\n",
    "    \"purple\",\n",
    "    \"black\",\n",
    "    \"white\"\n",
    "]"
   ]
  },
  {
   "cell_type": "code",
   "execution_count": 23,
   "metadata": {},
   "outputs": [],
   "source": [
    "# create sequences \n",
    "sequences = []\n",
    "first_color = []\n",
    "second_color = []\n",
    "final_color = []\n",
    "\n",
    "color_triplets = findsubsets(colors, 3)\n",
    "\n",
    "for ct in color_triplets:\n",
    "    c1, c2, c3 = ct[0], ct[1], ct[2]\n",
    "    s1 = events[0].format(c1, c2)\n",
    "    s2 = events[1].format(c2, c3)\n",
    "    o = outro.format(c3)\n",
    "    # create the prompts\n",
    "    prompt_in_order = s1 + \" \" + s2 + \" \" + o\n",
    "    prompt_switched = s2 + \" \" + s1 + \" \" + o\n",
    "    sequences.append(prompt_in_order)\n",
    "    sequences.append(prompt_switched)\n",
    "    # always append twice to account for switched order\n",
    "    first_color.extend([c1, c1])\n",
    "    second_color.extend([c2, c2])\n",
    "    final_color.extend([c3, c3])"
   ]
  },
  {
   "cell_type": "code",
   "execution_count": 24,
   "metadata": {},
   "outputs": [
    {
     "data": {
      "text/html": [
       "<div>\n",
       "<style scoped>\n",
       "    .dataframe tbody tr th:only-of-type {\n",
       "        vertical-align: middle;\n",
       "    }\n",
       "\n",
       "    .dataframe tbody tr th {\n",
       "        vertical-align: top;\n",
       "    }\n",
       "\n",
       "    .dataframe thead th {\n",
       "        text-align: right;\n",
       "    }\n",
       "</style>\n",
       "<table border=\"1\" class=\"dataframe\">\n",
       "  <thead>\n",
       "    <tr style=\"text-align: right;\">\n",
       "      <th></th>\n",
       "      <th>sequence</th>\n",
       "      <th>first_color</th>\n",
       "      <th>second_color</th>\n",
       "      <th>final_color</th>\n",
       "    </tr>\n",
       "  </thead>\n",
       "  <tbody>\n",
       "    <tr>\n",
       "      <th>0</th>\n",
       "      <td>The blue ball hit the red ball. The red ball h...</td>\n",
       "      <td>blue</td>\n",
       "      <td>red</td>\n",
       "      <td>green</td>\n",
       "    </tr>\n",
       "    <tr>\n",
       "      <th>1</th>\n",
       "      <td>The red ball hit the green ball. The blue ball...</td>\n",
       "      <td>blue</td>\n",
       "      <td>red</td>\n",
       "      <td>green</td>\n",
       "    </tr>\n",
       "    <tr>\n",
       "      <th>2</th>\n",
       "      <td>The blue ball hit the red ball. The red ball h...</td>\n",
       "      <td>blue</td>\n",
       "      <td>red</td>\n",
       "      <td>brown</td>\n",
       "    </tr>\n",
       "    <tr>\n",
       "      <th>3</th>\n",
       "      <td>The red ball hit the brown ball. The blue ball...</td>\n",
       "      <td>blue</td>\n",
       "      <td>red</td>\n",
       "      <td>brown</td>\n",
       "    </tr>\n",
       "    <tr>\n",
       "      <th>4</th>\n",
       "      <td>The blue ball hit the red ball. The red ball h...</td>\n",
       "      <td>blue</td>\n",
       "      <td>red</td>\n",
       "      <td>purple</td>\n",
       "    </tr>\n",
       "  </tbody>\n",
       "</table>\n",
       "</div>"
      ],
      "text/plain": [
       "                                            sequence first_color second_color  \\\n",
       "0  The blue ball hit the red ball. The red ball h...        blue          red   \n",
       "1  The red ball hit the green ball. The blue ball...        blue          red   \n",
       "2  The blue ball hit the red ball. The red ball h...        blue          red   \n",
       "3  The red ball hit the brown ball. The blue ball...        blue          red   \n",
       "4  The blue ball hit the red ball. The red ball h...        blue          red   \n",
       "\n",
       "  final_color  \n",
       "0       green  \n",
       "1       green  \n",
       "2       brown  \n",
       "3       brown  \n",
       "4      purple  "
      ]
     },
     "execution_count": 24,
     "metadata": {},
     "output_type": "execute_result"
    }
   ],
   "source": [
    "# save all in a pandas dataframe\n",
    "\n",
    "df_toy_problem_3c = pd.DataFrame({\n",
    "    \"sequence\":sequences,\n",
    "    \"first_color\":first_color,\n",
    "    \"second_color\":second_color,\n",
    "    \"final_color\":final_color\n",
    "})\n",
    "df_toy_problem_3c.to_csv(\"data/toy_problem_3c/toy_problem_3c.csv\", index=False)\n",
    "df_toy_problem_3c.head()"
   ]
  },
  {
   "cell_type": "code",
   "execution_count": null,
   "metadata": {},
   "outputs": [],
   "source": []
  },
  {
   "cell_type": "code",
   "execution_count": null,
   "metadata": {},
   "outputs": [],
   "source": []
  },
  {
   "cell_type": "code",
   "execution_count": null,
   "metadata": {},
   "outputs": [],
   "source": []
  },
  {
   "cell_type": "code",
   "execution_count": null,
   "metadata": {},
   "outputs": [],
   "source": []
  }
 ],
 "metadata": {
  "kernelspec": {
   "display_name": "Python 3",
   "language": "python",
   "name": "python3"
  },
  "language_info": {
   "codemirror_mode": {
    "name": "ipython",
    "version": 3
   },
   "file_extension": ".py",
   "mimetype": "text/x-python",
   "name": "python",
   "nbconvert_exporter": "python",
   "pygments_lexer": "ipython3",
   "version": "3.8.5"
  }
 },
 "nbformat": 4,
 "nbformat_minor": 4
}
